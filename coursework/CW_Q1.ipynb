{
 "cells": [
  {
   "cell_type": "markdown",
   "metadata": {},
   "source": [
    "# Required Libraries"
   ]
  },
  {
   "cell_type": "code",
   "execution_count": 16,
   "metadata": {
    "vscode": {
     "languageId": "r"
    }
   },
   "outputs": [],
   "source": [
    "#install.packages(\"viridis\")"
   ]
  },
  {
   "cell_type": "code",
   "execution_count": 2,
   "metadata": {
    "vscode": {
     "languageId": "r"
    }
   },
   "outputs": [],
   "source": [
    "library(\"readxl\")\n",
    "options(warn = 0)\n",
    "\n",
    "# libraries\n",
    "library(dplyr)\n",
    "library(ggplot2)\n",
    "library(caTools)\n",
    "library(caret)\n",
    "library(GGally)"
   ]
  },
  {
   "cell_type": "markdown",
   "metadata": {},
   "source": [
    "# Loading Dataset "
   ]
  },
  {
   "cell_type": "code",
   "execution_count": 40,
   "metadata": {
    "vscode": {
     "languageId": "r"
    }
   },
   "outputs": [
    {
     "data": {
      "text/html": [
       "<table class=\"dataframe\">\n",
       "<caption>A tibble: 6 × 12</caption>\n",
       "<thead>\n",
       "\t<tr><th scope=col>fixed acidity</th><th scope=col>volatile acidity</th><th scope=col>citric acid</th><th scope=col>residual sugar</th><th scope=col>chlorides</th><th scope=col>free sulfur dioxide</th><th scope=col>total sulfur dioxide</th><th scope=col>density</th><th scope=col>pH</th><th scope=col>sulphates</th><th scope=col>alcohol</th><th scope=col>quality</th></tr>\n",
       "\t<tr><th scope=col>&lt;dbl&gt;</th><th scope=col>&lt;dbl&gt;</th><th scope=col>&lt;dbl&gt;</th><th scope=col>&lt;dbl&gt;</th><th scope=col>&lt;dbl&gt;</th><th scope=col>&lt;dbl&gt;</th><th scope=col>&lt;dbl&gt;</th><th scope=col>&lt;dbl&gt;</th><th scope=col>&lt;dbl&gt;</th><th scope=col>&lt;dbl&gt;</th><th scope=col>&lt;dbl&gt;</th><th scope=col>&lt;dbl&gt;</th></tr>\n",
       "</thead>\n",
       "<tbody>\n",
       "\t<tr><td>8.1</td><td>0.27</td><td>0.41</td><td> 1.45</td><td>0.033</td><td>11</td><td> 63</td><td>0.9908</td><td>2.99</td><td>0.56</td><td>12.0</td><td>5</td></tr>\n",
       "\t<tr><td>8.6</td><td>0.23</td><td>0.40</td><td> 4.20</td><td>0.035</td><td>17</td><td>109</td><td>0.9947</td><td>3.14</td><td>0.53</td><td> 9.7</td><td>5</td></tr>\n",
       "\t<tr><td>7.9</td><td>0.18</td><td>0.37</td><td> 1.20</td><td>0.040</td><td>16</td><td> 75</td><td>0.9920</td><td>3.18</td><td>0.63</td><td>10.8</td><td>5</td></tr>\n",
       "\t<tr><td>8.3</td><td>0.42</td><td>0.62</td><td>19.25</td><td>0.040</td><td>41</td><td>172</td><td>1.0002</td><td>2.98</td><td>0.67</td><td> 9.7</td><td>5</td></tr>\n",
       "\t<tr><td>6.5</td><td>0.31</td><td>0.14</td><td> 7.50</td><td>0.044</td><td>34</td><td>133</td><td>0.9955</td><td>3.22</td><td>0.50</td><td> 9.5</td><td>5</td></tr>\n",
       "\t<tr><td>7.6</td><td>0.67</td><td>0.14</td><td> 1.50</td><td>0.074</td><td>25</td><td>168</td><td>0.9937</td><td>3.05</td><td>0.51</td><td> 9.3</td><td>5</td></tr>\n",
       "</tbody>\n",
       "</table>\n"
      ],
      "text/latex": [
       "A tibble: 6 × 12\n",
       "\\begin{tabular}{llllllllllll}\n",
       " fixed acidity & volatile acidity & citric acid & residual sugar & chlorides & free sulfur dioxide & total sulfur dioxide & density & pH & sulphates & alcohol & quality\\\\\n",
       " <dbl> & <dbl> & <dbl> & <dbl> & <dbl> & <dbl> & <dbl> & <dbl> & <dbl> & <dbl> & <dbl> & <dbl>\\\\\n",
       "\\hline\n",
       "\t 8.1 & 0.27 & 0.41 &  1.45 & 0.033 & 11 &  63 & 0.9908 & 2.99 & 0.56 & 12.0 & 5\\\\\n",
       "\t 8.6 & 0.23 & 0.40 &  4.20 & 0.035 & 17 & 109 & 0.9947 & 3.14 & 0.53 &  9.7 & 5\\\\\n",
       "\t 7.9 & 0.18 & 0.37 &  1.20 & 0.040 & 16 &  75 & 0.9920 & 3.18 & 0.63 & 10.8 & 5\\\\\n",
       "\t 8.3 & 0.42 & 0.62 & 19.25 & 0.040 & 41 & 172 & 1.0002 & 2.98 & 0.67 &  9.7 & 5\\\\\n",
       "\t 6.5 & 0.31 & 0.14 &  7.50 & 0.044 & 34 & 133 & 0.9955 & 3.22 & 0.50 &  9.5 & 5\\\\\n",
       "\t 7.6 & 0.67 & 0.14 &  1.50 & 0.074 & 25 & 168 & 0.9937 & 3.05 & 0.51 &  9.3 & 5\\\\\n",
       "\\end{tabular}\n"
      ],
      "text/markdown": [
       "\n",
       "A tibble: 6 × 12\n",
       "\n",
       "| fixed acidity &lt;dbl&gt; | volatile acidity &lt;dbl&gt; | citric acid &lt;dbl&gt; | residual sugar &lt;dbl&gt; | chlorides &lt;dbl&gt; | free sulfur dioxide &lt;dbl&gt; | total sulfur dioxide &lt;dbl&gt; | density &lt;dbl&gt; | pH &lt;dbl&gt; | sulphates &lt;dbl&gt; | alcohol &lt;dbl&gt; | quality &lt;dbl&gt; |\n",
       "|---|---|---|---|---|---|---|---|---|---|---|---|\n",
       "| 8.1 | 0.27 | 0.41 |  1.45 | 0.033 | 11 |  63 | 0.9908 | 2.99 | 0.56 | 12.0 | 5 |\n",
       "| 8.6 | 0.23 | 0.40 |  4.20 | 0.035 | 17 | 109 | 0.9947 | 3.14 | 0.53 |  9.7 | 5 |\n",
       "| 7.9 | 0.18 | 0.37 |  1.20 | 0.040 | 16 |  75 | 0.9920 | 3.18 | 0.63 | 10.8 | 5 |\n",
       "| 8.3 | 0.42 | 0.62 | 19.25 | 0.040 | 41 | 172 | 1.0002 | 2.98 | 0.67 |  9.7 | 5 |\n",
       "| 6.5 | 0.31 | 0.14 |  7.50 | 0.044 | 34 | 133 | 0.9955 | 3.22 | 0.50 |  9.5 | 5 |\n",
       "| 7.6 | 0.67 | 0.14 |  1.50 | 0.074 | 25 | 168 | 0.9937 | 3.05 | 0.51 |  9.3 | 5 |\n",
       "\n"
      ],
      "text/plain": [
       "  fixed acidity volatile acidity citric acid residual sugar chlorides\n",
       "1 8.1           0.27             0.41         1.45          0.033    \n",
       "2 8.6           0.23             0.40         4.20          0.035    \n",
       "3 7.9           0.18             0.37         1.20          0.040    \n",
       "4 8.3           0.42             0.62        19.25          0.040    \n",
       "5 6.5           0.31             0.14         7.50          0.044    \n",
       "6 7.6           0.67             0.14         1.50          0.074    \n",
       "  free sulfur dioxide total sulfur dioxide density pH   sulphates alcohol\n",
       "1 11                   63                  0.9908  2.99 0.56      12.0   \n",
       "2 17                  109                  0.9947  3.14 0.53       9.7   \n",
       "3 16                   75                  0.9920  3.18 0.63      10.8   \n",
       "4 41                  172                  1.0002  2.98 0.67       9.7   \n",
       "5 34                  133                  0.9955  3.22 0.50       9.5   \n",
       "6 25                  168                  0.9937  3.05 0.51       9.3   \n",
       "  quality\n",
       "1 5      \n",
       "2 5      \n",
       "3 5      \n",
       "4 5      \n",
       "5 5      \n",
       "6 5      "
      ]
     },
     "metadata": {},
     "output_type": "display_data"
    }
   ],
   "source": [
    "df <- read_excel(\"data/Whitewine_v2.xlsx\")\n",
    "head(df)"
   ]
  },
  {
   "cell_type": "code",
   "execution_count": 44,
   "metadata": {
    "vscode": {
     "languageId": "r"
    }
   },
   "outputs": [],
   "source": [
    "colnames(df) <- c(\"fixed_acidity\", \"volatile_acidity\", \"citric_acid\", \"residual_sugar\", \"chloride\", \"free_sulfur_dioxide\")"
   ]
  },
  {
   "cell_type": "markdown",
   "metadata": {},
   "source": [
    "# EDA "
   ]
  },
  {
   "cell_type": "markdown",
   "metadata": {},
   "source": [
    "Getting some idea about the dataset"
   ]
  },
  {
   "cell_type": "code",
   "execution_count": 42,
   "metadata": {
    "vscode": {
     "languageId": "r"
    }
   },
   "outputs": [
    {
     "data": {
      "text/plain": [
       " fixed_acidity    volatile_acidity       NA               NA        \n",
       " Min.   : 3.800   Min.   :0.0800   Min.   :0.0000   Min.   : 0.600  \n",
       " 1st Qu.: 6.300   1st Qu.:0.2100   1st Qu.:0.2700   1st Qu.: 1.700  \n",
       " Median : 6.800   Median :0.2600   Median :0.3200   Median : 5.300  \n",
       " Mean   : 6.842   Mean   :0.2744   Mean   :0.3352   Mean   : 6.455  \n",
       " 3rd Qu.: 7.300   3rd Qu.:0.3200   3rd Qu.:0.3900   3rd Qu.:10.000  \n",
       " Max.   :14.200   Max.   :0.9650   Max.   :1.6600   Max.   :65.800  \n",
       "       NA                NA               NA              NA        \n",
       " Min.   :0.00900   Min.   :  2.00   Min.   :  9.0   Min.   :0.9871  \n",
       " 1st Qu.:0.03600   1st Qu.: 24.00   1st Qu.:109.0   1st Qu.:0.9917  \n",
       " Median :0.04300   Median : 34.00   Median :134.0   Median :0.9937  \n",
       " Mean   :0.04561   Mean   : 35.65   Mean   :138.7   Mean   :0.9940  \n",
       " 3rd Qu.:0.05000   3rd Qu.: 46.00   3rd Qu.:167.0   3rd Qu.:0.9961  \n",
       " Max.   :0.34600   Max.   :131.00   Max.   :344.0   Max.   :1.0390  \n",
       "       NA              NA               NA              NA       \n",
       " Min.   :2.720   Min.   :0.2200   Min.   : 8.00   Min.   :5.000  \n",
       " 1st Qu.:3.090   1st Qu.:0.4100   1st Qu.: 9.50   1st Qu.:5.000  \n",
       " Median :3.180   Median :0.4800   Median :10.40   Median :6.000  \n",
       " Mean   :3.188   Mean   :0.4904   Mean   :10.53   Mean   :5.952  \n",
       " 3rd Qu.:3.280   3rd Qu.:0.5500   3rd Qu.:11.40   3rd Qu.:6.000  \n",
       " Max.   :3.820   Max.   :1.0800   Max.   :14.20   Max.   :8.000  "
      ]
     },
     "metadata": {},
     "output_type": "display_data"
    }
   ],
   "source": [
    "summary(df)"
   ]
  },
  {
   "cell_type": "markdown",
   "metadata": {},
   "source": [
    "with the minimum and maximum value of the each column I was able to get an idea about which column may be have some outliars, \n",
    "\n",
    "residual sugar column's minimum is 0.600 and maximum is 65.800, as the givan description about features there are some rare wine categories in this dataframe.\n",
    "\n",
    "PH scale also should be 3<PH<4 and there may be outliares in PH column.\n",
    "\n",
    "we have to deal with outliares in next steps"
   ]
  },
  {
   "cell_type": "code",
   "execution_count": 8,
   "metadata": {
    "vscode": {
     "languageId": "r"
    }
   },
   "outputs": [
    {
     "data": {
      "text/html": [
       "0"
      ],
      "text/latex": [
       "0"
      ],
      "text/markdown": [
       "0"
      ],
      "text/plain": [
       "[1] 0"
      ]
     },
     "metadata": {},
     "output_type": "display_data"
    }
   ],
   "source": [
    "#check null values\n",
    "sum(is.na(df))"
   ]
  },
  {
   "cell_type": "markdown",
   "metadata": {},
   "source": [
    "there are no null values in this dataset"
   ]
  },
  {
   "cell_type": "code",
   "execution_count": 38,
   "metadata": {
    "vscode": {
     "languageId": "r"
    }
   },
   "outputs": [
    {
     "name": "stderr",
     "output_type": "stream",
     "text": [
      "Warning message:\n",
      "\"Unknown or uninitialised column: `residual_sugar`.\"\n"
     ]
    },
    {
     "ename": "ERROR",
     "evalue": "Error in hist.default(x, main = \"Histogram\"): 'x' must be numeric\n",
     "output_type": "error",
     "traceback": [
      "Error in hist.default(x, main = \"Histogram\"): 'x' must be numeric\nTraceback:\n",
      "1. hist(x, main = \"Histogram\")",
      "2. hist.default(x, main = \"Histogram\")",
      "3. stop(\"'x' must be numeric\")"
     ]
    }
   ],
   "source": [
    "library(gridExtra)\n",
    "x = df$residual_sugar \n",
    "# histogram, Q-Q plot, and boxplot\n",
    "par(mfrow = c(1, 3))\n",
    "hist(x, main = \"Histogram\")\n",
    "boxplot(x, main = \"Boxplot\")\n",
    "qqnorm(x, main = \"Normal Q-Q plot\")"
   ]
  },
  {
   "cell_type": "code",
   "execution_count": 35,
   "metadata": {
    "vscode": {
     "languageId": "r"
    }
   },
   "outputs": [
    {
     "data": {
      "text/html": [
       "419"
      ],
      "text/latex": [
       "419"
      ],
      "text/markdown": [
       "419"
      ],
      "text/plain": [
       "[1] 419"
      ]
     },
     "metadata": {},
     "output_type": "display_data"
    },
    {
     "data": {
      "text/html": [
       "0"
      ],
      "text/latex": [
       "0"
      ],
      "text/markdown": [
       "0"
      ],
      "text/plain": [
       "[1] 0"
      ]
     },
     "metadata": {},
     "output_type": "display_data"
    }
   ],
   "source": [
    "sum(df$pH<3)\n",
    "sum(df$pH>4)"
   ]
  }
 ],
 "metadata": {
  "kernelspec": {
   "display_name": "R",
   "language": "R",
   "name": "ir"
  },
  "language_info": {
   "codemirror_mode": "r",
   "file_extension": ".r",
   "mimetype": "text/x-r-source",
   "name": "R",
   "pygments_lexer": "r",
   "version": "4.1.1"
  },
  "orig_nbformat": 4
 },
 "nbformat": 4,
 "nbformat_minor": 2
}
