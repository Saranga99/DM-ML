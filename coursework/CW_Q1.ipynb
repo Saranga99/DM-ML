{
 "cells": [
  {
   "cell_type": "markdown",
   "metadata": {},
   "source": [
    "# Required Libraries"
   ]
  },
  {
   "cell_type": "code",
   "execution_count": 1,
   "metadata": {
    "vscode": {
     "languageId": "r"
    }
   },
   "outputs": [],
   "source": [
    "# install.packages(\"viridis\")"
   ]
  },
  {
   "cell_type": "code",
   "execution_count": 2,
   "metadata": {
    "vscode": {
     "languageId": "r"
    }
   },
   "outputs": [
    {
     "name": "stderr",
     "output_type": "stream",
     "text": [
      "Warning message:\n",
      "\"package 'readxl' was built under R version 4.1.3\"\n",
      "Warning message:\n",
      "\"package 'dplyr' was built under R version 4.1.3\"\n",
      "\n",
      "Attaching package: 'dplyr'\n",
      "\n",
      "\n",
      "The following objects are masked from 'package:stats':\n",
      "\n",
      "    filter, lag\n",
      "\n",
      "\n",
      "The following objects are masked from 'package:base':\n",
      "\n",
      "    intersect, setdiff, setequal, union\n",
      "\n",
      "\n",
      "Warning message:\n",
      "\"package 'ggplot2' was built under R version 4.1.3\"\n",
      "Warning message:\n",
      "\"package 'caTools' was built under R version 4.1.3\"\n",
      "Warning message:\n",
      "\"package 'caret' was built under R version 4.1.3\"\n",
      "Loading required package: lattice\n",
      "\n",
      "Warning message:\n",
      "\"package 'GGally' was built under R version 4.1.3\"\n",
      "Registered S3 method overwritten by 'GGally':\n",
      "  method from   \n",
      "  +.gg   ggplot2\n",
      "\n",
      "Warning message:\n",
      "\"package 'janitor' was built under R version 4.1.3\"\n",
      "\n",
      "Attaching package: 'janitor'\n",
      "\n",
      "\n",
      "The following objects are masked from 'package:stats':\n",
      "\n",
      "    chisq.test, fisher.test\n",
      "\n",
      "\n",
      "Warning message:\n",
      "\"package 'corrplot' was built under R version 4.1.3\"\n",
      "corrplot 0.92 loaded\n",
      "\n",
      "Warning message:\n",
      "\"package 'tidyverse' was built under R version 4.1.3\"\n",
      "-- \u001b[1mAttaching packages\u001b[22m --------------------------------------- tidyverse 1.3.1 --\n",
      "\n",
      "\u001b[32mv\u001b[39m \u001b[34mtibble \u001b[39m 3.1.6     \u001b[32mv\u001b[39m \u001b[34mpurrr  \u001b[39m 0.3.4\n",
      "\u001b[32mv\u001b[39m \u001b[34mtidyr  \u001b[39m 1.2.0     \u001b[32mv\u001b[39m \u001b[34mstringr\u001b[39m 1.4.0\n",
      "\u001b[32mv\u001b[39m \u001b[34mreadr  \u001b[39m 2.1.2     \u001b[32mv\u001b[39m \u001b[34mforcats\u001b[39m 0.5.1\n",
      "\n",
      "Warning message:\n",
      "\"package 'tibble' was built under R version 4.1.2\"\n",
      "Warning message:\n",
      "\"package 'tidyr' was built under R version 4.1.3\"\n",
      "Warning message:\n",
      "\"package 'readr' was built under R version 4.1.3\"\n",
      "Warning message:\n",
      "\"package 'purrr' was built under R version 4.1.2\"\n",
      "Warning message:\n",
      "\"package 'stringr' was built under R version 4.1.2\"\n",
      "Warning message:\n",
      "\"package 'forcats' was built under R version 4.1.3\"\n",
      "-- \u001b[1mConflicts\u001b[22m ------------------------------------------ tidyverse_conflicts() --\n",
      "\u001b[31mx\u001b[39m \u001b[34mdplyr\u001b[39m::\u001b[32mfilter()\u001b[39m masks \u001b[34mstats\u001b[39m::filter()\n",
      "\u001b[31mx\u001b[39m \u001b[34mdplyr\u001b[39m::\u001b[32mlag()\u001b[39m    masks \u001b[34mstats\u001b[39m::lag()\n",
      "\u001b[31mx\u001b[39m \u001b[34mpurrr\u001b[39m::\u001b[32mlift()\u001b[39m   masks \u001b[34mcaret\u001b[39m::lift()\n",
      "\n",
      "Warning message:\n",
      "\"package 'hrbrthemes' was built under R version 4.1.3\"\n",
      "NOTE: Either Arial Narrow or Roboto Condensed fonts are required to use these themes.\n",
      "\n",
      "      Please use hrbrthemes::import_roboto_condensed() to install Roboto Condensed and\n",
      "\n",
      "      if Arial Narrow is not on your system, please see https://bit.ly/arialnarrow\n",
      "\n",
      "Warning message:\n",
      "\"package 'viridis' was built under R version 4.1.3\"\n",
      "Loading required package: viridisLite\n",
      "\n",
      "Warning message:\n",
      "\"package 'viridisLite' was built under R version 4.1.3\"\n"
     ]
    }
   ],
   "source": [
    "library(\"readxl\")\n",
    "options(warn = 0)\n",
    "\n",
    "# libraries\n",
    "library(dplyr)\n",
    "library(ggplot2)\n",
    "library(caTools)\n",
    "library(caret)\n",
    "library(GGally)\n",
    "library(janitor)\n",
    "library(corrplot)\n",
    "library(tidyverse)\n",
    "library(hrbrthemes)\n",
    "library(viridis)"
   ]
  },
  {
   "cell_type": "markdown",
   "metadata": {},
   "source": [
    "# Loading Dataset "
   ]
  },
  {
   "cell_type": "code",
   "execution_count": 3,
   "metadata": {
    "vscode": {
     "languageId": "r"
    }
   },
   "outputs": [
    {
     "data": {
      "text/html": [
       "<table class=\"dataframe\">\n",
       "<caption>A tibble: 6 × 13</caption>\n",
       "<thead>\n",
       "\t<tr><th scope=col>fixed acidity</th><th scope=col>volatile acidity</th><th scope=col>citric acid</th><th scope=col>residual sugar</th><th scope=col>chlorides</th><th scope=col>free sulfur dioxide</th><th scope=col>total sulfur dioxide</th><th scope=col>density</th><th scope=col>pH</th><th scope=col>sulphates</th><th scope=col>alcohol</th><th scope=col>quality</th><th scope=col>index</th></tr>\n",
       "\t<tr><th scope=col>&lt;dbl&gt;</th><th scope=col>&lt;dbl&gt;</th><th scope=col>&lt;dbl&gt;</th><th scope=col>&lt;dbl&gt;</th><th scope=col>&lt;dbl&gt;</th><th scope=col>&lt;dbl&gt;</th><th scope=col>&lt;dbl&gt;</th><th scope=col>&lt;dbl&gt;</th><th scope=col>&lt;dbl&gt;</th><th scope=col>&lt;dbl&gt;</th><th scope=col>&lt;dbl&gt;</th><th scope=col>&lt;dbl&gt;</th><th scope=col>&lt;int&gt;</th></tr>\n",
       "</thead>\n",
       "<tbody>\n",
       "\t<tr><td>8.1</td><td>0.27</td><td>0.41</td><td> 1.45</td><td>0.033</td><td>11</td><td> 63</td><td>0.9908</td><td>2.99</td><td>0.56</td><td>12.0</td><td>5</td><td>1</td></tr>\n",
       "\t<tr><td>8.6</td><td>0.23</td><td>0.40</td><td> 4.20</td><td>0.035</td><td>17</td><td>109</td><td>0.9947</td><td>3.14</td><td>0.53</td><td> 9.7</td><td>5</td><td>2</td></tr>\n",
       "\t<tr><td>7.9</td><td>0.18</td><td>0.37</td><td> 1.20</td><td>0.040</td><td>16</td><td> 75</td><td>0.9920</td><td>3.18</td><td>0.63</td><td>10.8</td><td>5</td><td>3</td></tr>\n",
       "\t<tr><td>8.3</td><td>0.42</td><td>0.62</td><td>19.25</td><td>0.040</td><td>41</td><td>172</td><td>1.0002</td><td>2.98</td><td>0.67</td><td> 9.7</td><td>5</td><td>4</td></tr>\n",
       "\t<tr><td>6.5</td><td>0.31</td><td>0.14</td><td> 7.50</td><td>0.044</td><td>34</td><td>133</td><td>0.9955</td><td>3.22</td><td>0.50</td><td> 9.5</td><td>5</td><td>5</td></tr>\n",
       "\t<tr><td>7.6</td><td>0.67</td><td>0.14</td><td> 1.50</td><td>0.074</td><td>25</td><td>168</td><td>0.9937</td><td>3.05</td><td>0.51</td><td> 9.3</td><td>5</td><td>6</td></tr>\n",
       "</tbody>\n",
       "</table>\n"
      ],
      "text/latex": [
       "A tibble: 6 × 13\n",
       "\\begin{tabular}{lllllllllllll}\n",
       " fixed acidity & volatile acidity & citric acid & residual sugar & chlorides & free sulfur dioxide & total sulfur dioxide & density & pH & sulphates & alcohol & quality & index\\\\\n",
       " <dbl> & <dbl> & <dbl> & <dbl> & <dbl> & <dbl> & <dbl> & <dbl> & <dbl> & <dbl> & <dbl> & <dbl> & <int>\\\\\n",
       "\\hline\n",
       "\t 8.1 & 0.27 & 0.41 &  1.45 & 0.033 & 11 &  63 & 0.9908 & 2.99 & 0.56 & 12.0 & 5 & 1\\\\\n",
       "\t 8.6 & 0.23 & 0.40 &  4.20 & 0.035 & 17 & 109 & 0.9947 & 3.14 & 0.53 &  9.7 & 5 & 2\\\\\n",
       "\t 7.9 & 0.18 & 0.37 &  1.20 & 0.040 & 16 &  75 & 0.9920 & 3.18 & 0.63 & 10.8 & 5 & 3\\\\\n",
       "\t 8.3 & 0.42 & 0.62 & 19.25 & 0.040 & 41 & 172 & 1.0002 & 2.98 & 0.67 &  9.7 & 5 & 4\\\\\n",
       "\t 6.5 & 0.31 & 0.14 &  7.50 & 0.044 & 34 & 133 & 0.9955 & 3.22 & 0.50 &  9.5 & 5 & 5\\\\\n",
       "\t 7.6 & 0.67 & 0.14 &  1.50 & 0.074 & 25 & 168 & 0.9937 & 3.05 & 0.51 &  9.3 & 5 & 6\\\\\n",
       "\\end{tabular}\n"
      ],
      "text/markdown": [
       "\n",
       "A tibble: 6 × 13\n",
       "\n",
       "| fixed acidity &lt;dbl&gt; | volatile acidity &lt;dbl&gt; | citric acid &lt;dbl&gt; | residual sugar &lt;dbl&gt; | chlorides &lt;dbl&gt; | free sulfur dioxide &lt;dbl&gt; | total sulfur dioxide &lt;dbl&gt; | density &lt;dbl&gt; | pH &lt;dbl&gt; | sulphates &lt;dbl&gt; | alcohol &lt;dbl&gt; | quality &lt;dbl&gt; | index &lt;int&gt; |\n",
       "|---|---|---|---|---|---|---|---|---|---|---|---|---|\n",
       "| 8.1 | 0.27 | 0.41 |  1.45 | 0.033 | 11 |  63 | 0.9908 | 2.99 | 0.56 | 12.0 | 5 | 1 |\n",
       "| 8.6 | 0.23 | 0.40 |  4.20 | 0.035 | 17 | 109 | 0.9947 | 3.14 | 0.53 |  9.7 | 5 | 2 |\n",
       "| 7.9 | 0.18 | 0.37 |  1.20 | 0.040 | 16 |  75 | 0.9920 | 3.18 | 0.63 | 10.8 | 5 | 3 |\n",
       "| 8.3 | 0.42 | 0.62 | 19.25 | 0.040 | 41 | 172 | 1.0002 | 2.98 | 0.67 |  9.7 | 5 | 4 |\n",
       "| 6.5 | 0.31 | 0.14 |  7.50 | 0.044 | 34 | 133 | 0.9955 | 3.22 | 0.50 |  9.5 | 5 | 5 |\n",
       "| 7.6 | 0.67 | 0.14 |  1.50 | 0.074 | 25 | 168 | 0.9937 | 3.05 | 0.51 |  9.3 | 5 | 6 |\n",
       "\n"
      ],
      "text/plain": [
       "  fixed acidity volatile acidity citric acid residual sugar chlorides\n",
       "1 8.1           0.27             0.41         1.45          0.033    \n",
       "2 8.6           0.23             0.40         4.20          0.035    \n",
       "3 7.9           0.18             0.37         1.20          0.040    \n",
       "4 8.3           0.42             0.62        19.25          0.040    \n",
       "5 6.5           0.31             0.14         7.50          0.044    \n",
       "6 7.6           0.67             0.14         1.50          0.074    \n",
       "  free sulfur dioxide total sulfur dioxide density pH   sulphates alcohol\n",
       "1 11                   63                  0.9908  2.99 0.56      12.0   \n",
       "2 17                  109                  0.9947  3.14 0.53       9.7   \n",
       "3 16                   75                  0.9920  3.18 0.63      10.8   \n",
       "4 41                  172                  1.0002  2.98 0.67       9.7   \n",
       "5 34                  133                  0.9955  3.22 0.50       9.5   \n",
       "6 25                  168                  0.9937  3.05 0.51       9.3   \n",
       "  quality index\n",
       "1 5       1    \n",
       "2 5       2    \n",
       "3 5       3    \n",
       "4 5       4    \n",
       "5 5       5    \n",
       "6 5       6    "
      ]
     },
     "metadata": {},
     "output_type": "display_data"
    }
   ],
   "source": [
    "df <- read_excel(\"data/Whitewine_v2.xlsx\")\n",
    "#add index column to data frame\n",
    "df$index <- 1:nrow(df)\n",
    "head(df)"
   ]
  },
  {
   "cell_type": "code",
   "execution_count": 4,
   "metadata": {
    "vscode": {
     "languageId": "r"
    }
   },
   "outputs": [],
   "source": [
    "# format columns\n",
    "df <- janitor::clean_names(df)"
   ]
  },
  {
   "cell_type": "markdown",
   "metadata": {},
   "source": [
    "# EDA "
   ]
  },
  {
   "cell_type": "markdown",
   "metadata": {},
   "source": [
    "Getting some idea about the dataset"
   ]
  },
  {
   "cell_type": "code",
   "execution_count": 5,
   "metadata": {
    "vscode": {
     "languageId": "r"
    }
   },
   "outputs": [
    {
     "data": {
      "text/plain": [
       " fixed_acidity    volatile_acidity  citric_acid     residual_sugar  \n",
       " Min.   : 3.800   Min.   :0.0800   Min.   :0.0000   Min.   : 0.600  \n",
       " 1st Qu.: 6.300   1st Qu.:0.2100   1st Qu.:0.2700   1st Qu.: 1.700  \n",
       " Median : 6.800   Median :0.2600   Median :0.3200   Median : 5.300  \n",
       " Mean   : 6.842   Mean   :0.2744   Mean   :0.3352   Mean   : 6.455  \n",
       " 3rd Qu.: 7.300   3rd Qu.:0.3200   3rd Qu.:0.3900   3rd Qu.:10.000  \n",
       " Max.   :14.200   Max.   :0.9650   Max.   :1.6600   Max.   :65.800  \n",
       "   chlorides       free_sulfur_dioxide total_sulfur_dioxide    density      \n",
       " Min.   :0.00900   Min.   :  2.00      Min.   :  9.0        Min.   :0.9871  \n",
       " 1st Qu.:0.03600   1st Qu.: 24.00      1st Qu.:109.0        1st Qu.:0.9917  \n",
       " Median :0.04300   Median : 34.00      Median :134.0        Median :0.9937  \n",
       " Mean   :0.04561   Mean   : 35.65      Mean   :138.7        Mean   :0.9940  \n",
       " 3rd Qu.:0.05000   3rd Qu.: 46.00      3rd Qu.:167.0        3rd Qu.:0.9961  \n",
       " Max.   :0.34600   Max.   :131.00      Max.   :344.0        Max.   :1.0390  \n",
       "      p_h          sulphates         alcohol         quality     \n",
       " Min.   :2.720   Min.   :0.2200   Min.   : 8.00   Min.   :5.000  \n",
       " 1st Qu.:3.090   1st Qu.:0.4100   1st Qu.: 9.50   1st Qu.:5.000  \n",
       " Median :3.180   Median :0.4800   Median :10.40   Median :6.000  \n",
       " Mean   :3.188   Mean   :0.4904   Mean   :10.53   Mean   :5.952  \n",
       " 3rd Qu.:3.280   3rd Qu.:0.5500   3rd Qu.:11.40   3rd Qu.:6.000  \n",
       " Max.   :3.820   Max.   :1.0800   Max.   :14.20   Max.   :8.000  \n",
       "     index     \n",
       " Min.   :   1  \n",
       " 1st Qu.:1178  \n",
       " Median :2356  \n",
       " Mean   :2356  \n",
       " 3rd Qu.:3533  \n",
       " Max.   :4710  "
      ]
     },
     "metadata": {},
     "output_type": "display_data"
    }
   ],
   "source": [
    "summary(df)"
   ]
  },
  {
   "cell_type": "markdown",
   "metadata": {},
   "source": [
    "with the minimum and maximum value of the each column I was able to get an idea about which column may be have some outliars, \n",
    "\n",
    "residual sugar column's minimum is 0.600 and maximum is 65.800, as the givan description about features there are some rare wine categories in this dataframe.\n",
    "\n",
    "PH scale also should be 3<PH<4 and there may be outliares in PH column.\n",
    "\n",
    "we have to deal with outliares in next steps"
   ]
  },
  {
   "cell_type": "code",
   "execution_count": 6,
   "metadata": {
    "vscode": {
     "languageId": "r"
    }
   },
   "outputs": [
    {
     "data": {
      "text/html": [
       "0"
      ],
      "text/latex": [
       "0"
      ],
      "text/markdown": [
       "0"
      ],
      "text/plain": [
       "[1] 0"
      ]
     },
     "metadata": {},
     "output_type": "display_data"
    }
   ],
   "source": [
    "#check null values\n",
    "sum(is.na(df))"
   ]
  },
  {
   "cell_type": "markdown",
   "metadata": {},
   "source": [
    "there are no null values in this dataset"
   ]
  },
  {
   "cell_type": "code",
   "execution_count": 7,
   "metadata": {
    "vscode": {
     "languageId": "r"
    }
   },
   "outputs": [
    {
     "data": {
      "image/png": "[encoded data removed]",
      "text/plain": [
       "Plot with title \"\""
      ]
     },
     "metadata": {
      "image/png": {
       "height": 420,
       "width": 420
      }
     },
     "output_type": "display_data"
    }
   ],
   "source": [
    "#Correlation Heatmap of Variables\n",
    "corrplot(cor(df[1:12]))"
   ]
  },
  {
   "cell_type": "markdown",
   "metadata": {},
   "source": [
    "as heatmap suggestions alcohol jas strongest correlation with the wine quality"
   ]
  },
  {
   "cell_type": "markdown",
   "metadata": {},
   "source": [
    "# Outlier Remove"
   ]
  },
  {
   "cell_type": "markdown",
   "metadata": {},
   "source": [
    "using data vizializations to detect outliaers"
   ]
  },
  {
   "cell_type": "markdown",
   "metadata": {},
   "source": [
    "### IQR"
   ]
  },
  {
   "cell_type": "code",
   "execution_count": 8,
   "metadata": {
    "vscode": {
     "languageId": "r"
    }
   },
   "outputs": [],
   "source": [
    "# #find Q1, Q3, and interquartile range for values in column A\n",
    "# Q1 <- quantile(df$total_sulfur_dioxide, .25)\n",
    "# Q3 <- quantile(df$total_sulfur_dioxide, .75)\n",
    "# IQR <- IQR(df$total_sulfur_dioxide)\n",
    "\n",
    "# #only keep rows in dataframe that have values within 1.5*IQR of Q1 and Q3\n",
    "# no_outliers_IQR <- subset(df, df$total_sulfur_dioxide> (Q1 - 1.5*IQR) & df$total_sulfur_dioxide< (Q3 + 1.5*IQR))\n",
    "\n",
    "# #view row and column count of new data frame\n",
    "# dim(no_outliers_IQR)"
   ]
  },
  {
   "cell_type": "code",
   "execution_count": 9,
   "metadata": {
    "vscode": {
     "languageId": "r"
    }
   },
   "outputs": [],
   "source": [
    "# boxplot(no_outliers_IQR$total_sulfur_dioxide)"
   ]
  },
  {
   "cell_type": "markdown",
   "metadata": {},
   "source": [
    "### Z score"
   ]
  },
  {
   "cell_type": "code",
   "execution_count": 10,
   "metadata": {
    "vscode": {
     "languageId": "r"
    }
   },
   "outputs": [
    {
     "data": {
      "image/png": "[encoded data removed]",
      "text/plain": [
       "plot without title"
      ]
     },
     "metadata": {
      "image/png": {
       "height": 420,
       "width": 420
      }
     },
     "output_type": "display_data"
    }
   ],
   "source": [
    "boxplot(df[1:11])"
   ]
  },
  {
   "cell_type": "code",
   "execution_count": 11,
   "metadata": {
    "vscode": {
     "languageId": "r"
    }
   },
   "outputs": [],
   "source": [
    "z_score = function(x) {\n",
    "  return((x - mean(x)) / sd(x))\n",
    "}"
   ]
  },
  {
   "cell_type": "code",
   "execution_count": 12,
   "metadata": {
    "vscode": {
     "languageId": "r"
    }
   },
   "outputs": [
    {
     "data": {
      "text/html": [
       "<table class=\"dataframe\">\n",
       "<caption>A data.frame: 6 × 12</caption>\n",
       "<thead>\n",
       "\t<tr><th></th><th scope=col>fixed_acidity</th><th scope=col>volatile_acidity</th><th scope=col>citric_acid</th><th scope=col>residual_sugar</th><th scope=col>chlorides</th><th scope=col>free_sulfur_dioxide</th><th scope=col>total_sulfur_dioxide</th><th scope=col>density</th><th scope=col>p_h</th><th scope=col>sulphates</th><th scope=col>alcohol</th><th scope=col>index</th></tr>\n",
       "\t<tr><th></th><th scope=col>&lt;dbl&gt;</th><th scope=col>&lt;dbl&gt;</th><th scope=col>&lt;dbl&gt;</th><th scope=col>&lt;dbl&gt;</th><th scope=col>&lt;dbl&gt;</th><th scope=col>&lt;dbl&gt;</th><th scope=col>&lt;dbl&gt;</th><th scope=col>&lt;dbl&gt;</th><th scope=col>&lt;dbl&gt;</th><th scope=col>&lt;dbl&gt;</th><th scope=col>&lt;dbl&gt;</th><th scope=col>&lt;int&gt;</th></tr>\n",
       "</thead>\n",
       "<tbody>\n",
       "\t<tr><th scope=row>1</th><td> 1.5238976</td><td>-0.04648274</td><td> 0.6271255</td><td>-0.9831716</td><td>-0.58570079</td><td>-1.5272358</td><td>-1.8230268</td><td>-1.0701698</td><td>-1.31955843</td><td>0.61051063</td><td> 1.1935810</td><td>1</td></tr>\n",
       "\t<tr><th scope=row>2</th><td> 2.1293483</td><td>-0.46690270</td><td> 0.5433238</td><td>-0.4429502</td><td>-0.49277626</td><td>-1.1554516</td><td>-0.7152461</td><td> 0.2268701</td><td>-0.32155169</td><td>0.34731453</td><td>-0.6685289</td><td>2</td></tr>\n",
       "\t<tr><th scope=row>3</th><td> 1.2817173</td><td>-0.99242766</td><td> 0.2919184</td><td>-1.0322826</td><td>-0.26046491</td><td>-1.2174157</td><td>-1.5340406</td><td>-0.6710806</td><td>-0.05541657</td><td>1.22463485</td><td> 0.2220454</td><td>3</td></tr>\n",
       "\t<tr><th scope=row>4</th><td> 1.7660778</td><td> 1.53009213</td><td> 2.3869628</td><td> 2.5135339</td><td>-0.26046491</td><td> 0.3316852</td><td> 0.8019318</td><td> 2.0560288</td><td>-1.38609221</td><td>1.57556298</td><td>-0.6685289</td><td>4</td></tr>\n",
       "\t<tr><th scope=row>5</th><td>-0.4135447</td><td> 0.37393723</td><td>-1.6355225</td><td> 0.2053154</td><td>-0.07461584</td><td>-0.1020631</td><td>-0.1372736</td><td> 0.4929295</td><td> 0.21071856</td><td>0.08411844</td><td>-0.8304515</td><td>5</td></tr>\n",
       "\t<tr><th scope=row>6</th><td> 0.9184469</td><td> 4.15771691</td><td>-1.6355225</td><td>-0.9733494</td><td> 1.31925222</td><td>-0.6597394</td><td> 0.7056030</td><td>-0.1057043</td><td>-0.92035573</td><td>0.17185047</td><td>-0.9923741</td><td>6</td></tr>\n",
       "</tbody>\n",
       "</table>\n"
      ],
      "text/latex": [
       "A data.frame: 6 × 12\n",
       "\\begin{tabular}{r|llllllllllll}\n",
       "  & fixed\\_acidity & volatile\\_acidity & citric\\_acid & residual\\_sugar & chlorides & free\\_sulfur\\_dioxide & total\\_sulfur\\_dioxide & density & p\\_h & sulphates & alcohol & index\\\\\n",
       "  & <dbl> & <dbl> & <dbl> & <dbl> & <dbl> & <dbl> & <dbl> & <dbl> & <dbl> & <dbl> & <dbl> & <int>\\\\\n",
       "\\hline\n",
       "\t1 &  1.5238976 & -0.04648274 &  0.6271255 & -0.9831716 & -0.58570079 & -1.5272358 & -1.8230268 & -1.0701698 & -1.31955843 & 0.61051063 &  1.1935810 & 1\\\\\n",
       "\t2 &  2.1293483 & -0.46690270 &  0.5433238 & -0.4429502 & -0.49277626 & -1.1554516 & -0.7152461 &  0.2268701 & -0.32155169 & 0.34731453 & -0.6685289 & 2\\\\\n",
       "\t3 &  1.2817173 & -0.99242766 &  0.2919184 & -1.0322826 & -0.26046491 & -1.2174157 & -1.5340406 & -0.6710806 & -0.05541657 & 1.22463485 &  0.2220454 & 3\\\\\n",
       "\t4 &  1.7660778 &  1.53009213 &  2.3869628 &  2.5135339 & -0.26046491 &  0.3316852 &  0.8019318 &  2.0560288 & -1.38609221 & 1.57556298 & -0.6685289 & 4\\\\\n",
       "\t5 & -0.4135447 &  0.37393723 & -1.6355225 &  0.2053154 & -0.07461584 & -0.1020631 & -0.1372736 &  0.4929295 &  0.21071856 & 0.08411844 & -0.8304515 & 5\\\\\n",
       "\t6 &  0.9184469 &  4.15771691 & -1.6355225 & -0.9733494 &  1.31925222 & -0.6597394 &  0.7056030 & -0.1057043 & -0.92035573 & 0.17185047 & -0.9923741 & 6\\\\\n",
       "\\end{tabular}\n"
      ],
      "text/markdown": [
       "\n",
       "A data.frame: 6 × 12\n",
       "\n",
       "| <!--/--> | fixed_acidity &lt;dbl&gt; | volatile_acidity &lt;dbl&gt; | citric_acid &lt;dbl&gt; | residual_sugar &lt;dbl&gt; | chlorides &lt;dbl&gt; | free_sulfur_dioxide &lt;dbl&gt; | total_sulfur_dioxide &lt;dbl&gt; | density &lt;dbl&gt; | p_h &lt;dbl&gt; | sulphates &lt;dbl&gt; | alcohol &lt;dbl&gt; | index &lt;int&gt; |\n",
       "|---|---|---|---|---|---|---|---|---|---|---|---|---|\n",
       "| 1 |  1.5238976 | -0.04648274 |  0.6271255 | -0.9831716 | -0.58570079 | -1.5272358 | -1.8230268 | -1.0701698 | -1.31955843 | 0.61051063 |  1.1935810 | 1 |\n",
       "| 2 |  2.1293483 | -0.46690270 |  0.5433238 | -0.4429502 | -0.49277626 | -1.1554516 | -0.7152461 |  0.2268701 | -0.32155169 | 0.34731453 | -0.6685289 | 2 |\n",
       "| 3 |  1.2817173 | -0.99242766 |  0.2919184 | -1.0322826 | -0.26046491 | -1.2174157 | -1.5340406 | -0.6710806 | -0.05541657 | 1.22463485 |  0.2220454 | 3 |\n",
       "| 4 |  1.7660778 |  1.53009213 |  2.3869628 |  2.5135339 | -0.26046491 |  0.3316852 |  0.8019318 |  2.0560288 | -1.38609221 | 1.57556298 | -0.6685289 | 4 |\n",
       "| 5 | -0.4135447 |  0.37393723 | -1.6355225 |  0.2053154 | -0.07461584 | -0.1020631 | -0.1372736 |  0.4929295 |  0.21071856 | 0.08411844 | -0.8304515 | 5 |\n",
       "| 6 |  0.9184469 |  4.15771691 | -1.6355225 | -0.9733494 |  1.31925222 | -0.6597394 |  0.7056030 | -0.1057043 | -0.92035573 | 0.17185047 | -0.9923741 | 6 |\n",
       "\n"
      ],
      "text/plain": [
       "  fixed_acidity volatile_acidity citric_acid residual_sugar chlorides  \n",
       "1  1.5238976    -0.04648274       0.6271255  -0.9831716     -0.58570079\n",
       "2  2.1293483    -0.46690270       0.5433238  -0.4429502     -0.49277626\n",
       "3  1.2817173    -0.99242766       0.2919184  -1.0322826     -0.26046491\n",
       "4  1.7660778     1.53009213       2.3869628   2.5135339     -0.26046491\n",
       "5 -0.4135447     0.37393723      -1.6355225   0.2053154     -0.07461584\n",
       "6  0.9184469     4.15771691      -1.6355225  -0.9733494      1.31925222\n",
       "  free_sulfur_dioxide total_sulfur_dioxide density    p_h         sulphates \n",
       "1 -1.5272358          -1.8230268           -1.0701698 -1.31955843 0.61051063\n",
       "2 -1.1554516          -0.7152461            0.2268701 -0.32155169 0.34731453\n",
       "3 -1.2174157          -1.5340406           -0.6710806 -0.05541657 1.22463485\n",
       "4  0.3316852           0.8019318            2.0560288 -1.38609221 1.57556298\n",
       "5 -0.1020631          -0.1372736            0.4929295  0.21071856 0.08411844\n",
       "6 -0.6597394           0.7056030           -0.1057043 -0.92035573 0.17185047\n",
       "  alcohol    index\n",
       "1  1.1935810 1    \n",
       "2 -0.6685289 2    \n",
       "3  0.2220454 3    \n",
       "4 -0.6685289 4    \n",
       "5 -0.8304515 5    \n",
       "6 -0.9923741 6    "
      ]
     },
     "metadata": {},
     "output_type": "display_data"
    }
   ],
   "source": [
    "dfNorm <- as.data.frame(lapply(df[1:11], z_score))\n",
    "dfNorm$index <- 1:nrow(dfNorm)\n",
    "head(dfNorm)"
   ]
  },
  {
   "cell_type": "code",
   "execution_count": 13,
   "metadata": {
    "vscode": {
     "languageId": "r"
    }
   },
   "outputs": [
    {
     "data": {
      "text/plain": [
       " fixed_acidity      volatile_acidity   citric_acid      residual_sugar   \n",
       " Min.   :-3.68298   Min.   :-2.0435   Min.   :-2.8087   Min.   :-1.1501  \n",
       " 1st Qu.:-0.65573   1st Qu.:-0.6771   1st Qu.:-0.5461   1st Qu.:-0.9341  \n",
       " Median :-0.05027   Median :-0.1516   Median :-0.1271   Median :-0.2269  \n",
       " Mean   : 0.00000   Mean   : 0.0000   Mean   : 0.0000   Mean   : 0.0000  \n",
       " 3rd Qu.: 0.55518   3rd Qu.: 0.4790   3rd Qu.: 0.4595   3rd Qu.: 0.6964  \n",
       " Max.   : 8.91040   Max.   : 7.2583   Max.   :11.1023   Max.   :11.6580  \n",
       "   chlorides       free_sulfur_dioxide total_sulfur_dioxide    density       \n",
       " Min.   :-1.7008   Min.   :-2.0849     Min.   :-3.1235      Min.   :-2.2974  \n",
       " 1st Qu.:-0.4463   1st Qu.:-0.7217     1st Qu.:-0.7152      1st Qu.:-0.7709  \n",
       " Median :-0.1211   Median :-0.1021     Median :-0.1132      Median :-0.1057  \n",
       " Mean   : 0.0000   Mean   : 0.0000     Mean   : 0.0000      Mean   : 0.0000  \n",
       " 3rd Qu.: 0.2042   3rd Qu.: 0.6415     3rd Qu.: 0.6815      3rd Qu.: 0.6925  \n",
       " Max.   :13.9570   Max.   : 5.9084     Max.   : 4.9441      Max.   :14.9533  \n",
       "      p_h             sulphates           alcohol       \n",
       " Min.   :-3.11597   Min.   :-2.37238   Min.   :-2.0449  \n",
       " 1st Qu.:-0.65422   1st Qu.:-0.70547   1st Qu.:-0.8305  \n",
       " Median :-0.05542   Median :-0.09135   Median :-0.1018  \n",
       " Mean   : 0.00000   Mean   : 0.00000   Mean   : 0.0000  \n",
       " 3rd Qu.: 0.60992   3rd Qu.: 0.52278   3rd Qu.: 0.7078  \n",
       " Max.   : 4.20275   Max.   : 5.17258   Max.   : 2.9747  "
      ]
     },
     "metadata": {},
     "output_type": "display_data"
    }
   ],
   "source": [
    "summary(dfNorm[1:11])"
   ]
  },
  {
   "cell_type": "code",
   "execution_count": 14,
   "metadata": {
    "vscode": {
     "languageId": "r"
    }
   },
   "outputs": [],
   "source": [
    "#only keep rows in dataframe with all z-scores less than absolute value of 3 \n",
    "no_outliers <- dfNorm[!rowSums(dfNorm[1:11]>3),]"
   ]
  },
  {
   "cell_type": "code",
   "execution_count": 15,
   "metadata": {
    "vscode": {
     "languageId": "r"
    }
   },
   "outputs": [
    {
     "data": {
      "text/html": [
       "<table class=\"dataframe\">\n",
       "<caption>A data.frame: 6 × 12</caption>\n",
       "<thead>\n",
       "\t<tr><th></th><th scope=col>fixed_acidity</th><th scope=col>volatile_acidity</th><th scope=col>citric_acid</th><th scope=col>residual_sugar</th><th scope=col>chlorides</th><th scope=col>free_sulfur_dioxide</th><th scope=col>total_sulfur_dioxide</th><th scope=col>density</th><th scope=col>p_h</th><th scope=col>sulphates</th><th scope=col>alcohol</th><th scope=col>index</th></tr>\n",
       "\t<tr><th></th><th scope=col>&lt;dbl&gt;</th><th scope=col>&lt;dbl&gt;</th><th scope=col>&lt;dbl&gt;</th><th scope=col>&lt;dbl&gt;</th><th scope=col>&lt;dbl&gt;</th><th scope=col>&lt;dbl&gt;</th><th scope=col>&lt;dbl&gt;</th><th scope=col>&lt;dbl&gt;</th><th scope=col>&lt;dbl&gt;</th><th scope=col>&lt;dbl&gt;</th><th scope=col>&lt;dbl&gt;</th><th scope=col>&lt;int&gt;</th></tr>\n",
       "</thead>\n",
       "<tbody>\n",
       "\t<tr><th scope=row>1</th><td> 1.5238976</td><td>-0.04648274</td><td> 0.6271255</td><td>-0.9831716</td><td>-0.58570079</td><td>-1.5272358</td><td>-1.8230268</td><td>-1.0701698</td><td>-1.31955843</td><td> 0.61051063</td><td> 1.1935810</td><td>1</td></tr>\n",
       "\t<tr><th scope=row>2</th><td> 2.1293483</td><td>-0.46690270</td><td> 0.5433238</td><td>-0.4429502</td><td>-0.49277626</td><td>-1.1554516</td><td>-0.7152461</td><td> 0.2268701</td><td>-0.32155169</td><td> 0.34731453</td><td>-0.6685289</td><td>2</td></tr>\n",
       "\t<tr><th scope=row>3</th><td> 1.2817173</td><td>-0.99242766</td><td> 0.2919184</td><td>-1.0322826</td><td>-0.26046491</td><td>-1.2174157</td><td>-1.5340406</td><td>-0.6710806</td><td>-0.05541657</td><td> 1.22463485</td><td> 0.2220454</td><td>3</td></tr>\n",
       "\t<tr><th scope=row>4</th><td> 1.7660778</td><td> 1.53009213</td><td> 2.3869628</td><td> 2.5135339</td><td>-0.26046491</td><td> 0.3316852</td><td> 0.8019318</td><td> 2.0560288</td><td>-1.38609221</td><td> 1.57556298</td><td>-0.6685289</td><td>4</td></tr>\n",
       "\t<tr><th scope=row>5</th><td>-0.4135447</td><td> 0.37393723</td><td>-1.6355225</td><td> 0.2053154</td><td>-0.07461584</td><td>-0.1020631</td><td>-0.1372736</td><td> 0.4929295</td><td> 0.21071856</td><td> 0.08411844</td><td>-0.8304515</td><td>5</td></tr>\n",
       "\t<tr><th scope=row>7</th><td>-1.2611757</td><td>-0.04648274</td><td>-1.1327118</td><td> 1.6688241</td><td>-0.07461584</td><td>-0.8456315</td><td> 0.9705071</td><td> 0.7257315</td><td> 1.20872529</td><td>-1.05639797</td><td>-0.2637224</td><td>7</td></tr>\n",
       "</tbody>\n",
       "</table>\n"
      ],
      "text/latex": [
       "A data.frame: 6 × 12\n",
       "\\begin{tabular}{r|llllllllllll}\n",
       "  & fixed\\_acidity & volatile\\_acidity & citric\\_acid & residual\\_sugar & chlorides & free\\_sulfur\\_dioxide & total\\_sulfur\\_dioxide & density & p\\_h & sulphates & alcohol & index\\\\\n",
       "  & <dbl> & <dbl> & <dbl> & <dbl> & <dbl> & <dbl> & <dbl> & <dbl> & <dbl> & <dbl> & <dbl> & <int>\\\\\n",
       "\\hline\n",
       "\t1 &  1.5238976 & -0.04648274 &  0.6271255 & -0.9831716 & -0.58570079 & -1.5272358 & -1.8230268 & -1.0701698 & -1.31955843 &  0.61051063 &  1.1935810 & 1\\\\\n",
       "\t2 &  2.1293483 & -0.46690270 &  0.5433238 & -0.4429502 & -0.49277626 & -1.1554516 & -0.7152461 &  0.2268701 & -0.32155169 &  0.34731453 & -0.6685289 & 2\\\\\n",
       "\t3 &  1.2817173 & -0.99242766 &  0.2919184 & -1.0322826 & -0.26046491 & -1.2174157 & -1.5340406 & -0.6710806 & -0.05541657 &  1.22463485 &  0.2220454 & 3\\\\\n",
       "\t4 &  1.7660778 &  1.53009213 &  2.3869628 &  2.5135339 & -0.26046491 &  0.3316852 &  0.8019318 &  2.0560288 & -1.38609221 &  1.57556298 & -0.6685289 & 4\\\\\n",
       "\t5 & -0.4135447 &  0.37393723 & -1.6355225 &  0.2053154 & -0.07461584 & -0.1020631 & -0.1372736 &  0.4929295 &  0.21071856 &  0.08411844 & -0.8304515 & 5\\\\\n",
       "\t7 & -1.2611757 & -0.04648274 & -1.1327118 &  1.6688241 & -0.07461584 & -0.8456315 &  0.9705071 &  0.7257315 &  1.20872529 & -1.05639797 & -0.2637224 & 7\\\\\n",
       "\\end{tabular}\n"
      ],
      "text/markdown": [
       "\n",
       "A data.frame: 6 × 12\n",
       "\n",
       "| <!--/--> | fixed_acidity &lt;dbl&gt; | volatile_acidity &lt;dbl&gt; | citric_acid &lt;dbl&gt; | residual_sugar &lt;dbl&gt; | chlorides &lt;dbl&gt; | free_sulfur_dioxide &lt;dbl&gt; | total_sulfur_dioxide &lt;dbl&gt; | density &lt;dbl&gt; | p_h &lt;dbl&gt; | sulphates &lt;dbl&gt; | alcohol &lt;dbl&gt; | index &lt;int&gt; |\n",
       "|---|---|---|---|---|---|---|---|---|---|---|---|---|\n",
       "| 1 |  1.5238976 | -0.04648274 |  0.6271255 | -0.9831716 | -0.58570079 | -1.5272358 | -1.8230268 | -1.0701698 | -1.31955843 |  0.61051063 |  1.1935810 | 1 |\n",
       "| 2 |  2.1293483 | -0.46690270 |  0.5433238 | -0.4429502 | -0.49277626 | -1.1554516 | -0.7152461 |  0.2268701 | -0.32155169 |  0.34731453 | -0.6685289 | 2 |\n",
       "| 3 |  1.2817173 | -0.99242766 |  0.2919184 | -1.0322826 | -0.26046491 | -1.2174157 | -1.5340406 | -0.6710806 | -0.05541657 |  1.22463485 |  0.2220454 | 3 |\n",
       "| 4 |  1.7660778 |  1.53009213 |  2.3869628 |  2.5135339 | -0.26046491 |  0.3316852 |  0.8019318 |  2.0560288 | -1.38609221 |  1.57556298 | -0.6685289 | 4 |\n",
       "| 5 | -0.4135447 |  0.37393723 | -1.6355225 |  0.2053154 | -0.07461584 | -0.1020631 | -0.1372736 |  0.4929295 |  0.21071856 |  0.08411844 | -0.8304515 | 5 |\n",
       "| 7 | -1.2611757 | -0.04648274 | -1.1327118 |  1.6688241 | -0.07461584 | -0.8456315 |  0.9705071 |  0.7257315 |  1.20872529 | -1.05639797 | -0.2637224 | 7 |\n",
       "\n"
      ],
      "text/plain": [
       "  fixed_acidity volatile_acidity citric_acid residual_sugar chlorides  \n",
       "1  1.5238976    -0.04648274       0.6271255  -0.9831716     -0.58570079\n",
       "2  2.1293483    -0.46690270       0.5433238  -0.4429502     -0.49277626\n",
       "3  1.2817173    -0.99242766       0.2919184  -1.0322826     -0.26046491\n",
       "4  1.7660778     1.53009213       2.3869628   2.5135339     -0.26046491\n",
       "5 -0.4135447     0.37393723      -1.6355225   0.2053154     -0.07461584\n",
       "7 -1.2611757    -0.04648274      -1.1327118   1.6688241     -0.07461584\n",
       "  free_sulfur_dioxide total_sulfur_dioxide density    p_h         sulphates  \n",
       "1 -1.5272358          -1.8230268           -1.0701698 -1.31955843  0.61051063\n",
       "2 -1.1554516          -0.7152461            0.2268701 -0.32155169  0.34731453\n",
       "3 -1.2174157          -1.5340406           -0.6710806 -0.05541657  1.22463485\n",
       "4  0.3316852           0.8019318            2.0560288 -1.38609221  1.57556298\n",
       "5 -0.1020631          -0.1372736            0.4929295  0.21071856  0.08411844\n",
       "7 -0.8456315           0.9705071            0.7257315  1.20872529 -1.05639797\n",
       "  alcohol    index\n",
       "1  1.1935810 1    \n",
       "2 -0.6685289 2    \n",
       "3  0.2220454 3    \n",
       "4 -0.6685289 4    \n",
       "5 -0.8304515 5    \n",
       "7 -0.2637224 7    "
      ]
     },
     "metadata": {},
     "output_type": "display_data"
    }
   ],
   "source": [
    "head(no_outliers)"
   ]
  },
  {
   "cell_type": "code",
   "execution_count": 16,
   "metadata": {
    "vscode": {
     "languageId": "r"
    }
   },
   "outputs": [],
   "source": [
    "# merge normalized one ane orginal quality\n",
    "# merge two data frames by ID\n",
    "df_final <- merge(no_outliers,df[12:13],by=\"index\")"
   ]
  },
  {
   "cell_type": "code",
   "execution_count": 17,
   "metadata": {
    "vscode": {
     "languageId": "r"
    }
   },
   "outputs": [
    {
     "data": {
      "text/html": [
       "<table class=\"dataframe\">\n",
       "<caption>A data.frame: 6 × 13</caption>\n",
       "<thead>\n",
       "\t<tr><th></th><th scope=col>index</th><th scope=col>fixed_acidity</th><th scope=col>volatile_acidity</th><th scope=col>citric_acid</th><th scope=col>residual_sugar</th><th scope=col>chlorides</th><th scope=col>free_sulfur_dioxide</th><th scope=col>total_sulfur_dioxide</th><th scope=col>density</th><th scope=col>p_h</th><th scope=col>sulphates</th><th scope=col>alcohol</th><th scope=col>quality</th></tr>\n",
       "\t<tr><th></th><th scope=col>&lt;int&gt;</th><th scope=col>&lt;dbl&gt;</th><th scope=col>&lt;dbl&gt;</th><th scope=col>&lt;dbl&gt;</th><th scope=col>&lt;dbl&gt;</th><th scope=col>&lt;dbl&gt;</th><th scope=col>&lt;dbl&gt;</th><th scope=col>&lt;dbl&gt;</th><th scope=col>&lt;dbl&gt;</th><th scope=col>&lt;dbl&gt;</th><th scope=col>&lt;dbl&gt;</th><th scope=col>&lt;dbl&gt;</th><th scope=col>&lt;dbl&gt;</th></tr>\n",
       "</thead>\n",
       "<tbody>\n",
       "\t<tr><th scope=row>1</th><td>1</td><td> 1.5238976</td><td>-0.04648274</td><td> 0.6271255</td><td>-0.9831716</td><td>-0.58570079</td><td>-1.5272358</td><td>-1.8230268</td><td>-1.0701698</td><td>-1.31955843</td><td> 0.61051063</td><td> 1.1935810</td><td>5</td></tr>\n",
       "\t<tr><th scope=row>2</th><td>2</td><td> 2.1293483</td><td>-0.46690270</td><td> 0.5433238</td><td>-0.4429502</td><td>-0.49277626</td><td>-1.1554516</td><td>-0.7152461</td><td> 0.2268701</td><td>-0.32155169</td><td> 0.34731453</td><td>-0.6685289</td><td>5</td></tr>\n",
       "\t<tr><th scope=row>3</th><td>3</td><td> 1.2817173</td><td>-0.99242766</td><td> 0.2919184</td><td>-1.0322826</td><td>-0.26046491</td><td>-1.2174157</td><td>-1.5340406</td><td>-0.6710806</td><td>-0.05541657</td><td> 1.22463485</td><td> 0.2220454</td><td>5</td></tr>\n",
       "\t<tr><th scope=row>4</th><td>4</td><td> 1.7660778</td><td> 1.53009213</td><td> 2.3869628</td><td> 2.5135339</td><td>-0.26046491</td><td> 0.3316852</td><td> 0.8019318</td><td> 2.0560288</td><td>-1.38609221</td><td> 1.57556298</td><td>-0.6685289</td><td>5</td></tr>\n",
       "\t<tr><th scope=row>5</th><td>5</td><td>-0.4135447</td><td> 0.37393723</td><td>-1.6355225</td><td> 0.2053154</td><td>-0.07461584</td><td>-0.1020631</td><td>-0.1372736</td><td> 0.4929295</td><td> 0.21071856</td><td> 0.08411844</td><td>-0.8304515</td><td>5</td></tr>\n",
       "\t<tr><th scope=row>6</th><td>7</td><td>-1.2611757</td><td>-0.04648274</td><td>-1.1327118</td><td> 1.6688241</td><td>-0.07461584</td><td>-0.8456315</td><td> 0.9705071</td><td> 0.7257315</td><td> 1.20872529</td><td>-1.05639797</td><td>-0.2637224</td><td>5</td></tr>\n",
       "</tbody>\n",
       "</table>\n"
      ],
      "text/latex": [
       "A data.frame: 6 × 13\n",
       "\\begin{tabular}{r|lllllllllllll}\n",
       "  & index & fixed\\_acidity & volatile\\_acidity & citric\\_acid & residual\\_sugar & chlorides & free\\_sulfur\\_dioxide & total\\_sulfur\\_dioxide & density & p\\_h & sulphates & alcohol & quality\\\\\n",
       "  & <int> & <dbl> & <dbl> & <dbl> & <dbl> & <dbl> & <dbl> & <dbl> & <dbl> & <dbl> & <dbl> & <dbl> & <dbl>\\\\\n",
       "\\hline\n",
       "\t1 & 1 &  1.5238976 & -0.04648274 &  0.6271255 & -0.9831716 & -0.58570079 & -1.5272358 & -1.8230268 & -1.0701698 & -1.31955843 &  0.61051063 &  1.1935810 & 5\\\\\n",
       "\t2 & 2 &  2.1293483 & -0.46690270 &  0.5433238 & -0.4429502 & -0.49277626 & -1.1554516 & -0.7152461 &  0.2268701 & -0.32155169 &  0.34731453 & -0.6685289 & 5\\\\\n",
       "\t3 & 3 &  1.2817173 & -0.99242766 &  0.2919184 & -1.0322826 & -0.26046491 & -1.2174157 & -1.5340406 & -0.6710806 & -0.05541657 &  1.22463485 &  0.2220454 & 5\\\\\n",
       "\t4 & 4 &  1.7660778 &  1.53009213 &  2.3869628 &  2.5135339 & -0.26046491 &  0.3316852 &  0.8019318 &  2.0560288 & -1.38609221 &  1.57556298 & -0.6685289 & 5\\\\\n",
       "\t5 & 5 & -0.4135447 &  0.37393723 & -1.6355225 &  0.2053154 & -0.07461584 & -0.1020631 & -0.1372736 &  0.4929295 &  0.21071856 &  0.08411844 & -0.8304515 & 5\\\\\n",
       "\t6 & 7 & -1.2611757 & -0.04648274 & -1.1327118 &  1.6688241 & -0.07461584 & -0.8456315 &  0.9705071 &  0.7257315 &  1.20872529 & -1.05639797 & -0.2637224 & 5\\\\\n",
       "\\end{tabular}\n"
      ],
      "text/markdown": [
       "\n",
       "A data.frame: 6 × 13\n",
       "\n",
       "| <!--/--> | index &lt;int&gt; | fixed_acidity &lt;dbl&gt; | volatile_acidity &lt;dbl&gt; | citric_acid &lt;dbl&gt; | residual_sugar &lt;dbl&gt; | chlorides &lt;dbl&gt; | free_sulfur_dioxide &lt;dbl&gt; | total_sulfur_dioxide &lt;dbl&gt; | density &lt;dbl&gt; | p_h &lt;dbl&gt; | sulphates &lt;dbl&gt; | alcohol &lt;dbl&gt; | quality &lt;dbl&gt; |\n",
       "|---|---|---|---|---|---|---|---|---|---|---|---|---|---|\n",
       "| 1 | 1 |  1.5238976 | -0.04648274 |  0.6271255 | -0.9831716 | -0.58570079 | -1.5272358 | -1.8230268 | -1.0701698 | -1.31955843 |  0.61051063 |  1.1935810 | 5 |\n",
       "| 2 | 2 |  2.1293483 | -0.46690270 |  0.5433238 | -0.4429502 | -0.49277626 | -1.1554516 | -0.7152461 |  0.2268701 | -0.32155169 |  0.34731453 | -0.6685289 | 5 |\n",
       "| 3 | 3 |  1.2817173 | -0.99242766 |  0.2919184 | -1.0322826 | -0.26046491 | -1.2174157 | -1.5340406 | -0.6710806 | -0.05541657 |  1.22463485 |  0.2220454 | 5 |\n",
       "| 4 | 4 |  1.7660778 |  1.53009213 |  2.3869628 |  2.5135339 | -0.26046491 |  0.3316852 |  0.8019318 |  2.0560288 | -1.38609221 |  1.57556298 | -0.6685289 | 5 |\n",
       "| 5 | 5 | -0.4135447 |  0.37393723 | -1.6355225 |  0.2053154 | -0.07461584 | -0.1020631 | -0.1372736 |  0.4929295 |  0.21071856 |  0.08411844 | -0.8304515 | 5 |\n",
       "| 6 | 7 | -1.2611757 | -0.04648274 | -1.1327118 |  1.6688241 | -0.07461584 | -0.8456315 |  0.9705071 |  0.7257315 |  1.20872529 | -1.05639797 | -0.2637224 | 5 |\n",
       "\n"
      ],
      "text/plain": [
       "  index fixed_acidity volatile_acidity citric_acid residual_sugar chlorides  \n",
       "1 1      1.5238976    -0.04648274       0.6271255  -0.9831716     -0.58570079\n",
       "2 2      2.1293483    -0.46690270       0.5433238  -0.4429502     -0.49277626\n",
       "3 3      1.2817173    -0.99242766       0.2919184  -1.0322826     -0.26046491\n",
       "4 4      1.7660778     1.53009213       2.3869628   2.5135339     -0.26046491\n",
       "5 5     -0.4135447     0.37393723      -1.6355225   0.2053154     -0.07461584\n",
       "6 7     -1.2611757    -0.04648274      -1.1327118   1.6688241     -0.07461584\n",
       "  free_sulfur_dioxide total_sulfur_dioxide density    p_h         sulphates  \n",
       "1 -1.5272358          -1.8230268           -1.0701698 -1.31955843  0.61051063\n",
       "2 -1.1554516          -0.7152461            0.2268701 -0.32155169  0.34731453\n",
       "3 -1.2174157          -1.5340406           -0.6710806 -0.05541657  1.22463485\n",
       "4  0.3316852           0.8019318            2.0560288 -1.38609221  1.57556298\n",
       "5 -0.1020631          -0.1372736            0.4929295  0.21071856  0.08411844\n",
       "6 -0.8456315           0.9705071            0.7257315  1.20872529 -1.05639797\n",
       "  alcohol    quality\n",
       "1  1.1935810 5      \n",
       "2 -0.6685289 5      \n",
       "3  0.2220454 5      \n",
       "4 -0.6685289 5      \n",
       "5 -0.8304515 5      \n",
       "6 -0.2637224 5      "
      ]
     },
     "metadata": {},
     "output_type": "display_data"
    }
   ],
   "source": [
    "head(df_final)"
   ]
  },
  {
   "cell_type": "code",
   "execution_count": 18,
   "metadata": {
    "vscode": {
     "languageId": "r"
    }
   },
   "outputs": [
    {
     "data": {
      "text/plain": [
       " fixed_acidity      volatile_acidity    citric_acid       residual_sugar      \n",
       " Min.   :-3.56189   Min.   :-2.04348   Min.   :-2.80875   Min.   :-1.1501491  \n",
       " 1st Qu.:-0.65573   1st Qu.:-0.67711   1st Qu.:-0.54610   1st Qu.:-0.9144161  \n",
       " Median :-0.05027   Median :-0.15159   Median :-0.21089   Median :-0.2072173  \n",
       " Mean   :-0.01286   Mean   :-0.05957   Mean   :-0.06593   Mean   : 0.0007457  \n",
       " 3rd Qu.: 0.55518   3rd Qu.: 0.47904   3rd Qu.: 0.37572   3rd Qu.: 0.6964257  \n",
       " Max.   : 2.97698   Max.   : 2.94901   Max.   : 2.97358   Max.   : 2.8180223  \n",
       "   chlorides       free_sulfur_dioxide total_sulfur_dioxide    density        \n",
       " Min.   :-1.5614   Min.   :-2.08491    Min.   :-2.83448     Min.   :-2.29737  \n",
       " 1st Qu.:-0.4928   1st Qu.:-0.72170    1st Qu.:-0.73933     1st Qu.:-0.78748  \n",
       " Median :-0.1675   Median :-0.10206    Median :-0.11319     Median :-0.13231  \n",
       " Mean   :-0.1192   Mean   :-0.02871    Mean   :-0.01793     Mean   :-0.02102  \n",
       " 3rd Qu.: 0.2042   3rd Qu.: 0.57954    3rd Qu.: 0.65744     3rd Qu.: 0.69247  \n",
       " Max.   : 2.9919   Max.   : 2.93417    Max.   : 2.92116     Max.   : 2.64136  \n",
       "      p_h              sulphates           alcohol        \n",
       " Min.   :-2.650234   Min.   :-2.37238   Min.   :-1.72103  \n",
       " 1st Qu.:-0.654221   1st Qu.:-0.70547   1st Qu.:-0.83045  \n",
       " Median :-0.055417   Median :-0.17908   Median :-0.10180  \n",
       " Mean   :-0.001019   Mean   :-0.03857   Mean   : 0.02107  \n",
       " 3rd Qu.: 0.609921   3rd Qu.: 0.43505   3rd Qu.: 0.70781  \n",
       " Max.   : 2.938604   Max.   : 2.97928   Max.   : 2.97473  "
      ]
     },
     "metadata": {},
     "output_type": "display_data"
    }
   ],
   "source": [
    "summary(df_final[2:12])"
   ]
  },
  {
   "cell_type": "code",
   "execution_count": 19,
   "metadata": {
    "vscode": {
     "languageId": "r"
    }
   },
   "outputs": [],
   "source": [
    "histogram = function(x,title,x_label) {\n",
    "  # Add a Normal Curve (Thanks to Peter Dalgaard)\n",
    "  x <- x\n",
    "  h<-hist(x, breaks=10, col=\"red\", xlab=x_label,\n",
    "    main=title)\n",
    "  xfit<-seq(min(x),max(x),length=40)\n",
    "  yfit<-dnorm(xfit,mean=mean(x),sd=sd(x))\n",
    "  yfit <- yfit*diff(h$mids[1:2])*length(x)\n",
    "  lines(xfit, yfit, col=\"blue\", lwd=2)\n",
    "}"
   ]
  },
  {
   "cell_type": "code",
   "execution_count": 20,
   "metadata": {
    "vscode": {
     "languageId": "r"
    }
   },
   "outputs": [
    {
     "data": {
      "image/png": "[encoded data removed]",
      "text/plain": [
       "Plot with title \"quality values before preprocessing\""
      ]
     },
     "metadata": {
      "image/png": {
       "height": 420,
       "width": 420
      }
     },
     "output_type": "display_data"
    },
    {
     "data": {
      "image/png": "[encoded data removed]",
      "text/plain": [
       "Plot with title \"quality values after preprocessing\""
      ]
     },
     "metadata": {
      "image/png": {
       "height": 420,
       "width": 420
      }
     },
     "output_type": "display_data"
    }
   ],
   "source": [
    "# histogram(df$fixed_acidity,\"fixed_acidity values before preprocessing\",\"fixed_acidity value\")\n",
    "# histogram(df_final$fixed_acidity,\"fixed_acidity values after preprocessing\",\"fixed_acidity value\")\n",
    "histogram(df$quality,\"quality values before preprocessing\",\"fixed_acidity value\")\n",
    "histogram(df_final$quality,\"quality values after preprocessing\",\"fixed_acidity value\")"
   ]
  },
  {
   "cell_type": "markdown",
   "metadata": {},
   "source": [
    "Define the number of cluster centres (via manual & automated tools). The\n",
    "automated tools should include NBclust, Elbow and one from Gap statistics or silhouette methods"
   ]
  },
  {
   "cell_type": "markdown",
   "metadata": {},
   "source": [
    "## Malual Methods - Define Cluster Centers"
   ]
  },
  {
   "cell_type": "code",
   "execution_count": 21,
   "metadata": {
    "vscode": {
     "languageId": "r"
    }
   },
   "outputs": [
    {
     "data": {
      "text/html": [
       "<table class=\"dataframe\">\n",
       "<caption>A data.frame: 6 × 13</caption>\n",
       "<thead>\n",
       "\t<tr><th></th><th scope=col>index</th><th scope=col>fixed_acidity</th><th scope=col>volatile_acidity</th><th scope=col>citric_acid</th><th scope=col>residual_sugar</th><th scope=col>chlorides</th><th scope=col>free_sulfur_dioxide</th><th scope=col>total_sulfur_dioxide</th><th scope=col>density</th><th scope=col>p_h</th><th scope=col>sulphates</th><th scope=col>alcohol</th><th scope=col>quality</th></tr>\n",
       "\t<tr><th></th><th scope=col>&lt;int&gt;</th><th scope=col>&lt;dbl&gt;</th><th scope=col>&lt;dbl&gt;</th><th scope=col>&lt;dbl&gt;</th><th scope=col>&lt;dbl&gt;</th><th scope=col>&lt;dbl&gt;</th><th scope=col>&lt;dbl&gt;</th><th scope=col>&lt;dbl&gt;</th><th scope=col>&lt;dbl&gt;</th><th scope=col>&lt;dbl&gt;</th><th scope=col>&lt;dbl&gt;</th><th scope=col>&lt;dbl&gt;</th><th scope=col>&lt;dbl&gt;</th></tr>\n",
       "</thead>\n",
       "<tbody>\n",
       "\t<tr><th scope=row>1</th><td>1</td><td> 1.5238976</td><td>-0.04648274</td><td> 0.6271255</td><td>-0.9831716</td><td>-0.58570079</td><td>-1.5272358</td><td>-1.8230268</td><td>-1.0701698</td><td>-1.31955843</td><td> 0.61051063</td><td> 1.1935810</td><td>5</td></tr>\n",
       "\t<tr><th scope=row>2</th><td>2</td><td> 2.1293483</td><td>-0.46690270</td><td> 0.5433238</td><td>-0.4429502</td><td>-0.49277626</td><td>-1.1554516</td><td>-0.7152461</td><td> 0.2268701</td><td>-0.32155169</td><td> 0.34731453</td><td>-0.6685289</td><td>5</td></tr>\n",
       "\t<tr><th scope=row>3</th><td>3</td><td> 1.2817173</td><td>-0.99242766</td><td> 0.2919184</td><td>-1.0322826</td><td>-0.26046491</td><td>-1.2174157</td><td>-1.5340406</td><td>-0.6710806</td><td>-0.05541657</td><td> 1.22463485</td><td> 0.2220454</td><td>5</td></tr>\n",
       "\t<tr><th scope=row>4</th><td>4</td><td> 1.7660778</td><td> 1.53009213</td><td> 2.3869628</td><td> 2.5135339</td><td>-0.26046491</td><td> 0.3316852</td><td> 0.8019318</td><td> 2.0560288</td><td>-1.38609221</td><td> 1.57556298</td><td>-0.6685289</td><td>5</td></tr>\n",
       "\t<tr><th scope=row>5</th><td>5</td><td>-0.4135447</td><td> 0.37393723</td><td>-1.6355225</td><td> 0.2053154</td><td>-0.07461584</td><td>-0.1020631</td><td>-0.1372736</td><td> 0.4929295</td><td> 0.21071856</td><td> 0.08411844</td><td>-0.8304515</td><td>5</td></tr>\n",
       "\t<tr><th scope=row>6</th><td>7</td><td>-1.2611757</td><td>-0.04648274</td><td>-1.1327118</td><td> 1.6688241</td><td>-0.07461584</td><td>-0.8456315</td><td> 0.9705071</td><td> 0.7257315</td><td> 1.20872529</td><td>-1.05639797</td><td>-0.2637224</td><td>5</td></tr>\n",
       "</tbody>\n",
       "</table>\n"
      ],
      "text/latex": [
       "A data.frame: 6 × 13\n",
       "\\begin{tabular}{r|lllllllllllll}\n",
       "  & index & fixed\\_acidity & volatile\\_acidity & citric\\_acid & residual\\_sugar & chlorides & free\\_sulfur\\_dioxide & total\\_sulfur\\_dioxide & density & p\\_h & sulphates & alcohol & quality\\\\\n",
       "  & <int> & <dbl> & <dbl> & <dbl> & <dbl> & <dbl> & <dbl> & <dbl> & <dbl> & <dbl> & <dbl> & <dbl> & <dbl>\\\\\n",
       "\\hline\n",
       "\t1 & 1 &  1.5238976 & -0.04648274 &  0.6271255 & -0.9831716 & -0.58570079 & -1.5272358 & -1.8230268 & -1.0701698 & -1.31955843 &  0.61051063 &  1.1935810 & 5\\\\\n",
       "\t2 & 2 &  2.1293483 & -0.46690270 &  0.5433238 & -0.4429502 & -0.49277626 & -1.1554516 & -0.7152461 &  0.2268701 & -0.32155169 &  0.34731453 & -0.6685289 & 5\\\\\n",
       "\t3 & 3 &  1.2817173 & -0.99242766 &  0.2919184 & -1.0322826 & -0.26046491 & -1.2174157 & -1.5340406 & -0.6710806 & -0.05541657 &  1.22463485 &  0.2220454 & 5\\\\\n",
       "\t4 & 4 &  1.7660778 &  1.53009213 &  2.3869628 &  2.5135339 & -0.26046491 &  0.3316852 &  0.8019318 &  2.0560288 & -1.38609221 &  1.57556298 & -0.6685289 & 5\\\\\n",
       "\t5 & 5 & -0.4135447 &  0.37393723 & -1.6355225 &  0.2053154 & -0.07461584 & -0.1020631 & -0.1372736 &  0.4929295 &  0.21071856 &  0.08411844 & -0.8304515 & 5\\\\\n",
       "\t6 & 7 & -1.2611757 & -0.04648274 & -1.1327118 &  1.6688241 & -0.07461584 & -0.8456315 &  0.9705071 &  0.7257315 &  1.20872529 & -1.05639797 & -0.2637224 & 5\\\\\n",
       "\\end{tabular}\n"
      ],
      "text/markdown": [
       "\n",
       "A data.frame: 6 × 13\n",
       "\n",
       "| <!--/--> | index &lt;int&gt; | fixed_acidity &lt;dbl&gt; | volatile_acidity &lt;dbl&gt; | citric_acid &lt;dbl&gt; | residual_sugar &lt;dbl&gt; | chlorides &lt;dbl&gt; | free_sulfur_dioxide &lt;dbl&gt; | total_sulfur_dioxide &lt;dbl&gt; | density &lt;dbl&gt; | p_h &lt;dbl&gt; | sulphates &lt;dbl&gt; | alcohol &lt;dbl&gt; | quality &lt;dbl&gt; |\n",
       "|---|---|---|---|---|---|---|---|---|---|---|---|---|---|\n",
       "| 1 | 1 |  1.5238976 | -0.04648274 |  0.6271255 | -0.9831716 | -0.58570079 | -1.5272358 | -1.8230268 | -1.0701698 | -1.31955843 |  0.61051063 |  1.1935810 | 5 |\n",
       "| 2 | 2 |  2.1293483 | -0.46690270 |  0.5433238 | -0.4429502 | -0.49277626 | -1.1554516 | -0.7152461 |  0.2268701 | -0.32155169 |  0.34731453 | -0.6685289 | 5 |\n",
       "| 3 | 3 |  1.2817173 | -0.99242766 |  0.2919184 | -1.0322826 | -0.26046491 | -1.2174157 | -1.5340406 | -0.6710806 | -0.05541657 |  1.22463485 |  0.2220454 | 5 |\n",
       "| 4 | 4 |  1.7660778 |  1.53009213 |  2.3869628 |  2.5135339 | -0.26046491 |  0.3316852 |  0.8019318 |  2.0560288 | -1.38609221 |  1.57556298 | -0.6685289 | 5 |\n",
       "| 5 | 5 | -0.4135447 |  0.37393723 | -1.6355225 |  0.2053154 | -0.07461584 | -0.1020631 | -0.1372736 |  0.4929295 |  0.21071856 |  0.08411844 | -0.8304515 | 5 |\n",
       "| 6 | 7 | -1.2611757 | -0.04648274 | -1.1327118 |  1.6688241 | -0.07461584 | -0.8456315 |  0.9705071 |  0.7257315 |  1.20872529 | -1.05639797 | -0.2637224 | 5 |\n",
       "\n"
      ],
      "text/plain": [
       "  index fixed_acidity volatile_acidity citric_acid residual_sugar chlorides  \n",
       "1 1      1.5238976    -0.04648274       0.6271255  -0.9831716     -0.58570079\n",
       "2 2      2.1293483    -0.46690270       0.5433238  -0.4429502     -0.49277626\n",
       "3 3      1.2817173    -0.99242766       0.2919184  -1.0322826     -0.26046491\n",
       "4 4      1.7660778     1.53009213       2.3869628   2.5135339     -0.26046491\n",
       "5 5     -0.4135447     0.37393723      -1.6355225   0.2053154     -0.07461584\n",
       "6 7     -1.2611757    -0.04648274      -1.1327118   1.6688241     -0.07461584\n",
       "  free_sulfur_dioxide total_sulfur_dioxide density    p_h         sulphates  \n",
       "1 -1.5272358          -1.8230268           -1.0701698 -1.31955843  0.61051063\n",
       "2 -1.1554516          -0.7152461            0.2268701 -0.32155169  0.34731453\n",
       "3 -1.2174157          -1.5340406           -0.6710806 -0.05541657  1.22463485\n",
       "4  0.3316852           0.8019318            2.0560288 -1.38609221  1.57556298\n",
       "5 -0.1020631          -0.1372736            0.4929295  0.21071856  0.08411844\n",
       "6 -0.8456315           0.9705071            0.7257315  1.20872529 -1.05639797\n",
       "  alcohol    quality\n",
       "1  1.1935810 5      \n",
       "2 -0.6685289 5      \n",
       "3  0.2220454 5      \n",
       "4 -0.6685289 5      \n",
       "5 -0.8304515 5      \n",
       "6 -0.2637224 5      "
      ]
     },
     "metadata": {},
     "output_type": "display_data"
    }
   ],
   "source": [
    "head(df_final)"
   ]
  },
  {
   "cell_type": "code",
   "execution_count": null,
   "metadata": {
    "vscode": {
     "languageId": "r"
    }
   },
   "outputs": [],
   "source": []
  }
 ],
 "metadata": {
  "kernelspec": {
   "display_name": "R",
   "language": "R",
   "name": "ir"
  },
  "language_info": {
   "codemirror_mode": "r",
   "file_extension": ".r",
   "mimetype": "text/x-r-source",
   "name": "R",
   "pygments_lexer": "r",
   "version": "4.1.1"
  },
  "orig_nbformat": 4
 },
 "nbformat": 4,
 "nbformat_minor": 2
}
