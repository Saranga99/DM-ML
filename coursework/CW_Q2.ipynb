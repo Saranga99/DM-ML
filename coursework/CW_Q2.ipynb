{
 "cells": [
  {
   "cell_type": "code",
   "execution_count": 1401,
   "metadata": {
    "vscode": {
     "languageId": "r"
    }
   },
   "outputs": [],
   "source": [
    "# install.packages(\"Metrics\")"
   ]
  },
  {
   "cell_type": "code",
   "execution_count": 1402,
   "metadata": {
    "vscode": {
     "languageId": "r"
    }
   },
   "outputs": [],
   "source": [
    "# libraries\n",
    "library(readxl)\n",
    "options(warn = 0)\n",
    "library(tidyverse)\n",
    "library(readxl)\n",
    "library(lubridate)\n",
    "library(zoo)\n",
    "library(readxl)\n",
    "library(neuralnet)\n",
    "library(knitr)\n",
    "# library(Metrics)"
   ]
  },
  {
   "cell_type": "code",
   "execution_count": 1403,
   "metadata": {
    "vscode": {
     "languageId": "r"
    }
   },
   "outputs": [
    {
     "data": {
      "text/html": [
       "<table class=\"dataframe\">\n",
       "<caption>A tibble: 6 × 4</caption>\n",
       "<thead>\n",
       "\t<tr><th scope=col>Dates</th><th scope=col>09:00</th><th scope=col>10:00</th><th scope=col>11:00</th></tr>\n",
       "\t<tr><th scope=col>&lt;dttm&gt;</th><th scope=col>&lt;dbl&gt;</th><th scope=col>&lt;dbl&gt;</th><th scope=col>&lt;dbl&gt;</th></tr>\n",
       "</thead>\n",
       "<tbody>\n",
       "\t<tr><td>2018-01-01</td><td> 89.4</td><td> 90.6</td><td> 88.6</td></tr>\n",
       "\t<tr><td>2018-01-02</td><td>108.2</td><td>104.6</td><td>106.0</td></tr>\n",
       "\t<tr><td>2018-01-03</td><td>110.0</td><td>111.6</td><td>114.8</td></tr>\n",
       "\t<tr><td>2018-01-04</td><td>106.4</td><td>104.4</td><td>109.0</td></tr>\n",
       "\t<tr><td>2018-01-05</td><td> 97.8</td><td>100.4</td><td>102.4</td></tr>\n",
       "\t<tr><td>2018-01-06</td><td> 87.0</td><td> 90.8</td><td> 87.2</td></tr>\n",
       "</tbody>\n",
       "</table>\n"
      ],
      "text/latex": [
       "A tibble: 6 × 4\n",
       "\\begin{tabular}{llll}\n",
       " Dates & 09:00 & 10:00 & 11:00\\\\\n",
       " <dttm> & <dbl> & <dbl> & <dbl>\\\\\n",
       "\\hline\n",
       "\t 2018-01-01 &  89.4 &  90.6 &  88.6\\\\\n",
       "\t 2018-01-02 & 108.2 & 104.6 & 106.0\\\\\n",
       "\t 2018-01-03 & 110.0 & 111.6 & 114.8\\\\\n",
       "\t 2018-01-04 & 106.4 & 104.4 & 109.0\\\\\n",
       "\t 2018-01-05 &  97.8 & 100.4 & 102.4\\\\\n",
       "\t 2018-01-06 &  87.0 &  90.8 &  87.2\\\\\n",
       "\\end{tabular}\n"
      ],
      "text/markdown": [
       "\n",
       "A tibble: 6 × 4\n",
       "\n",
       "| Dates &lt;dttm&gt; | 09:00 &lt;dbl&gt; | 10:00 &lt;dbl&gt; | 11:00 &lt;dbl&gt; |\n",
       "|---|---|---|---|\n",
       "| 2018-01-01 |  89.4 |  90.6 |  88.6 |\n",
       "| 2018-01-02 | 108.2 | 104.6 | 106.0 |\n",
       "| 2018-01-03 | 110.0 | 111.6 | 114.8 |\n",
       "| 2018-01-04 | 106.4 | 104.4 | 109.0 |\n",
       "| 2018-01-05 |  97.8 | 100.4 | 102.4 |\n",
       "| 2018-01-06 |  87.0 |  90.8 |  87.2 |\n",
       "\n"
      ],
      "text/plain": [
       "  Dates      09:00 10:00 11:00\n",
       "1 2018-01-01  89.4  90.6  88.6\n",
       "2 2018-01-02 108.2 104.6 106.0\n",
       "3 2018-01-03 110.0 111.6 114.8\n",
       "4 2018-01-04 106.4 104.4 109.0\n",
       "5 2018-01-05  97.8 100.4 102.4\n",
       "6 2018-01-06  87.0  90.8  87.2"
      ]
     },
     "metadata": {},
     "output_type": "display_data"
    }
   ],
   "source": [
    "df <- read_excel(\"data/UOW_load.xlsx\")\n",
    "head(df)"
   ]
  },
  {
   "cell_type": "code",
   "execution_count": 1404,
   "metadata": {
    "vscode": {
     "languageId": "r"
    }
   },
   "outputs": [],
   "source": [
    "df$Dates<-as.Date(df$Dates)"
   ]
  },
  {
   "cell_type": "code",
   "execution_count": 1405,
   "metadata": {
    "vscode": {
     "languageId": "r"
    }
   },
   "outputs": [
    {
     "data": {
      "text/html": [
       "<table class=\"dataframe\">\n",
       "<caption>A tibble: 6 × 4</caption>\n",
       "<thead>\n",
       "\t<tr><th scope=col>Dates</th><th scope=col>ninth_hour</th><th scope=col>tenth_hour</th><th scope=col>eleventh_hour</th></tr>\n",
       "\t<tr><th scope=col>&lt;date&gt;</th><th scope=col>&lt;dbl&gt;</th><th scope=col>&lt;dbl&gt;</th><th scope=col>&lt;dbl&gt;</th></tr>\n",
       "</thead>\n",
       "<tbody>\n",
       "\t<tr><td>2018-01-01</td><td> 89.4</td><td> 90.6</td><td> 88.6</td></tr>\n",
       "\t<tr><td>2018-01-02</td><td>108.2</td><td>104.6</td><td>106.0</td></tr>\n",
       "\t<tr><td>2018-01-03</td><td>110.0</td><td>111.6</td><td>114.8</td></tr>\n",
       "\t<tr><td>2018-01-04</td><td>106.4</td><td>104.4</td><td>109.0</td></tr>\n",
       "\t<tr><td>2018-01-05</td><td> 97.8</td><td>100.4</td><td>102.4</td></tr>\n",
       "\t<tr><td>2018-01-06</td><td> 87.0</td><td> 90.8</td><td> 87.2</td></tr>\n",
       "</tbody>\n",
       "</table>\n"
      ],
      "text/latex": [
       "A tibble: 6 × 4\n",
       "\\begin{tabular}{llll}\n",
       " Dates & ninth\\_hour & tenth\\_hour & eleventh\\_hour\\\\\n",
       " <date> & <dbl> & <dbl> & <dbl>\\\\\n",
       "\\hline\n",
       "\t 2018-01-01 &  89.4 &  90.6 &  88.6\\\\\n",
       "\t 2018-01-02 & 108.2 & 104.6 & 106.0\\\\\n",
       "\t 2018-01-03 & 110.0 & 111.6 & 114.8\\\\\n",
       "\t 2018-01-04 & 106.4 & 104.4 & 109.0\\\\\n",
       "\t 2018-01-05 &  97.8 & 100.4 & 102.4\\\\\n",
       "\t 2018-01-06 &  87.0 &  90.8 &  87.2\\\\\n",
       "\\end{tabular}\n"
      ],
      "text/markdown": [
       "\n",
       "A tibble: 6 × 4\n",
       "\n",
       "| Dates &lt;date&gt; | ninth_hour &lt;dbl&gt; | tenth_hour &lt;dbl&gt; | eleventh_hour &lt;dbl&gt; |\n",
       "|---|---|---|---|\n",
       "| 2018-01-01 |  89.4 |  90.6 |  88.6 |\n",
       "| 2018-01-02 | 108.2 | 104.6 | 106.0 |\n",
       "| 2018-01-03 | 110.0 | 111.6 | 114.8 |\n",
       "| 2018-01-04 | 106.4 | 104.4 | 109.0 |\n",
       "| 2018-01-05 |  97.8 | 100.4 | 102.4 |\n",
       "| 2018-01-06 |  87.0 |  90.8 |  87.2 |\n",
       "\n"
      ],
      "text/plain": [
       "  Dates      ninth_hour tenth_hour eleventh_hour\n",
       "1 2018-01-01  89.4       90.6       88.6        \n",
       "2 2018-01-02 108.2      104.6      106.0        \n",
       "3 2018-01-03 110.0      111.6      114.8        \n",
       "4 2018-01-04 106.4      104.4      109.0        \n",
       "5 2018-01-05  97.8      100.4      102.4        \n",
       "6 2018-01-06  87.0       90.8       87.2        "
      ]
     },
     "metadata": {},
     "output_type": "display_data"
    }
   ],
   "source": [
    "names(df)[2] <- paste(\"ninth_hour\")\n",
    "names(df)[3] <- paste(\"tenth_hour\")\n",
    "names(df)[4] <- paste(\"eleventh_hour\")\n",
    "head(df)"
   ]
  },
  {
   "cell_type": "code",
   "execution_count": 1406,
   "metadata": {
    "vscode": {
     "languageId": "r"
    }
   },
   "outputs": [
    {
     "data": {
      "text/plain": [
       "   ninth_hour       tenth_hour     eleventh_hour   \n",
       " Min.   : 50.40   Min.   : 49.20   Min.   : 48.20  \n",
       " 1st Qu.: 81.55   1st Qu.: 83.00   1st Qu.: 84.75  \n",
       " Median : 97.50   Median :102.80   Median :105.40  \n",
       " Mean   : 95.35   Mean   : 99.63   Mean   :102.83  \n",
       " 3rd Qu.:110.60   3rd Qu.:116.05   3rd Qu.:120.90  \n",
       " Max.   :141.20   Max.   :148.80   Max.   :156.40  "
      ]
     },
     "metadata": {},
     "output_type": "display_data"
    }
   ],
   "source": [
    "summary(df[2:4])"
   ]
  },
  {
   "cell_type": "code",
   "execution_count": 1407,
   "metadata": {
    "vscode": {
     "languageId": "r"
    }
   },
   "outputs": [],
   "source": [
    "# insert all the inputs to the one data frame\n",
    "# creating revious time frame values for autoregressive model \n",
    "df_full = df %>%\n",
    " mutate(\n",
    "    previous_one_day_ninth_hour = lag(df$ninth_hour,1),\n",
    "    previous_one_day_tenth_hour = lag(df$tenth_hour,1),\n",
    "    previous_two_day_ninth_hour = lag(df$ninth_hour,2),\n",
    "    previous_two_day_tenth_hour = lag(df$tenth_hour,2),\n",
    "    previous_one_day_eleventh_hour = lag(df$eleventh_hour,1),\n",
    "    previous_two_day_eleventh_hour = lag(df$eleventh_hour,2),\n",
    "    previous_three_day_eleventh_hour = lag(df$eleventh_hour,3),\n",
    "    previous_four_day_eleventh_hour = lag(df$eleventh_hour,4),\n",
    "    seven_day_rolling_mean = rollmean(eleventh_hour,7, fill = NA)) %>%\n",
    "#Drop null coulumns\n",
    "drop_na()\n"
   ]
  },
  {
   "cell_type": "code",
   "execution_count": 1408,
   "metadata": {
    "vscode": {
     "languageId": "r"
    }
   },
   "outputs": [
    {
     "data": {
      "text/html": [
       "<table class=\"dataframe\">\n",
       "<caption>A tibble: 6 × 13</caption>\n",
       "<thead>\n",
       "\t<tr><th scope=col>Dates</th><th scope=col>ninth_hour</th><th scope=col>tenth_hour</th><th scope=col>eleventh_hour</th><th scope=col>previous_one_day_ninth_hour</th><th scope=col>previous_one_day_tenth_hour</th><th scope=col>previous_two_day_ninth_hour</th><th scope=col>previous_two_day_tenth_hour</th><th scope=col>previous_one_day_eleventh_hour</th><th scope=col>previous_two_day_eleventh_hour</th><th scope=col>previous_three_day_eleventh_hour</th><th scope=col>previous_four_day_eleventh_hour</th><th scope=col>seven_day_rolling_mean</th></tr>\n",
       "\t<tr><th scope=col>&lt;date&gt;</th><th scope=col>&lt;dbl&gt;</th><th scope=col>&lt;dbl&gt;</th><th scope=col>&lt;dbl&gt;</th><th scope=col>&lt;dbl&gt;</th><th scope=col>&lt;dbl&gt;</th><th scope=col>&lt;dbl&gt;</th><th scope=col>&lt;dbl&gt;</th><th scope=col>&lt;dbl&gt;</th><th scope=col>&lt;dbl&gt;</th><th scope=col>&lt;dbl&gt;</th><th scope=col>&lt;dbl&gt;</th><th scope=col>&lt;dbl&gt;</th></tr>\n",
       "</thead>\n",
       "<tbody>\n",
       "\t<tr><td>2018-01-05</td><td> 97.8</td><td>100.4</td><td>102.4</td><td>106.4</td><td>104.4</td><td>110.0</td><td>111.6</td><td>109.0</td><td>114.8</td><td>106.0</td><td> 88.6</td><td>100.4571</td></tr>\n",
       "\t<tr><td>2018-01-06</td><td> 87.0</td><td> 90.8</td><td> 87.2</td><td> 97.8</td><td>100.4</td><td>106.4</td><td>104.4</td><td>102.4</td><td>109.0</td><td>114.8</td><td>106.0</td><td>101.8857</td></tr>\n",
       "\t<tr><td>2018-01-07</td><td> 68.8</td><td> 67.0</td><td> 67.6</td><td> 87.0</td><td> 90.8</td><td> 97.8</td><td>100.4</td><td> 87.2</td><td>102.4</td><td>109.0</td><td>114.8</td><td>101.8000</td></tr>\n",
       "\t<tr><td>2018-01-08</td><td>110.2</td><td>113.0</td><td>116.2</td><td> 68.8</td><td> 67.0</td><td> 87.0</td><td> 90.8</td><td> 67.6</td><td> 87.2</td><td>102.4</td><td>109.0</td><td>102.4286</td></tr>\n",
       "\t<tr><td>2018-01-09</td><td>111.2</td><td>119.2</td><td>116.0</td><td>110.2</td><td>113.0</td><td> 68.8</td><td> 67.0</td><td>116.2</td><td> 67.6</td><td> 87.2</td><td>102.4</td><td>105.0000</td></tr>\n",
       "\t<tr><td>2018-01-10</td><td>109.0</td><td>114.6</td><td>114.2</td><td>111.2</td><td>119.2</td><td>110.2</td><td>113.0</td><td>116.0</td><td>116.2</td><td> 67.6</td><td> 87.2</td><td>104.6571</td></tr>\n",
       "</tbody>\n",
       "</table>\n"
      ],
      "text/latex": [
       "A tibble: 6 × 13\n",
       "\\begin{tabular}{lllllllllllll}\n",
       " Dates & ninth\\_hour & tenth\\_hour & eleventh\\_hour & previous\\_one\\_day\\_ninth\\_hour & previous\\_one\\_day\\_tenth\\_hour & previous\\_two\\_day\\_ninth\\_hour & previous\\_two\\_day\\_tenth\\_hour & previous\\_one\\_day\\_eleventh\\_hour & previous\\_two\\_day\\_eleventh\\_hour & previous\\_three\\_day\\_eleventh\\_hour & previous\\_four\\_day\\_eleventh\\_hour & seven\\_day\\_rolling\\_mean\\\\\n",
       " <date> & <dbl> & <dbl> & <dbl> & <dbl> & <dbl> & <dbl> & <dbl> & <dbl> & <dbl> & <dbl> & <dbl> & <dbl>\\\\\n",
       "\\hline\n",
       "\t 2018-01-05 &  97.8 & 100.4 & 102.4 & 106.4 & 104.4 & 110.0 & 111.6 & 109.0 & 114.8 & 106.0 &  88.6 & 100.4571\\\\\n",
       "\t 2018-01-06 &  87.0 &  90.8 &  87.2 &  97.8 & 100.4 & 106.4 & 104.4 & 102.4 & 109.0 & 114.8 & 106.0 & 101.8857\\\\\n",
       "\t 2018-01-07 &  68.8 &  67.0 &  67.6 &  87.0 &  90.8 &  97.8 & 100.4 &  87.2 & 102.4 & 109.0 & 114.8 & 101.8000\\\\\n",
       "\t 2018-01-08 & 110.2 & 113.0 & 116.2 &  68.8 &  67.0 &  87.0 &  90.8 &  67.6 &  87.2 & 102.4 & 109.0 & 102.4286\\\\\n",
       "\t 2018-01-09 & 111.2 & 119.2 & 116.0 & 110.2 & 113.0 &  68.8 &  67.0 & 116.2 &  67.6 &  87.2 & 102.4 & 105.0000\\\\\n",
       "\t 2018-01-10 & 109.0 & 114.6 & 114.2 & 111.2 & 119.2 & 110.2 & 113.0 & 116.0 & 116.2 &  67.6 &  87.2 & 104.6571\\\\\n",
       "\\end{tabular}\n"
      ],
      "text/markdown": [
       "\n",
       "A tibble: 6 × 13\n",
       "\n",
       "| Dates &lt;date&gt; | ninth_hour &lt;dbl&gt; | tenth_hour &lt;dbl&gt; | eleventh_hour &lt;dbl&gt; | previous_one_day_ninth_hour &lt;dbl&gt; | previous_one_day_tenth_hour &lt;dbl&gt; | previous_two_day_ninth_hour &lt;dbl&gt; | previous_two_day_tenth_hour &lt;dbl&gt; | previous_one_day_eleventh_hour &lt;dbl&gt; | previous_two_day_eleventh_hour &lt;dbl&gt; | previous_three_day_eleventh_hour &lt;dbl&gt; | previous_four_day_eleventh_hour &lt;dbl&gt; | seven_day_rolling_mean &lt;dbl&gt; |\n",
       "|---|---|---|---|---|---|---|---|---|---|---|---|---|\n",
       "| 2018-01-05 |  97.8 | 100.4 | 102.4 | 106.4 | 104.4 | 110.0 | 111.6 | 109.0 | 114.8 | 106.0 |  88.6 | 100.4571 |\n",
       "| 2018-01-06 |  87.0 |  90.8 |  87.2 |  97.8 | 100.4 | 106.4 | 104.4 | 102.4 | 109.0 | 114.8 | 106.0 | 101.8857 |\n",
       "| 2018-01-07 |  68.8 |  67.0 |  67.6 |  87.0 |  90.8 |  97.8 | 100.4 |  87.2 | 102.4 | 109.0 | 114.8 | 101.8000 |\n",
       "| 2018-01-08 | 110.2 | 113.0 | 116.2 |  68.8 |  67.0 |  87.0 |  90.8 |  67.6 |  87.2 | 102.4 | 109.0 | 102.4286 |\n",
       "| 2018-01-09 | 111.2 | 119.2 | 116.0 | 110.2 | 113.0 |  68.8 |  67.0 | 116.2 |  67.6 |  87.2 | 102.4 | 105.0000 |\n",
       "| 2018-01-10 | 109.0 | 114.6 | 114.2 | 111.2 | 119.2 | 110.2 | 113.0 | 116.0 | 116.2 |  67.6 |  87.2 | 104.6571 |\n",
       "\n"
      ],
      "text/plain": [
       "  Dates      ninth_hour tenth_hour eleventh_hour previous_one_day_ninth_hour\n",
       "1 2018-01-05  97.8      100.4      102.4         106.4                      \n",
       "2 2018-01-06  87.0       90.8       87.2          97.8                      \n",
       "3 2018-01-07  68.8       67.0       67.6          87.0                      \n",
       "4 2018-01-08 110.2      113.0      116.2          68.8                      \n",
       "5 2018-01-09 111.2      119.2      116.0         110.2                      \n",
       "6 2018-01-10 109.0      114.6      114.2         111.2                      \n",
       "  previous_one_day_tenth_hour previous_two_day_ninth_hour\n",
       "1 104.4                       110.0                      \n",
       "2 100.4                       106.4                      \n",
       "3  90.8                        97.8                      \n",
       "4  67.0                        87.0                      \n",
       "5 113.0                        68.8                      \n",
       "6 119.2                       110.2                      \n",
       "  previous_two_day_tenth_hour previous_one_day_eleventh_hour\n",
       "1 111.6                       109.0                         \n",
       "2 104.4                       102.4                         \n",
       "3 100.4                        87.2                         \n",
       "4  90.8                        67.6                         \n",
       "5  67.0                       116.2                         \n",
       "6 113.0                       116.0                         \n",
       "  previous_two_day_eleventh_hour previous_three_day_eleventh_hour\n",
       "1 114.8                          106.0                           \n",
       "2 109.0                          114.8                           \n",
       "3 102.4                          109.0                           \n",
       "4  87.2                          102.4                           \n",
       "5  67.6                           87.2                           \n",
       "6 116.2                           67.6                           \n",
       "  previous_four_day_eleventh_hour seven_day_rolling_mean\n",
       "1  88.6                           100.4571              \n",
       "2 106.0                           101.8857              \n",
       "3 114.8                           101.8000              \n",
       "4 109.0                           102.4286              \n",
       "5 102.4                           105.0000              \n",
       "6  87.2                           104.6571              "
      ]
     },
     "metadata": {},
     "output_type": "display_data"
    }
   ],
   "source": [
    "head(df_full)"
   ]
  },
  {
   "cell_type": "markdown",
   "metadata": {},
   "source": [
    "## Input vercors"
   ]
  },
  {
   "cell_type": "code",
   "execution_count": 1409,
   "metadata": {
    "vscode": {
     "languageId": "r"
    }
   },
   "outputs": [
    {
     "data": {
      "image/png": "[encoded data removed]",
      "text/plain": [
       "plot without title"
      ]
     },
     "metadata": {
      "image/png": {
       "height": 420,
       "width": 420
      }
     },
     "output_type": "display_data"
    }
   ],
   "source": [
    "#1st lag\n",
    "df_full %>%\n",
    "pivot_longer(cols = c(2, 3, 5, 6, 9), names_to = \"kind\", values_to = \"energy_level\") %>%\n",
    "ggplot(aes(Dates, energy_level, color = kind)) +\n",
    "geom_line() +\n",
    "facet_wrap(~kind) + theme(axis.text.x = element_text(angle = 45, vjust =\n",
    "0.5, hjust = 1\n",
    ")) +\n",
    "labs(x = \"\",\n",
    "title = \"First Set of Input Variables\") +\n",
    "theme(legend.position = \"none\")\n"
   ]
  },
  {
   "cell_type": "code",
   "execution_count": 1410,
   "metadata": {
    "vscode": {
     "languageId": "r"
    }
   },
   "outputs": [
    {
     "data": {
      "image/png": "[encoded data removed]",
      "text/plain": [
       "plot without title"
      ]
     },
     "metadata": {
      "image/png": {
       "height": 420,
       "width": 420
      }
     },
     "output_type": "display_data"
    }
   ],
   "source": [
    "#2nd lag\n",
    "df_full %>%\n",
    "pivot_longer(cols = c(5, 6, 9, 2, 3, 7, 8, 10), names_to = \"kind\", values_to = \"energy_level\") %>%\n",
    "ggplot(aes(Dates, energy_level, color = kind)) +\n",
    "geom_line() +\n",
    "facet_wrap(~kind) + theme(axis.text.x = element_text(angle = 45, vjust =\n",
    "0.5, hjust = 1\n",
    ")) +\n",
    "labs(x = \"\",\n",
    "title = \"Second Set of Input Variables\") +\n",
    "theme(legend.position = \"none\")"
   ]
  },
  {
   "cell_type": "code",
   "execution_count": 1411,
   "metadata": {
    "vscode": {
     "languageId": "r"
    }
   },
   "outputs": [
    {
     "data": {
      "image/png": "[encoded data removed]",
      "text/plain": [
       "plot without title"
      ]
     },
     "metadata": {
      "image/png": {
       "height": 420,
       "width": 420
      }
     },
     "output_type": "display_data"
    }
   ],
   "source": [
    "#3rd lag\n",
    "df_full %>%\n",
    "pivot_longer(cols = c(9,10,11,13), names_to = \"kind\", values_to = \"energy_level\") %>%\n",
    "ggplot(aes(Dates, energy_level, color = kind)) +\n",
    "geom_line() +\n",
    "facet_wrap(~kind) + theme(axis.text.x = element_text(angle = 45, vjust =\n",
    "0.5, hjust = 1\n",
    ")) +\n",
    "labs(x = \"\",\n",
    "title = \"Second Set of Input Variables\") +\n",
    "theme(legend.position = \"none\")"
   ]
  },
  {
   "cell_type": "code",
   "execution_count": 1412,
   "metadata": {
    "vscode": {
     "languageId": "r"
    }
   },
   "outputs": [
    {
     "data": {
      "image/png": "[encoded data removed]",
      "text/plain": [
       "plot without title"
      ]
     },
     "metadata": {
      "image/png": {
       "height": 420,
       "width": 420
      }
     },
     "output_type": "display_data"
    }
   ],
   "source": [
    "#4thd lag\n",
    "df_full %>%\n",
    "pivot_longer(cols = c(9,10,11,12,13), names_to = \"kind\", values_to = \"energy_level\") %>%\n",
    "ggplot(aes(Dates, energy_level, color = kind)) +\n",
    "geom_line() +\n",
    "facet_wrap(~kind) + theme(axis.text.x = element_text(angle = 45, vjust =\n",
    "0.5, hjust = 1\n",
    ")) +\n",
    "labs(x = \"\",\n",
    "title = \"Second Set of Input Variables\") +\n",
    "theme(legend.position = \"none\")"
   ]
  },
  {
   "cell_type": "markdown",
   "metadata": {},
   "source": [
    "# Data Normalization"
   ]
  },
  {
   "cell_type": "code",
   "execution_count": 1413,
   "metadata": {
    "vscode": {
     "languageId": "r"
    }
   },
   "outputs": [
    {
     "data": {
      "text/html": [
       "<table class=\"dataframe\">\n",
       "<caption>A tibble: 6 × 13</caption>\n",
       "<thead>\n",
       "\t<tr><th scope=col>Dates</th><th scope=col>ninth_hour</th><th scope=col>tenth_hour</th><th scope=col>eleventh_hour</th><th scope=col>previous_one_day_ninth_hour</th><th scope=col>previous_one_day_tenth_hour</th><th scope=col>previous_two_day_ninth_hour</th><th scope=col>previous_two_day_tenth_hour</th><th scope=col>previous_one_day_eleventh_hour</th><th scope=col>previous_two_day_eleventh_hour</th><th scope=col>previous_three_day_eleventh_hour</th><th scope=col>previous_four_day_eleventh_hour</th><th scope=col>seven_day_rolling_mean</th></tr>\n",
       "\t<tr><th scope=col>&lt;date&gt;</th><th scope=col>&lt;dbl&gt;</th><th scope=col>&lt;dbl&gt;</th><th scope=col>&lt;dbl&gt;</th><th scope=col>&lt;dbl&gt;</th><th scope=col>&lt;dbl&gt;</th><th scope=col>&lt;dbl&gt;</th><th scope=col>&lt;dbl&gt;</th><th scope=col>&lt;dbl&gt;</th><th scope=col>&lt;dbl&gt;</th><th scope=col>&lt;dbl&gt;</th><th scope=col>&lt;dbl&gt;</th><th scope=col>&lt;dbl&gt;</th></tr>\n",
       "</thead>\n",
       "<tbody>\n",
       "\t<tr><td>2018-01-05</td><td> 97.8</td><td>100.4</td><td>102.4</td><td>106.4</td><td>104.4</td><td>110.0</td><td>111.6</td><td>109.0</td><td>114.8</td><td>106.0</td><td> 88.6</td><td>100.4571</td></tr>\n",
       "\t<tr><td>2018-01-06</td><td> 87.0</td><td> 90.8</td><td> 87.2</td><td> 97.8</td><td>100.4</td><td>106.4</td><td>104.4</td><td>102.4</td><td>109.0</td><td>114.8</td><td>106.0</td><td>101.8857</td></tr>\n",
       "\t<tr><td>2018-01-07</td><td> 68.8</td><td> 67.0</td><td> 67.6</td><td> 87.0</td><td> 90.8</td><td> 97.8</td><td>100.4</td><td> 87.2</td><td>102.4</td><td>109.0</td><td>114.8</td><td>101.8000</td></tr>\n",
       "\t<tr><td>2018-01-08</td><td>110.2</td><td>113.0</td><td>116.2</td><td> 68.8</td><td> 67.0</td><td> 87.0</td><td> 90.8</td><td> 67.6</td><td> 87.2</td><td>102.4</td><td>109.0</td><td>102.4286</td></tr>\n",
       "\t<tr><td>2018-01-09</td><td>111.2</td><td>119.2</td><td>116.0</td><td>110.2</td><td>113.0</td><td> 68.8</td><td> 67.0</td><td>116.2</td><td> 67.6</td><td> 87.2</td><td>102.4</td><td>105.0000</td></tr>\n",
       "\t<tr><td>2018-01-10</td><td>109.0</td><td>114.6</td><td>114.2</td><td>111.2</td><td>119.2</td><td>110.2</td><td>113.0</td><td>116.0</td><td>116.2</td><td> 67.6</td><td> 87.2</td><td>104.6571</td></tr>\n",
       "</tbody>\n",
       "</table>\n"
      ],
      "text/latex": [
       "A tibble: 6 × 13\n",
       "\\begin{tabular}{lllllllllllll}\n",
       " Dates & ninth\\_hour & tenth\\_hour & eleventh\\_hour & previous\\_one\\_day\\_ninth\\_hour & previous\\_one\\_day\\_tenth\\_hour & previous\\_two\\_day\\_ninth\\_hour & previous\\_two\\_day\\_tenth\\_hour & previous\\_one\\_day\\_eleventh\\_hour & previous\\_two\\_day\\_eleventh\\_hour & previous\\_three\\_day\\_eleventh\\_hour & previous\\_four\\_day\\_eleventh\\_hour & seven\\_day\\_rolling\\_mean\\\\\n",
       " <date> & <dbl> & <dbl> & <dbl> & <dbl> & <dbl> & <dbl> & <dbl> & <dbl> & <dbl> & <dbl> & <dbl> & <dbl>\\\\\n",
       "\\hline\n",
       "\t 2018-01-05 &  97.8 & 100.4 & 102.4 & 106.4 & 104.4 & 110.0 & 111.6 & 109.0 & 114.8 & 106.0 &  88.6 & 100.4571\\\\\n",
       "\t 2018-01-06 &  87.0 &  90.8 &  87.2 &  97.8 & 100.4 & 106.4 & 104.4 & 102.4 & 109.0 & 114.8 & 106.0 & 101.8857\\\\\n",
       "\t 2018-01-07 &  68.8 &  67.0 &  67.6 &  87.0 &  90.8 &  97.8 & 100.4 &  87.2 & 102.4 & 109.0 & 114.8 & 101.8000\\\\\n",
       "\t 2018-01-08 & 110.2 & 113.0 & 116.2 &  68.8 &  67.0 &  87.0 &  90.8 &  67.6 &  87.2 & 102.4 & 109.0 & 102.4286\\\\\n",
       "\t 2018-01-09 & 111.2 & 119.2 & 116.0 & 110.2 & 113.0 &  68.8 &  67.0 & 116.2 &  67.6 &  87.2 & 102.4 & 105.0000\\\\\n",
       "\t 2018-01-10 & 109.0 & 114.6 & 114.2 & 111.2 & 119.2 & 110.2 & 113.0 & 116.0 & 116.2 &  67.6 &  87.2 & 104.6571\\\\\n",
       "\\end{tabular}\n"
      ],
      "text/markdown": [
       "\n",
       "A tibble: 6 × 13\n",
       "\n",
       "| Dates &lt;date&gt; | ninth_hour &lt;dbl&gt; | tenth_hour &lt;dbl&gt; | eleventh_hour &lt;dbl&gt; | previous_one_day_ninth_hour &lt;dbl&gt; | previous_one_day_tenth_hour &lt;dbl&gt; | previous_two_day_ninth_hour &lt;dbl&gt; | previous_two_day_tenth_hour &lt;dbl&gt; | previous_one_day_eleventh_hour &lt;dbl&gt; | previous_two_day_eleventh_hour &lt;dbl&gt; | previous_three_day_eleventh_hour &lt;dbl&gt; | previous_four_day_eleventh_hour &lt;dbl&gt; | seven_day_rolling_mean &lt;dbl&gt; |\n",
       "|---|---|---|---|---|---|---|---|---|---|---|---|---|\n",
       "| 2018-01-05 |  97.8 | 100.4 | 102.4 | 106.4 | 104.4 | 110.0 | 111.6 | 109.0 | 114.8 | 106.0 |  88.6 | 100.4571 |\n",
       "| 2018-01-06 |  87.0 |  90.8 |  87.2 |  97.8 | 100.4 | 106.4 | 104.4 | 102.4 | 109.0 | 114.8 | 106.0 | 101.8857 |\n",
       "| 2018-01-07 |  68.8 |  67.0 |  67.6 |  87.0 |  90.8 |  97.8 | 100.4 |  87.2 | 102.4 | 109.0 | 114.8 | 101.8000 |\n",
       "| 2018-01-08 | 110.2 | 113.0 | 116.2 |  68.8 |  67.0 |  87.0 |  90.8 |  67.6 |  87.2 | 102.4 | 109.0 | 102.4286 |\n",
       "| 2018-01-09 | 111.2 | 119.2 | 116.0 | 110.2 | 113.0 |  68.8 |  67.0 | 116.2 |  67.6 |  87.2 | 102.4 | 105.0000 |\n",
       "| 2018-01-10 | 109.0 | 114.6 | 114.2 | 111.2 | 119.2 | 110.2 | 113.0 | 116.0 | 116.2 |  67.6 |  87.2 | 104.6571 |\n",
       "\n"
      ],
      "text/plain": [
       "  Dates      ninth_hour tenth_hour eleventh_hour previous_one_day_ninth_hour\n",
       "1 2018-01-05  97.8      100.4      102.4         106.4                      \n",
       "2 2018-01-06  87.0       90.8       87.2          97.8                      \n",
       "3 2018-01-07  68.8       67.0       67.6          87.0                      \n",
       "4 2018-01-08 110.2      113.0      116.2          68.8                      \n",
       "5 2018-01-09 111.2      119.2      116.0         110.2                      \n",
       "6 2018-01-10 109.0      114.6      114.2         111.2                      \n",
       "  previous_one_day_tenth_hour previous_two_day_ninth_hour\n",
       "1 104.4                       110.0                      \n",
       "2 100.4                       106.4                      \n",
       "3  90.8                        97.8                      \n",
       "4  67.0                        87.0                      \n",
       "5 113.0                        68.8                      \n",
       "6 119.2                       110.2                      \n",
       "  previous_two_day_tenth_hour previous_one_day_eleventh_hour\n",
       "1 111.6                       109.0                         \n",
       "2 104.4                       102.4                         \n",
       "3 100.4                        87.2                         \n",
       "4  90.8                        67.6                         \n",
       "5  67.0                       116.2                         \n",
       "6 113.0                       116.0                         \n",
       "  previous_two_day_eleventh_hour previous_three_day_eleventh_hour\n",
       "1 114.8                          106.0                           \n",
       "2 109.0                          114.8                           \n",
       "3 102.4                          109.0                           \n",
       "4  87.2                          102.4                           \n",
       "5  67.6                           87.2                           \n",
       "6 116.2                           67.6                           \n",
       "  previous_four_day_eleventh_hour seven_day_rolling_mean\n",
       "1  88.6                           100.4571              \n",
       "2 106.0                           101.8857              \n",
       "3 114.8                           101.8000              \n",
       "4 109.0                           102.4286              \n",
       "5 102.4                           105.0000              \n",
       "6  87.2                           104.6571              "
      ]
     },
     "metadata": {},
     "output_type": "display_data"
    }
   ],
   "source": [
    "head(df_full)"
   ]
  },
  {
   "cell_type": "markdown",
   "metadata": {},
   "source": [
    "##### min-max normalization"
   ]
  },
  {
   "cell_type": "code",
   "execution_count": 1414,
   "metadata": {
    "vscode": {
     "languageId": "r"
    }
   },
   "outputs": [],
   "source": [
    "z_score = function(x) {\n",
    "  return((x - mean(x)) / sd(x))\n",
    "}\n",
    "\n",
    "x_value = function(z) {\n",
    "    return((z * sd(df_full$eleventh_hour)) + mean(df_full$eleventh_hour))\n",
    "}"
   ]
  },
  {
   "cell_type": "code",
   "execution_count": 1415,
   "metadata": {
    "vscode": {
     "languageId": "r"
    }
   },
   "outputs": [
    {
     "data": {
      "text/html": [
       "<table class=\"dataframe\">\n",
       "<caption>A data.frame: 6 × 12</caption>\n",
       "<thead>\n",
       "\t<tr><th></th><th scope=col>ninth_hour</th><th scope=col>tenth_hour</th><th scope=col>eleventh_hour</th><th scope=col>previous_one_day_ninth_hour</th><th scope=col>previous_one_day_tenth_hour</th><th scope=col>previous_two_day_ninth_hour</th><th scope=col>previous_two_day_tenth_hour</th><th scope=col>previous_one_day_eleventh_hour</th><th scope=col>previous_two_day_eleventh_hour</th><th scope=col>previous_three_day_eleventh_hour</th><th scope=col>previous_four_day_eleventh_hour</th><th scope=col>seven_day_rolling_mean</th></tr>\n",
       "\t<tr><th></th><th scope=col>&lt;dbl&gt;</th><th scope=col>&lt;dbl&gt;</th><th scope=col>&lt;dbl&gt;</th><th scope=col>&lt;dbl&gt;</th><th scope=col>&lt;dbl&gt;</th><th scope=col>&lt;dbl&gt;</th><th scope=col>&lt;dbl&gt;</th><th scope=col>&lt;dbl&gt;</th><th scope=col>&lt;dbl&gt;</th><th scope=col>&lt;dbl&gt;</th><th scope=col>&lt;dbl&gt;</th><th scope=col>&lt;dbl&gt;</th></tr>\n",
       "</thead>\n",
       "<tbody>\n",
       "\t<tr><th scope=row>1</th><td> 0.1195014</td><td> 0.03251834</td><td>-0.01825154</td><td> 0.5242374</td><td> 0.20233458</td><td> 0.6928496</td><td> 0.51345265</td><td> 0.23797574</td><td> 0.46476076</td><td> 0.11607696</td><td>-0.57010301</td><td>-0.19333463</td></tr>\n",
       "\t<tr><th scope=row>2</th><td>-0.3927135</td><td>-0.38388537</td><td>-0.61654447</td><td> 0.1149376</td><td> 0.02811233</td><td> 0.5215339</td><td> 0.19972808</td><td>-0.02282772</td><td> 0.23545975</td><td> 0.46400311</td><td> 0.11764769</td><td>-0.08242189</td></tr>\n",
       "\t<tr><th scope=row>3</th><td>-1.2558904</td><td>-1.41621956</td><td>-1.38802746</td><td>-0.3990669</td><td>-0.39002107</td><td> 0.1122799</td><td> 0.02543665</td><td>-0.62346598</td><td>-0.02546898</td><td> 0.23468815</td><td> 0.46547562</td><td>-0.08907665</td></tr>\n",
       "\t<tr><th scope=row>4</th><td> 0.7076000</td><td> 0.57904821</td><td> 0.52493546</td><td>-1.2652595</td><td>-1.42664345</td><td>-0.4016670</td><td>-0.39286278</td><td>-1.39797322</td><td>-0.62639576</td><td>-0.02625646</td><td> 0.23622539</td><td>-0.04027505</td></tr>\n",
       "\t<tr><th scope=row>5</th><td> 0.7550273</td><td> 0.84797561</td><td> 0.51706318</td><td> 0.7050908</td><td> 0.57691242</td><td>-1.2677628</td><td>-1.42989677</td><td> 0.52248860</td><td>-1.40127502</td><td>-0.62721980</td><td>-0.02464556</td><td> 0.15936788</td></tr>\n",
       "\t<tr><th scope=row>6</th><td> 0.6506872</td><td> 0.64844883</td><td> 0.44621271</td><td> 0.7526838</td><td> 0.84695691</td><td> 0.7023671</td><td> 0.57445465</td><td> 0.51458547</td><td> 0.52010928</td><td>-1.40214621</td><td>-0.62543927</td><td> 0.13274883</td></tr>\n",
       "</tbody>\n",
       "</table>\n"
      ],
      "text/latex": [
       "A data.frame: 6 × 12\n",
       "\\begin{tabular}{r|llllllllllll}\n",
       "  & ninth\\_hour & tenth\\_hour & eleventh\\_hour & previous\\_one\\_day\\_ninth\\_hour & previous\\_one\\_day\\_tenth\\_hour & previous\\_two\\_day\\_ninth\\_hour & previous\\_two\\_day\\_tenth\\_hour & previous\\_one\\_day\\_eleventh\\_hour & previous\\_two\\_day\\_eleventh\\_hour & previous\\_three\\_day\\_eleventh\\_hour & previous\\_four\\_day\\_eleventh\\_hour & seven\\_day\\_rolling\\_mean\\\\\n",
       "  & <dbl> & <dbl> & <dbl> & <dbl> & <dbl> & <dbl> & <dbl> & <dbl> & <dbl> & <dbl> & <dbl> & <dbl>\\\\\n",
       "\\hline\n",
       "\t1 &  0.1195014 &  0.03251834 & -0.01825154 &  0.5242374 &  0.20233458 &  0.6928496 &  0.51345265 &  0.23797574 &  0.46476076 &  0.11607696 & -0.57010301 & -0.19333463\\\\\n",
       "\t2 & -0.3927135 & -0.38388537 & -0.61654447 &  0.1149376 &  0.02811233 &  0.5215339 &  0.19972808 & -0.02282772 &  0.23545975 &  0.46400311 &  0.11764769 & -0.08242189\\\\\n",
       "\t3 & -1.2558904 & -1.41621956 & -1.38802746 & -0.3990669 & -0.39002107 &  0.1122799 &  0.02543665 & -0.62346598 & -0.02546898 &  0.23468815 &  0.46547562 & -0.08907665\\\\\n",
       "\t4 &  0.7076000 &  0.57904821 &  0.52493546 & -1.2652595 & -1.42664345 & -0.4016670 & -0.39286278 & -1.39797322 & -0.62639576 & -0.02625646 &  0.23622539 & -0.04027505\\\\\n",
       "\t5 &  0.7550273 &  0.84797561 &  0.51706318 &  0.7050908 &  0.57691242 & -1.2677628 & -1.42989677 &  0.52248860 & -1.40127502 & -0.62721980 & -0.02464556 &  0.15936788\\\\\n",
       "\t6 &  0.6506872 &  0.64844883 &  0.44621271 &  0.7526838 &  0.84695691 &  0.7023671 &  0.57445465 &  0.51458547 &  0.52010928 & -1.40214621 & -0.62543927 &  0.13274883\\\\\n",
       "\\end{tabular}\n"
      ],
      "text/markdown": [
       "\n",
       "A data.frame: 6 × 12\n",
       "\n",
       "| <!--/--> | ninth_hour &lt;dbl&gt; | tenth_hour &lt;dbl&gt; | eleventh_hour &lt;dbl&gt; | previous_one_day_ninth_hour &lt;dbl&gt; | previous_one_day_tenth_hour &lt;dbl&gt; | previous_two_day_ninth_hour &lt;dbl&gt; | previous_two_day_tenth_hour &lt;dbl&gt; | previous_one_day_eleventh_hour &lt;dbl&gt; | previous_two_day_eleventh_hour &lt;dbl&gt; | previous_three_day_eleventh_hour &lt;dbl&gt; | previous_four_day_eleventh_hour &lt;dbl&gt; | seven_day_rolling_mean &lt;dbl&gt; |\n",
       "|---|---|---|---|---|---|---|---|---|---|---|---|---|\n",
       "| 1 |  0.1195014 |  0.03251834 | -0.01825154 |  0.5242374 |  0.20233458 |  0.6928496 |  0.51345265 |  0.23797574 |  0.46476076 |  0.11607696 | -0.57010301 | -0.19333463 |\n",
       "| 2 | -0.3927135 | -0.38388537 | -0.61654447 |  0.1149376 |  0.02811233 |  0.5215339 |  0.19972808 | -0.02282772 |  0.23545975 |  0.46400311 |  0.11764769 | -0.08242189 |\n",
       "| 3 | -1.2558904 | -1.41621956 | -1.38802746 | -0.3990669 | -0.39002107 |  0.1122799 |  0.02543665 | -0.62346598 | -0.02546898 |  0.23468815 |  0.46547562 | -0.08907665 |\n",
       "| 4 |  0.7076000 |  0.57904821 |  0.52493546 | -1.2652595 | -1.42664345 | -0.4016670 | -0.39286278 | -1.39797322 | -0.62639576 | -0.02625646 |  0.23622539 | -0.04027505 |\n",
       "| 5 |  0.7550273 |  0.84797561 |  0.51706318 |  0.7050908 |  0.57691242 | -1.2677628 | -1.42989677 |  0.52248860 | -1.40127502 | -0.62721980 | -0.02464556 |  0.15936788 |\n",
       "| 6 |  0.6506872 |  0.64844883 |  0.44621271 |  0.7526838 |  0.84695691 |  0.7023671 |  0.57445465 |  0.51458547 |  0.52010928 | -1.40214621 | -0.62543927 |  0.13274883 |\n",
       "\n"
      ],
      "text/plain": [
       "  ninth_hour tenth_hour  eleventh_hour previous_one_day_ninth_hour\n",
       "1  0.1195014  0.03251834 -0.01825154    0.5242374                 \n",
       "2 -0.3927135 -0.38388537 -0.61654447    0.1149376                 \n",
       "3 -1.2558904 -1.41621956 -1.38802746   -0.3990669                 \n",
       "4  0.7076000  0.57904821  0.52493546   -1.2652595                 \n",
       "5  0.7550273  0.84797561  0.51706318    0.7050908                 \n",
       "6  0.6506872  0.64844883  0.44621271    0.7526838                 \n",
       "  previous_one_day_tenth_hour previous_two_day_ninth_hour\n",
       "1  0.20233458                  0.6928496                 \n",
       "2  0.02811233                  0.5215339                 \n",
       "3 -0.39002107                  0.1122799                 \n",
       "4 -1.42664345                 -0.4016670                 \n",
       "5  0.57691242                 -1.2677628                 \n",
       "6  0.84695691                  0.7023671                 \n",
       "  previous_two_day_tenth_hour previous_one_day_eleventh_hour\n",
       "1  0.51345265                  0.23797574                   \n",
       "2  0.19972808                 -0.02282772                   \n",
       "3  0.02543665                 -0.62346598                   \n",
       "4 -0.39286278                 -1.39797322                   \n",
       "5 -1.42989677                  0.52248860                   \n",
       "6  0.57445465                  0.51458547                   \n",
       "  previous_two_day_eleventh_hour previous_three_day_eleventh_hour\n",
       "1  0.46476076                     0.11607696                     \n",
       "2  0.23545975                     0.46400311                     \n",
       "3 -0.02546898                     0.23468815                     \n",
       "4 -0.62639576                    -0.02625646                     \n",
       "5 -1.40127502                    -0.62721980                     \n",
       "6  0.52010928                    -1.40214621                     \n",
       "  previous_four_day_eleventh_hour seven_day_rolling_mean\n",
       "1 -0.57010301                     -0.19333463           \n",
       "2  0.11764769                     -0.08242189           \n",
       "3  0.46547562                     -0.08907665           \n",
       "4  0.23622539                     -0.04027505           \n",
       "5 -0.02464556                      0.15936788           \n",
       "6 -0.62543927                      0.13274883           "
      ]
     },
     "metadata": {},
     "output_type": "display_data"
    }
   ],
   "source": [
    "df_normalized <- as.data.frame(lapply(df_full[2:13], z_score))\n",
    "head(df_normalized)"
   ]
  },
  {
   "cell_type": "code",
   "execution_count": 1416,
   "metadata": {
    "vscode": {
     "languageId": "r"
    }
   },
   "outputs": [],
   "source": [
    "set.seed(123)\n",
    "df_train <- df_normalized[1:430,]\n",
    "df_test <- df_normalized[431:493,]"
   ]
  },
  {
   "cell_type": "code",
   "execution_count": 1417,
   "metadata": {
    "vscode": {
     "languageId": "r"
    }
   },
   "outputs": [],
   "source": [
    "relevant_pred_stat <- function(true_value, predicted_value, model_kind) {\n",
    "rbind((tibble(truth = true_value,prediction = predicted_value) %>% rmse(truth,prediction) %>% mutate(type = model_kind)),\n",
    "    (tibble(truth = true_value,prediction = predicted_value) %>% mape(truth,prediction) %>% mutate(type = model_kind)),\n",
    "    (tibble(truth = true_value,prediction = predicted_value) %>% mae(truth,prediction) %>% mutate(type = model_kind)))\n",
    "}"
   ]
  },
  {
   "cell_type": "code",
   "execution_count": 1418,
   "metadata": {
    "vscode": {
     "languageId": "r"
    }
   },
   "outputs": [],
   "source": [
    "model_one_hidden_layer = function(arg, hidden_first, activation_fun, learningrate, test_data) {\n",
    "    one_layer_nurelnet = neuralnet(arg,\n",
    "    data=df_train, \n",
    "    hidden = c(hidden_first), \n",
    "    linear.output = TRUE, \n",
    "    act.fct = activation_fun,\n",
    "    learningrate = learningrate\n",
    "    )\n",
    "    results = compute(one_layer_nurelnet, test_data)\n",
    "    truth_column = df_full[431:493, 4]$eleventh_hour\n",
    "    predicted_column =  x_value(results$net.result)[,1]\n",
    "    \n",
    "    relevant_pred_stat(truth_column, predicted_column,\"Two Hidden Layers\") %>% mutate(hidden_layers = paste0(hidden_first), input_set = \"A\")\n",
    "}"
   ]
  },
  {
   "cell_type": "code",
   "execution_count": 1419,
   "metadata": {
    "vscode": {
     "languageId": "r"
    }
   },
   "outputs": [],
   "source": [
    "model_two_hidden_layer = function(arg, hidden_first, hidden_second, activation_fun, learningrate, test_data) {\n",
    "    one_layer_nurelnet = neuralnet(arg,\n",
    "    data=df_train, \n",
    "    hidden = c(hidden_first, hidden_second), \n",
    "    linear.output = TRUE, \n",
    "    act.fct = activation_fun,\n",
    "    learningrate = learningrate\n",
    "    )\n",
    "    results = compute(one_layer_nurelnet, test_data)\n",
    "    truth_column = df_full[431:493, 4]$eleventh_hour\n",
    "    predicted_column =  x_value(results$net.result)[,1]\n",
    "       \n",
    "}"
   ]
  },
  {
   "cell_type": "code",
   "execution_count": 1420,
   "metadata": {
    "vscode": {
     "languageId": "r"
    }
   },
   "outputs": [
    {
     "ename": "ERROR",
     "evalue": "Error in h(simpleError(msg, call)): error in evaluating the argument 'x' in selecting a method for function 'print': non-numeric argument to binary operator\n",
     "output_type": "error",
     "traceback": [
      "Error in h(simpleError(msg, call)): error in evaluating the argument 'x' in selecting a method for function 'print': non-numeric argument to binary operator\nTraceback:\n",
      "1. model_one_hidden_layer(\"eleventh_hour~ninth_hour+tenth_hour+previous_one_day_ninth_hour+previous_one_day_tenth_hour+previous_one_day_eleventh_hour\", \n .     2, \"logistic\", NULL, df_test[, c(1, 2, 4, 5, 8)])",
      "2. print(\"RMSE : \" + rmse(truth_column, predicted_column))   # at line 12 of file <text>",
      "3. .handleSimpleError(function (cond) \n . .Internal(C_tryCatchHelper(addr, 1L, cond)), \"non-numeric argument to binary operator\", \n .     base::quote(\"RMSE : \" + rmse(truth_column, predicted_column)))",
      "4. h(simpleError(msg, call))"
     ]
    }
   ],
   "source": [
    "  model_one_hidden_layer(\n",
    "        \"eleventh_hour~ninth_hour+tenth_hour+previous_one_day_ninth_hour+previous_one_day_tenth_hour+previous_one_day_eleventh_hour\", \n",
    "        2, \n",
    "        \"logistic\", \n",
    "        NULL,\n",
    "        df_test[, c(1, 2, 4, 5, 8)]\n",
    "                        )"
   ]
  },
  {
   "cell_type": "markdown",
   "metadata": {},
   "source": [
    "construct one hidden layer models with fixed all parameters without input sets to evaluate best input set"
   ]
  },
  {
   "cell_type": "code",
   "execution_count": null,
   "metadata": {
    "vscode": {
     "languageId": "r"
    }
   },
   "outputs": [
    {
     "name": "stdout",
     "output_type": "stream",
     "text": [
      "[1] \"RMSE :\"\n",
      "[1] \"RMSE :\"\n",
      "[1] \"RMSE :\"\n",
      "[1] \"RMSE :\"\n",
      "[1] \"RMSE :\"\n",
      "[1] \"RMSE :\"\n",
      "[1] \"RMSE :\"\n",
      "[1] \"RMSE :\"\n",
      "[1] \"RMSE :\"\n",
      "[1] \"RMSE :\"\n"
     ]
    }
   ],
   "source": [
    "neuralnet_first_inset = lapply(1:10, function(n){ \n",
    "    model_one_hidden_layer(\n",
    "        \"eleventh_hour~ninth_hour+tenth_hour+previous_one_day_ninth_hour+previous_one_day_tenth_hour+previous_one_day_eleventh_hour\", \n",
    "        n, \n",
    "        \"logistic\", \n",
    "        NULL,\n",
    "        df_test[, c(1, 2, 4, 5, 8)]\n",
    "                        )\n",
    "    })"
   ]
  }
 ],
 "metadata": {
  "kernelspec": {
   "display_name": "R",
   "language": "R",
   "name": "ir"
  },
  "language_info": {
   "codemirror_mode": "r",
   "file_extension": ".r",
   "mimetype": "text/x-r-source",
   "name": "R",
   "pygments_lexer": "r",
   "version": "4.1.1"
  },
  "orig_nbformat": 4
 },
 "nbformat": 4,
 "nbformat_minor": 2
}
