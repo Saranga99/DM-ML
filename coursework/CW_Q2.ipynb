{
 "cells": [
  {
   "cell_type": "code",
   "execution_count": 1991,
   "metadata": {
    "vscode": {
     "languageId": "r"
    }
   },
   "outputs": [],
   "source": [
    "# install.packages(\"Metrics\")"
   ]
  },
  {
   "cell_type": "code",
   "execution_count": 1992,
   "metadata": {
    "vscode": {
     "languageId": "r"
    }
   },
   "outputs": [],
   "source": [
    "# libraries\n",
    "library(readxl)\n",
    "options(warn = 0)\n",
    "library(tidyverse)\n",
    "library(readxl)\n",
    "library(lubridate)\n",
    "library(zoo)\n",
    "library(readxl)\n",
    "library(neuralnet)\n",
    "library(knitr)\n",
    "library(Metrics)"
   ]
  },
  {
   "cell_type": "code",
   "execution_count": 1993,
   "metadata": {
    "vscode": {
     "languageId": "r"
    }
   },
   "outputs": [
    {
     "data": {
      "text/html": [
       "<table class=\"dataframe\">\n",
       "<caption>A tibble: 6 × 4</caption>\n",
       "<thead>\n",
       "\t<tr><th scope=col>Dates</th><th scope=col>09:00</th><th scope=col>10:00</th><th scope=col>11:00</th></tr>\n",
       "\t<tr><th scope=col>&lt;dttm&gt;</th><th scope=col>&lt;dbl&gt;</th><th scope=col>&lt;dbl&gt;</th><th scope=col>&lt;dbl&gt;</th></tr>\n",
       "</thead>\n",
       "<tbody>\n",
       "\t<tr><td>2018-01-01</td><td> 89.4</td><td> 90.6</td><td> 88.6</td></tr>\n",
       "\t<tr><td>2018-01-02</td><td>108.2</td><td>104.6</td><td>106.0</td></tr>\n",
       "\t<tr><td>2018-01-03</td><td>110.0</td><td>111.6</td><td>114.8</td></tr>\n",
       "\t<tr><td>2018-01-04</td><td>106.4</td><td>104.4</td><td>109.0</td></tr>\n",
       "\t<tr><td>2018-01-05</td><td> 97.8</td><td>100.4</td><td>102.4</td></tr>\n",
       "\t<tr><td>2018-01-06</td><td> 87.0</td><td> 90.8</td><td> 87.2</td></tr>\n",
       "</tbody>\n",
       "</table>\n"
      ],
      "text/latex": [
       "A tibble: 6 × 4\n",
       "\\begin{tabular}{llll}\n",
       " Dates & 09:00 & 10:00 & 11:00\\\\\n",
       " <dttm> & <dbl> & <dbl> & <dbl>\\\\\n",
       "\\hline\n",
       "\t 2018-01-01 &  89.4 &  90.6 &  88.6\\\\\n",
       "\t 2018-01-02 & 108.2 & 104.6 & 106.0\\\\\n",
       "\t 2018-01-03 & 110.0 & 111.6 & 114.8\\\\\n",
       "\t 2018-01-04 & 106.4 & 104.4 & 109.0\\\\\n",
       "\t 2018-01-05 &  97.8 & 100.4 & 102.4\\\\\n",
       "\t 2018-01-06 &  87.0 &  90.8 &  87.2\\\\\n",
       "\\end{tabular}\n"
      ],
      "text/markdown": [
       "\n",
       "A tibble: 6 × 4\n",
       "\n",
       "| Dates &lt;dttm&gt; | 09:00 &lt;dbl&gt; | 10:00 &lt;dbl&gt; | 11:00 &lt;dbl&gt; |\n",
       "|---|---|---|---|\n",
       "| 2018-01-01 |  89.4 |  90.6 |  88.6 |\n",
       "| 2018-01-02 | 108.2 | 104.6 | 106.0 |\n",
       "| 2018-01-03 | 110.0 | 111.6 | 114.8 |\n",
       "| 2018-01-04 | 106.4 | 104.4 | 109.0 |\n",
       "| 2018-01-05 |  97.8 | 100.4 | 102.4 |\n",
       "| 2018-01-06 |  87.0 |  90.8 |  87.2 |\n",
       "\n"
      ],
      "text/plain": [
       "  Dates      09:00 10:00 11:00\n",
       "1 2018-01-01  89.4  90.6  88.6\n",
       "2 2018-01-02 108.2 104.6 106.0\n",
       "3 2018-01-03 110.0 111.6 114.8\n",
       "4 2018-01-04 106.4 104.4 109.0\n",
       "5 2018-01-05  97.8 100.4 102.4\n",
       "6 2018-01-06  87.0  90.8  87.2"
      ]
     },
     "metadata": {},
     "output_type": "display_data"
    }
   ],
   "source": [
    "df <- read_excel(\"data/UOW_load.xlsx\")\n",
    "head(df)"
   ]
  },
  {
   "cell_type": "code",
   "execution_count": 1994,
   "metadata": {
    "vscode": {
     "languageId": "r"
    }
   },
   "outputs": [],
   "source": [
    "df$Dates<-as.Date(df$Dates)"
   ]
  },
  {
   "cell_type": "code",
   "execution_count": 1995,
   "metadata": {
    "vscode": {
     "languageId": "r"
    }
   },
   "outputs": [
    {
     "data": {
      "text/html": [
       "<table class=\"dataframe\">\n",
       "<caption>A tibble: 6 × 4</caption>\n",
       "<thead>\n",
       "\t<tr><th scope=col>Dates</th><th scope=col>ninth_hour</th><th scope=col>tenth_hour</th><th scope=col>eleventh_hour</th></tr>\n",
       "\t<tr><th scope=col>&lt;date&gt;</th><th scope=col>&lt;dbl&gt;</th><th scope=col>&lt;dbl&gt;</th><th scope=col>&lt;dbl&gt;</th></tr>\n",
       "</thead>\n",
       "<tbody>\n",
       "\t<tr><td>2018-01-01</td><td> 89.4</td><td> 90.6</td><td> 88.6</td></tr>\n",
       "\t<tr><td>2018-01-02</td><td>108.2</td><td>104.6</td><td>106.0</td></tr>\n",
       "\t<tr><td>2018-01-03</td><td>110.0</td><td>111.6</td><td>114.8</td></tr>\n",
       "\t<tr><td>2018-01-04</td><td>106.4</td><td>104.4</td><td>109.0</td></tr>\n",
       "\t<tr><td>2018-01-05</td><td> 97.8</td><td>100.4</td><td>102.4</td></tr>\n",
       "\t<tr><td>2018-01-06</td><td> 87.0</td><td> 90.8</td><td> 87.2</td></tr>\n",
       "</tbody>\n",
       "</table>\n"
      ],
      "text/latex": [
       "A tibble: 6 × 4\n",
       "\\begin{tabular}{llll}\n",
       " Dates & ninth\\_hour & tenth\\_hour & eleventh\\_hour\\\\\n",
       " <date> & <dbl> & <dbl> & <dbl>\\\\\n",
       "\\hline\n",
       "\t 2018-01-01 &  89.4 &  90.6 &  88.6\\\\\n",
       "\t 2018-01-02 & 108.2 & 104.6 & 106.0\\\\\n",
       "\t 2018-01-03 & 110.0 & 111.6 & 114.8\\\\\n",
       "\t 2018-01-04 & 106.4 & 104.4 & 109.0\\\\\n",
       "\t 2018-01-05 &  97.8 & 100.4 & 102.4\\\\\n",
       "\t 2018-01-06 &  87.0 &  90.8 &  87.2\\\\\n",
       "\\end{tabular}\n"
      ],
      "text/markdown": [
       "\n",
       "A tibble: 6 × 4\n",
       "\n",
       "| Dates &lt;date&gt; | ninth_hour &lt;dbl&gt; | tenth_hour &lt;dbl&gt; | eleventh_hour &lt;dbl&gt; |\n",
       "|---|---|---|---|\n",
       "| 2018-01-01 |  89.4 |  90.6 |  88.6 |\n",
       "| 2018-01-02 | 108.2 | 104.6 | 106.0 |\n",
       "| 2018-01-03 | 110.0 | 111.6 | 114.8 |\n",
       "| 2018-01-04 | 106.4 | 104.4 | 109.0 |\n",
       "| 2018-01-05 |  97.8 | 100.4 | 102.4 |\n",
       "| 2018-01-06 |  87.0 |  90.8 |  87.2 |\n",
       "\n"
      ],
      "text/plain": [
       "  Dates      ninth_hour tenth_hour eleventh_hour\n",
       "1 2018-01-01  89.4       90.6       88.6        \n",
       "2 2018-01-02 108.2      104.6      106.0        \n",
       "3 2018-01-03 110.0      111.6      114.8        \n",
       "4 2018-01-04 106.4      104.4      109.0        \n",
       "5 2018-01-05  97.8      100.4      102.4        \n",
       "6 2018-01-06  87.0       90.8       87.2        "
      ]
     },
     "metadata": {},
     "output_type": "display_data"
    }
   ],
   "source": [
    "names(df)[2] <- paste(\"ninth_hour\")\n",
    "names(df)[3] <- paste(\"tenth_hour\")\n",
    "names(df)[4] <- paste(\"eleventh_hour\")\n",
    "head(df)"
   ]
  },
  {
   "cell_type": "code",
   "execution_count": 1996,
   "metadata": {
    "vscode": {
     "languageId": "r"
    }
   },
   "outputs": [
    {
     "data": {
      "text/plain": [
       "   ninth_hour       tenth_hour     eleventh_hour   \n",
       " Min.   : 50.40   Min.   : 49.20   Min.   : 48.20  \n",
       " 1st Qu.: 81.55   1st Qu.: 83.00   1st Qu.: 84.75  \n",
       " Median : 97.50   Median :102.80   Median :105.40  \n",
       " Mean   : 95.35   Mean   : 99.63   Mean   :102.83  \n",
       " 3rd Qu.:110.60   3rd Qu.:116.05   3rd Qu.:120.90  \n",
       " Max.   :141.20   Max.   :148.80   Max.   :156.40  "
      ]
     },
     "metadata": {},
     "output_type": "display_data"
    }
   ],
   "source": [
    "summary(df[2:4])"
   ]
  },
  {
   "cell_type": "code",
   "execution_count": 1997,
   "metadata": {
    "vscode": {
     "languageId": "r"
    }
   },
   "outputs": [],
   "source": [
    "# insert all the inputs to the one data frame\n",
    "# creating revious time frame values for autoregressive model \n",
    "df_full = df %>%\n",
    " mutate(\n",
    "    previous_one_day_ninth_hour = lag(df$ninth_hour,1),\n",
    "    previous_one_day_tenth_hour = lag(df$tenth_hour,1),\n",
    "    previous_two_day_ninth_hour = lag(df$ninth_hour,2),\n",
    "    previous_two_day_tenth_hour = lag(df$tenth_hour,2),\n",
    "    previous_one_day_eleventh_hour = lag(df$eleventh_hour,1),\n",
    "    previous_two_day_eleventh_hour = lag(df$eleventh_hour,2),\n",
    "    previous_three_day_eleventh_hour = lag(df$eleventh_hour,3),\n",
    "    previous_four_day_eleventh_hour = lag(df$eleventh_hour,4),\n",
    "    seven_day_rolling_mean = rollmean(eleventh_hour,7, fill = NA)) %>%\n",
    "#Drop null coulumns\n",
    "drop_na()\n"
   ]
  },
  {
   "cell_type": "code",
   "execution_count": 1998,
   "metadata": {
    "vscode": {
     "languageId": "r"
    }
   },
   "outputs": [
    {
     "data": {
      "text/html": [
       "<table class=\"dataframe\">\n",
       "<caption>A tibble: 6 × 13</caption>\n",
       "<thead>\n",
       "\t<tr><th scope=col>Dates</th><th scope=col>ninth_hour</th><th scope=col>tenth_hour</th><th scope=col>eleventh_hour</th><th scope=col>previous_one_day_ninth_hour</th><th scope=col>previous_one_day_tenth_hour</th><th scope=col>previous_two_day_ninth_hour</th><th scope=col>previous_two_day_tenth_hour</th><th scope=col>previous_one_day_eleventh_hour</th><th scope=col>previous_two_day_eleventh_hour</th><th scope=col>previous_three_day_eleventh_hour</th><th scope=col>previous_four_day_eleventh_hour</th><th scope=col>seven_day_rolling_mean</th></tr>\n",
       "\t<tr><th scope=col>&lt;date&gt;</th><th scope=col>&lt;dbl&gt;</th><th scope=col>&lt;dbl&gt;</th><th scope=col>&lt;dbl&gt;</th><th scope=col>&lt;dbl&gt;</th><th scope=col>&lt;dbl&gt;</th><th scope=col>&lt;dbl&gt;</th><th scope=col>&lt;dbl&gt;</th><th scope=col>&lt;dbl&gt;</th><th scope=col>&lt;dbl&gt;</th><th scope=col>&lt;dbl&gt;</th><th scope=col>&lt;dbl&gt;</th><th scope=col>&lt;dbl&gt;</th></tr>\n",
       "</thead>\n",
       "<tbody>\n",
       "\t<tr><td>2018-01-05</td><td> 97.8</td><td>100.4</td><td>102.4</td><td>106.4</td><td>104.4</td><td>110.0</td><td>111.6</td><td>109.0</td><td>114.8</td><td>106.0</td><td> 88.6</td><td>100.4571</td></tr>\n",
       "\t<tr><td>2018-01-06</td><td> 87.0</td><td> 90.8</td><td> 87.2</td><td> 97.8</td><td>100.4</td><td>106.4</td><td>104.4</td><td>102.4</td><td>109.0</td><td>114.8</td><td>106.0</td><td>101.8857</td></tr>\n",
       "\t<tr><td>2018-01-07</td><td> 68.8</td><td> 67.0</td><td> 67.6</td><td> 87.0</td><td> 90.8</td><td> 97.8</td><td>100.4</td><td> 87.2</td><td>102.4</td><td>109.0</td><td>114.8</td><td>101.8000</td></tr>\n",
       "\t<tr><td>2018-01-08</td><td>110.2</td><td>113.0</td><td>116.2</td><td> 68.8</td><td> 67.0</td><td> 87.0</td><td> 90.8</td><td> 67.6</td><td> 87.2</td><td>102.4</td><td>109.0</td><td>102.4286</td></tr>\n",
       "\t<tr><td>2018-01-09</td><td>111.2</td><td>119.2</td><td>116.0</td><td>110.2</td><td>113.0</td><td> 68.8</td><td> 67.0</td><td>116.2</td><td> 67.6</td><td> 87.2</td><td>102.4</td><td>105.0000</td></tr>\n",
       "\t<tr><td>2018-01-10</td><td>109.0</td><td>114.6</td><td>114.2</td><td>111.2</td><td>119.2</td><td>110.2</td><td>113.0</td><td>116.0</td><td>116.2</td><td> 67.6</td><td> 87.2</td><td>104.6571</td></tr>\n",
       "</tbody>\n",
       "</table>\n"
      ],
      "text/latex": [
       "A tibble: 6 × 13\n",
       "\\begin{tabular}{lllllllllllll}\n",
       " Dates & ninth\\_hour & tenth\\_hour & eleventh\\_hour & previous\\_one\\_day\\_ninth\\_hour & previous\\_one\\_day\\_tenth\\_hour & previous\\_two\\_day\\_ninth\\_hour & previous\\_two\\_day\\_tenth\\_hour & previous\\_one\\_day\\_eleventh\\_hour & previous\\_two\\_day\\_eleventh\\_hour & previous\\_three\\_day\\_eleventh\\_hour & previous\\_four\\_day\\_eleventh\\_hour & seven\\_day\\_rolling\\_mean\\\\\n",
       " <date> & <dbl> & <dbl> & <dbl> & <dbl> & <dbl> & <dbl> & <dbl> & <dbl> & <dbl> & <dbl> & <dbl> & <dbl>\\\\\n",
       "\\hline\n",
       "\t 2018-01-05 &  97.8 & 100.4 & 102.4 & 106.4 & 104.4 & 110.0 & 111.6 & 109.0 & 114.8 & 106.0 &  88.6 & 100.4571\\\\\n",
       "\t 2018-01-06 &  87.0 &  90.8 &  87.2 &  97.8 & 100.4 & 106.4 & 104.4 & 102.4 & 109.0 & 114.8 & 106.0 & 101.8857\\\\\n",
       "\t 2018-01-07 &  68.8 &  67.0 &  67.6 &  87.0 &  90.8 &  97.8 & 100.4 &  87.2 & 102.4 & 109.0 & 114.8 & 101.8000\\\\\n",
       "\t 2018-01-08 & 110.2 & 113.0 & 116.2 &  68.8 &  67.0 &  87.0 &  90.8 &  67.6 &  87.2 & 102.4 & 109.0 & 102.4286\\\\\n",
       "\t 2018-01-09 & 111.2 & 119.2 & 116.0 & 110.2 & 113.0 &  68.8 &  67.0 & 116.2 &  67.6 &  87.2 & 102.4 & 105.0000\\\\\n",
       "\t 2018-01-10 & 109.0 & 114.6 & 114.2 & 111.2 & 119.2 & 110.2 & 113.0 & 116.0 & 116.2 &  67.6 &  87.2 & 104.6571\\\\\n",
       "\\end{tabular}\n"
      ],
      "text/markdown": [
       "\n",
       "A tibble: 6 × 13\n",
       "\n",
       "| Dates &lt;date&gt; | ninth_hour &lt;dbl&gt; | tenth_hour &lt;dbl&gt; | eleventh_hour &lt;dbl&gt; | previous_one_day_ninth_hour &lt;dbl&gt; | previous_one_day_tenth_hour &lt;dbl&gt; | previous_two_day_ninth_hour &lt;dbl&gt; | previous_two_day_tenth_hour &lt;dbl&gt; | previous_one_day_eleventh_hour &lt;dbl&gt; | previous_two_day_eleventh_hour &lt;dbl&gt; | previous_three_day_eleventh_hour &lt;dbl&gt; | previous_four_day_eleventh_hour &lt;dbl&gt; | seven_day_rolling_mean &lt;dbl&gt; |\n",
       "|---|---|---|---|---|---|---|---|---|---|---|---|---|\n",
       "| 2018-01-05 |  97.8 | 100.4 | 102.4 | 106.4 | 104.4 | 110.0 | 111.6 | 109.0 | 114.8 | 106.0 |  88.6 | 100.4571 |\n",
       "| 2018-01-06 |  87.0 |  90.8 |  87.2 |  97.8 | 100.4 | 106.4 | 104.4 | 102.4 | 109.0 | 114.8 | 106.0 | 101.8857 |\n",
       "| 2018-01-07 |  68.8 |  67.0 |  67.6 |  87.0 |  90.8 |  97.8 | 100.4 |  87.2 | 102.4 | 109.0 | 114.8 | 101.8000 |\n",
       "| 2018-01-08 | 110.2 | 113.0 | 116.2 |  68.8 |  67.0 |  87.0 |  90.8 |  67.6 |  87.2 | 102.4 | 109.0 | 102.4286 |\n",
       "| 2018-01-09 | 111.2 | 119.2 | 116.0 | 110.2 | 113.0 |  68.8 |  67.0 | 116.2 |  67.6 |  87.2 | 102.4 | 105.0000 |\n",
       "| 2018-01-10 | 109.0 | 114.6 | 114.2 | 111.2 | 119.2 | 110.2 | 113.0 | 116.0 | 116.2 |  67.6 |  87.2 | 104.6571 |\n",
       "\n"
      ],
      "text/plain": [
       "  Dates      ninth_hour tenth_hour eleventh_hour previous_one_day_ninth_hour\n",
       "1 2018-01-05  97.8      100.4      102.4         106.4                      \n",
       "2 2018-01-06  87.0       90.8       87.2          97.8                      \n",
       "3 2018-01-07  68.8       67.0       67.6          87.0                      \n",
       "4 2018-01-08 110.2      113.0      116.2          68.8                      \n",
       "5 2018-01-09 111.2      119.2      116.0         110.2                      \n",
       "6 2018-01-10 109.0      114.6      114.2         111.2                      \n",
       "  previous_one_day_tenth_hour previous_two_day_ninth_hour\n",
       "1 104.4                       110.0                      \n",
       "2 100.4                       106.4                      \n",
       "3  90.8                        97.8                      \n",
       "4  67.0                        87.0                      \n",
       "5 113.0                        68.8                      \n",
       "6 119.2                       110.2                      \n",
       "  previous_two_day_tenth_hour previous_one_day_eleventh_hour\n",
       "1 111.6                       109.0                         \n",
       "2 104.4                       102.4                         \n",
       "3 100.4                        87.2                         \n",
       "4  90.8                        67.6                         \n",
       "5  67.0                       116.2                         \n",
       "6 113.0                       116.0                         \n",
       "  previous_two_day_eleventh_hour previous_three_day_eleventh_hour\n",
       "1 114.8                          106.0                           \n",
       "2 109.0                          114.8                           \n",
       "3 102.4                          109.0                           \n",
       "4  87.2                          102.4                           \n",
       "5  67.6                           87.2                           \n",
       "6 116.2                           67.6                           \n",
       "  previous_four_day_eleventh_hour seven_day_rolling_mean\n",
       "1  88.6                           100.4571              \n",
       "2 106.0                           101.8857              \n",
       "3 114.8                           101.8000              \n",
       "4 109.0                           102.4286              \n",
       "5 102.4                           105.0000              \n",
       "6  87.2                           104.6571              "
      ]
     },
     "metadata": {},
     "output_type": "display_data"
    }
   ],
   "source": [
    "head(df_full)"
   ]
  },
  {
   "cell_type": "markdown",
   "metadata": {},
   "source": [
    "## Input vercors"
   ]
  },
  {
   "cell_type": "code",
   "execution_count": 1999,
   "metadata": {
    "vscode": {
     "languageId": "r"
    }
   },
   "outputs": [
    {
     "data": {
      "image/png": "[encoded data removed]",
      "text/plain": [
       "plot without title"
      ]
     },
     "metadata": {
      "image/png": {
       "height": 420,
       "width": 420
      }
     },
     "output_type": "display_data"
    }
   ],
   "source": [
    "#1st lag\n",
    "df_full %>%\n",
    "pivot_longer(cols = c(2, 3, 5, 6, 9), names_to = \"kind\", values_to = \"energy_level\") %>%\n",
    "ggplot(aes(Dates, energy_level, color = kind)) +\n",
    "geom_line() +\n",
    "facet_wrap(~kind) + theme(axis.text.x = element_text(angle = 45, vjust =\n",
    "0.5, hjust = 1\n",
    ")) +\n",
    "labs(x = \"\",\n",
    "title = \"First Set of Input Variables\") +\n",
    "theme(legend.position = \"none\")\n"
   ]
  },
  {
   "cell_type": "code",
   "execution_count": 2000,
   "metadata": {
    "vscode": {
     "languageId": "r"
    }
   },
   "outputs": [
    {
     "data": {
      "image/png": "[encoded data removed]",
      "text/plain": [
       "plot without title"
      ]
     },
     "metadata": {
      "image/png": {
       "height": 420,
       "width": 420
      }
     },
     "output_type": "display_data"
    }
   ],
   "source": [
    "#2nd lag\n",
    "df_full %>%\n",
    "pivot_longer(cols = c(5, 6, 9, 2, 3, 7, 8, 10), names_to = \"kind\", values_to = \"energy_level\") %>%\n",
    "ggplot(aes(Dates, energy_level, color = kind)) +\n",
    "geom_line() +\n",
    "facet_wrap(~kind) + theme(axis.text.x = element_text(angle = 45, vjust =\n",
    "0.5, hjust = 1\n",
    ")) +\n",
    "labs(x = \"\",\n",
    "title = \"Second Set of Input Variables\") +\n",
    "theme(legend.position = \"none\")"
   ]
  },
  {
   "cell_type": "code",
   "execution_count": 2001,
   "metadata": {
    "vscode": {
     "languageId": "r"
    }
   },
   "outputs": [
    {
     "data": {
      "image/png": "[encoded data removed]",
      "text/plain": [
       "plot without title"
      ]
     },
     "metadata": {
      "image/png": {
       "height": 420,
       "width": 420
      }
     },
     "output_type": "display_data"
    }
   ],
   "source": [
    "#3rd lag\n",
    "df_full %>%\n",
    "pivot_longer(cols = c(9,10,11,13), names_to = \"kind\", values_to = \"energy_level\") %>%\n",
    "ggplot(aes(Dates, energy_level, color = kind)) +\n",
    "geom_line() +\n",
    "facet_wrap(~kind) + theme(axis.text.x = element_text(angle = 45, vjust =\n",
    "0.5, hjust = 1\n",
    ")) +\n",
    "labs(x = \"\",\n",
    "title = \"Third Set of Input Variables\") +\n",
    "theme(legend.position = \"none\")"
   ]
  },
  {
   "cell_type": "code",
   "execution_count": 2002,
   "metadata": {
    "vscode": {
     "languageId": "r"
    }
   },
   "outputs": [
    {
     "data": {
      "image/png": "[encoded data removed]",
      "text/plain": [
       "plot without title"
      ]
     },
     "metadata": {
      "image/png": {
       "height": 420,
       "width": 420
      }
     },
     "output_type": "display_data"
    }
   ],
   "source": [
    "#4thd lag\n",
    "df_full %>%\n",
    "pivot_longer(cols = c(9,10,11,12,13), names_to = \"kind\", values_to = \"energy_level\") %>%\n",
    "ggplot(aes(Dates, energy_level, color = kind)) +\n",
    "geom_line() +\n",
    "facet_wrap(~kind) + theme(axis.text.x = element_text(angle = 45, vjust =\n",
    "0.5, hjust = 1\n",
    ")) +\n",
    "labs(x = \"\",\n",
    "title = \"Forth Set of Input Variables\") +\n",
    "theme(legend.position = \"none\")"
   ]
  },
  {
   "cell_type": "markdown",
   "metadata": {},
   "source": [
    "# Data Normalization"
   ]
  },
  {
   "cell_type": "code",
   "execution_count": 2003,
   "metadata": {
    "vscode": {
     "languageId": "r"
    }
   },
   "outputs": [
    {
     "data": {
      "text/html": [
       "<table class=\"dataframe\">\n",
       "<caption>A tibble: 6 × 13</caption>\n",
       "<thead>\n",
       "\t<tr><th scope=col>Dates</th><th scope=col>ninth_hour</th><th scope=col>tenth_hour</th><th scope=col>eleventh_hour</th><th scope=col>previous_one_day_ninth_hour</th><th scope=col>previous_one_day_tenth_hour</th><th scope=col>previous_two_day_ninth_hour</th><th scope=col>previous_two_day_tenth_hour</th><th scope=col>previous_one_day_eleventh_hour</th><th scope=col>previous_two_day_eleventh_hour</th><th scope=col>previous_three_day_eleventh_hour</th><th scope=col>previous_four_day_eleventh_hour</th><th scope=col>seven_day_rolling_mean</th></tr>\n",
       "\t<tr><th scope=col>&lt;date&gt;</th><th scope=col>&lt;dbl&gt;</th><th scope=col>&lt;dbl&gt;</th><th scope=col>&lt;dbl&gt;</th><th scope=col>&lt;dbl&gt;</th><th scope=col>&lt;dbl&gt;</th><th scope=col>&lt;dbl&gt;</th><th scope=col>&lt;dbl&gt;</th><th scope=col>&lt;dbl&gt;</th><th scope=col>&lt;dbl&gt;</th><th scope=col>&lt;dbl&gt;</th><th scope=col>&lt;dbl&gt;</th><th scope=col>&lt;dbl&gt;</th></tr>\n",
       "</thead>\n",
       "<tbody>\n",
       "\t<tr><td>2018-01-05</td><td> 97.8</td><td>100.4</td><td>102.4</td><td>106.4</td><td>104.4</td><td>110.0</td><td>111.6</td><td>109.0</td><td>114.8</td><td>106.0</td><td> 88.6</td><td>100.4571</td></tr>\n",
       "\t<tr><td>2018-01-06</td><td> 87.0</td><td> 90.8</td><td> 87.2</td><td> 97.8</td><td>100.4</td><td>106.4</td><td>104.4</td><td>102.4</td><td>109.0</td><td>114.8</td><td>106.0</td><td>101.8857</td></tr>\n",
       "\t<tr><td>2018-01-07</td><td> 68.8</td><td> 67.0</td><td> 67.6</td><td> 87.0</td><td> 90.8</td><td> 97.8</td><td>100.4</td><td> 87.2</td><td>102.4</td><td>109.0</td><td>114.8</td><td>101.8000</td></tr>\n",
       "\t<tr><td>2018-01-08</td><td>110.2</td><td>113.0</td><td>116.2</td><td> 68.8</td><td> 67.0</td><td> 87.0</td><td> 90.8</td><td> 67.6</td><td> 87.2</td><td>102.4</td><td>109.0</td><td>102.4286</td></tr>\n",
       "\t<tr><td>2018-01-09</td><td>111.2</td><td>119.2</td><td>116.0</td><td>110.2</td><td>113.0</td><td> 68.8</td><td> 67.0</td><td>116.2</td><td> 67.6</td><td> 87.2</td><td>102.4</td><td>105.0000</td></tr>\n",
       "\t<tr><td>2018-01-10</td><td>109.0</td><td>114.6</td><td>114.2</td><td>111.2</td><td>119.2</td><td>110.2</td><td>113.0</td><td>116.0</td><td>116.2</td><td> 67.6</td><td> 87.2</td><td>104.6571</td></tr>\n",
       "</tbody>\n",
       "</table>\n"
      ],
      "text/latex": [
       "A tibble: 6 × 13\n",
       "\\begin{tabular}{lllllllllllll}\n",
       " Dates & ninth\\_hour & tenth\\_hour & eleventh\\_hour & previous\\_one\\_day\\_ninth\\_hour & previous\\_one\\_day\\_tenth\\_hour & previous\\_two\\_day\\_ninth\\_hour & previous\\_two\\_day\\_tenth\\_hour & previous\\_one\\_day\\_eleventh\\_hour & previous\\_two\\_day\\_eleventh\\_hour & previous\\_three\\_day\\_eleventh\\_hour & previous\\_four\\_day\\_eleventh\\_hour & seven\\_day\\_rolling\\_mean\\\\\n",
       " <date> & <dbl> & <dbl> & <dbl> & <dbl> & <dbl> & <dbl> & <dbl> & <dbl> & <dbl> & <dbl> & <dbl> & <dbl>\\\\\n",
       "\\hline\n",
       "\t 2018-01-05 &  97.8 & 100.4 & 102.4 & 106.4 & 104.4 & 110.0 & 111.6 & 109.0 & 114.8 & 106.0 &  88.6 & 100.4571\\\\\n",
       "\t 2018-01-06 &  87.0 &  90.8 &  87.2 &  97.8 & 100.4 & 106.4 & 104.4 & 102.4 & 109.0 & 114.8 & 106.0 & 101.8857\\\\\n",
       "\t 2018-01-07 &  68.8 &  67.0 &  67.6 &  87.0 &  90.8 &  97.8 & 100.4 &  87.2 & 102.4 & 109.0 & 114.8 & 101.8000\\\\\n",
       "\t 2018-01-08 & 110.2 & 113.0 & 116.2 &  68.8 &  67.0 &  87.0 &  90.8 &  67.6 &  87.2 & 102.4 & 109.0 & 102.4286\\\\\n",
       "\t 2018-01-09 & 111.2 & 119.2 & 116.0 & 110.2 & 113.0 &  68.8 &  67.0 & 116.2 &  67.6 &  87.2 & 102.4 & 105.0000\\\\\n",
       "\t 2018-01-10 & 109.0 & 114.6 & 114.2 & 111.2 & 119.2 & 110.2 & 113.0 & 116.0 & 116.2 &  67.6 &  87.2 & 104.6571\\\\\n",
       "\\end{tabular}\n"
      ],
      "text/markdown": [
       "\n",
       "A tibble: 6 × 13\n",
       "\n",
       "| Dates &lt;date&gt; | ninth_hour &lt;dbl&gt; | tenth_hour &lt;dbl&gt; | eleventh_hour &lt;dbl&gt; | previous_one_day_ninth_hour &lt;dbl&gt; | previous_one_day_tenth_hour &lt;dbl&gt; | previous_two_day_ninth_hour &lt;dbl&gt; | previous_two_day_tenth_hour &lt;dbl&gt; | previous_one_day_eleventh_hour &lt;dbl&gt; | previous_two_day_eleventh_hour &lt;dbl&gt; | previous_three_day_eleventh_hour &lt;dbl&gt; | previous_four_day_eleventh_hour &lt;dbl&gt; | seven_day_rolling_mean &lt;dbl&gt; |\n",
       "|---|---|---|---|---|---|---|---|---|---|---|---|---|\n",
       "| 2018-01-05 |  97.8 | 100.4 | 102.4 | 106.4 | 104.4 | 110.0 | 111.6 | 109.0 | 114.8 | 106.0 |  88.6 | 100.4571 |\n",
       "| 2018-01-06 |  87.0 |  90.8 |  87.2 |  97.8 | 100.4 | 106.4 | 104.4 | 102.4 | 109.0 | 114.8 | 106.0 | 101.8857 |\n",
       "| 2018-01-07 |  68.8 |  67.0 |  67.6 |  87.0 |  90.8 |  97.8 | 100.4 |  87.2 | 102.4 | 109.0 | 114.8 | 101.8000 |\n",
       "| 2018-01-08 | 110.2 | 113.0 | 116.2 |  68.8 |  67.0 |  87.0 |  90.8 |  67.6 |  87.2 | 102.4 | 109.0 | 102.4286 |\n",
       "| 2018-01-09 | 111.2 | 119.2 | 116.0 | 110.2 | 113.0 |  68.8 |  67.0 | 116.2 |  67.6 |  87.2 | 102.4 | 105.0000 |\n",
       "| 2018-01-10 | 109.0 | 114.6 | 114.2 | 111.2 | 119.2 | 110.2 | 113.0 | 116.0 | 116.2 |  67.6 |  87.2 | 104.6571 |\n",
       "\n"
      ],
      "text/plain": [
       "  Dates      ninth_hour tenth_hour eleventh_hour previous_one_day_ninth_hour\n",
       "1 2018-01-05  97.8      100.4      102.4         106.4                      \n",
       "2 2018-01-06  87.0       90.8       87.2          97.8                      \n",
       "3 2018-01-07  68.8       67.0       67.6          87.0                      \n",
       "4 2018-01-08 110.2      113.0      116.2          68.8                      \n",
       "5 2018-01-09 111.2      119.2      116.0         110.2                      \n",
       "6 2018-01-10 109.0      114.6      114.2         111.2                      \n",
       "  previous_one_day_tenth_hour previous_two_day_ninth_hour\n",
       "1 104.4                       110.0                      \n",
       "2 100.4                       106.4                      \n",
       "3  90.8                        97.8                      \n",
       "4  67.0                        87.0                      \n",
       "5 113.0                        68.8                      \n",
       "6 119.2                       110.2                      \n",
       "  previous_two_day_tenth_hour previous_one_day_eleventh_hour\n",
       "1 111.6                       109.0                         \n",
       "2 104.4                       102.4                         \n",
       "3 100.4                        87.2                         \n",
       "4  90.8                        67.6                         \n",
       "5  67.0                       116.2                         \n",
       "6 113.0                       116.0                         \n",
       "  previous_two_day_eleventh_hour previous_three_day_eleventh_hour\n",
       "1 114.8                          106.0                           \n",
       "2 109.0                          114.8                           \n",
       "3 102.4                          109.0                           \n",
       "4  87.2                          102.4                           \n",
       "5  67.6                           87.2                           \n",
       "6 116.2                           67.6                           \n",
       "  previous_four_day_eleventh_hour seven_day_rolling_mean\n",
       "1  88.6                           100.4571              \n",
       "2 106.0                           101.8857              \n",
       "3 114.8                           101.8000              \n",
       "4 109.0                           102.4286              \n",
       "5 102.4                           105.0000              \n",
       "6  87.2                           104.6571              "
      ]
     },
     "metadata": {},
     "output_type": "display_data"
    }
   ],
   "source": [
    "head(df_full)"
   ]
  },
  {
   "cell_type": "markdown",
   "metadata": {},
   "source": [
    "##### min-max normalization"
   ]
  },
  {
   "cell_type": "code",
   "execution_count": 2004,
   "metadata": {
    "vscode": {
     "languageId": "r"
    }
   },
   "outputs": [],
   "source": [
    "min_max_normalize <- function(x) {\n",
    "return ((x - min(x)) / (max(x) - min(x))) }\n",
    "\n",
    "\n",
    "unnormalize_eleventh_hour <- function(x) {\n",
    "return( (max(df_full$eleventh_hour) - min(df_full$eleventh_hour))*x + min(df_full$eleventh_hour)) }\n"
   ]
  },
  {
   "cell_type": "code",
   "execution_count": 2005,
   "metadata": {
    "vscode": {
     "languageId": "r"
    }
   },
   "outputs": [
    {
     "data": {
      "text/html": [
       "<table class=\"dataframe\">\n",
       "<caption>A data.frame: 6 × 12</caption>\n",
       "<thead>\n",
       "\t<tr><th></th><th scope=col>ninth_hour</th><th scope=col>tenth_hour</th><th scope=col>eleventh_hour</th><th scope=col>previous_one_day_ninth_hour</th><th scope=col>previous_one_day_tenth_hour</th><th scope=col>previous_two_day_ninth_hour</th><th scope=col>previous_two_day_tenth_hour</th><th scope=col>previous_one_day_eleventh_hour</th><th scope=col>previous_two_day_eleventh_hour</th><th scope=col>previous_three_day_eleventh_hour</th><th scope=col>previous_four_day_eleventh_hour</th><th scope=col>seven_day_rolling_mean</th></tr>\n",
       "\t<tr><th></th><th scope=col>&lt;dbl&gt;</th><th scope=col>&lt;dbl&gt;</th><th scope=col>&lt;dbl&gt;</th><th scope=col>&lt;dbl&gt;</th><th scope=col>&lt;dbl&gt;</th><th scope=col>&lt;dbl&gt;</th><th scope=col>&lt;dbl&gt;</th><th scope=col>&lt;dbl&gt;</th><th scope=col>&lt;dbl&gt;</th><th scope=col>&lt;dbl&gt;</th><th scope=col>&lt;dbl&gt;</th><th scope=col>&lt;dbl&gt;</th></tr>\n",
       "</thead>\n",
       "<tbody>\n",
       "\t<tr><th scope=row>1</th><td>0.5220264</td><td>0.5140562</td><td>0.5009242</td><td>0.6167401</td><td>0.5542169</td><td>0.6563877</td><td>0.6265060</td><td>0.5619224</td><td>0.6155268</td><td>0.5341959</td><td>0.3733826</td><td>0.5036425</td></tr>\n",
       "\t<tr><th scope=row>2</th><td>0.4030837</td><td>0.4176707</td><td>0.3604436</td><td>0.5220264</td><td>0.5140562</td><td>0.6167401</td><td>0.5542169</td><td>0.5009242</td><td>0.5619224</td><td>0.6155268</td><td>0.5341959</td><td>0.5279262</td></tr>\n",
       "\t<tr><th scope=row>3</th><td>0.2026432</td><td>0.1787149</td><td>0.1792976</td><td>0.4030837</td><td>0.4176707</td><td>0.5220264</td><td>0.5140562</td><td>0.3604436</td><td>0.5009242</td><td>0.5619224</td><td>0.6155268</td><td>0.5264692</td></tr>\n",
       "\t<tr><th scope=row>4</th><td>0.6585903</td><td>0.6405622</td><td>0.6284658</td><td>0.2026432</td><td>0.1787149</td><td>0.4030837</td><td>0.4176707</td><td>0.1792976</td><td>0.3604436</td><td>0.5009242</td><td>0.5619224</td><td>0.5371540</td></tr>\n",
       "\t<tr><th scope=row>5</th><td>0.6696035</td><td>0.7028112</td><td>0.6266174</td><td>0.6585903</td><td>0.6405622</td><td>0.2026432</td><td>0.1787149</td><td>0.6284658</td><td>0.1792976</td><td>0.3604436</td><td>0.5009242</td><td>0.5808645</td></tr>\n",
       "\t<tr><th scope=row>6</th><td>0.6453744</td><td>0.6566265</td><td>0.6099815</td><td>0.6696035</td><td>0.7028112</td><td>0.6585903</td><td>0.6405622</td><td>0.6266174</td><td>0.6284658</td><td>0.1792976</td><td>0.3604436</td><td>0.5750364</td></tr>\n",
       "</tbody>\n",
       "</table>\n"
      ],
      "text/latex": [
       "A data.frame: 6 × 12\n",
       "\\begin{tabular}{r|llllllllllll}\n",
       "  & ninth\\_hour & tenth\\_hour & eleventh\\_hour & previous\\_one\\_day\\_ninth\\_hour & previous\\_one\\_day\\_tenth\\_hour & previous\\_two\\_day\\_ninth\\_hour & previous\\_two\\_day\\_tenth\\_hour & previous\\_one\\_day\\_eleventh\\_hour & previous\\_two\\_day\\_eleventh\\_hour & previous\\_three\\_day\\_eleventh\\_hour & previous\\_four\\_day\\_eleventh\\_hour & seven\\_day\\_rolling\\_mean\\\\\n",
       "  & <dbl> & <dbl> & <dbl> & <dbl> & <dbl> & <dbl> & <dbl> & <dbl> & <dbl> & <dbl> & <dbl> & <dbl>\\\\\n",
       "\\hline\n",
       "\t1 & 0.5220264 & 0.5140562 & 0.5009242 & 0.6167401 & 0.5542169 & 0.6563877 & 0.6265060 & 0.5619224 & 0.6155268 & 0.5341959 & 0.3733826 & 0.5036425\\\\\n",
       "\t2 & 0.4030837 & 0.4176707 & 0.3604436 & 0.5220264 & 0.5140562 & 0.6167401 & 0.5542169 & 0.5009242 & 0.5619224 & 0.6155268 & 0.5341959 & 0.5279262\\\\\n",
       "\t3 & 0.2026432 & 0.1787149 & 0.1792976 & 0.4030837 & 0.4176707 & 0.5220264 & 0.5140562 & 0.3604436 & 0.5009242 & 0.5619224 & 0.6155268 & 0.5264692\\\\\n",
       "\t4 & 0.6585903 & 0.6405622 & 0.6284658 & 0.2026432 & 0.1787149 & 0.4030837 & 0.4176707 & 0.1792976 & 0.3604436 & 0.5009242 & 0.5619224 & 0.5371540\\\\\n",
       "\t5 & 0.6696035 & 0.7028112 & 0.6266174 & 0.6585903 & 0.6405622 & 0.2026432 & 0.1787149 & 0.6284658 & 0.1792976 & 0.3604436 & 0.5009242 & 0.5808645\\\\\n",
       "\t6 & 0.6453744 & 0.6566265 & 0.6099815 & 0.6696035 & 0.7028112 & 0.6585903 & 0.6405622 & 0.6266174 & 0.6284658 & 0.1792976 & 0.3604436 & 0.5750364\\\\\n",
       "\\end{tabular}\n"
      ],
      "text/markdown": [
       "\n",
       "A data.frame: 6 × 12\n",
       "\n",
       "| <!--/--> | ninth_hour &lt;dbl&gt; | tenth_hour &lt;dbl&gt; | eleventh_hour &lt;dbl&gt; | previous_one_day_ninth_hour &lt;dbl&gt; | previous_one_day_tenth_hour &lt;dbl&gt; | previous_two_day_ninth_hour &lt;dbl&gt; | previous_two_day_tenth_hour &lt;dbl&gt; | previous_one_day_eleventh_hour &lt;dbl&gt; | previous_two_day_eleventh_hour &lt;dbl&gt; | previous_three_day_eleventh_hour &lt;dbl&gt; | previous_four_day_eleventh_hour &lt;dbl&gt; | seven_day_rolling_mean &lt;dbl&gt; |\n",
       "|---|---|---|---|---|---|---|---|---|---|---|---|---|\n",
       "| 1 | 0.5220264 | 0.5140562 | 0.5009242 | 0.6167401 | 0.5542169 | 0.6563877 | 0.6265060 | 0.5619224 | 0.6155268 | 0.5341959 | 0.3733826 | 0.5036425 |\n",
       "| 2 | 0.4030837 | 0.4176707 | 0.3604436 | 0.5220264 | 0.5140562 | 0.6167401 | 0.5542169 | 0.5009242 | 0.5619224 | 0.6155268 | 0.5341959 | 0.5279262 |\n",
       "| 3 | 0.2026432 | 0.1787149 | 0.1792976 | 0.4030837 | 0.4176707 | 0.5220264 | 0.5140562 | 0.3604436 | 0.5009242 | 0.5619224 | 0.6155268 | 0.5264692 |\n",
       "| 4 | 0.6585903 | 0.6405622 | 0.6284658 | 0.2026432 | 0.1787149 | 0.4030837 | 0.4176707 | 0.1792976 | 0.3604436 | 0.5009242 | 0.5619224 | 0.5371540 |\n",
       "| 5 | 0.6696035 | 0.7028112 | 0.6266174 | 0.6585903 | 0.6405622 | 0.2026432 | 0.1787149 | 0.6284658 | 0.1792976 | 0.3604436 | 0.5009242 | 0.5808645 |\n",
       "| 6 | 0.6453744 | 0.6566265 | 0.6099815 | 0.6696035 | 0.7028112 | 0.6585903 | 0.6405622 | 0.6266174 | 0.6284658 | 0.1792976 | 0.3604436 | 0.5750364 |\n",
       "\n"
      ],
      "text/plain": [
       "  ninth_hour tenth_hour eleventh_hour previous_one_day_ninth_hour\n",
       "1 0.5220264  0.5140562  0.5009242     0.6167401                  \n",
       "2 0.4030837  0.4176707  0.3604436     0.5220264                  \n",
       "3 0.2026432  0.1787149  0.1792976     0.4030837                  \n",
       "4 0.6585903  0.6405622  0.6284658     0.2026432                  \n",
       "5 0.6696035  0.7028112  0.6266174     0.6585903                  \n",
       "6 0.6453744  0.6566265  0.6099815     0.6696035                  \n",
       "  previous_one_day_tenth_hour previous_two_day_ninth_hour\n",
       "1 0.5542169                   0.6563877                  \n",
       "2 0.5140562                   0.6167401                  \n",
       "3 0.4176707                   0.5220264                  \n",
       "4 0.1787149                   0.4030837                  \n",
       "5 0.6405622                   0.2026432                  \n",
       "6 0.7028112                   0.6585903                  \n",
       "  previous_two_day_tenth_hour previous_one_day_eleventh_hour\n",
       "1 0.6265060                   0.5619224                     \n",
       "2 0.5542169                   0.5009242                     \n",
       "3 0.5140562                   0.3604436                     \n",
       "4 0.4176707                   0.1792976                     \n",
       "5 0.1787149                   0.6284658                     \n",
       "6 0.6405622                   0.6266174                     \n",
       "  previous_two_day_eleventh_hour previous_three_day_eleventh_hour\n",
       "1 0.6155268                      0.5341959                       \n",
       "2 0.5619224                      0.6155268                       \n",
       "3 0.5009242                      0.5619224                       \n",
       "4 0.3604436                      0.5009242                       \n",
       "5 0.1792976                      0.3604436                       \n",
       "6 0.6284658                      0.1792976                       \n",
       "  previous_four_day_eleventh_hour seven_day_rolling_mean\n",
       "1 0.3733826                       0.5036425             \n",
       "2 0.5341959                       0.5279262             \n",
       "3 0.6155268                       0.5264692             \n",
       "4 0.5619224                       0.5371540             \n",
       "5 0.5009242                       0.5808645             \n",
       "6 0.3604436                       0.5750364             "
      ]
     },
     "metadata": {},
     "output_type": "display_data"
    }
   ],
   "source": [
    "df_normalized <- as.data.frame(lapply(df_full[2:13], min_max_normalize))\n",
    "head(df_normalized)"
   ]
  },
  {
   "cell_type": "code",
   "execution_count": 2006,
   "metadata": {
    "vscode": {
     "languageId": "r"
    }
   },
   "outputs": [],
   "source": [
    "set.seed(123)\n",
    "df_train <- df_normalized[1:430,]\n",
    "df_test <- df_normalized[431:493,]"
   ]
  },
  {
   "cell_type": "code",
   "execution_count": 2007,
   "metadata": {
    "vscode": {
     "languageId": "r"
    }
   },
   "outputs": [],
   "source": [
    "relevant_pred_stat <- function(true_value, predicted_value, model_kind) {\n",
    "rbind((tibble(truth = true_value,prediction = predicted_value) %>% rmse(truth,prediction) %>% mutate(type = model_kind)),\n",
    "    (tibble(truth = true_value,prediction = predicted_value) %>% mape(truth,prediction) %>% mutate(type = model_kind)),\n",
    "    (tibble(truth = true_value,prediction = predicted_value) %>% mae(truth,prediction) %>% mutate(type = model_kind)))\n",
    "}"
   ]
  },
  {
   "cell_type": "code",
   "execution_count": 2008,
   "metadata": {
    "vscode": {
     "languageId": "r"
    }
   },
   "outputs": [],
   "source": [
    "model_one_hidden_layer = function(arg, hidden_first, activation_fun, learning_rate, test_data, model_type) {\n",
    "    one_layer_nurelnet = neuralnet(arg,\n",
    "    data=df_train, \n",
    "    hidden = c(hidden_first), \n",
    "    linear.output = TRUE, \n",
    "    act.fct = activation_fun,\n",
    "    learningrate = learning_rate\n",
    "    )\n",
    "    results = compute(one_layer_nurelnet, test_data)\n",
    "    truth_column = df_full[431:493, 4]$eleventh_hour\n",
    "    predicted_column =  unnormalize_eleventh_hour(results$net.result)[,1]\n",
    "    \n",
    "    results <- data.frame(\n",
    "        model_type = model_type, \n",
    "        hidden_layers = hidden_first, \n",
    "        RMSE = rmse(truth_column,predicted_column), \n",
    "        MAE = mae(truth_column, predicted_column), \n",
    "        MAPE =mape(truth_column, predicted_column),\n",
    "        act_function = activation_fun,\n",
    "        learning_rate = learning_rate)\n",
    "}"
   ]
  },
  {
   "cell_type": "code",
   "execution_count": 2009,
   "metadata": {
    "vscode": {
     "languageId": "r"
    }
   },
   "outputs": [],
   "source": [
    "model_two_hidden_layer = function(arg, hidden_first, hidden_second, activation_fun, learning_rate, test_data, model_type) {\n",
    "    one_layer_nurelnet = neuralnet(arg,\n",
    "    data=df_train, \n",
    "    hidden = c(hidden_first, hidden_second), \n",
    "    linear.output = TRUE, \n",
    "    act.fct = activation_fun,\n",
    "    learningrate = learning_rate\n",
    "    )\n",
    "    results = compute(one_layer_nurelnet, test_data)\n",
    "    truth_column = df_full[431:493, 4]$eleventh_hour\n",
    "    predicted_column =  unnormalize_eleventh_hour(results$net.result)[,1]\n",
    "\n",
    "    results <- data.frame(\n",
    "        model_type = model_type, \n",
    "        hidden_layers = hidden_first, \n",
    "        RMSE = rmse(truth_column,predicted_column), \n",
    "        MAE = mae(truth_column, predicted_column), \n",
    "        MAPE =mape(truth_column, predicted_column),\n",
    "        act_function = activation_fun,\n",
    "        learning_rate = learning_rate)    \n",
    "}"
   ]
  },
  {
   "cell_type": "markdown",
   "metadata": {},
   "source": [
    "# Single Layer Neural Networks with different input sets and neurons"
   ]
  },
  {
   "cell_type": "markdown",
   "metadata": {},
   "source": [
    "1st lag"
   ]
  },
  {
   "cell_type": "code",
   "execution_count": 2010,
   "metadata": {
    "vscode": {
     "languageId": "r"
    }
   },
   "outputs": [],
   "source": [
    "set.seed(12345)"
   ]
  },
  {
   "cell_type": "code",
   "execution_count": 2011,
   "metadata": {
    "vscode": {
     "languageId": "r"
    }
   },
   "outputs": [
    {
     "data": {
      "text/plain": [
       "\n",
       "\n",
       "|model_type                   | hidden_layers|   RMSE|      MAE|      MAPE|act_function | learning_rate|\n",
       "|:----------------------------|-------------:|------:|--------:|---------:|:------------|-------------:|\n",
       "|First Set of Input Variables |             1| 4.5104| 3.176271| 0.0322746|logistic     |          0.01|\n",
       "\n",
       "|model_type                   | hidden_layers|    RMSE|      MAE|      MAPE|act_function | learning_rate|\n",
       "|:----------------------------|-------------:|-------:|--------:|---------:|:------------|-------------:|\n",
       "|First Set of Input Variables |             2| 4.39635| 3.015967| 0.0298124|logistic     |          0.01|\n",
       "\n",
       "|model_type                   | hidden_layers|    RMSE|      MAE|      MAPE|act_function | learning_rate|\n",
       "|:----------------------------|-------------:|-------:|--------:|---------:|:------------|-------------:|\n",
       "|First Set of Input Variables |             3| 4.36997| 2.962272| 0.0289265|logistic     |          0.01|\n",
       "\n",
       "|model_type                   | hidden_layers|     RMSE|      MAE|      MAPE|act_function | learning_rate|\n",
       "|:----------------------------|-------------:|--------:|--------:|---------:|:------------|-------------:|\n",
       "|First Set of Input Variables |             4| 4.379195| 2.978004| 0.0292111|logistic     |          0.01|\n",
       "\n",
       "|model_type                   | hidden_layers|    RMSE|      MAE|      MAPE|act_function | learning_rate|\n",
       "|:----------------------------|-------------:|-------:|--------:|---------:|:------------|-------------:|\n",
       "|First Set of Input Variables |             5| 4.58012| 3.205595| 0.0324052|logistic     |          0.01|\n",
       "\n",
       "|model_type                   | hidden_layers|     RMSE|      MAE|      MAPE|act_function | learning_rate|\n",
       "|:----------------------------|-------------:|--------:|--------:|---------:|:------------|-------------:|\n",
       "|First Set of Input Variables |             6| 4.427314| 3.006772| 0.0295682|logistic     |          0.01|\n",
       "\n",
       "|model_type                   | hidden_layers|     RMSE|      MAE|     MAPE|act_function | learning_rate|\n",
       "|:----------------------------|-------------:|--------:|--------:|--------:|:------------|-------------:|\n",
       "|First Set of Input Variables |             7| 4.504263| 3.123514| 0.031588|logistic     |          0.01|\n",
       "\n",
       "|model_type                   | hidden_layers|     RMSE|      MAE|      MAPE|act_function | learning_rate|\n",
       "|:----------------------------|-------------:|--------:|--------:|---------:|:------------|-------------:|\n",
       "|First Set of Input Variables |             8| 4.244565| 2.925624| 0.0279183|logistic     |          0.01|\n",
       "\n",
       "|model_type                   | hidden_layers|     RMSE|      MAE|      MAPE|act_function | learning_rate|\n",
       "|:----------------------------|-------------:|--------:|--------:|---------:|:------------|-------------:|\n",
       "|First Set of Input Variables |             9| 4.464161| 3.055865| 0.0301807|logistic     |          0.01|\n",
       "\n",
       "|model_type                   | hidden_layers|     RMSE|      MAE|      MAPE|act_function | learning_rate|\n",
       "|:----------------------------|-------------:|--------:|--------:|---------:|:------------|-------------:|\n",
       "|First Set of Input Variables |            10| 4.378542| 3.032207| 0.0295543|logistic     |          0.01|"
      ]
     },
     "metadata": {},
     "output_type": "display_data"
    }
   ],
   "source": [
    "neuralnet_first_inset = lapply(1:10, function(n){ \n",
    "    model_one_hidden_layer(\n",
    "        \"eleventh_hour~ninth_hour+tenth_hour+previous_one_day_ninth_hour+previous_one_day_tenth_hour+previous_one_day_eleventh_hour\", \n",
    "        n, \n",
    "        \"logistic\", \n",
    "        0.01,\n",
    "        df_test[, c(1, 2, 4, 5, 8)],\n",
    "        \"First Set of Input Variables\"\n",
    "                        )\n",
    "    })\n",
    "kable(neuralnet_first_inset[])"
   ]
  },
  {
   "cell_type": "markdown",
   "metadata": {},
   "source": [
    "2nd lag"
   ]
  },
  {
   "cell_type": "code",
   "execution_count": 2012,
   "metadata": {
    "vscode": {
     "languageId": "r"
    }
   },
   "outputs": [],
   "source": [
    "set.seed(12345)"
   ]
  },
  {
   "cell_type": "code",
   "execution_count": 2013,
   "metadata": {
    "vscode": {
     "languageId": "r"
    }
   },
   "outputs": [
    {
     "data": {
      "text/plain": [
       "\n",
       "\n",
       "|model_type                    | hidden_layers|     RMSE|      MAE|      MAPE|act_function | learning_rate|\n",
       "|:-----------------------------|-------------:|--------:|--------:|---------:|:------------|-------------:|\n",
       "|Second Set of Input Variables |             1| 7.687926| 5.409914| 0.0552789|logistic     |          0.01|\n",
       "\n",
       "|model_type                    | hidden_layers|     RMSE|      MAE|      MAPE|act_function | learning_rate|\n",
       "|:-----------------------------|-------------:|--------:|--------:|---------:|:------------|-------------:|\n",
       "|Second Set of Input Variables |             2| 9.244592| 5.820556| 0.0553525|logistic     |          0.01|\n",
       "\n",
       "|model_type                    | hidden_layers|    RMSE|      MAE|      MAPE|act_function | learning_rate|\n",
       "|:-----------------------------|-------------:|-------:|--------:|---------:|:------------|-------------:|\n",
       "|Second Set of Input Variables |             3| 9.34821| 6.553755| 0.0651112|logistic     |          0.01|\n",
       "\n",
       "|model_type                    | hidden_layers|     RMSE|      MAE|      MAPE|act_function | learning_rate|\n",
       "|:-----------------------------|-------------:|--------:|--------:|---------:|:------------|-------------:|\n",
       "|Second Set of Input Variables |             4| 7.133445| 4.941435| 0.0512311|logistic     |          0.01|\n",
       "\n",
       "|model_type                    | hidden_layers|     RMSE|      MAE|      MAPE|act_function | learning_rate|\n",
       "|:-----------------------------|-------------:|--------:|--------:|---------:|:------------|-------------:|\n",
       "|Second Set of Input Variables |             5| 7.701235| 4.991362| 0.0495202|logistic     |          0.01|\n",
       "\n",
       "|model_type                    | hidden_layers|    RMSE|      MAE|    MAPE|act_function | learning_rate|\n",
       "|:-----------------------------|-------------:|-------:|--------:|-------:|:------------|-------------:|\n",
       "|Second Set of Input Variables |             6| 9.12191| 6.371055| 0.06336|logistic     |          0.01|\n",
       "\n",
       "|model_type                    | hidden_layers|     RMSE|      MAE|      MAPE|act_function | learning_rate|\n",
       "|:-----------------------------|-------------:|--------:|--------:|---------:|:------------|-------------:|\n",
       "|Second Set of Input Variables |             7| 8.044471| 5.587235| 0.0556018|logistic     |          0.01|\n",
       "\n",
       "|model_type                    | hidden_layers|     RMSE|     MAE|      MAPE|act_function | learning_rate|\n",
       "|:-----------------------------|-------------:|--------:|-------:|---------:|:------------|-------------:|\n",
       "|Second Set of Input Variables |             8| 10.16588| 6.73954| 0.0624526|logistic     |          0.01|\n",
       "\n",
       "|model_type                    | hidden_layers|     RMSE|      MAE|      MAPE|act_function | learning_rate|\n",
       "|:-----------------------------|-------------:|--------:|--------:|---------:|:------------|-------------:|\n",
       "|Second Set of Input Variables |             9| 10.31053| 6.522221| 0.0602145|logistic     |          0.01|\n",
       "\n",
       "|model_type                    | hidden_layers|     RMSE|      MAE|     MAPE|act_function | learning_rate|\n",
       "|:-----------------------------|-------------:|--------:|--------:|--------:|:------------|-------------:|\n",
       "|Second Set of Input Variables |            10| 8.050799| 5.585511| 0.054712|logistic     |          0.01|"
      ]
     },
     "metadata": {},
     "output_type": "display_data"
    }
   ],
   "source": [
    "neuralnet_second_inset = lapply(1:10, function(n){ \n",
    "    model_one_hidden_layer(\n",
    "        \"eleventh_hour~ninth_hour+tenth_hour+previous_one_day_ninth_hour+previous_one_day_tenth_hour+previous_one_day_eleventh_hour+previous_two_day_ninth_hour+previous_two_day_tenth_hour+previous_two_day_eleventh_hour\", \n",
    "        n, \n",
    "        \"logistic\", \n",
    "        0.01,\n",
    "        df_test[, c(1, 2, 4, 5, 6, 7, 8, 9)],\n",
    "        \"Second Set of Input Variables\"\n",
    "                        )\n",
    "    })\n",
    "kable(neuralnet_second_inset[])"
   ]
  },
  {
   "cell_type": "markdown",
   "metadata": {},
   "source": [
    "3rd lag"
   ]
  },
  {
   "cell_type": "code",
   "execution_count": 2014,
   "metadata": {
    "vscode": {
     "languageId": "r"
    }
   },
   "outputs": [
    {
     "data": {
      "text/plain": [
       "\n",
       "\n",
       "|model_type                   | hidden_layers|     RMSE|      MAE|      MAPE|act_function | learning_rate|\n",
       "|:----------------------------|-------------:|--------:|--------:|---------:|:------------|-------------:|\n",
       "|Third Set of Input Variables |             1| 21.55864| 16.82453| 0.2028478|logistic     |          0.01|\n",
       "\n",
       "|model_type                   | hidden_layers|     RMSE|      MAE|      MAPE|act_function | learning_rate|\n",
       "|:----------------------------|-------------:|--------:|--------:|---------:|:------------|-------------:|\n",
       "|Third Set of Input Variables |             2| 22.22464| 16.50115| 0.1961102|logistic     |          0.01|\n",
       "\n",
       "|model_type                   | hidden_layers|     RMSE|     MAE|      MAPE|act_function | learning_rate|\n",
       "|:----------------------------|-------------:|--------:|-------:|---------:|:------------|-------------:|\n",
       "|Third Set of Input Variables |             3| 12.22007| 9.37655| 0.1119275|logistic     |          0.01|\n",
       "\n",
       "|model_type                   | hidden_layers|    RMSE|      MAE|      MAPE|act_function | learning_rate|\n",
       "|:----------------------------|-------------:|-------:|--------:|---------:|:------------|-------------:|\n",
       "|Third Set of Input Variables |             4| 11.9433| 9.244494| 0.1093283|logistic     |          0.01|\n",
       "\n",
       "|model_type                   | hidden_layers|    RMSE|      MAE|      MAPE|act_function | learning_rate|\n",
       "|:----------------------------|-------------:|-------:|--------:|---------:|:------------|-------------:|\n",
       "|Third Set of Input Variables |             5| 12.2862| 9.603929| 0.1152073|logistic     |          0.01|\n",
       "\n",
       "|model_type                   | hidden_layers|     RMSE|      MAE|      MAPE|act_function | learning_rate|\n",
       "|:----------------------------|-------------:|--------:|--------:|---------:|:------------|-------------:|\n",
       "|Third Set of Input Variables |             6| 12.18709| 9.668834| 0.1131872|logistic     |          0.01|\n",
       "\n",
       "|model_type                   | hidden_layers|     RMSE|      MAE|      MAPE|act_function | learning_rate|\n",
       "|:----------------------------|-------------:|--------:|--------:|---------:|:------------|-------------:|\n",
       "|Third Set of Input Variables |             7| 11.79806| 9.103845| 0.1065826|logistic     |          0.01|\n",
       "\n",
       "|model_type                   | hidden_layers|     RMSE|      MAE|      MAPE|act_function | learning_rate|\n",
       "|:----------------------------|-------------:|--------:|--------:|---------:|:------------|-------------:|\n",
       "|Third Set of Input Variables |             8| 11.96673| 9.704595| 0.1133566|logistic     |          0.01|\n",
       "\n",
       "|model_type                   | hidden_layers|     RMSE|      MAE|      MAPE|act_function | learning_rate|\n",
       "|:----------------------------|-------------:|--------:|--------:|---------:|:------------|-------------:|\n",
       "|Third Set of Input Variables |             9| 12.00092| 9.312369| 0.1112303|logistic     |          0.01|\n",
       "\n",
       "|model_type                   | hidden_layers|     RMSE|      MAE|      MAPE|act_function | learning_rate|\n",
       "|:----------------------------|-------------:|--------:|--------:|---------:|:------------|-------------:|\n",
       "|Third Set of Input Variables |            10| 11.92357| 9.462016| 0.1108619|logistic     |          0.01|"
      ]
     },
     "metadata": {},
     "output_type": "display_data"
    }
   ],
   "source": [
    "neuralnet_third_inset = lapply(1:10, function(n){ \n",
    "    model_one_hidden_layer(\n",
    "        \"eleventh_hour~previous_one_day_eleventh_hour+previous_two_day_eleventh_hour+previous_three_day_eleventh_hour+seven_day_rolling_mean\", \n",
    "        n, \n",
    "        \"logistic\", \n",
    "        0.01,\n",
    "        df_test[, c(8, 9, 10, 12)],\n",
    "        \"Third Set of Input Variables\"\n",
    "                        )\n",
    "    })\n",
    "kable(neuralnet_third_inset[])"
   ]
  },
  {
   "cell_type": "markdown",
   "metadata": {},
   "source": [
    "4th lag"
   ]
  },
  {
   "cell_type": "code",
   "execution_count": 2016,
   "metadata": {
    "vscode": {
     "languageId": "r"
    }
   },
   "outputs": [
    {
     "data": {
      "text/plain": [
       "\n",
       "\n",
       "|model_type                   | hidden_layers|     RMSE|     MAE|      MAPE|act_function | learning_rate|\n",
       "|:----------------------------|-------------:|--------:|-------:|---------:|:------------|-------------:|\n",
       "|Third Set of Input Variables |             1| 19.80806| 14.8502| 0.1820227|logistic     |          0.01|\n",
       "\n",
       "|model_type                   | hidden_layers|     RMSE|      MAE|      MAPE|act_function | learning_rate|\n",
       "|:----------------------------|-------------:|--------:|--------:|---------:|:------------|-------------:|\n",
       "|Third Set of Input Variables |             2| 20.51674| 15.19489| 0.1806688|logistic     |          0.01|\n",
       "\n",
       "|model_type                   | hidden_layers|     RMSE|      MAE|      MAPE|act_function | learning_rate|\n",
       "|:----------------------------|-------------:|--------:|--------:|---------:|:------------|-------------:|\n",
       "|Third Set of Input Variables |             3| 11.57664| 8.730797| 0.1040766|logistic     |          0.01|\n",
       "\n",
       "|model_type                   | hidden_layers|    RMSE|      MAE|      MAPE|act_function | learning_rate|\n",
       "|:----------------------------|-------------:|-------:|--------:|---------:|:------------|-------------:|\n",
       "|Third Set of Input Variables |             4| 11.5526| 8.726326| 0.1049037|logistic     |          0.01|\n",
       "\n",
       "|model_type                   | hidden_layers|     RMSE|      MAE|      MAPE|act_function | learning_rate|\n",
       "|:----------------------------|-------------:|--------:|--------:|---------:|:------------|-------------:|\n",
       "|Third Set of Input Variables |             5| 11.37455| 8.424724| 0.0999813|logistic     |          0.01|\n",
       "\n",
       "|model_type                   | hidden_layers|     RMSE|      MAE|      MAPE|act_function | learning_rate|\n",
       "|:----------------------------|-------------:|--------:|--------:|---------:|:------------|-------------:|\n",
       "|Third Set of Input Variables |             6| 11.55865| 8.779298| 0.1040436|logistic     |          0.01|\n",
       "\n",
       "|model_type                   | hidden_layers|     RMSE|      MAE|      MAPE|act_function | learning_rate|\n",
       "|:----------------------------|-------------:|--------:|--------:|---------:|:------------|-------------:|\n",
       "|Third Set of Input Variables |             7| 11.28432| 8.516674| 0.1017896|logistic     |          0.01|\n",
       "\n",
       "|model_type                   | hidden_layers|     RMSE|      MAE|      MAPE|act_function | learning_rate|\n",
       "|:----------------------------|-------------:|--------:|--------:|---------:|:------------|-------------:|\n",
       "|Third Set of Input Variables |             8| 11.62832| 8.877073| 0.1048988|logistic     |          0.01|\n",
       "\n",
       "|model_type                   | hidden_layers|     RMSE|      MAE|      MAPE|act_function | learning_rate|\n",
       "|:----------------------------|-------------:|--------:|--------:|---------:|:------------|-------------:|\n",
       "|Third Set of Input Variables |             9| 11.28362| 8.511264| 0.1020934|logistic     |          0.01|\n",
       "\n",
       "|model_type                   | hidden_layers|    RMSE|      MAE|     MAPE|act_function | learning_rate|\n",
       "|:----------------------------|-------------:|-------:|--------:|--------:|:------------|-------------:|\n",
       "|Third Set of Input Variables |            10| 11.9551| 9.345318| 0.107475|logistic     |          0.01|"
      ]
     },
     "metadata": {},
     "output_type": "display_data"
    }
   ],
   "source": [
    "neuralnet_forth_inset = lapply(1:10, function(n){ \n",
    "    model_one_hidden_layer(\n",
    "        \"eleventh_hour~previous_one_day_eleventh_hour+previous_two_day_eleventh_hour+previous_three_day_eleventh_hour+previous_four_day_eleventh_hour+seven_day_rolling_mean\", \n",
    "        n, \n",
    "        \"logistic\", \n",
    "        0.01,\n",
    "        df_test[, c(8, 9, 10, 11, 12)],\n",
    "        \"Third Set of Input Variables\"\n",
    "                        )\n",
    "    })\n",
    "kable(neuralnet_forth_inset[])"
   ]
  },
  {
   "cell_type": "markdown",
   "metadata": {},
   "source": [
    "minimum error in each input set"
   ]
  }
 ],
 "metadata": {
  "kernelspec": {
   "display_name": "R",
   "language": "R",
   "name": "ir"
  },
  "language_info": {
   "codemirror_mode": "r",
   "file_extension": ".r",
   "mimetype": "text/x-r-source",
   "name": "R",
   "pygments_lexer": "r",
   "version": "4.1.1"
  },
  "orig_nbformat": 4
 },
 "nbformat": 4,
 "nbformat_minor": 2
}
