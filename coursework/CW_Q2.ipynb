{
 "cells": [
  {
   "cell_type": "code",
   "execution_count": 2813,
   "metadata": {
    "vscode": {
     "languageId": "r"
    }
   },
   "outputs": [],
   "source": [
    "# install.packages(\"Metrics\")"
   ]
  },
  {
   "cell_type": "code",
   "execution_count": 2814,
   "metadata": {
    "vscode": {
     "languageId": "r"
    }
   },
   "outputs": [],
   "source": [
    "# libraries\n",
    "library(readxl)\n",
    "options(warn = 0)\n",
    "library(tidyverse)\n",
    "library(readxl)\n",
    "library(lubridate)\n",
    "library(zoo)\n",
    "library(readxl)\n",
    "library(neuralnet)\n",
    "library(knitr)\n",
    "library(Metrics)"
   ]
  },
  {
   "cell_type": "code",
   "execution_count": 2815,
   "metadata": {
    "vscode": {
     "languageId": "r"
    }
   },
   "outputs": [
    {
     "data": {
      "text/html": [
       "<table class=\"dataframe\">\n",
       "<caption>A tibble: 6 × 4</caption>\n",
       "<thead>\n",
       "\t<tr><th scope=col>Dates</th><th scope=col>09:00</th><th scope=col>10:00</th><th scope=col>11:00</th></tr>\n",
       "\t<tr><th scope=col>&lt;dttm&gt;</th><th scope=col>&lt;dbl&gt;</th><th scope=col>&lt;dbl&gt;</th><th scope=col>&lt;dbl&gt;</th></tr>\n",
       "</thead>\n",
       "<tbody>\n",
       "\t<tr><td>2018-01-01</td><td> 89.4</td><td> 90.6</td><td> 88.6</td></tr>\n",
       "\t<tr><td>2018-01-02</td><td>108.2</td><td>104.6</td><td>106.0</td></tr>\n",
       "\t<tr><td>2018-01-03</td><td>110.0</td><td>111.6</td><td>114.8</td></tr>\n",
       "\t<tr><td>2018-01-04</td><td>106.4</td><td>104.4</td><td>109.0</td></tr>\n",
       "\t<tr><td>2018-01-05</td><td> 97.8</td><td>100.4</td><td>102.4</td></tr>\n",
       "\t<tr><td>2018-01-06</td><td> 87.0</td><td> 90.8</td><td> 87.2</td></tr>\n",
       "</tbody>\n",
       "</table>\n"
      ],
      "text/latex": [
       "A tibble: 6 × 4\n",
       "\\begin{tabular}{llll}\n",
       " Dates & 09:00 & 10:00 & 11:00\\\\\n",
       " <dttm> & <dbl> & <dbl> & <dbl>\\\\\n",
       "\\hline\n",
       "\t 2018-01-01 &  89.4 &  90.6 &  88.6\\\\\n",
       "\t 2018-01-02 & 108.2 & 104.6 & 106.0\\\\\n",
       "\t 2018-01-03 & 110.0 & 111.6 & 114.8\\\\\n",
       "\t 2018-01-04 & 106.4 & 104.4 & 109.0\\\\\n",
       "\t 2018-01-05 &  97.8 & 100.4 & 102.4\\\\\n",
       "\t 2018-01-06 &  87.0 &  90.8 &  87.2\\\\\n",
       "\\end{tabular}\n"
      ],
      "text/markdown": [
       "\n",
       "A tibble: 6 × 4\n",
       "\n",
       "| Dates &lt;dttm&gt; | 09:00 &lt;dbl&gt; | 10:00 &lt;dbl&gt; | 11:00 &lt;dbl&gt; |\n",
       "|---|---|---|---|\n",
       "| 2018-01-01 |  89.4 |  90.6 |  88.6 |\n",
       "| 2018-01-02 | 108.2 | 104.6 | 106.0 |\n",
       "| 2018-01-03 | 110.0 | 111.6 | 114.8 |\n",
       "| 2018-01-04 | 106.4 | 104.4 | 109.0 |\n",
       "| 2018-01-05 |  97.8 | 100.4 | 102.4 |\n",
       "| 2018-01-06 |  87.0 |  90.8 |  87.2 |\n",
       "\n"
      ],
      "text/plain": [
       "  Dates      09:00 10:00 11:00\n",
       "1 2018-01-01  89.4  90.6  88.6\n",
       "2 2018-01-02 108.2 104.6 106.0\n",
       "3 2018-01-03 110.0 111.6 114.8\n",
       "4 2018-01-04 106.4 104.4 109.0\n",
       "5 2018-01-05  97.8 100.4 102.4\n",
       "6 2018-01-06  87.0  90.8  87.2"
      ]
     },
     "metadata": {},
     "output_type": "display_data"
    }
   ],
   "source": [
    "df <- read_excel(\"data/UOW_load.xlsx\")\n",
    "head(df)"
   ]
  },
  {
   "cell_type": "code",
   "execution_count": 2816,
   "metadata": {
    "vscode": {
     "languageId": "r"
    }
   },
   "outputs": [],
   "source": [
    "df$Dates<-as.Date(df$Dates)"
   ]
  },
  {
   "cell_type": "code",
   "execution_count": 2817,
   "metadata": {
    "vscode": {
     "languageId": "r"
    }
   },
   "outputs": [
    {
     "data": {
      "text/html": [
       "<table class=\"dataframe\">\n",
       "<caption>A tibble: 6 × 4</caption>\n",
       "<thead>\n",
       "\t<tr><th scope=col>Dates</th><th scope=col>ninth_hour</th><th scope=col>tenth_hour</th><th scope=col>eleventh_hour</th></tr>\n",
       "\t<tr><th scope=col>&lt;date&gt;</th><th scope=col>&lt;dbl&gt;</th><th scope=col>&lt;dbl&gt;</th><th scope=col>&lt;dbl&gt;</th></tr>\n",
       "</thead>\n",
       "<tbody>\n",
       "\t<tr><td>2018-01-01</td><td> 89.4</td><td> 90.6</td><td> 88.6</td></tr>\n",
       "\t<tr><td>2018-01-02</td><td>108.2</td><td>104.6</td><td>106.0</td></tr>\n",
       "\t<tr><td>2018-01-03</td><td>110.0</td><td>111.6</td><td>114.8</td></tr>\n",
       "\t<tr><td>2018-01-04</td><td>106.4</td><td>104.4</td><td>109.0</td></tr>\n",
       "\t<tr><td>2018-01-05</td><td> 97.8</td><td>100.4</td><td>102.4</td></tr>\n",
       "\t<tr><td>2018-01-06</td><td> 87.0</td><td> 90.8</td><td> 87.2</td></tr>\n",
       "</tbody>\n",
       "</table>\n"
      ],
      "text/latex": [
       "A tibble: 6 × 4\n",
       "\\begin{tabular}{llll}\n",
       " Dates & ninth\\_hour & tenth\\_hour & eleventh\\_hour\\\\\n",
       " <date> & <dbl> & <dbl> & <dbl>\\\\\n",
       "\\hline\n",
       "\t 2018-01-01 &  89.4 &  90.6 &  88.6\\\\\n",
       "\t 2018-01-02 & 108.2 & 104.6 & 106.0\\\\\n",
       "\t 2018-01-03 & 110.0 & 111.6 & 114.8\\\\\n",
       "\t 2018-01-04 & 106.4 & 104.4 & 109.0\\\\\n",
       "\t 2018-01-05 &  97.8 & 100.4 & 102.4\\\\\n",
       "\t 2018-01-06 &  87.0 &  90.8 &  87.2\\\\\n",
       "\\end{tabular}\n"
      ],
      "text/markdown": [
       "\n",
       "A tibble: 6 × 4\n",
       "\n",
       "| Dates &lt;date&gt; | ninth_hour &lt;dbl&gt; | tenth_hour &lt;dbl&gt; | eleventh_hour &lt;dbl&gt; |\n",
       "|---|---|---|---|\n",
       "| 2018-01-01 |  89.4 |  90.6 |  88.6 |\n",
       "| 2018-01-02 | 108.2 | 104.6 | 106.0 |\n",
       "| 2018-01-03 | 110.0 | 111.6 | 114.8 |\n",
       "| 2018-01-04 | 106.4 | 104.4 | 109.0 |\n",
       "| 2018-01-05 |  97.8 | 100.4 | 102.4 |\n",
       "| 2018-01-06 |  87.0 |  90.8 |  87.2 |\n",
       "\n"
      ],
      "text/plain": [
       "  Dates      ninth_hour tenth_hour eleventh_hour\n",
       "1 2018-01-01  89.4       90.6       88.6        \n",
       "2 2018-01-02 108.2      104.6      106.0        \n",
       "3 2018-01-03 110.0      111.6      114.8        \n",
       "4 2018-01-04 106.4      104.4      109.0        \n",
       "5 2018-01-05  97.8      100.4      102.4        \n",
       "6 2018-01-06  87.0       90.8       87.2        "
      ]
     },
     "metadata": {},
     "output_type": "display_data"
    }
   ],
   "source": [
    "names(df)[2] <- paste(\"ninth_hour\")\n",
    "names(df)[3] <- paste(\"tenth_hour\")\n",
    "names(df)[4] <- paste(\"eleventh_hour\")\n",
    "head(df)"
   ]
  },
  {
   "cell_type": "code",
   "execution_count": 2818,
   "metadata": {
    "vscode": {
     "languageId": "r"
    }
   },
   "outputs": [
    {
     "data": {
      "text/plain": [
       "   ninth_hour       tenth_hour     eleventh_hour   \n",
       " Min.   : 50.40   Min.   : 49.20   Min.   : 48.20  \n",
       " 1st Qu.: 81.55   1st Qu.: 83.00   1st Qu.: 84.75  \n",
       " Median : 97.50   Median :102.80   Median :105.40  \n",
       " Mean   : 95.35   Mean   : 99.63   Mean   :102.83  \n",
       " 3rd Qu.:110.60   3rd Qu.:116.05   3rd Qu.:120.90  \n",
       " Max.   :141.20   Max.   :148.80   Max.   :156.40  "
      ]
     },
     "metadata": {},
     "output_type": "display_data"
    }
   ],
   "source": [
    "summary(df[2:4])"
   ]
  },
  {
   "cell_type": "code",
   "execution_count": 2819,
   "metadata": {
    "vscode": {
     "languageId": "r"
    }
   },
   "outputs": [],
   "source": [
    "# insert all the inputs to the one data frame\n",
    "# creating revious time frame values for autoregressive model \n",
    "df_full = df %>%\n",
    " mutate(\n",
    "    nine_lag_1 = lag(df$ninth_hour,1),\n",
    "    ten_lag_1 = lag(df$tenth_hour,1),\n",
    "    nine_lag_2 = lag(df$ninth_hour,2),\n",
    "    ten_lag_2 = lag(df$tenth_hour,2),\n",
    "    eleven_lag_1 = lag(df$eleventh_hour,1),\n",
    "    eleven_lag_2 = lag(df$eleventh_hour,2),\n",
    "    eleven_lag_3 = lag(df$eleventh_hour,3),\n",
    "    eleven_lag_4 = lag(df$eleventh_hour,4),\n",
    "    #roll mean\n",
    "    nine_rollmean_4 = rollmean(ninth_hour,4, fill = NA),\n",
    "    nine_rollmean_7 = rollmean(ninth_hour,7, fill = NA),\n",
    "    ten_rollmean_4 = rollmean(tenth_hour,4, fill = NA),\n",
    "    ten_rollmean_7 = rollmean(tenth_hour,7, fill = NA),\n",
    "    eleven_rollmean_4 = rollmean(eleventh_hour,4, fill = NA),\n",
    "    eleven_rollmean_7 = rollmean(eleventh_hour,7, fill = NA)) %>%\n",
    "#Drop null coulumns\n",
    "drop_na()\n"
   ]
  },
  {
   "cell_type": "code",
   "execution_count": 2820,
   "metadata": {
    "vscode": {
     "languageId": "r"
    }
   },
   "outputs": [
    {
     "data": {
      "text/html": [
       "<table class=\"dataframe\">\n",
       "<caption>A tibble: 6 × 18</caption>\n",
       "<thead>\n",
       "\t<tr><th scope=col>Dates</th><th scope=col>ninth_hour</th><th scope=col>tenth_hour</th><th scope=col>eleventh_hour</th><th scope=col>nine_lag_1</th><th scope=col>ten_lag_1</th><th scope=col>nine_lag_2</th><th scope=col>ten_lag_2</th><th scope=col>eleven_lag_1</th><th scope=col>eleven_lag_2</th><th scope=col>eleven_lag_3</th><th scope=col>eleven_lag_4</th><th scope=col>nine_rollmean_4</th><th scope=col>nine_rollmean_7</th><th scope=col>ten_rollmean_4</th><th scope=col>ten_rollmean_7</th><th scope=col>eleven_rollmean_4</th><th scope=col>eleven_rollmean_7</th></tr>\n",
       "\t<tr><th scope=col>&lt;date&gt;</th><th scope=col>&lt;dbl&gt;</th><th scope=col>&lt;dbl&gt;</th><th scope=col>&lt;dbl&gt;</th><th scope=col>&lt;dbl&gt;</th><th scope=col>&lt;dbl&gt;</th><th scope=col>&lt;dbl&gt;</th><th scope=col>&lt;dbl&gt;</th><th scope=col>&lt;dbl&gt;</th><th scope=col>&lt;dbl&gt;</th><th scope=col>&lt;dbl&gt;</th><th scope=col>&lt;dbl&gt;</th><th scope=col>&lt;dbl&gt;</th><th scope=col>&lt;dbl&gt;</th><th scope=col>&lt;dbl&gt;</th><th scope=col>&lt;dbl&gt;</th><th scope=col>&lt;dbl&gt;</th><th scope=col>&lt;dbl&gt;</th></tr>\n",
       "</thead>\n",
       "<tbody>\n",
       "\t<tr><td>2018-01-05</td><td> 97.8</td><td>100.4</td><td>102.4</td><td>106.4</td><td>104.4</td><td>110.0</td><td>111.6</td><td>109.0</td><td>114.8</td><td>106.0</td><td> 88.6</td><td> 90.00</td><td>98.34286</td><td> 90.65</td><td> 98.82857</td><td> 91.55</td><td>100.4571</td></tr>\n",
       "\t<tr><td>2018-01-06</td><td> 87.0</td><td> 90.8</td><td> 87.2</td><td> 97.8</td><td>100.4</td><td>106.4</td><td>104.4</td><td>102.4</td><td>109.0</td><td>114.8</td><td>106.0</td><td> 90.95</td><td>98.77143</td><td> 92.80</td><td>100.91429</td><td> 93.35</td><td>101.8857</td></tr>\n",
       "\t<tr><td>2018-01-07</td><td> 68.8</td><td> 67.0</td><td> 67.6</td><td> 87.0</td><td> 90.8</td><td> 97.8</td><td>100.4</td><td> 87.2</td><td>102.4</td><td>109.0</td><td>114.8</td><td> 94.30</td><td>98.62857</td><td> 97.50</td><td>101.34286</td><td> 96.75</td><td>101.8000</td></tr>\n",
       "\t<tr><td>2018-01-08</td><td>110.2</td><td>113.0</td><td>116.2</td><td> 68.8</td><td> 67.0</td><td> 87.0</td><td> 90.8</td><td> 67.6</td><td> 87.2</td><td>102.4</td><td>109.0</td><td> 99.80</td><td>97.68571</td><td>103.45</td><td>102.00000</td><td>103.50</td><td>102.4286</td></tr>\n",
       "\t<tr><td>2018-01-09</td><td>111.2</td><td>119.2</td><td>116.0</td><td>110.2</td><td>113.0</td><td> 68.8</td><td> 67.0</td><td>116.2</td><td> 67.6</td><td> 87.2</td><td>102.4</td><td>107.55</td><td>99.57143</td><td>113.95</td><td>104.05714</td><td>114.95</td><td>105.0000</td></tr>\n",
       "\t<tr><td>2018-01-10</td><td>109.0</td><td>114.6</td><td>114.2</td><td>111.2</td><td>119.2</td><td>110.2</td><td>113.0</td><td>116.0</td><td>116.2</td><td> 67.6</td><td> 87.2</td><td>107.75</td><td>99.77143</td><td>114.40</td><td>103.88571</td><td>116.00</td><td>104.6571</td></tr>\n",
       "</tbody>\n",
       "</table>\n"
      ],
      "text/latex": [
       "A tibble: 6 × 18\n",
       "\\begin{tabular}{llllllllllllllllll}\n",
       " Dates & ninth\\_hour & tenth\\_hour & eleventh\\_hour & nine\\_lag\\_1 & ten\\_lag\\_1 & nine\\_lag\\_2 & ten\\_lag\\_2 & eleven\\_lag\\_1 & eleven\\_lag\\_2 & eleven\\_lag\\_3 & eleven\\_lag\\_4 & nine\\_rollmean\\_4 & nine\\_rollmean\\_7 & ten\\_rollmean\\_4 & ten\\_rollmean\\_7 & eleven\\_rollmean\\_4 & eleven\\_rollmean\\_7\\\\\n",
       " <date> & <dbl> & <dbl> & <dbl> & <dbl> & <dbl> & <dbl> & <dbl> & <dbl> & <dbl> & <dbl> & <dbl> & <dbl> & <dbl> & <dbl> & <dbl> & <dbl> & <dbl>\\\\\n",
       "\\hline\n",
       "\t 2018-01-05 &  97.8 & 100.4 & 102.4 & 106.4 & 104.4 & 110.0 & 111.6 & 109.0 & 114.8 & 106.0 &  88.6 &  90.00 & 98.34286 &  90.65 &  98.82857 &  91.55 & 100.4571\\\\\n",
       "\t 2018-01-06 &  87.0 &  90.8 &  87.2 &  97.8 & 100.4 & 106.4 & 104.4 & 102.4 & 109.0 & 114.8 & 106.0 &  90.95 & 98.77143 &  92.80 & 100.91429 &  93.35 & 101.8857\\\\\n",
       "\t 2018-01-07 &  68.8 &  67.0 &  67.6 &  87.0 &  90.8 &  97.8 & 100.4 &  87.2 & 102.4 & 109.0 & 114.8 &  94.30 & 98.62857 &  97.50 & 101.34286 &  96.75 & 101.8000\\\\\n",
       "\t 2018-01-08 & 110.2 & 113.0 & 116.2 &  68.8 &  67.0 &  87.0 &  90.8 &  67.6 &  87.2 & 102.4 & 109.0 &  99.80 & 97.68571 & 103.45 & 102.00000 & 103.50 & 102.4286\\\\\n",
       "\t 2018-01-09 & 111.2 & 119.2 & 116.0 & 110.2 & 113.0 &  68.8 &  67.0 & 116.2 &  67.6 &  87.2 & 102.4 & 107.55 & 99.57143 & 113.95 & 104.05714 & 114.95 & 105.0000\\\\\n",
       "\t 2018-01-10 & 109.0 & 114.6 & 114.2 & 111.2 & 119.2 & 110.2 & 113.0 & 116.0 & 116.2 &  67.6 &  87.2 & 107.75 & 99.77143 & 114.40 & 103.88571 & 116.00 & 104.6571\\\\\n",
       "\\end{tabular}\n"
      ],
      "text/markdown": [
       "\n",
       "A tibble: 6 × 18\n",
       "\n",
       "| Dates &lt;date&gt; | ninth_hour &lt;dbl&gt; | tenth_hour &lt;dbl&gt; | eleventh_hour &lt;dbl&gt; | nine_lag_1 &lt;dbl&gt; | ten_lag_1 &lt;dbl&gt; | nine_lag_2 &lt;dbl&gt; | ten_lag_2 &lt;dbl&gt; | eleven_lag_1 &lt;dbl&gt; | eleven_lag_2 &lt;dbl&gt; | eleven_lag_3 &lt;dbl&gt; | eleven_lag_4 &lt;dbl&gt; | nine_rollmean_4 &lt;dbl&gt; | nine_rollmean_7 &lt;dbl&gt; | ten_rollmean_4 &lt;dbl&gt; | ten_rollmean_7 &lt;dbl&gt; | eleven_rollmean_4 &lt;dbl&gt; | eleven_rollmean_7 &lt;dbl&gt; |\n",
       "|---|---|---|---|---|---|---|---|---|---|---|---|---|---|---|---|---|---|\n",
       "| 2018-01-05 |  97.8 | 100.4 | 102.4 | 106.4 | 104.4 | 110.0 | 111.6 | 109.0 | 114.8 | 106.0 |  88.6 |  90.00 | 98.34286 |  90.65 |  98.82857 |  91.55 | 100.4571 |\n",
       "| 2018-01-06 |  87.0 |  90.8 |  87.2 |  97.8 | 100.4 | 106.4 | 104.4 | 102.4 | 109.0 | 114.8 | 106.0 |  90.95 | 98.77143 |  92.80 | 100.91429 |  93.35 | 101.8857 |\n",
       "| 2018-01-07 |  68.8 |  67.0 |  67.6 |  87.0 |  90.8 |  97.8 | 100.4 |  87.2 | 102.4 | 109.0 | 114.8 |  94.30 | 98.62857 |  97.50 | 101.34286 |  96.75 | 101.8000 |\n",
       "| 2018-01-08 | 110.2 | 113.0 | 116.2 |  68.8 |  67.0 |  87.0 |  90.8 |  67.6 |  87.2 | 102.4 | 109.0 |  99.80 | 97.68571 | 103.45 | 102.00000 | 103.50 | 102.4286 |\n",
       "| 2018-01-09 | 111.2 | 119.2 | 116.0 | 110.2 | 113.0 |  68.8 |  67.0 | 116.2 |  67.6 |  87.2 | 102.4 | 107.55 | 99.57143 | 113.95 | 104.05714 | 114.95 | 105.0000 |\n",
       "| 2018-01-10 | 109.0 | 114.6 | 114.2 | 111.2 | 119.2 | 110.2 | 113.0 | 116.0 | 116.2 |  67.6 |  87.2 | 107.75 | 99.77143 | 114.40 | 103.88571 | 116.00 | 104.6571 |\n",
       "\n"
      ],
      "text/plain": [
       "  Dates      ninth_hour tenth_hour eleventh_hour nine_lag_1 ten_lag_1\n",
       "1 2018-01-05  97.8      100.4      102.4         106.4      104.4    \n",
       "2 2018-01-06  87.0       90.8       87.2          97.8      100.4    \n",
       "3 2018-01-07  68.8       67.0       67.6          87.0       90.8    \n",
       "4 2018-01-08 110.2      113.0      116.2          68.8       67.0    \n",
       "5 2018-01-09 111.2      119.2      116.0         110.2      113.0    \n",
       "6 2018-01-10 109.0      114.6      114.2         111.2      119.2    \n",
       "  nine_lag_2 ten_lag_2 eleven_lag_1 eleven_lag_2 eleven_lag_3 eleven_lag_4\n",
       "1 110.0      111.6     109.0        114.8        106.0         88.6       \n",
       "2 106.4      104.4     102.4        109.0        114.8        106.0       \n",
       "3  97.8      100.4      87.2        102.4        109.0        114.8       \n",
       "4  87.0       90.8      67.6         87.2        102.4        109.0       \n",
       "5  68.8       67.0     116.2         67.6         87.2        102.4       \n",
       "6 110.2      113.0     116.0        116.2         67.6         87.2       \n",
       "  nine_rollmean_4 nine_rollmean_7 ten_rollmean_4 ten_rollmean_7\n",
       "1  90.00          98.34286         90.65          98.82857     \n",
       "2  90.95          98.77143         92.80         100.91429     \n",
       "3  94.30          98.62857         97.50         101.34286     \n",
       "4  99.80          97.68571        103.45         102.00000     \n",
       "5 107.55          99.57143        113.95         104.05714     \n",
       "6 107.75          99.77143        114.40         103.88571     \n",
       "  eleven_rollmean_4 eleven_rollmean_7\n",
       "1  91.55            100.4571         \n",
       "2  93.35            101.8857         \n",
       "3  96.75            101.8000         \n",
       "4 103.50            102.4286         \n",
       "5 114.95            105.0000         \n",
       "6 116.00            104.6571         "
      ]
     },
     "metadata": {},
     "output_type": "display_data"
    }
   ],
   "source": [
    "head(df_full)"
   ]
  },
  {
   "cell_type": "markdown",
   "metadata": {},
   "source": [
    "## Input vercors"
   ]
  },
  {
   "cell_type": "code",
   "execution_count": 2821,
   "metadata": {
    "vscode": {
     "languageId": "r"
    }
   },
   "outputs": [
    {
     "data": {
      "image/png": "[encoded data removed]",
      "text/plain": [
       "plot without title"
      ]
     },
     "metadata": {
      "image/png": {
       "height": 420,
       "width": 420
      }
     },
     "output_type": "display_data"
    }
   ],
   "source": [
    "#1st lag\n",
    "df_full %>%\n",
    "pivot_longer(cols = c(2, 3, 5, 6, 9), names_to = \"kind\", values_to = \"energy_level\") %>%\n",
    "ggplot(aes(Dates, energy_level, color = kind)) +\n",
    "geom_line() +\n",
    "facet_wrap(~kind) + theme(axis.text.x = element_text(angle = 45, vjust =\n",
    "0.5, hjust = 1\n",
    ")) +\n",
    "labs(x = \"\",\n",
    "title = \"First Set of Input Variables\") +\n",
    "theme(legend.position = \"none\")\n"
   ]
  },
  {
   "cell_type": "code",
   "execution_count": 2822,
   "metadata": {
    "vscode": {
     "languageId": "r"
    }
   },
   "outputs": [
    {
     "data": {
      "image/png": "[encoded data removed]",
      "text/plain": [
       "plot without title"
      ]
     },
     "metadata": {
      "image/png": {
       "height": 420,
       "width": 420
      }
     },
     "output_type": "display_data"
    }
   ],
   "source": [
    "#2nd lag\n",
    "df_full %>%\n",
    "pivot_longer(cols = c(2, 3, 5, 6, 9, 7, 8, 10), names_to = \"kind\", values_to = \"energy_level\") %>%\n",
    "ggplot(aes(Dates, energy_level, color = kind)) +\n",
    "geom_line() +\n",
    "facet_wrap(~kind) + theme(axis.text.x = element_text(angle = 45, vjust =\n",
    "0.5, hjust = 1\n",
    ")) +\n",
    "labs(x = \"\",\n",
    "title = \"Second Set of Input Variables\") +\n",
    "theme(legend.position = \"none\")"
   ]
  },
  {
   "cell_type": "code",
   "execution_count": 2823,
   "metadata": {
    "vscode": {
     "languageId": "r"
    }
   },
   "outputs": [
    {
     "data": {
      "image/png": "[encoded data removed]",
      "text/plain": [
       "plot without title"
      ]
     },
     "metadata": {
      "image/png": {
       "height": 420,
       "width": 420
      }
     },
     "output_type": "display_data"
    }
   ],
   "source": [
    "#3rd lag\n",
    "df_full %>%\n",
    "pivot_longer(cols = c(2, 3, 5, 6, 9, 7, 8, 10, 11, 13, 15, 17), names_to = \"kind\", values_to = \"energy_level\") %>%\n",
    "ggplot(aes(Dates, energy_level, color = kind)) +\n",
    "geom_line() +\n",
    "facet_wrap(~kind) + theme(axis.text.x = element_text(angle = 45, vjust =\n",
    "0.5, hjust = 1\n",
    ")) +\n",
    "labs(x = \"\",\n",
    "title = \"Third Set of Input Variables\") +\n",
    "theme(legend.position = \"none\")"
   ]
  },
  {
   "cell_type": "code",
   "execution_count": 2824,
   "metadata": {
    "vscode": {
     "languageId": "r"
    }
   },
   "outputs": [
    {
     "data": {
      "image/png": "[encoded data removed]",
      "text/plain": [
       "plot without title"
      ]
     },
     "metadata": {
      "image/png": {
       "height": 420,
       "width": 420
      }
     },
     "output_type": "display_data"
    }
   ],
   "source": [
    "#4thd lag\n",
    "df_full %>%\n",
    "pivot_longer(cols = c(13, 14, 15, 16, 17, 18), names_to = \"kind\", values_to = \"energy_level\") %>%\n",
    "ggplot(aes(Dates, energy_level, color = kind)) +\n",
    "geom_line() +\n",
    "facet_wrap(~kind) + theme(axis.text.x = element_text(angle = 45, vjust =\n",
    "0.5, hjust = 1\n",
    ")) +\n",
    "labs(x = \"\",\n",
    "title = \"Forth Set of Input Variables\") +\n",
    "theme(legend.position = \"none\")"
   ]
  },
  {
   "cell_type": "markdown",
   "metadata": {},
   "source": [
    "# Data Normalization"
   ]
  },
  {
   "cell_type": "code",
   "execution_count": 2825,
   "metadata": {
    "vscode": {
     "languageId": "r"
    }
   },
   "outputs": [
    {
     "data": {
      "text/html": [
       "<table class=\"dataframe\">\n",
       "<caption>A tibble: 6 × 18</caption>\n",
       "<thead>\n",
       "\t<tr><th scope=col>Dates</th><th scope=col>ninth_hour</th><th scope=col>tenth_hour</th><th scope=col>eleventh_hour</th><th scope=col>nine_lag_1</th><th scope=col>ten_lag_1</th><th scope=col>nine_lag_2</th><th scope=col>ten_lag_2</th><th scope=col>eleven_lag_1</th><th scope=col>eleven_lag_2</th><th scope=col>eleven_lag_3</th><th scope=col>eleven_lag_4</th><th scope=col>nine_rollmean_4</th><th scope=col>nine_rollmean_7</th><th scope=col>ten_rollmean_4</th><th scope=col>ten_rollmean_7</th><th scope=col>eleven_rollmean_4</th><th scope=col>eleven_rollmean_7</th></tr>\n",
       "\t<tr><th scope=col>&lt;date&gt;</th><th scope=col>&lt;dbl&gt;</th><th scope=col>&lt;dbl&gt;</th><th scope=col>&lt;dbl&gt;</th><th scope=col>&lt;dbl&gt;</th><th scope=col>&lt;dbl&gt;</th><th scope=col>&lt;dbl&gt;</th><th scope=col>&lt;dbl&gt;</th><th scope=col>&lt;dbl&gt;</th><th scope=col>&lt;dbl&gt;</th><th scope=col>&lt;dbl&gt;</th><th scope=col>&lt;dbl&gt;</th><th scope=col>&lt;dbl&gt;</th><th scope=col>&lt;dbl&gt;</th><th scope=col>&lt;dbl&gt;</th><th scope=col>&lt;dbl&gt;</th><th scope=col>&lt;dbl&gt;</th><th scope=col>&lt;dbl&gt;</th></tr>\n",
       "</thead>\n",
       "<tbody>\n",
       "\t<tr><td>2018-01-05</td><td> 97.8</td><td>100.4</td><td>102.4</td><td>106.4</td><td>104.4</td><td>110.0</td><td>111.6</td><td>109.0</td><td>114.8</td><td>106.0</td><td> 88.6</td><td> 90.00</td><td>98.34286</td><td> 90.65</td><td> 98.82857</td><td> 91.55</td><td>100.4571</td></tr>\n",
       "\t<tr><td>2018-01-06</td><td> 87.0</td><td> 90.8</td><td> 87.2</td><td> 97.8</td><td>100.4</td><td>106.4</td><td>104.4</td><td>102.4</td><td>109.0</td><td>114.8</td><td>106.0</td><td> 90.95</td><td>98.77143</td><td> 92.80</td><td>100.91429</td><td> 93.35</td><td>101.8857</td></tr>\n",
       "\t<tr><td>2018-01-07</td><td> 68.8</td><td> 67.0</td><td> 67.6</td><td> 87.0</td><td> 90.8</td><td> 97.8</td><td>100.4</td><td> 87.2</td><td>102.4</td><td>109.0</td><td>114.8</td><td> 94.30</td><td>98.62857</td><td> 97.50</td><td>101.34286</td><td> 96.75</td><td>101.8000</td></tr>\n",
       "\t<tr><td>2018-01-08</td><td>110.2</td><td>113.0</td><td>116.2</td><td> 68.8</td><td> 67.0</td><td> 87.0</td><td> 90.8</td><td> 67.6</td><td> 87.2</td><td>102.4</td><td>109.0</td><td> 99.80</td><td>97.68571</td><td>103.45</td><td>102.00000</td><td>103.50</td><td>102.4286</td></tr>\n",
       "\t<tr><td>2018-01-09</td><td>111.2</td><td>119.2</td><td>116.0</td><td>110.2</td><td>113.0</td><td> 68.8</td><td> 67.0</td><td>116.2</td><td> 67.6</td><td> 87.2</td><td>102.4</td><td>107.55</td><td>99.57143</td><td>113.95</td><td>104.05714</td><td>114.95</td><td>105.0000</td></tr>\n",
       "\t<tr><td>2018-01-10</td><td>109.0</td><td>114.6</td><td>114.2</td><td>111.2</td><td>119.2</td><td>110.2</td><td>113.0</td><td>116.0</td><td>116.2</td><td> 67.6</td><td> 87.2</td><td>107.75</td><td>99.77143</td><td>114.40</td><td>103.88571</td><td>116.00</td><td>104.6571</td></tr>\n",
       "</tbody>\n",
       "</table>\n"
      ],
      "text/latex": [
       "A tibble: 6 × 18\n",
       "\\begin{tabular}{llllllllllllllllll}\n",
       " Dates & ninth\\_hour & tenth\\_hour & eleventh\\_hour & nine\\_lag\\_1 & ten\\_lag\\_1 & nine\\_lag\\_2 & ten\\_lag\\_2 & eleven\\_lag\\_1 & eleven\\_lag\\_2 & eleven\\_lag\\_3 & eleven\\_lag\\_4 & nine\\_rollmean\\_4 & nine\\_rollmean\\_7 & ten\\_rollmean\\_4 & ten\\_rollmean\\_7 & eleven\\_rollmean\\_4 & eleven\\_rollmean\\_7\\\\\n",
       " <date> & <dbl> & <dbl> & <dbl> & <dbl> & <dbl> & <dbl> & <dbl> & <dbl> & <dbl> & <dbl> & <dbl> & <dbl> & <dbl> & <dbl> & <dbl> & <dbl> & <dbl>\\\\\n",
       "\\hline\n",
       "\t 2018-01-05 &  97.8 & 100.4 & 102.4 & 106.4 & 104.4 & 110.0 & 111.6 & 109.0 & 114.8 & 106.0 &  88.6 &  90.00 & 98.34286 &  90.65 &  98.82857 &  91.55 & 100.4571\\\\\n",
       "\t 2018-01-06 &  87.0 &  90.8 &  87.2 &  97.8 & 100.4 & 106.4 & 104.4 & 102.4 & 109.0 & 114.8 & 106.0 &  90.95 & 98.77143 &  92.80 & 100.91429 &  93.35 & 101.8857\\\\\n",
       "\t 2018-01-07 &  68.8 &  67.0 &  67.6 &  87.0 &  90.8 &  97.8 & 100.4 &  87.2 & 102.4 & 109.0 & 114.8 &  94.30 & 98.62857 &  97.50 & 101.34286 &  96.75 & 101.8000\\\\\n",
       "\t 2018-01-08 & 110.2 & 113.0 & 116.2 &  68.8 &  67.0 &  87.0 &  90.8 &  67.6 &  87.2 & 102.4 & 109.0 &  99.80 & 97.68571 & 103.45 & 102.00000 & 103.50 & 102.4286\\\\\n",
       "\t 2018-01-09 & 111.2 & 119.2 & 116.0 & 110.2 & 113.0 &  68.8 &  67.0 & 116.2 &  67.6 &  87.2 & 102.4 & 107.55 & 99.57143 & 113.95 & 104.05714 & 114.95 & 105.0000\\\\\n",
       "\t 2018-01-10 & 109.0 & 114.6 & 114.2 & 111.2 & 119.2 & 110.2 & 113.0 & 116.0 & 116.2 &  67.6 &  87.2 & 107.75 & 99.77143 & 114.40 & 103.88571 & 116.00 & 104.6571\\\\\n",
       "\\end{tabular}\n"
      ],
      "text/markdown": [
       "\n",
       "A tibble: 6 × 18\n",
       "\n",
       "| Dates &lt;date&gt; | ninth_hour &lt;dbl&gt; | tenth_hour &lt;dbl&gt; | eleventh_hour &lt;dbl&gt; | nine_lag_1 &lt;dbl&gt; | ten_lag_1 &lt;dbl&gt; | nine_lag_2 &lt;dbl&gt; | ten_lag_2 &lt;dbl&gt; | eleven_lag_1 &lt;dbl&gt; | eleven_lag_2 &lt;dbl&gt; | eleven_lag_3 &lt;dbl&gt; | eleven_lag_4 &lt;dbl&gt; | nine_rollmean_4 &lt;dbl&gt; | nine_rollmean_7 &lt;dbl&gt; | ten_rollmean_4 &lt;dbl&gt; | ten_rollmean_7 &lt;dbl&gt; | eleven_rollmean_4 &lt;dbl&gt; | eleven_rollmean_7 &lt;dbl&gt; |\n",
       "|---|---|---|---|---|---|---|---|---|---|---|---|---|---|---|---|---|---|\n",
       "| 2018-01-05 |  97.8 | 100.4 | 102.4 | 106.4 | 104.4 | 110.0 | 111.6 | 109.0 | 114.8 | 106.0 |  88.6 |  90.00 | 98.34286 |  90.65 |  98.82857 |  91.55 | 100.4571 |\n",
       "| 2018-01-06 |  87.0 |  90.8 |  87.2 |  97.8 | 100.4 | 106.4 | 104.4 | 102.4 | 109.0 | 114.8 | 106.0 |  90.95 | 98.77143 |  92.80 | 100.91429 |  93.35 | 101.8857 |\n",
       "| 2018-01-07 |  68.8 |  67.0 |  67.6 |  87.0 |  90.8 |  97.8 | 100.4 |  87.2 | 102.4 | 109.0 | 114.8 |  94.30 | 98.62857 |  97.50 | 101.34286 |  96.75 | 101.8000 |\n",
       "| 2018-01-08 | 110.2 | 113.0 | 116.2 |  68.8 |  67.0 |  87.0 |  90.8 |  67.6 |  87.2 | 102.4 | 109.0 |  99.80 | 97.68571 | 103.45 | 102.00000 | 103.50 | 102.4286 |\n",
       "| 2018-01-09 | 111.2 | 119.2 | 116.0 | 110.2 | 113.0 |  68.8 |  67.0 | 116.2 |  67.6 |  87.2 | 102.4 | 107.55 | 99.57143 | 113.95 | 104.05714 | 114.95 | 105.0000 |\n",
       "| 2018-01-10 | 109.0 | 114.6 | 114.2 | 111.2 | 119.2 | 110.2 | 113.0 | 116.0 | 116.2 |  67.6 |  87.2 | 107.75 | 99.77143 | 114.40 | 103.88571 | 116.00 | 104.6571 |\n",
       "\n"
      ],
      "text/plain": [
       "  Dates      ninth_hour tenth_hour eleventh_hour nine_lag_1 ten_lag_1\n",
       "1 2018-01-05  97.8      100.4      102.4         106.4      104.4    \n",
       "2 2018-01-06  87.0       90.8       87.2          97.8      100.4    \n",
       "3 2018-01-07  68.8       67.0       67.6          87.0       90.8    \n",
       "4 2018-01-08 110.2      113.0      116.2          68.8       67.0    \n",
       "5 2018-01-09 111.2      119.2      116.0         110.2      113.0    \n",
       "6 2018-01-10 109.0      114.6      114.2         111.2      119.2    \n",
       "  nine_lag_2 ten_lag_2 eleven_lag_1 eleven_lag_2 eleven_lag_3 eleven_lag_4\n",
       "1 110.0      111.6     109.0        114.8        106.0         88.6       \n",
       "2 106.4      104.4     102.4        109.0        114.8        106.0       \n",
       "3  97.8      100.4      87.2        102.4        109.0        114.8       \n",
       "4  87.0       90.8      67.6         87.2        102.4        109.0       \n",
       "5  68.8       67.0     116.2         67.6         87.2        102.4       \n",
       "6 110.2      113.0     116.0        116.2         67.6         87.2       \n",
       "  nine_rollmean_4 nine_rollmean_7 ten_rollmean_4 ten_rollmean_7\n",
       "1  90.00          98.34286         90.65          98.82857     \n",
       "2  90.95          98.77143         92.80         100.91429     \n",
       "3  94.30          98.62857         97.50         101.34286     \n",
       "4  99.80          97.68571        103.45         102.00000     \n",
       "5 107.55          99.57143        113.95         104.05714     \n",
       "6 107.75          99.77143        114.40         103.88571     \n",
       "  eleven_rollmean_4 eleven_rollmean_7\n",
       "1  91.55            100.4571         \n",
       "2  93.35            101.8857         \n",
       "3  96.75            101.8000         \n",
       "4 103.50            102.4286         \n",
       "5 114.95            105.0000         \n",
       "6 116.00            104.6571         "
      ]
     },
     "metadata": {},
     "output_type": "display_data"
    }
   ],
   "source": [
    "head(df_full)"
   ]
  },
  {
   "cell_type": "code",
   "execution_count": 2826,
   "metadata": {
    "vscode": {
     "languageId": "r"
    }
   },
   "outputs": [
    {
     "data": {
      "text/plain": [
       "     Dates              ninth_hour       tenth_hour     eleventh_hour  \n",
       " Min.   :2018-01-05   Min.   : 50.40   Min.   : 49.20   Min.   : 48.2  \n",
       " 1st Qu.:2018-05-08   1st Qu.: 81.20   1st Qu.: 83.00   1st Qu.: 84.6  \n",
       " Median :2018-09-08   Median : 97.40   Median :102.80   Median :105.2  \n",
       " Mean   :2018-09-08   Mean   : 95.28   Mean   : 99.65   Mean   :102.9  \n",
       " 3rd Qu.:2019-01-09   3rd Qu.:110.60   3rd Qu.:116.20   3rd Qu.:121.2  \n",
       " Max.   :2019-05-12   Max.   :141.20   Max.   :148.80   Max.   :156.4  \n",
       "   nine_lag_1       ten_lag_1        nine_lag_2       ten_lag_2     \n",
       " Min.   : 50.40   Min.   : 49.20   Min.   : 50.40   Min.   : 49.20  \n",
       " 1st Qu.: 81.40   1st Qu.: 83.00   1st Qu.: 81.40   1st Qu.: 83.20  \n",
       " Median : 97.60   Median :102.80   Median : 97.60   Median :103.00  \n",
       " Mean   : 95.38   Mean   : 99.75   Mean   : 95.44   Mean   : 99.82  \n",
       " 3rd Qu.:110.60   3rd Qu.:116.20   3rd Qu.:110.60   3rd Qu.:116.20  \n",
       " Max.   :141.20   Max.   :148.80   Max.   :141.20   Max.   :148.80  \n",
       "  eleven_lag_1    eleven_lag_2    eleven_lag_3    eleven_lag_4  \n",
       " Min.   : 48.2   Min.   : 48.2   Min.   : 48.2   Min.   : 48.2  \n",
       " 1st Qu.: 84.8   1st Qu.: 85.2   1st Qu.: 85.2   1st Qu.: 85.2  \n",
       " Median :105.6   Median :105.6   Median :105.8   Median :105.6  \n",
       " Mean   :103.0   Mean   :103.0   Mean   :103.1   Mean   :103.0  \n",
       " 3rd Qu.:121.2   3rd Qu.:121.2   3rd Qu.:121.2   3rd Qu.:121.2  \n",
       " Max.   :156.4   Max.   :156.4   Max.   :156.4   Max.   :156.4  \n",
       " nine_rollmean_4  nine_rollmean_7  ten_rollmean_4   ten_rollmean_7  \n",
       " Min.   : 63.65   Min.   : 68.83   Min.   : 64.55   Min.   : 70.63  \n",
       " 1st Qu.: 84.40   1st Qu.: 86.83   1st Qu.: 88.45   1st Qu.: 90.94  \n",
       " Median : 93.70   Median : 94.43   Median : 98.30   Median : 98.97  \n",
       " Mean   : 95.31   Mean   : 95.36   Mean   : 99.68   Mean   : 99.72  \n",
       " 3rd Qu.:104.50   3rd Qu.:102.69   3rd Qu.:109.25   3rd Qu.:107.80  \n",
       " Max.   :131.35   Max.   :119.37   Max.   :138.75   Max.   :123.66  \n",
       " eleven_rollmean_4 eleven_rollmean_7\n",
       " Min.   : 64.60    Min.   : 70.83   \n",
       " 1st Qu.: 91.25    1st Qu.: 93.17   \n",
       " Median :101.35    Median :102.40   \n",
       " Mean   :102.90    Mean   :102.95   \n",
       " 3rd Qu.:112.85    3rd Qu.:112.00   \n",
       " Max.   :148.35    Max.   :129.66   "
      ]
     },
     "metadata": {},
     "output_type": "display_data"
    }
   ],
   "source": [
    "summary(df_full)"
   ]
  },
  {
   "cell_type": "markdown",
   "metadata": {},
   "source": [
    "##### min-max normalization"
   ]
  },
  {
   "cell_type": "code",
   "execution_count": 2827,
   "metadata": {
    "vscode": {
     "languageId": "r"
    }
   },
   "outputs": [],
   "source": [
    "min_max_normalize <- function(x) {\n",
    "return ((x - min(x)) / (max(x) - min(x))) }\n",
    "\n",
    "\n",
    "unnormalize_eleventh_hour <- function(x) {\n",
    "return( (max(df_full$eleventh_hour) - min(df_full$eleventh_hour))*x + min(df_full$eleventh_hour)) }\n"
   ]
  },
  {
   "cell_type": "code",
   "execution_count": 2828,
   "metadata": {
    "vscode": {
     "languageId": "r"
    }
   },
   "outputs": [
    {
     "data": {
      "text/html": [
       "<table class=\"dataframe\">\n",
       "<caption>A data.frame: 6 × 17</caption>\n",
       "<thead>\n",
       "\t<tr><th></th><th scope=col>ninth_hour</th><th scope=col>tenth_hour</th><th scope=col>eleventh_hour</th><th scope=col>nine_lag_1</th><th scope=col>ten_lag_1</th><th scope=col>nine_lag_2</th><th scope=col>ten_lag_2</th><th scope=col>eleven_lag_1</th><th scope=col>eleven_lag_2</th><th scope=col>eleven_lag_3</th><th scope=col>eleven_lag_4</th><th scope=col>nine_rollmean_4</th><th scope=col>nine_rollmean_7</th><th scope=col>ten_rollmean_4</th><th scope=col>ten_rollmean_7</th><th scope=col>eleven_rollmean_4</th><th scope=col>eleven_rollmean_7</th></tr>\n",
       "\t<tr><th></th><th scope=col>&lt;dbl&gt;</th><th scope=col>&lt;dbl&gt;</th><th scope=col>&lt;dbl&gt;</th><th scope=col>&lt;dbl&gt;</th><th scope=col>&lt;dbl&gt;</th><th scope=col>&lt;dbl&gt;</th><th scope=col>&lt;dbl&gt;</th><th scope=col>&lt;dbl&gt;</th><th scope=col>&lt;dbl&gt;</th><th scope=col>&lt;dbl&gt;</th><th scope=col>&lt;dbl&gt;</th><th scope=col>&lt;dbl&gt;</th><th scope=col>&lt;dbl&gt;</th><th scope=col>&lt;dbl&gt;</th><th scope=col>&lt;dbl&gt;</th><th scope=col>&lt;dbl&gt;</th><th scope=col>&lt;dbl&gt;</th></tr>\n",
       "</thead>\n",
       "<tbody>\n",
       "\t<tr><th scope=row>1</th><td>0.5220264</td><td>0.5140562</td><td>0.5009242</td><td>0.6167401</td><td>0.5542169</td><td>0.6563877</td><td>0.6265060</td><td>0.5619224</td><td>0.6155268</td><td>0.5341959</td><td>0.3733826</td><td>0.3892171</td><td>0.5839457</td><td>0.3517520</td><td>0.5317888</td><td>0.3217910</td><td>0.5036425</td></tr>\n",
       "\t<tr><th scope=row>2</th><td>0.4030837</td><td>0.4176707</td><td>0.3604436</td><td>0.5220264</td><td>0.5140562</td><td>0.6167401</td><td>0.5542169</td><td>0.5009242</td><td>0.5619224</td><td>0.6155268</td><td>0.5341959</td><td>0.4032496</td><td>0.5924251</td><td>0.3807278</td><td>0.5711207</td><td>0.3432836</td><td>0.5279262</td></tr>\n",
       "\t<tr><th scope=row>3</th><td>0.2026432</td><td>0.1787149</td><td>0.1792976</td><td>0.4030837</td><td>0.4176707</td><td>0.5220264</td><td>0.5140562</td><td>0.3604436</td><td>0.5009242</td><td>0.5619224</td><td>0.6155268</td><td>0.4527326</td><td>0.5895986</td><td>0.4440701</td><td>0.5792026</td><td>0.3838806</td><td>0.5264692</td></tr>\n",
       "\t<tr><th scope=row>4</th><td>0.6585903</td><td>0.6405622</td><td>0.6284658</td><td>0.2026432</td><td>0.1787149</td><td>0.4030837</td><td>0.4176707</td><td>0.1792976</td><td>0.3604436</td><td>0.5009242</td><td>0.5619224</td><td>0.5339734</td><td>0.5709440</td><td>0.5242588</td><td>0.5915948</td><td>0.4644776</td><td>0.5371540</td></tr>\n",
       "\t<tr><th scope=row>5</th><td>0.6696035</td><td>0.7028112</td><td>0.6266174</td><td>0.6585903</td><td>0.6405622</td><td>0.2026432</td><td>0.1787149</td><td>0.6284658</td><td>0.1792976</td><td>0.3604436</td><td>0.5009242</td><td>0.6484490</td><td>0.6082533</td><td>0.6657682</td><td>0.6303879</td><td>0.6011940</td><td>0.5808645</td></tr>\n",
       "\t<tr><th scope=row>6</th><td>0.6453744</td><td>0.6566265</td><td>0.6099815</td><td>0.6696035</td><td>0.7028112</td><td>0.6585903</td><td>0.6405622</td><td>0.6266174</td><td>0.6284658</td><td>0.1792976</td><td>0.3604436</td><td>0.6514032</td><td>0.6122103</td><td>0.6718329</td><td>0.6271552</td><td>0.6137313</td><td>0.5750364</td></tr>\n",
       "</tbody>\n",
       "</table>\n"
      ],
      "text/latex": [
       "A data.frame: 6 × 17\n",
       "\\begin{tabular}{r|lllllllllllllllll}\n",
       "  & ninth\\_hour & tenth\\_hour & eleventh\\_hour & nine\\_lag\\_1 & ten\\_lag\\_1 & nine\\_lag\\_2 & ten\\_lag\\_2 & eleven\\_lag\\_1 & eleven\\_lag\\_2 & eleven\\_lag\\_3 & eleven\\_lag\\_4 & nine\\_rollmean\\_4 & nine\\_rollmean\\_7 & ten\\_rollmean\\_4 & ten\\_rollmean\\_7 & eleven\\_rollmean\\_4 & eleven\\_rollmean\\_7\\\\\n",
       "  & <dbl> & <dbl> & <dbl> & <dbl> & <dbl> & <dbl> & <dbl> & <dbl> & <dbl> & <dbl> & <dbl> & <dbl> & <dbl> & <dbl> & <dbl> & <dbl> & <dbl>\\\\\n",
       "\\hline\n",
       "\t1 & 0.5220264 & 0.5140562 & 0.5009242 & 0.6167401 & 0.5542169 & 0.6563877 & 0.6265060 & 0.5619224 & 0.6155268 & 0.5341959 & 0.3733826 & 0.3892171 & 0.5839457 & 0.3517520 & 0.5317888 & 0.3217910 & 0.5036425\\\\\n",
       "\t2 & 0.4030837 & 0.4176707 & 0.3604436 & 0.5220264 & 0.5140562 & 0.6167401 & 0.5542169 & 0.5009242 & 0.5619224 & 0.6155268 & 0.5341959 & 0.4032496 & 0.5924251 & 0.3807278 & 0.5711207 & 0.3432836 & 0.5279262\\\\\n",
       "\t3 & 0.2026432 & 0.1787149 & 0.1792976 & 0.4030837 & 0.4176707 & 0.5220264 & 0.5140562 & 0.3604436 & 0.5009242 & 0.5619224 & 0.6155268 & 0.4527326 & 0.5895986 & 0.4440701 & 0.5792026 & 0.3838806 & 0.5264692\\\\\n",
       "\t4 & 0.6585903 & 0.6405622 & 0.6284658 & 0.2026432 & 0.1787149 & 0.4030837 & 0.4176707 & 0.1792976 & 0.3604436 & 0.5009242 & 0.5619224 & 0.5339734 & 0.5709440 & 0.5242588 & 0.5915948 & 0.4644776 & 0.5371540\\\\\n",
       "\t5 & 0.6696035 & 0.7028112 & 0.6266174 & 0.6585903 & 0.6405622 & 0.2026432 & 0.1787149 & 0.6284658 & 0.1792976 & 0.3604436 & 0.5009242 & 0.6484490 & 0.6082533 & 0.6657682 & 0.6303879 & 0.6011940 & 0.5808645\\\\\n",
       "\t6 & 0.6453744 & 0.6566265 & 0.6099815 & 0.6696035 & 0.7028112 & 0.6585903 & 0.6405622 & 0.6266174 & 0.6284658 & 0.1792976 & 0.3604436 & 0.6514032 & 0.6122103 & 0.6718329 & 0.6271552 & 0.6137313 & 0.5750364\\\\\n",
       "\\end{tabular}\n"
      ],
      "text/markdown": [
       "\n",
       "A data.frame: 6 × 17\n",
       "\n",
       "| <!--/--> | ninth_hour &lt;dbl&gt; | tenth_hour &lt;dbl&gt; | eleventh_hour &lt;dbl&gt; | nine_lag_1 &lt;dbl&gt; | ten_lag_1 &lt;dbl&gt; | nine_lag_2 &lt;dbl&gt; | ten_lag_2 &lt;dbl&gt; | eleven_lag_1 &lt;dbl&gt; | eleven_lag_2 &lt;dbl&gt; | eleven_lag_3 &lt;dbl&gt; | eleven_lag_4 &lt;dbl&gt; | nine_rollmean_4 &lt;dbl&gt; | nine_rollmean_7 &lt;dbl&gt; | ten_rollmean_4 &lt;dbl&gt; | ten_rollmean_7 &lt;dbl&gt; | eleven_rollmean_4 &lt;dbl&gt; | eleven_rollmean_7 &lt;dbl&gt; |\n",
       "|---|---|---|---|---|---|---|---|---|---|---|---|---|---|---|---|---|---|\n",
       "| 1 | 0.5220264 | 0.5140562 | 0.5009242 | 0.6167401 | 0.5542169 | 0.6563877 | 0.6265060 | 0.5619224 | 0.6155268 | 0.5341959 | 0.3733826 | 0.3892171 | 0.5839457 | 0.3517520 | 0.5317888 | 0.3217910 | 0.5036425 |\n",
       "| 2 | 0.4030837 | 0.4176707 | 0.3604436 | 0.5220264 | 0.5140562 | 0.6167401 | 0.5542169 | 0.5009242 | 0.5619224 | 0.6155268 | 0.5341959 | 0.4032496 | 0.5924251 | 0.3807278 | 0.5711207 | 0.3432836 | 0.5279262 |\n",
       "| 3 | 0.2026432 | 0.1787149 | 0.1792976 | 0.4030837 | 0.4176707 | 0.5220264 | 0.5140562 | 0.3604436 | 0.5009242 | 0.5619224 | 0.6155268 | 0.4527326 | 0.5895986 | 0.4440701 | 0.5792026 | 0.3838806 | 0.5264692 |\n",
       "| 4 | 0.6585903 | 0.6405622 | 0.6284658 | 0.2026432 | 0.1787149 | 0.4030837 | 0.4176707 | 0.1792976 | 0.3604436 | 0.5009242 | 0.5619224 | 0.5339734 | 0.5709440 | 0.5242588 | 0.5915948 | 0.4644776 | 0.5371540 |\n",
       "| 5 | 0.6696035 | 0.7028112 | 0.6266174 | 0.6585903 | 0.6405622 | 0.2026432 | 0.1787149 | 0.6284658 | 0.1792976 | 0.3604436 | 0.5009242 | 0.6484490 | 0.6082533 | 0.6657682 | 0.6303879 | 0.6011940 | 0.5808645 |\n",
       "| 6 | 0.6453744 | 0.6566265 | 0.6099815 | 0.6696035 | 0.7028112 | 0.6585903 | 0.6405622 | 0.6266174 | 0.6284658 | 0.1792976 | 0.3604436 | 0.6514032 | 0.6122103 | 0.6718329 | 0.6271552 | 0.6137313 | 0.5750364 |\n",
       "\n"
      ],
      "text/plain": [
       "  ninth_hour tenth_hour eleventh_hour nine_lag_1 ten_lag_1 nine_lag_2 ten_lag_2\n",
       "1 0.5220264  0.5140562  0.5009242     0.6167401  0.5542169 0.6563877  0.6265060\n",
       "2 0.4030837  0.4176707  0.3604436     0.5220264  0.5140562 0.6167401  0.5542169\n",
       "3 0.2026432  0.1787149  0.1792976     0.4030837  0.4176707 0.5220264  0.5140562\n",
       "4 0.6585903  0.6405622  0.6284658     0.2026432  0.1787149 0.4030837  0.4176707\n",
       "5 0.6696035  0.7028112  0.6266174     0.6585903  0.6405622 0.2026432  0.1787149\n",
       "6 0.6453744  0.6566265  0.6099815     0.6696035  0.7028112 0.6585903  0.6405622\n",
       "  eleven_lag_1 eleven_lag_2 eleven_lag_3 eleven_lag_4 nine_rollmean_4\n",
       "1 0.5619224    0.6155268    0.5341959    0.3733826    0.3892171      \n",
       "2 0.5009242    0.5619224    0.6155268    0.5341959    0.4032496      \n",
       "3 0.3604436    0.5009242    0.5619224    0.6155268    0.4527326      \n",
       "4 0.1792976    0.3604436    0.5009242    0.5619224    0.5339734      \n",
       "5 0.6284658    0.1792976    0.3604436    0.5009242    0.6484490      \n",
       "6 0.6266174    0.6284658    0.1792976    0.3604436    0.6514032      \n",
       "  nine_rollmean_7 ten_rollmean_4 ten_rollmean_7 eleven_rollmean_4\n",
       "1 0.5839457       0.3517520      0.5317888      0.3217910        \n",
       "2 0.5924251       0.3807278      0.5711207      0.3432836        \n",
       "3 0.5895986       0.4440701      0.5792026      0.3838806        \n",
       "4 0.5709440       0.5242588      0.5915948      0.4644776        \n",
       "5 0.6082533       0.6657682      0.6303879      0.6011940        \n",
       "6 0.6122103       0.6718329      0.6271552      0.6137313        \n",
       "  eleven_rollmean_7\n",
       "1 0.5036425        \n",
       "2 0.5279262        \n",
       "3 0.5264692        \n",
       "4 0.5371540        \n",
       "5 0.5808645        \n",
       "6 0.5750364        "
      ]
     },
     "metadata": {},
     "output_type": "display_data"
    }
   ],
   "source": [
    "df_normalized <- as.data.frame(lapply(df_full[2:18], min_max_normalize))\n",
    "head(df_normalized)"
   ]
  },
  {
   "cell_type": "code",
   "execution_count": 2829,
   "metadata": {
    "vscode": {
     "languageId": "r"
    }
   },
   "outputs": [
    {
     "data": {
      "text/plain": [
       "   ninth_hour       tenth_hour     eleventh_hour      nine_lag_1    \n",
       " Min.   :0.0000   Min.   :0.0000   Min.   :0.0000   Min.   :0.0000  \n",
       " 1st Qu.:0.3392   1st Qu.:0.3394   1st Qu.:0.3364   1st Qu.:0.3414  \n",
       " Median :0.5176   Median :0.5382   Median :0.5268   Median :0.5198  \n",
       " Mean   :0.4943   Mean   :0.5065   Mean   :0.5052   Mean   :0.4954  \n",
       " 3rd Qu.:0.6630   3rd Qu.:0.6727   3rd Qu.:0.6747   3rd Qu.:0.6630  \n",
       " Max.   :1.0000   Max.   :1.0000   Max.   :1.0000   Max.   :1.0000  \n",
       "   ten_lag_1        nine_lag_2       ten_lag_2       eleven_lag_1   \n",
       " Min.   :0.0000   Min.   :0.0000   Min.   :0.0000   Min.   :0.0000  \n",
       " 1st Qu.:0.3394   1st Qu.:0.3414   1st Qu.:0.3414   1st Qu.:0.3383  \n",
       " Median :0.5382   Median :0.5198   Median :0.5402   Median :0.5305  \n",
       " Mean   :0.5076   Mean   :0.4960   Mean   :0.5082   Mean   :0.5063  \n",
       " 3rd Qu.:0.6727   3rd Qu.:0.6630   3rd Qu.:0.6727   3rd Qu.:0.6747  \n",
       " Max.   :1.0000   Max.   :1.0000   Max.   :1.0000   Max.   :1.0000  \n",
       "  eleven_lag_2     eleven_lag_3     eleven_lag_4    nine_rollmean_4 \n",
       " Min.   :0.0000   Min.   :0.0000   Min.   :0.0000   Min.   :0.0000  \n",
       " 1st Qu.:0.3420   1st Qu.:0.3420   1st Qu.:0.3420   1st Qu.:0.3065  \n",
       " Median :0.5305   Median :0.5323   Median :0.5305   Median :0.4439  \n",
       " Mean   :0.5069   Mean   :0.5071   Mean   :0.5067   Mean   :0.4677  \n",
       " 3rd Qu.:0.6747   3rd Qu.:0.6747   3rd Qu.:0.6747   3rd Qu.:0.6034  \n",
       " Max.   :1.0000   Max.   :1.0000   Max.   :1.0000   Max.   :1.0000  \n",
       " nine_rollmean_7  ten_rollmean_4   ten_rollmean_7   eleven_rollmean_4\n",
       " Min.   :0.0000   Min.   :0.0000   Min.   :0.0000   Min.   :0.0000   \n",
       " 1st Qu.:0.3561   1st Qu.:0.3221   1st Qu.:0.3831   1st Qu.:0.3182   \n",
       " Median :0.5065   Median :0.4549   Median :0.5345   Median :0.4388   \n",
       " Mean   :0.5250   Mean   :0.4734   Mean   :0.5486   Mean   :0.4573   \n",
       " 3rd Qu.:0.6699   3rd Qu.:0.6024   3rd Qu.:0.7010   3rd Qu.:0.5761   \n",
       " Max.   :1.0000   Max.   :1.0000   Max.   :1.0000   Max.   :1.0000   \n",
       " eleven_rollmean_7\n",
       " Min.   :0.0000   \n",
       " 1st Qu.:0.3798   \n",
       " Median :0.5367   \n",
       " Mean   :0.5460   \n",
       " 3rd Qu.:0.6999   \n",
       " Max.   :1.0000   "
      ]
     },
     "metadata": {},
     "output_type": "display_data"
    }
   ],
   "source": [
    "summary(df_normalized)"
   ]
  },
  {
   "cell_type": "code",
   "execution_count": 2830,
   "metadata": {
    "vscode": {
     "languageId": "r"
    }
   },
   "outputs": [
    {
     "data": {
      "text/html": [
       "<style>\n",
       ".list-inline {list-style: none; margin:0; padding: 0}\n",
       ".list-inline>li {display: inline-block}\n",
       ".list-inline>li:not(:last-child)::after {content: \"\\00b7\"; padding: 0 .5ex}\n",
       "</style>\n",
       "<ol class=list-inline><li>493</li><li>17</li></ol>\n"
      ],
      "text/latex": [
       "\\begin{enumerate*}\n",
       "\\item 493\n",
       "\\item 17\n",
       "\\end{enumerate*}\n"
      ],
      "text/markdown": [
       "1. 493\n",
       "2. 17\n",
       "\n",
       "\n"
      ],
      "text/plain": [
       "[1] 493  17"
      ]
     },
     "metadata": {},
     "output_type": "display_data"
    }
   ],
   "source": [
    "dim(df_normalized)"
   ]
  },
  {
   "cell_type": "code",
   "execution_count": 2831,
   "metadata": {
    "vscode": {
     "languageId": "r"
    }
   },
   "outputs": [],
   "source": [
    "set.seed(123)\n",
    "df_train <- df_normalized[1:430,]\n",
    "df_test <- df_normalized[431:493,]"
   ]
  },
  {
   "cell_type": "code",
   "execution_count": 2832,
   "metadata": {
    "vscode": {
     "languageId": "r"
    }
   },
   "outputs": [],
   "source": [
    "model_one_hidden_layer = function(arg, hidden_first, activation_fun, learning_rate, test_data, model_type) {\n",
    "    one_layer_nurelnet = neuralnet(arg,\n",
    "    data=df_train, \n",
    "    hidden = c(hidden_first), \n",
    "    linear.output = TRUE, \n",
    "    act.fct = activation_fun,\n",
    "    learningrate = learning_rate\n",
    "    )\n",
    "    results = compute(one_layer_nurelnet, test_data)\n",
    "    truth_column = df_full[431:493, 4]$eleventh_hour\n",
    "    predicted_column =  unnormalize_eleventh_hour(results$net.result)[,1]\n",
    "    \n",
    "    # output <- data.frame(actual=truth_column,predicted=predicted_column)\n",
    "    # print(output)\n",
    "    \n",
    "    results <- data.frame(\n",
    "        model_type = model_type, \n",
    "        hidden_layers = hidden_first, \n",
    "        RMSE = rmse(truth_column,predicted_column), \n",
    "        MAE = mae(truth_column, predicted_column), \n",
    "        MAPE =mape(truth_column, predicted_column),\n",
    "        act_function = activation_fun,\n",
    "        learning_rate = learning_rate)\n",
    "}"
   ]
  },
  {
   "cell_type": "code",
   "execution_count": 2833,
   "metadata": {
    "vscode": {
     "languageId": "r"
    }
   },
   "outputs": [],
   "source": [
    "model_two_hidden_layer = function(arg, hidden_first, hidden_second, activation_fun, learning_rate, test_data, model_type) {\n",
    "    one_layer_nurelnet = neuralnet(arg,\n",
    "    data=df_train, \n",
    "    hidden = c(hidden_first, hidden_second), \n",
    "    linear.output = TRUE, \n",
    "    act.fct = activation_fun,\n",
    "    learningrate = learning_rate\n",
    "    )\n",
    "    results = compute(one_layer_nurelnet, test_data)\n",
    "    truth_column = df_full[431:493, 4]$eleventh_hour\n",
    "    predicted_column =  unnormalize_eleventh_hour(results$net.result)[,1]\n",
    "\n",
    "    results <- data.frame(\n",
    "        model_type = model_type, \n",
    "        hidden_layers = paste0(hidden_first,\" and \",hidden_second), \n",
    "        RMSE = rmse(truth_column,predicted_column), \n",
    "        MAE = mae(truth_column, predicted_column), \n",
    "        MAPE =mape(truth_column, predicted_column),\n",
    "        act_function = activation_fun,\n",
    "        learning_rate = learning_rate)    \n",
    "}"
   ]
  },
  {
   "cell_type": "markdown",
   "metadata": {},
   "source": [
    "# Single Layer Neural Networks with different input sets and neurons"
   ]
  },
  {
   "cell_type": "markdown",
   "metadata": {},
   "source": [
    "1st lag"
   ]
  },
  {
   "cell_type": "code",
   "execution_count": 2834,
   "metadata": {
    "vscode": {
     "languageId": "r"
    }
   },
   "outputs": [],
   "source": [
    "set.seed(12345)"
   ]
  },
  {
   "cell_type": "code",
   "execution_count": 2835,
   "metadata": {
    "vscode": {
     "languageId": "r"
    }
   },
   "outputs": [
    {
     "data": {
      "text/plain": [
       "\n",
       "\n",
       "|model_type                   | hidden_layers|   RMSE|      MAE|      MAPE|act_function | learning_rate|\n",
       "|:----------------------------|-------------:|------:|--------:|---------:|:------------|-------------:|\n",
       "|First Set of Input Variables |             1| 4.5104| 3.176271| 0.0322746|logistic     |          0.01|\n",
       "\n",
       "|model_type                   | hidden_layers|    RMSE|      MAE|      MAPE|act_function | learning_rate|\n",
       "|:----------------------------|-------------:|-------:|--------:|---------:|:------------|-------------:|\n",
       "|First Set of Input Variables |             2| 4.39635| 3.015967| 0.0298124|logistic     |          0.01|\n",
       "\n",
       "|model_type                   | hidden_layers|    RMSE|      MAE|      MAPE|act_function | learning_rate|\n",
       "|:----------------------------|-------------:|-------:|--------:|---------:|:------------|-------------:|\n",
       "|First Set of Input Variables |             3| 4.36997| 2.962272| 0.0289265|logistic     |          0.01|\n",
       "\n",
       "|model_type                   | hidden_layers|     RMSE|      MAE|      MAPE|act_function | learning_rate|\n",
       "|:----------------------------|-------------:|--------:|--------:|---------:|:------------|-------------:|\n",
       "|First Set of Input Variables |             4| 4.379195| 2.978004| 0.0292111|logistic     |          0.01|\n",
       "\n",
       "|model_type                   | hidden_layers|    RMSE|      MAE|      MAPE|act_function | learning_rate|\n",
       "|:----------------------------|-------------:|-------:|--------:|---------:|:------------|-------------:|\n",
       "|First Set of Input Variables |             5| 4.58012| 3.205595| 0.0324052|logistic     |          0.01|\n",
       "\n",
       "|model_type                   | hidden_layers|     RMSE|      MAE|      MAPE|act_function | learning_rate|\n",
       "|:----------------------------|-------------:|--------:|--------:|---------:|:------------|-------------:|\n",
       "|First Set of Input Variables |             6| 4.427314| 3.006772| 0.0295682|logistic     |          0.01|\n",
       "\n",
       "|model_type                   | hidden_layers|     RMSE|      MAE|     MAPE|act_function | learning_rate|\n",
       "|:----------------------------|-------------:|--------:|--------:|--------:|:------------|-------------:|\n",
       "|First Set of Input Variables |             7| 4.504263| 3.123514| 0.031588|logistic     |          0.01|\n",
       "\n",
       "|model_type                   | hidden_layers|     RMSE|      MAE|      MAPE|act_function | learning_rate|\n",
       "|:----------------------------|-------------:|--------:|--------:|---------:|:------------|-------------:|\n",
       "|First Set of Input Variables |             8| 4.244565| 2.925624| 0.0279183|logistic     |          0.01|\n",
       "\n",
       "|model_type                   | hidden_layers|     RMSE|      MAE|      MAPE|act_function | learning_rate|\n",
       "|:----------------------------|-------------:|--------:|--------:|---------:|:------------|-------------:|\n",
       "|First Set of Input Variables |             9| 4.464161| 3.055865| 0.0301807|logistic     |          0.01|\n",
       "\n",
       "|model_type                   | hidden_layers|     RMSE|      MAE|      MAPE|act_function | learning_rate|\n",
       "|:----------------------------|-------------:|--------:|--------:|---------:|:------------|-------------:|\n",
       "|First Set of Input Variables |            10| 4.378542| 3.032207| 0.0295543|logistic     |          0.01|"
      ]
     },
     "metadata": {},
     "output_type": "display_data"
    }
   ],
   "source": [
    "one_layer_neuralnet_first_inset_result = lapply(1:10, function(n){ \n",
    "    model_one_hidden_layer(\n",
    "        \"eleventh_hour~ninth_hour+tenth_hour+nine_lag_1+ten_lag_1+eleven_lag_1\", \n",
    "        n, \n",
    "        \"logistic\", \n",
    "        0.01,\n",
    "        df_test[, c(1, 2, 4, 5, 8)],\n",
    "        \"First Set of Input Variables\"\n",
    "                        )\n",
    "    })\n",
    "kable(one_layer_neuralnet_first_inset_result[])"
   ]
  },
  {
   "cell_type": "markdown",
   "metadata": {},
   "source": [
    "2nd lag"
   ]
  },
  {
   "cell_type": "code",
   "execution_count": 2836,
   "metadata": {
    "vscode": {
     "languageId": "r"
    }
   },
   "outputs": [],
   "source": [
    "set.seed(12345)"
   ]
  },
  {
   "cell_type": "code",
   "execution_count": 2837,
   "metadata": {
    "vscode": {
     "languageId": "r"
    }
   },
   "outputs": [
    {
     "data": {
      "text/plain": [
       "\n",
       "\n",
       "|model_type                    | hidden_layers|     RMSE|      MAE|      MAPE|act_function | learning_rate|\n",
       "|:-----------------------------|-------------:|--------:|--------:|---------:|:------------|-------------:|\n",
       "|Second Set of Input Variables |             1| 4.432914| 3.095127| 0.0317683|logistic     |          0.01|\n",
       "\n",
       "|model_type                    | hidden_layers|     RMSE|      MAE|      MAPE|act_function | learning_rate|\n",
       "|:-----------------------------|-------------:|--------:|--------:|---------:|:------------|-------------:|\n",
       "|Second Set of Input Variables |             2| 4.418926| 3.103756| 0.0313264|logistic     |          0.01|\n",
       "\n",
       "|model_type                    | hidden_layers|    RMSE|      MAE|      MAPE|act_function | learning_rate|\n",
       "|:-----------------------------|-------------:|-------:|--------:|---------:|:------------|-------------:|\n",
       "|Second Set of Input Variables |             3| 4.35427| 3.020036| 0.0297098|logistic     |          0.01|\n",
       "\n",
       "|model_type                    | hidden_layers|     RMSE|      MAE|      MAPE|act_function | learning_rate|\n",
       "|:-----------------------------|-------------:|--------:|--------:|---------:|:------------|-------------:|\n",
       "|Second Set of Input Variables |             4| 4.286195| 2.865158| 0.0283621|logistic     |          0.01|\n",
       "\n",
       "|model_type                    | hidden_layers|     RMSE|      MAE|      MAPE|act_function | learning_rate|\n",
       "|:-----------------------------|-------------:|--------:|--------:|---------:|:------------|-------------:|\n",
       "|Second Set of Input Variables |             5| 4.369226| 3.075439| 0.0308539|logistic     |          0.01|\n",
       "\n",
       "|model_type                    | hidden_layers|     RMSE|      MAE|     MAPE|act_function | learning_rate|\n",
       "|:-----------------------------|-------------:|--------:|--------:|--------:|:------------|-------------:|\n",
       "|Second Set of Input Variables |             6| 4.405174| 3.027871| 0.029944|logistic     |          0.01|\n",
       "\n",
       "|model_type                    | hidden_layers|     RMSE|      MAE|     MAPE|act_function | learning_rate|\n",
       "|:-----------------------------|-------------:|--------:|--------:|--------:|:------------|-------------:|\n",
       "|Second Set of Input Variables |             7| 4.470024| 3.059079| 0.029763|logistic     |          0.01|\n",
       "\n",
       "|model_type                    | hidden_layers|     RMSE|      MAE|      MAPE|act_function | learning_rate|\n",
       "|:-----------------------------|-------------:|--------:|--------:|---------:|:------------|-------------:|\n",
       "|Second Set of Input Variables |             8| 4.301791| 2.997294| 0.0302934|logistic     |          0.01|\n",
       "\n",
       "|model_type                    | hidden_layers|     RMSE|     MAE|      MAPE|act_function | learning_rate|\n",
       "|:-----------------------------|-------------:|--------:|-------:|---------:|:------------|-------------:|\n",
       "|Second Set of Input Variables |             9| 4.451674| 3.12495| 0.0310511|logistic     |          0.01|\n",
       "\n",
       "|model_type                    | hidden_layers|     RMSE|      MAE|      MAPE|act_function | learning_rate|\n",
       "|:-----------------------------|-------------:|--------:|--------:|---------:|:------------|-------------:|\n",
       "|Second Set of Input Variables |            10| 4.648676| 3.144336| 0.0311912|logistic     |          0.01|"
      ]
     },
     "metadata": {},
     "output_type": "display_data"
    }
   ],
   "source": [
    "one_layer_neuralnet_second_inset_result = lapply(1:10, function(n){ \n",
    "    model_one_hidden_layer(\n",
    "        \"eleventh_hour~ninth_hour+tenth_hour+nine_lag_1+ten_lag_1+eleven_lag_1+nine_lag_2+ten_lag_2+eleven_lag_2\", \n",
    "        n, \n",
    "        \"logistic\", \n",
    "        0.01,\n",
    "        df_test[, c(1, 2, 4, 5, 8, 6, 7, 9)],\n",
    "        \"Second Set of Input Variables\"\n",
    "                        )\n",
    "    })\n",
    "kable(one_layer_neuralnet_second_inset_result[])"
   ]
  },
  {
   "cell_type": "markdown",
   "metadata": {},
   "source": [
    "3rd lag"
   ]
  },
  {
   "cell_type": "code",
   "execution_count": 2838,
   "metadata": {
    "vscode": {
     "languageId": "r"
    }
   },
   "outputs": [],
   "source": [
    "set.seed(12345)"
   ]
  },
  {
   "cell_type": "code",
   "execution_count": 2839,
   "metadata": {
    "vscode": {
     "languageId": "r"
    }
   },
   "outputs": [
    {
     "data": {
      "text/plain": [
       "\n",
       "\n",
       "|model_type                   | hidden_layers|     RMSE|      MAE|      MAPE|act_function | learning_rate|\n",
       "|:----------------------------|-------------:|--------:|--------:|---------:|:------------|-------------:|\n",
       "|Third Set of Input Variables |             1| 3.395186| 2.334113| 0.0235285|logistic     |          0.01|\n",
       "\n",
       "|model_type                   | hidden_layers|     RMSE|      MAE|     MAPE|act_function | learning_rate|\n",
       "|:----------------------------|-------------:|--------:|--------:|--------:|:------------|-------------:|\n",
       "|Third Set of Input Variables |             2| 3.338284| 2.329975| 0.024222|logistic     |          0.01|\n",
       "\n",
       "|model_type                   | hidden_layers|     RMSE|     MAE|      MAPE|act_function | learning_rate|\n",
       "|:----------------------------|-------------:|--------:|-------:|---------:|:------------|-------------:|\n",
       "|Third Set of Input Variables |             3| 3.125335| 2.21461| 0.0212598|logistic     |          0.01|\n",
       "\n",
       "|model_type                   | hidden_layers|     RMSE|      MAE|      MAPE|act_function | learning_rate|\n",
       "|:----------------------------|-------------:|--------:|--------:|---------:|:------------|-------------:|\n",
       "|Third Set of Input Variables |             4| 3.387892| 2.350998| 0.0226527|logistic     |          0.01|\n",
       "\n",
       "|model_type                   | hidden_layers|     RMSE|      MAE|     MAPE|act_function | learning_rate|\n",
       "|:----------------------------|-------------:|--------:|--------:|--------:|:------------|-------------:|\n",
       "|Third Set of Input Variables |             5| 3.043639| 2.150009| 0.021059|logistic     |          0.01|\n",
       "\n",
       "|model_type                   | hidden_layers|     RMSE|      MAE|      MAPE|act_function | learning_rate|\n",
       "|:----------------------------|-------------:|--------:|--------:|---------:|:------------|-------------:|\n",
       "|Third Set of Input Variables |             6| 3.326778| 2.519535| 0.0257818|logistic     |          0.01|\n",
       "\n",
       "|model_type                   | hidden_layers|     RMSE|      MAE|     MAPE|act_function | learning_rate|\n",
       "|:----------------------------|-------------:|--------:|--------:|--------:|:------------|-------------:|\n",
       "|Third Set of Input Variables |             7| 3.474811| 2.438477| 0.023838|logistic     |          0.01|\n",
       "\n",
       "|model_type                   | hidden_layers|     RMSE|      MAE|      MAPE|act_function | learning_rate|\n",
       "|:----------------------------|-------------:|--------:|--------:|---------:|:------------|-------------:|\n",
       "|Third Set of Input Variables |             8| 3.362204| 2.475763| 0.0245321|logistic     |          0.01|\n",
       "\n",
       "|model_type                   | hidden_layers|    RMSE|      MAE|      MAPE|act_function | learning_rate|\n",
       "|:----------------------------|-------------:|-------:|--------:|---------:|:------------|-------------:|\n",
       "|Third Set of Input Variables |             9| 3.11496| 2.298332| 0.0228325|logistic     |          0.01|\n",
       "\n",
       "|model_type                   | hidden_layers|     RMSE|      MAE|     MAPE|act_function | learning_rate|\n",
       "|:----------------------------|-------------:|--------:|--------:|--------:|:------------|-------------:|\n",
       "|Third Set of Input Variables |            10| 3.265343| 2.405955| 0.024098|logistic     |          0.01|"
      ]
     },
     "metadata": {},
     "output_type": "display_data"
    }
   ],
   "source": [
    "one_layer_neuralnet_third_inset_result = lapply(1:10, function(n){ \n",
    "    model_one_hidden_layer(\n",
    "        \"eleventh_hour~ninth_hour+tenth_hour+nine_lag_1+ten_lag_1+eleven_lag_1+nine_lag_2+ten_lag_2+eleven_lag_2+eleven_lag_3+nine_rollmean_4+ten_rollmean_4+eleven_rollmean_4\", \n",
    "        n, \n",
    "        \"logistic\", \n",
    "        0.01,\n",
    "        df_test[, c(1, 2, 4, 5, 8, 6, 7, 9, 10, 12, 14, 16)],\n",
    "        \"Third Set of Input Variables\"\n",
    "                        )\n",
    "    })\n",
    "kable(one_layer_neuralnet_third_inset_result[])"
   ]
  },
  {
   "cell_type": "markdown",
   "metadata": {},
   "source": [
    "4th lag"
   ]
  },
  {
   "cell_type": "code",
   "execution_count": 2840,
   "metadata": {
    "vscode": {
     "languageId": "r"
    }
   },
   "outputs": [],
   "source": [
    "set.seed(12345)"
   ]
  },
  {
   "cell_type": "code",
   "execution_count": 2841,
   "metadata": {
    "vscode": {
     "languageId": "r"
    }
   },
   "outputs": [
    {
     "data": {
      "text/plain": [
       "\n",
       "\n",
       "|model_type                   | hidden_layers|    RMSE|      MAE|      MAPE|act_function | learning_rate|\n",
       "|:----------------------------|-------------:|-------:|--------:|---------:|:------------|-------------:|\n",
       "|Third Set of Input Variables |             1| 3.72896| 2.586725| 0.0263653|logistic     |          0.01|\n",
       "\n",
       "|model_type                   | hidden_layers|     RMSE|      MAE|      MAPE|act_function | learning_rate|\n",
       "|:----------------------------|-------------:|--------:|--------:|---------:|:------------|-------------:|\n",
       "|Third Set of Input Variables |             2| 3.599836| 2.430677| 0.0235381|logistic     |          0.01|\n",
       "\n",
       "|model_type                   | hidden_layers|     RMSE|      MAE|      MAPE|act_function | learning_rate|\n",
       "|:----------------------------|-------------:|--------:|--------:|---------:|:------------|-------------:|\n",
       "|Third Set of Input Variables |             3| 3.425955| 2.387245| 0.0232594|logistic     |          0.01|\n",
       "\n",
       "|model_type                   | hidden_layers|     RMSE|      MAE|      MAPE|act_function | learning_rate|\n",
       "|:----------------------------|-------------:|--------:|--------:|---------:|:------------|-------------:|\n",
       "|Third Set of Input Variables |             4| 3.776237| 2.646182| 0.0262935|logistic     |          0.01|\n",
       "\n",
       "|model_type                   | hidden_layers|     RMSE|      MAE|      MAPE|act_function | learning_rate|\n",
       "|:----------------------------|-------------:|--------:|--------:|---------:|:------------|-------------:|\n",
       "|Third Set of Input Variables |             5| 3.639989| 2.509691| 0.0245215|logistic     |          0.01|\n",
       "\n",
       "|model_type                   | hidden_layers|    RMSE|      MAE|      MAPE|act_function | learning_rate|\n",
       "|:----------------------------|-------------:|-------:|--------:|---------:|:------------|-------------:|\n",
       "|Third Set of Input Variables |             6| 3.48725| 2.352038| 0.0222233|logistic     |          0.01|\n",
       "\n",
       "|model_type                   | hidden_layers|     RMSE|      MAE|      MAPE|act_function | learning_rate|\n",
       "|:----------------------------|-------------:|--------:|--------:|---------:|:------------|-------------:|\n",
       "|Third Set of Input Variables |             7| 3.574555| 2.415732| 0.0234114|logistic     |          0.01|\n",
       "\n",
       "|model_type                   | hidden_layers|     RMSE|      MAE|      MAPE|act_function | learning_rate|\n",
       "|:----------------------------|-------------:|--------:|--------:|---------:|:------------|-------------:|\n",
       "|Third Set of Input Variables |             8| 3.558247| 2.505562| 0.0236753|logistic     |          0.01|\n",
       "\n",
       "|model_type                   | hidden_layers|     RMSE|      MAE|     MAPE|act_function | learning_rate|\n",
       "|:----------------------------|-------------:|--------:|--------:|--------:|:------------|-------------:|\n",
       "|Third Set of Input Variables |             9| 3.578875| 2.490021| 0.023764|logistic     |          0.01|\n",
       "\n",
       "|model_type                   | hidden_layers|     RMSE|      MAE|      MAPE|act_function | learning_rate|\n",
       "|:----------------------------|-------------:|--------:|--------:|---------:|:------------|-------------:|\n",
       "|Third Set of Input Variables |            10| 3.514936| 2.403229| 0.0223679|logistic     |          0.01|"
      ]
     },
     "metadata": {},
     "output_type": "display_data"
    }
   ],
   "source": [
    "one_layer_neuralnet_forth_inset_result = lapply(1:10, function(n){ \n",
    "    model_one_hidden_layer(\n",
    "        \"eleventh_hour~ninth_hour+tenth_hour+nine_rollmean_4+ten_rollmean_4+eleven_rollmean_4+nine_rollmean_7+ten_rollmean_7+eleven_rollmean_7\", \n",
    "        n, \n",
    "        \"logistic\", \n",
    "        0.01,\n",
    "        df_test[, c(1, 2, 12, 14, 16, 13, 15, 17)],\n",
    "        \"Third Set of Input Variables\"\n",
    "                        )\n",
    "    })\n",
    "kable(one_layer_neuralnet_forth_inset_result[])"
   ]
  },
  {
   "cell_type": "markdown",
   "metadata": {},
   "source": [
    "##### minimum error in each input set"
   ]
  },
  {
   "cell_type": "code",
   "execution_count": 2842,
   "metadata": {
    "vscode": {
     "languageId": "r"
    }
   },
   "outputs": [
    {
     "data": {
      "text/plain": [
       "\n",
       "\n",
       "|model_type                   | hidden_layers|     RMSE|      MAE|      MAPE|act_function | learning_rate|\n",
       "|:----------------------------|-------------:|--------:|--------:|---------:|:------------|-------------:|\n",
       "|First Set of Input Variables |             8| 4.244565| 2.925624| 0.0279183|logistic     |          0.01|"
      ]
     },
     "metadata": {},
     "output_type": "display_data"
    }
   ],
   "source": [
    "kable(one_layer_neuralnet_first_inset_result[8])"
   ]
  },
  {
   "cell_type": "code",
   "execution_count": 2843,
   "metadata": {
    "vscode": {
     "languageId": "r"
    }
   },
   "outputs": [
    {
     "data": {
      "text/plain": [
       "\n",
       "\n",
       "|model_type                    | hidden_layers|     RMSE|      MAE|      MAPE|act_function | learning_rate|\n",
       "|:-----------------------------|-------------:|--------:|--------:|---------:|:------------|-------------:|\n",
       "|Second Set of Input Variables |             4| 4.286195| 2.865158| 0.0283621|logistic     |          0.01|"
      ]
     },
     "metadata": {},
     "output_type": "display_data"
    }
   ],
   "source": [
    "kable(one_layer_neuralnet_second_inset_result[4])"
   ]
  },
  {
   "cell_type": "code",
   "execution_count": 2844,
   "metadata": {
    "vscode": {
     "languageId": "r"
    }
   },
   "outputs": [
    {
     "data": {
      "text/plain": [
       "\n",
       "\n",
       "|model_type                   | hidden_layers|     RMSE|      MAE|     MAPE|act_function | learning_rate|\n",
       "|:----------------------------|-------------:|--------:|--------:|--------:|:------------|-------------:|\n",
       "|Third Set of Input Variables |             5| 3.043639| 2.150009| 0.021059|logistic     |          0.01|"
      ]
     },
     "metadata": {},
     "output_type": "display_data"
    }
   ],
   "source": [
    "kable(one_layer_neuralnet_third_inset_result[5])"
   ]
  },
  {
   "cell_type": "code",
   "execution_count": 2845,
   "metadata": {
    "vscode": {
     "languageId": "r"
    }
   },
   "outputs": [
    {
     "data": {
      "text/plain": [
       "\n",
       "\n",
       "|model_type                   | hidden_layers|     RMSE|      MAE|      MAPE|act_function | learning_rate|\n",
       "|:----------------------------|-------------:|--------:|--------:|---------:|:------------|-------------:|\n",
       "|Third Set of Input Variables |             3| 3.425955| 2.387245| 0.0232594|logistic     |          0.01|"
      ]
     },
     "metadata": {},
     "output_type": "display_data"
    }
   ],
   "source": [
    "kable(one_layer_neuralnet_forth_inset_result[3])"
   ]
  },
  {
   "cell_type": "markdown",
   "metadata": {},
   "source": [
    "among above network structures network with 5 nodes in hidden layer and 3rd input set shows the minimum error"
   ]
  },
  {
   "cell_type": "code",
   "execution_count": 2846,
   "metadata": {
    "vscode": {
     "languageId": "r"
    }
   },
   "outputs": [
    {
     "data": {
      "text/plain": [
       "\n",
       "\n",
       "|model_type                   | hidden_layers|     RMSE|      MAE|     MAPE|act_function | learning_rate|\n",
       "|:----------------------------|-------------:|--------:|--------:|--------:|:------------|-------------:|\n",
       "|Third Set of Input Variables |             5| 3.043639| 2.150009| 0.021059|logistic     |          0.01|"
      ]
     },
     "metadata": {},
     "output_type": "display_data"
    }
   ],
   "source": [
    "kable(one_layer_neuralnet_third_inset_result[5])"
   ]
  },
  {
   "cell_type": "markdown",
   "metadata": {},
   "source": [
    "# Two hidden layer Neural Networks with different input sets and neurons"
   ]
  },
  {
   "cell_type": "markdown",
   "metadata": {},
   "source": [
    "1st lag"
   ]
  },
  {
   "cell_type": "code",
   "execution_count": 2847,
   "metadata": {
    "vscode": {
     "languageId": "r"
    }
   },
   "outputs": [],
   "source": [
    "set.seed(12345)"
   ]
  },
  {
   "cell_type": "code",
   "execution_count": 2848,
   "metadata": {
    "vscode": {
     "languageId": "r"
    }
   },
   "outputs": [
    {
     "data": {
      "text/plain": [
       "\n",
       "\n",
       "|model_type                                        |hidden_layers |     RMSE|      MAE|      MAPE|act_function | learning_rate|\n",
       "|:-------------------------------------------------|:-------------|--------:|--------:|---------:|:------------|-------------:|\n",
       "|First Set of Input Variables with 2 hidden layers |1 and 5       | 4.493304| 3.119044| 0.0321206|logistic     |          0.01|\n",
       "\n",
       "|model_type                                        |hidden_layers |     RMSE|      MAE|      MAPE|act_function | learning_rate|\n",
       "|:-------------------------------------------------|:-------------|--------:|--------:|---------:|:------------|-------------:|\n",
       "|First Set of Input Variables with 2 hidden layers |1 and 6       | 4.463649| 3.082065| 0.0308966|logistic     |          0.01|\n",
       "\n",
       "|model_type                                        |hidden_layers |     RMSE|      MAE|      MAPE|act_function | learning_rate|\n",
       "|:-------------------------------------------------|:-------------|--------:|--------:|---------:|:------------|-------------:|\n",
       "|First Set of Input Variables with 2 hidden layers |1 and 7       | 4.523226| 3.179977| 0.0325176|logistic     |          0.01|\n",
       "\n",
       "|model_type                                        |hidden_layers |     RMSE|      MAE|      MAPE|act_function | learning_rate|\n",
       "|:-------------------------------------------------|:-------------|--------:|--------:|---------:|:------------|-------------:|\n",
       "|First Set of Input Variables with 2 hidden layers |1 and 8       | 4.499311| 3.152093| 0.0325828|logistic     |          0.01|\n",
       "\n",
       "|model_type                                        |hidden_layers |    RMSE|      MAE|      MAPE|act_function | learning_rate|\n",
       "|:-------------------------------------------------|:-------------|-------:|--------:|---------:|:------------|-------------:|\n",
       "|First Set of Input Variables with 2 hidden layers |1 and 9       | 4.48343| 3.107911| 0.0319545|logistic     |          0.01|\n",
       "\n",
       "|model_type                                        |hidden_layers |     RMSE|      MAE|      MAPE|act_function | learning_rate|\n",
       "|:-------------------------------------------------|:-------------|--------:|--------:|---------:|:------------|-------------:|\n",
       "|First Set of Input Variables with 2 hidden layers |1 and 10      | 4.451236| 3.056808| 0.0297906|logistic     |          0.01|\n",
       "\n",
       "|model_type                                        |hidden_layers |     RMSE|      MAE|      MAPE|act_function | learning_rate|\n",
       "|:-------------------------------------------------|:-------------|--------:|--------:|---------:|:------------|-------------:|\n",
       "|First Set of Input Variables with 2 hidden layers |2 and 5       | 4.562151| 3.175122| 0.0320986|logistic     |          0.01|\n",
       "\n",
       "|model_type                                        |hidden_layers |    RMSE|     MAE|      MAPE|act_function | learning_rate|\n",
       "|:-------------------------------------------------|:-------------|-------:|-------:|---------:|:------------|-------------:|\n",
       "|First Set of Input Variables with 2 hidden layers |2 and 6       | 4.62097| 3.28745| 0.0335985|logistic     |          0.01|\n",
       "\n",
       "|model_type                                        |hidden_layers |     RMSE|     MAE|      MAPE|act_function | learning_rate|\n",
       "|:-------------------------------------------------|:-------------|--------:|-------:|---------:|:------------|-------------:|\n",
       "|First Set of Input Variables with 2 hidden layers |2 and 7       | 4.467277| 3.08719| 0.0312333|logistic     |          0.01|\n",
       "\n",
       "|model_type                                        |hidden_layers |     RMSE|      MAE|      MAPE|act_function | learning_rate|\n",
       "|:-------------------------------------------------|:-------------|--------:|--------:|---------:|:------------|-------------:|\n",
       "|First Set of Input Variables with 2 hidden layers |2 and 8       | 4.487984| 3.070949| 0.0306327|logistic     |          0.01|\n",
       "\n",
       "|model_type                                        |hidden_layers |     RMSE|      MAE|     MAPE|act_function | learning_rate|\n",
       "|:-------------------------------------------------|:-------------|--------:|--------:|--------:|:------------|-------------:|\n",
       "|First Set of Input Variables with 2 hidden layers |2 and 9       | 4.443732| 3.066724| 0.031323|logistic     |          0.01|\n",
       "\n",
       "|model_type                                        |hidden_layers |     RMSE|      MAE|      MAPE|act_function | learning_rate|\n",
       "|:-------------------------------------------------|:-------------|--------:|--------:|---------:|:------------|-------------:|\n",
       "|First Set of Input Variables with 2 hidden layers |2 and 10      | 4.538075| 3.096928| 0.0306971|logistic     |          0.01|\n",
       "\n",
       "|model_type                                        |hidden_layers |     RMSE|      MAE|     MAPE|act_function | learning_rate|\n",
       "|:-------------------------------------------------|:-------------|--------:|--------:|--------:|:------------|-------------:|\n",
       "|First Set of Input Variables with 2 hidden layers |3 and 5       | 4.471444| 3.038532| 0.030674|logistic     |          0.01|\n",
       "\n",
       "|model_type                                        |hidden_layers |     RMSE|      MAE|      MAPE|act_function | learning_rate|\n",
       "|:-------------------------------------------------|:-------------|--------:|--------:|---------:|:------------|-------------:|\n",
       "|First Set of Input Variables with 2 hidden layers |3 and 6       | 4.444446| 3.253263| 0.0324126|logistic     |          0.01|\n",
       "\n",
       "|model_type                                        |hidden_layers |     RMSE|     MAE|      MAPE|act_function | learning_rate|\n",
       "|:-------------------------------------------------|:-------------|--------:|-------:|---------:|:------------|-------------:|\n",
       "|First Set of Input Variables with 2 hidden layers |3 and 7       | 4.555306| 3.20652| 0.0324425|logistic     |          0.01|\n",
       "\n",
       "|model_type                                        |hidden_layers |     RMSE|     MAE|      MAPE|act_function | learning_rate|\n",
       "|:-------------------------------------------------|:-------------|--------:|-------:|---------:|:------------|-------------:|\n",
       "|First Set of Input Variables with 2 hidden layers |3 and 8       | 4.597055| 3.27406| 0.0324034|logistic     |          0.01|\n",
       "\n",
       "|model_type                                        |hidden_layers |     RMSE|      MAE|     MAPE|act_function | learning_rate|\n",
       "|:-------------------------------------------------|:-------------|--------:|--------:|--------:|:------------|-------------:|\n",
       "|First Set of Input Variables with 2 hidden layers |3 and 9       | 4.458334| 3.073886| 0.029937|logistic     |          0.01|\n",
       "\n",
       "|model_type                                        |hidden_layers |     RMSE|      MAE|      MAPE|act_function | learning_rate|\n",
       "|:-------------------------------------------------|:-------------|--------:|--------:|---------:|:------------|-------------:|\n",
       "|First Set of Input Variables with 2 hidden layers |3 and 10      | 4.556972| 3.238575| 0.0332705|logistic     |          0.01|\n",
       "\n",
       "|model_type                                        |hidden_layers |     RMSE|      MAE|      MAPE|act_function | learning_rate|\n",
       "|:-------------------------------------------------|:-------------|--------:|--------:|---------:|:------------|-------------:|\n",
       "|First Set of Input Variables with 2 hidden layers |4 and 5       | 4.510413| 3.145681| 0.0315321|logistic     |          0.01|\n",
       "\n",
       "|model_type                                        |hidden_layers |     RMSE|      MAE|      MAPE|act_function | learning_rate|\n",
       "|:-------------------------------------------------|:-------------|--------:|--------:|---------:|:------------|-------------:|\n",
       "|First Set of Input Variables with 2 hidden layers |4 and 6       | 4.453861| 3.128138| 0.0310307|logistic     |          0.01|\n",
       "\n",
       "|model_type                                        |hidden_layers |     RMSE|      MAE|      MAPE|act_function | learning_rate|\n",
       "|:-------------------------------------------------|:-------------|--------:|--------:|---------:|:------------|-------------:|\n",
       "|First Set of Input Variables with 2 hidden layers |4 and 7       | 4.596173| 3.209166| 0.0331246|logistic     |          0.01|\n",
       "\n",
       "|model_type                                        |hidden_layers |     RMSE|      MAE|      MAPE|act_function | learning_rate|\n",
       "|:-------------------------------------------------|:-------------|--------:|--------:|---------:|:------------|-------------:|\n",
       "|First Set of Input Variables with 2 hidden layers |4 and 8       | 4.411419| 3.015224| 0.0294499|logistic     |          0.01|\n",
       "\n",
       "|model_type                                        |hidden_layers |     RMSE|      MAE|     MAPE|act_function | learning_rate|\n",
       "|:-------------------------------------------------|:-------------|--------:|--------:|--------:|:------------|-------------:|\n",
       "|First Set of Input Variables with 2 hidden layers |4 and 9       | 4.337965| 2.885699| 0.027757|logistic     |          0.01|\n",
       "\n",
       "|model_type                                        |hidden_layers |     RMSE|      MAE|      MAPE|act_function | learning_rate|\n",
       "|:-------------------------------------------------|:-------------|--------:|--------:|---------:|:------------|-------------:|\n",
       "|First Set of Input Variables with 2 hidden layers |4 and 10      | 4.445479| 3.043685| 0.0302457|logistic     |          0.01|\n",
       "\n",
       "|model_type                                        |hidden_layers |     RMSE|      MAE|      MAPE|act_function | learning_rate|\n",
       "|:-------------------------------------------------|:-------------|--------:|--------:|---------:|:------------|-------------:|\n",
       "|First Set of Input Variables with 2 hidden layers |5 and 5       | 4.410234| 2.936813| 0.0285797|logistic     |          0.01|\n",
       "\n",
       "|model_type                                        |hidden_layers |     RMSE|      MAE|      MAPE|act_function | learning_rate|\n",
       "|:-------------------------------------------------|:-------------|--------:|--------:|---------:|:------------|-------------:|\n",
       "|First Set of Input Variables with 2 hidden layers |5 and 6       | 4.400389| 3.046242| 0.0303068|logistic     |          0.01|\n",
       "\n",
       "|model_type                                        |hidden_layers |     RMSE|     MAE|      MAPE|act_function | learning_rate|\n",
       "|:-------------------------------------------------|:-------------|--------:|-------:|---------:|:------------|-------------:|\n",
       "|First Set of Input Variables with 2 hidden layers |5 and 7       | 4.539069| 3.16276| 0.0312834|logistic     |          0.01|\n",
       "\n",
       "|model_type                                        |hidden_layers |     RMSE|      MAE|      MAPE|act_function | learning_rate|\n",
       "|:-------------------------------------------------|:-------------|--------:|--------:|---------:|:------------|-------------:|\n",
       "|First Set of Input Variables with 2 hidden layers |5 and 8       | 4.368982| 3.032651| 0.0294969|logistic     |          0.01|\n",
       "\n",
       "|model_type                                        |hidden_layers |    RMSE|      MAE|      MAPE|act_function | learning_rate|\n",
       "|:-------------------------------------------------|:-------------|-------:|--------:|---------:|:------------|-------------:|\n",
       "|First Set of Input Variables with 2 hidden layers |5 and 9       | 4.24619| 2.908348| 0.0287704|logistic     |          0.01|\n",
       "\n",
       "|model_type                                        |hidden_layers |     RMSE|      MAE|      MAPE|act_function | learning_rate|\n",
       "|:-------------------------------------------------|:-------------|--------:|--------:|---------:|:------------|-------------:|\n",
       "|First Set of Input Variables with 2 hidden layers |5 and 10      | 4.417881| 2.963818| 0.0288887|logistic     |          0.01|\n",
       "\n",
       "|model_type                                        |hidden_layers |    RMSE|      MAE|      MAPE|act_function | learning_rate|\n",
       "|:-------------------------------------------------|:-------------|-------:|--------:|---------:|:------------|-------------:|\n",
       "|First Set of Input Variables with 2 hidden layers |6 and 5       | 4.41302| 3.088879| 0.0304161|logistic     |          0.01|\n",
       "\n",
       "|model_type                                        |hidden_layers |     RMSE|      MAE|      MAPE|act_function | learning_rate|\n",
       "|:-------------------------------------------------|:-------------|--------:|--------:|---------:|:------------|-------------:|\n",
       "|First Set of Input Variables with 2 hidden layers |6 and 6       | 4.477471| 2.952223| 0.0285608|logistic     |          0.01|\n",
       "\n",
       "|model_type                                        |hidden_layers |     RMSE|     MAE|     MAPE|act_function | learning_rate|\n",
       "|:-------------------------------------------------|:-------------|--------:|-------:|--------:|:------------|-------------:|\n",
       "|First Set of Input Variables with 2 hidden layers |6 and 7       | 4.495406| 3.12904| 0.031879|logistic     |          0.01|\n",
       "\n",
       "|model_type                                        |hidden_layers |     RMSE|      MAE|      MAPE|act_function | learning_rate|\n",
       "|:-------------------------------------------------|:-------------|--------:|--------:|---------:|:------------|-------------:|\n",
       "|First Set of Input Variables with 2 hidden layers |6 and 8       | 4.516408| 3.120619| 0.0309544|logistic     |          0.01|\n",
       "\n",
       "|model_type                                        |hidden_layers |     RMSE|      MAE|      MAPE|act_function | learning_rate|\n",
       "|:-------------------------------------------------|:-------------|--------:|--------:|---------:|:------------|-------------:|\n",
       "|First Set of Input Variables with 2 hidden layers |6 and 9       | 4.441103| 3.074378| 0.0308292|logistic     |          0.01|\n",
       "\n",
       "|model_type                                        |hidden_layers |     RMSE|      MAE|     MAPE|act_function | learning_rate|\n",
       "|:-------------------------------------------------|:-------------|--------:|--------:|--------:|:------------|-------------:|\n",
       "|First Set of Input Variables with 2 hidden layers |6 and 10      | 4.449569| 3.020678| 0.029277|logistic     |          0.01|"
      ]
     },
     "metadata": {},
     "output_type": "display_data"
    }
   ],
   "source": [
    "two_layer_neuralnet_first_inset_result = lapply(1:6, function(n){ \n",
    "    lapply(5:10, function(m){\n",
    "    model_two_hidden_layer(\n",
    "        \"eleventh_hour~ninth_hour+tenth_hour+nine_lag_1+ten_lag_1+eleven_lag_1\", \n",
    "        n,\n",
    "        m, \n",
    "        \"logistic\", \n",
    "        0.01,\n",
    "        df_test[, c(1, 2, 4, 5, 8)],\n",
    "        \"First Set of Input Variables with 2 hidden layers\"\n",
    "                        )\n",
    "    })})\n",
    "kable(two_layer_neuralnet_first_inset_result[])"
   ]
  },
  {
   "cell_type": "markdown",
   "metadata": {},
   "source": [
    "2nd lag"
   ]
  },
  {
   "cell_type": "code",
   "execution_count": 2849,
   "metadata": {
    "vscode": {
     "languageId": "r"
    }
   },
   "outputs": [],
   "source": [
    "set.seed(12345)"
   ]
  },
  {
   "cell_type": "code",
   "execution_count": 2850,
   "metadata": {
    "vscode": {
     "languageId": "r"
    }
   },
   "outputs": [
    {
     "data": {
      "text/plain": [
       "\n",
       "\n",
       "|model_type                                         |hidden_layers |    RMSE|      MAE|      MAPE|act_function | learning_rate|\n",
       "|:--------------------------------------------------|:-------------|-------:|--------:|---------:|:------------|-------------:|\n",
       "|Second Set of Input Variables with 2 hidden layers |1 and 5       | 4.45726| 3.131726| 0.0323189|logistic     |          0.01|\n",
       "\n",
       "|model_type                                         |hidden_layers |     RMSE|      MAE|      MAPE|act_function | learning_rate|\n",
       "|:--------------------------------------------------|:-------------|--------:|--------:|---------:|:------------|-------------:|\n",
       "|Second Set of Input Variables with 2 hidden layers |1 and 6       | 4.292334| 2.901089| 0.0285562|logistic     |          0.01|\n",
       "\n",
       "|model_type                                         |hidden_layers |     RMSE|      MAE|     MAPE|act_function | learning_rate|\n",
       "|:--------------------------------------------------|:-------------|--------:|--------:|--------:|:------------|-------------:|\n",
       "|Second Set of Input Variables with 2 hidden layers |1 and 7       | 4.472202| 3.141077| 0.032471|logistic     |          0.01|\n",
       "\n",
       "|model_type                                         |hidden_layers |     RMSE|      MAE|      MAPE|act_function | learning_rate|\n",
       "|:--------------------------------------------------|:-------------|--------:|--------:|---------:|:------------|-------------:|\n",
       "|Second Set of Input Variables with 2 hidden layers |1 and 8       | 4.465132| 3.156189| 0.0326441|logistic     |          0.01|\n",
       "\n",
       "|model_type                                         |hidden_layers |     RMSE|      MAE|      MAPE|act_function | learning_rate|\n",
       "|:--------------------------------------------------|:-------------|--------:|--------:|---------:|:------------|-------------:|\n",
       "|Second Set of Input Variables with 2 hidden layers |1 and 9       | 4.365291| 3.041698| 0.0304061|logistic     |          0.01|\n",
       "\n",
       "|model_type                                         |hidden_layers |     RMSE|      MAE|      MAPE|act_function | learning_rate|\n",
       "|:--------------------------------------------------|:-------------|--------:|--------:|---------:|:------------|-------------:|\n",
       "|Second Set of Input Variables with 2 hidden layers |1 and 10      | 4.473847| 3.113541| 0.0324926|logistic     |          0.01|\n",
       "\n",
       "|model_type                                         |hidden_layers |    RMSE|      MAE|      MAPE|act_function | learning_rate|\n",
       "|:--------------------------------------------------|:-------------|-------:|--------:|---------:|:------------|-------------:|\n",
       "|Second Set of Input Variables with 2 hidden layers |2 and 5       | 4.41464| 3.079245| 0.0313166|logistic     |          0.01|\n",
       "\n",
       "|model_type                                         |hidden_layers |    RMSE|     MAE|      MAPE|act_function | learning_rate|\n",
       "|:--------------------------------------------------|:-------------|-------:|-------:|---------:|:------------|-------------:|\n",
       "|Second Set of Input Variables with 2 hidden layers |2 and 6       | 4.35135| 2.97416| 0.0288159|logistic     |          0.01|\n",
       "\n",
       "|model_type                                         |hidden_layers |     RMSE|      MAE|      MAPE|act_function | learning_rate|\n",
       "|:--------------------------------------------------|:-------------|--------:|--------:|---------:|:------------|-------------:|\n",
       "|Second Set of Input Variables with 2 hidden layers |2 and 7       | 4.402284| 2.983199| 0.0305387|logistic     |          0.01|\n",
       "\n",
       "|model_type                                         |hidden_layers |     RMSE|      MAE|      MAPE|act_function | learning_rate|\n",
       "|:--------------------------------------------------|:-------------|--------:|--------:|---------:|:------------|-------------:|\n",
       "|Second Set of Input Variables with 2 hidden layers |2 and 8       | 4.492189| 3.235314| 0.0340415|logistic     |          0.01|\n",
       "\n",
       "|model_type                                         |hidden_layers |     RMSE|      MAE|     MAPE|act_function | learning_rate|\n",
       "|:--------------------------------------------------|:-------------|--------:|--------:|--------:|:------------|-------------:|\n",
       "|Second Set of Input Variables with 2 hidden layers |2 and 9       | 4.489065| 3.143648| 0.032199|logistic     |          0.01|\n",
       "\n",
       "|model_type                                         |hidden_layers |     RMSE|      MAE|      MAPE|act_function | learning_rate|\n",
       "|:--------------------------------------------------|:-------------|--------:|--------:|---------:|:------------|-------------:|\n",
       "|Second Set of Input Variables with 2 hidden layers |2 and 10      | 4.444186| 3.098119| 0.0319386|logistic     |          0.01|\n",
       "\n",
       "|model_type                                         |hidden_layers |     RMSE|      MAE|      MAPE|act_function | learning_rate|\n",
       "|:--------------------------------------------------|:-------------|--------:|--------:|---------:|:------------|-------------:|\n",
       "|Second Set of Input Variables with 2 hidden layers |3 and 5       | 4.408194| 3.014426| 0.0297804|logistic     |          0.01|\n",
       "\n",
       "|model_type                                         |hidden_layers |     RMSE|     MAE|      MAPE|act_function | learning_rate|\n",
       "|:--------------------------------------------------|:-------------|--------:|-------:|---------:|:------------|-------------:|\n",
       "|Second Set of Input Variables with 2 hidden layers |3 and 6       | 4.350375| 2.90456| 0.0283882|logistic     |          0.01|\n",
       "\n",
       "|model_type                                         |hidden_layers |     RMSE|      MAE|      MAPE|act_function | learning_rate|\n",
       "|:--------------------------------------------------|:-------------|--------:|--------:|---------:|:------------|-------------:|\n",
       "|Second Set of Input Variables with 2 hidden layers |3 and 7       | 4.347033| 2.899424| 0.0284302|logistic     |          0.01|\n",
       "\n",
       "|model_type                                         |hidden_layers |     RMSE|      MAE|      MAPE|act_function | learning_rate|\n",
       "|:--------------------------------------------------|:-------------|--------:|--------:|---------:|:------------|-------------:|\n",
       "|Second Set of Input Variables with 2 hidden layers |3 and 8       | 4.438452| 3.050642| 0.0310101|logistic     |          0.01|\n",
       "\n",
       "|model_type                                         |hidden_layers |     RMSE|     MAE|      MAPE|act_function | learning_rate|\n",
       "|:--------------------------------------------------|:-------------|--------:|-------:|---------:|:------------|-------------:|\n",
       "|Second Set of Input Variables with 2 hidden layers |3 and 9       | 4.496901| 3.08188| 0.0308916|logistic     |          0.01|\n",
       "\n",
       "|model_type                                         |hidden_layers |     RMSE|      MAE|      MAPE|act_function | learning_rate|\n",
       "|:--------------------------------------------------|:-------------|--------:|--------:|---------:|:------------|-------------:|\n",
       "|Second Set of Input Variables with 2 hidden layers |3 and 10      | 4.411642| 2.977261| 0.0295169|logistic     |          0.01|\n",
       "\n",
       "|model_type                                         |hidden_layers |     RMSE|      MAE|     MAPE|act_function | learning_rate|\n",
       "|:--------------------------------------------------|:-------------|--------:|--------:|--------:|:------------|-------------:|\n",
       "|Second Set of Input Variables with 2 hidden layers |4 and 5       | 4.412982| 3.096011| 0.030348|logistic     |          0.01|\n",
       "\n",
       "|model_type                                         |hidden_layers |    RMSE|     MAE|     MAPE|act_function | learning_rate|\n",
       "|:--------------------------------------------------|:-------------|-------:|-------:|--------:|:------------|-------------:|\n",
       "|Second Set of Input Variables with 2 hidden layers |4 and 6       | 4.51387| 3.05291| 0.030227|logistic     |          0.01|\n",
       "\n",
       "|model_type                                         |hidden_layers |     RMSE|      MAE|      MAPE|act_function | learning_rate|\n",
       "|:--------------------------------------------------|:-------------|--------:|--------:|---------:|:------------|-------------:|\n",
       "|Second Set of Input Variables with 2 hidden layers |4 and 7       | 4.320182| 2.922459| 0.0285532|logistic     |          0.01|\n",
       "\n",
       "|model_type                                         |hidden_layers |     RMSE|      MAE|      MAPE|act_function | learning_rate|\n",
       "|:--------------------------------------------------|:-------------|--------:|--------:|---------:|:------------|-------------:|\n",
       "|Second Set of Input Variables with 2 hidden layers |4 and 8       | 4.533052| 3.145531| 0.0313875|logistic     |          0.01|\n",
       "\n",
       "|model_type                                         |hidden_layers |     RMSE|     MAE|      MAPE|act_function | learning_rate|\n",
       "|:--------------------------------------------------|:-------------|--------:|-------:|---------:|:------------|-------------:|\n",
       "|Second Set of Input Variables with 2 hidden layers |4 and 9       | 4.304019| 3.00235| 0.0306339|logistic     |          0.01|\n",
       "\n",
       "|model_type                                         |hidden_layers |     RMSE|      MAE|      MAPE|act_function | learning_rate|\n",
       "|:--------------------------------------------------|:-------------|--------:|--------:|---------:|:------------|-------------:|\n",
       "|Second Set of Input Variables with 2 hidden layers |4 and 10      | 4.578695| 3.190759| 0.0324745|logistic     |          0.01|\n",
       "\n",
       "|model_type                                         |hidden_layers |     RMSE|      MAE|      MAPE|act_function | learning_rate|\n",
       "|:--------------------------------------------------|:-------------|--------:|--------:|---------:|:------------|-------------:|\n",
       "|Second Set of Input Variables with 2 hidden layers |5 and 5       | 4.370782| 2.981479| 0.0288243|logistic     |          0.01|\n",
       "\n",
       "|model_type                                         |hidden_layers |     RMSE|      MAE|      MAPE|act_function | learning_rate|\n",
       "|:--------------------------------------------------|:-------------|--------:|--------:|---------:|:------------|-------------:|\n",
       "|Second Set of Input Variables with 2 hidden layers |5 and 6       | 4.493713| 3.152302| 0.0312178|logistic     |          0.01|\n",
       "\n",
       "|model_type                                         |hidden_layers |     RMSE|      MAE|     MAPE|act_function | learning_rate|\n",
       "|:--------------------------------------------------|:-------------|--------:|--------:|--------:|:------------|-------------:|\n",
       "|Second Set of Input Variables with 2 hidden layers |5 and 7       | 4.275433| 2.996117| 0.029188|logistic     |          0.01|\n",
       "\n",
       "|model_type                                         |hidden_layers |     RMSE|      MAE|      MAPE|act_function | learning_rate|\n",
       "|:--------------------------------------------------|:-------------|--------:|--------:|---------:|:------------|-------------:|\n",
       "|Second Set of Input Variables with 2 hidden layers |5 and 8       | 4.396308| 3.004332| 0.0298674|logistic     |          0.01|\n",
       "\n",
       "|model_type                                         |hidden_layers |    RMSE|      MAE|      MAPE|act_function | learning_rate|\n",
       "|:--------------------------------------------------|:-------------|-------:|--------:|---------:|:------------|-------------:|\n",
       "|Second Set of Input Variables with 2 hidden layers |5 and 9       | 4.43933| 3.116758| 0.0306171|logistic     |          0.01|\n",
       "\n",
       "|model_type                                         |hidden_layers |     RMSE|     MAE|      MAPE|act_function | learning_rate|\n",
       "|:--------------------------------------------------|:-------------|--------:|-------:|---------:|:------------|-------------:|\n",
       "|Second Set of Input Variables with 2 hidden layers |5 and 10      | 4.462614| 3.11808| 0.0303286|logistic     |          0.01|\n",
       "\n",
       "|model_type                                         |hidden_layers |     RMSE|      MAE|      MAPE|act_function | learning_rate|\n",
       "|:--------------------------------------------------|:-------------|--------:|--------:|---------:|:------------|-------------:|\n",
       "|Second Set of Input Variables with 2 hidden layers |6 and 5       | 4.315965| 3.078051| 0.0310615|logistic     |          0.01|\n",
       "\n",
       "|model_type                                         |hidden_layers |     RMSE|      MAE|      MAPE|act_function | learning_rate|\n",
       "|:--------------------------------------------------|:-------------|--------:|--------:|---------:|:------------|-------------:|\n",
       "|Second Set of Input Variables with 2 hidden layers |6 and 6       | 4.346793| 2.957462| 0.0288594|logistic     |          0.01|\n",
       "\n",
       "|model_type                                         |hidden_layers |     RMSE|      MAE|      MAPE|act_function | learning_rate|\n",
       "|:--------------------------------------------------|:-------------|--------:|--------:|---------:|:------------|-------------:|\n",
       "|Second Set of Input Variables with 2 hidden layers |6 and 7       | 4.402186| 3.130834| 0.0303549|logistic     |          0.01|\n",
       "\n",
       "|model_type                                         |hidden_layers |     RMSE|      MAE|      MAPE|act_function | learning_rate|\n",
       "|:--------------------------------------------------|:-------------|--------:|--------:|---------:|:------------|-------------:|\n",
       "|Second Set of Input Variables with 2 hidden layers |6 and 8       | 4.619738| 3.276211| 0.0333317|logistic     |          0.01|\n",
       "\n",
       "|model_type                                         |hidden_layers |     RMSE|      MAE|      MAPE|act_function | learning_rate|\n",
       "|:--------------------------------------------------|:-------------|--------:|--------:|---------:|:------------|-------------:|\n",
       "|Second Set of Input Variables with 2 hidden layers |6 and 9       | 4.674676| 3.354017| 0.0349577|logistic     |          0.01|\n",
       "\n",
       "|model_type                                         |hidden_layers |     RMSE|      MAE|      MAPE|act_function | learning_rate|\n",
       "|:--------------------------------------------------|:-------------|--------:|--------:|---------:|:------------|-------------:|\n",
       "|Second Set of Input Variables with 2 hidden layers |6 and 10      | 4.569601| 3.200754| 0.0325096|logistic     |          0.01|"
      ]
     },
     "metadata": {},
     "output_type": "display_data"
    }
   ],
   "source": [
    "two_layer_neuralnet_second_inset_result = lapply(1:6, function(n){\n",
    "    lapply(5:10, function(m){ \n",
    "    model_two_hidden_layer(\n",
    "        \"eleventh_hour~ninth_hour+tenth_hour+nine_lag_1+ten_lag_1+eleven_lag_1+nine_lag_2+ten_lag_2+eleven_lag_2\", \n",
    "        n,\n",
    "        m, \n",
    "        \"logistic\", \n",
    "        0.01,\n",
    "        df_test[, c(1, 2, 4, 5, 8, 6, 7, 9)],\n",
    "        \"Second Set of Input Variables with 2 hidden layers\"\n",
    "                        )\n",
    "    })})\n",
    "kable(two_layer_neuralnet_second_inset_result[])"
   ]
  },
  {
   "cell_type": "markdown",
   "metadata": {},
   "source": [
    "3d lag"
   ]
  },
  {
   "cell_type": "code",
   "execution_count": null,
   "metadata": {
    "vscode": {
     "languageId": "r"
    }
   },
   "outputs": [],
   "source": []
  },
  {
   "cell_type": "code",
   "execution_count": null,
   "metadata": {
    "vscode": {
     "languageId": "r"
    }
   },
   "outputs": [],
   "source": [
    "two_layer_neuralnet_third_inset_result = lapply(1:10, function(n){\n",
    "    lapply(5:10, function(m){  \n",
    "    model_two_hidden_layer(\n",
    "        \"eleventh_hour~ninth_hour+tenth_hour+nine_lag_1+ten_lag_1+eleven_lag_1+nine_lag_2+ten_lag_2+eleven_lag_2+eleven_lag_3+nine_rollmean_4+ten_rollmean_4+eleven_rollmean_4\", \n",
    "        n,\n",
    "        m, \n",
    "        \"logistic\", \n",
    "        0.01,\n",
    "        df_test[, c(1, 2, 4, 5, 8, 6, 7, 9, 10, 12, 14, 16)],\n",
    "        \"Third Set of Input Variables with 2 hidden layers\"\n",
    "                        )\n",
    "    })})\n",
    "kable(two_layer_neuralnet_third_inset_result[])"
   ]
  }
 ],
 "metadata": {
  "kernelspec": {
   "display_name": "R",
   "language": "R",
   "name": "ir"
  },
  "language_info": {
   "codemirror_mode": "r",
   "file_extension": ".r",
   "mimetype": "text/x-r-source",
   "name": "R",
   "pygments_lexer": "r",
   "version": "4.1.1"
  },
  "orig_nbformat": 4
 },
 "nbformat": 4,
 "nbformat_minor": 2
}
