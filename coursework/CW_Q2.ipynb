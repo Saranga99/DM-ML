{
 "cells": [
  {
   "cell_type": "code",
   "execution_count": null,
   "metadata": {
    "vscode": {
     "languageId": "r"
    }
   },
   "outputs": [],
   "source": [
    "# install.packages(\"NeuralNetTools\")"
   ]
  },
  {
   "cell_type": "code",
   "execution_count": null,
   "metadata": {
    "vscode": {
     "languageId": "r"
    }
   },
   "outputs": [],
   "source": [
    "# libraries\n",
    "library(readxl)\n",
    "options(warn = 0)\n",
    "library(tidyverse)\n",
    "library(readxl)\n",
    "library(lubridate)\n",
    "library(zoo)\n",
    "library(readxl)\n",
    "library(neuralnet)\n",
    "library(knitr)\n",
    "library(Metrics)\n",
    "library(NeuralNetTools)"
   ]
  },
  {
   "cell_type": "code",
   "execution_count": null,
   "metadata": {
    "vscode": {
     "languageId": "r"
    }
   },
   "outputs": [],
   "source": [
    "df <- read_excel(\"data/UOW_load.xlsx\")\n",
    "head(df)"
   ]
  },
  {
   "cell_type": "code",
   "execution_count": null,
   "metadata": {
    "vscode": {
     "languageId": "r"
    }
   },
   "outputs": [],
   "source": [
    "df$Dates<-as.Date(df$Dates)"
   ]
  },
  {
   "cell_type": "code",
   "execution_count": null,
   "metadata": {
    "vscode": {
     "languageId": "r"
    }
   },
   "outputs": [],
   "source": [
    "names(df)[2] <- paste(\"ninth_hour\")\n",
    "names(df)[3] <- paste(\"tenth_hour\")\n",
    "names(df)[4] <- paste(\"eleventh_hour\")\n",
    "head(df)"
   ]
  },
  {
   "cell_type": "code",
   "execution_count": null,
   "metadata": {
    "vscode": {
     "languageId": "r"
    }
   },
   "outputs": [],
   "source": [
    "summary(df[2:4])"
   ]
  },
  {
   "cell_type": "code",
   "execution_count": null,
   "metadata": {
    "vscode": {
     "languageId": "r"
    }
   },
   "outputs": [],
   "source": [
    "# insert all the inputs to the one data frame\n",
    "# creating revious time frame values for autoregressive model \n",
    "df_full = df %>%\n",
    " mutate(\n",
    "    nine_lag_1 = lag(df$ninth_hour,1),\n",
    "    ten_lag_1 = lag(df$tenth_hour,1),\n",
    "    nine_lag_2 = lag(df$ninth_hour,2),\n",
    "    ten_lag_2 = lag(df$tenth_hour,2),\n",
    "    eleven_lag_1 = lag(df$eleventh_hour,1),\n",
    "    eleven_lag_2 = lag(df$eleventh_hour,2),\n",
    "    eleven_lag_3 = lag(df$eleventh_hour,3),\n",
    "    eleven_lag_4 = lag(df$eleventh_hour,4),\n",
    "    #roll mean\n",
    "    nine_rollmean_4 = rollmean(ninth_hour,4, fill = NA),\n",
    "    nine_rollmean_7 = rollmean(ninth_hour,7, fill = NA),\n",
    "    ten_rollmean_4 = rollmean(tenth_hour,4, fill = NA),\n",
    "    ten_rollmean_7 = rollmean(tenth_hour,7, fill = NA),\n",
    "    eleven_rollmean_4 = rollmean(eleventh_hour,4, fill = NA),\n",
    "    eleven_rollmean_7 = rollmean(eleventh_hour,7, fill = NA)) %>%\n",
    "#Drop null coulumns\n",
    "drop_na()\n"
   ]
  },
  {
   "cell_type": "code",
   "execution_count": null,
   "metadata": {
    "vscode": {
     "languageId": "r"
    }
   },
   "outputs": [],
   "source": [
    "head(df_full)"
   ]
  },
  {
   "cell_type": "markdown",
   "metadata": {},
   "source": [
    "## Input vercors"
   ]
  },
  {
   "cell_type": "code",
   "execution_count": null,
   "metadata": {
    "vscode": {
     "languageId": "r"
    }
   },
   "outputs": [],
   "source": [
    "#1st lag\n",
    "df_full %>%\n",
    "pivot_longer(cols = c(2, 3, 5, 6, 9), names_to = \"kind\", values_to = \"energy_level\") %>%\n",
    "ggplot(aes(Dates, energy_level, color = kind)) +\n",
    "geom_line() +\n",
    "facet_wrap(~kind) + theme(axis.text.x = element_text(angle = 45, vjust =\n",
    "0.5, hjust = 1\n",
    ")) +\n",
    "labs(x = \"\",\n",
    "title = \"First Set of Input Variables\") +\n",
    "theme(legend.position = \"none\")\n"
   ]
  },
  {
   "cell_type": "code",
   "execution_count": null,
   "metadata": {
    "vscode": {
     "languageId": "r"
    }
   },
   "outputs": [],
   "source": [
    "#2nd lag\n",
    "df_full %>%\n",
    "pivot_longer(cols = c(2, 3, 5, 6, 9, 7, 8, 10), names_to = \"kind\", values_to = \"energy_level\") %>%\n",
    "ggplot(aes(Dates, energy_level, color = kind)) +\n",
    "geom_line() +\n",
    "facet_wrap(~kind) + theme(axis.text.x = element_text(angle = 45, vjust =\n",
    "0.5, hjust = 1\n",
    ")) +\n",
    "labs(x = \"\",\n",
    "title = \"Second Set of Input Variables\") +\n",
    "theme(legend.position = \"none\")"
   ]
  },
  {
   "cell_type": "code",
   "execution_count": null,
   "metadata": {
    "vscode": {
     "languageId": "r"
    }
   },
   "outputs": [],
   "source": [
    "#3rd lag\n",
    "df_full %>%\n",
    "pivot_longer(cols = c(2, 3, 5, 6, 9, 7, 8, 10, 11, 13, 15, 17), names_to = \"kind\", values_to = \"energy_level\") %>%\n",
    "ggplot(aes(Dates, energy_level, color = kind)) +\n",
    "geom_line() +\n",
    "facet_wrap(~kind) + theme(axis.text.x = element_text(angle = 45, vjust =\n",
    "0.5, hjust = 1\n",
    ")) +\n",
    "labs(x = \"\",\n",
    "title = \"Third Set of Input Variables\") +\n",
    "theme(legend.position = \"none\")"
   ]
  },
  {
   "cell_type": "code",
   "execution_count": null,
   "metadata": {
    "vscode": {
     "languageId": "r"
    }
   },
   "outputs": [],
   "source": [
    "#4thd lag\n",
    "df_full %>%\n",
    "pivot_longer(cols = c(13, 14, 15, 16, 17, 18), names_to = \"kind\", values_to = \"energy_level\") %>%\n",
    "ggplot(aes(Dates, energy_level, color = kind)) +\n",
    "geom_line() +\n",
    "facet_wrap(~kind) + theme(axis.text.x = element_text(angle = 45, vjust =\n",
    "0.5, hjust = 1\n",
    ")) +\n",
    "labs(x = \"\",\n",
    "title = \"Forth Set of Input Variables\") +\n",
    "theme(legend.position = \"none\")"
   ]
  },
  {
   "cell_type": "markdown",
   "metadata": {},
   "source": [
    "# Data Normalization"
   ]
  },
  {
   "cell_type": "code",
   "execution_count": null,
   "metadata": {
    "vscode": {
     "languageId": "r"
    }
   },
   "outputs": [],
   "source": [
    "head(df_full)"
   ]
  },
  {
   "cell_type": "code",
   "execution_count": null,
   "metadata": {
    "vscode": {
     "languageId": "r"
    }
   },
   "outputs": [],
   "source": [
    "summary(df_full)"
   ]
  },
  {
   "cell_type": "markdown",
   "metadata": {},
   "source": [
    "##### min-max normalization"
   ]
  },
  {
   "cell_type": "code",
   "execution_count": null,
   "metadata": {
    "vscode": {
     "languageId": "r"
    }
   },
   "outputs": [],
   "source": [
    "min_max_normalize <- function(x) {\n",
    "return ((x - min(x)) / (max(x) - min(x))) }\n",
    "\n",
    "\n",
    "unnormalize_eleventh_hour <- function(x) {\n",
    "return( (max(df_full$eleventh_hour) - min(df_full$eleventh_hour))*x + min(df_full$eleventh_hour)) }\n"
   ]
  },
  {
   "cell_type": "code",
   "execution_count": null,
   "metadata": {
    "vscode": {
     "languageId": "r"
    }
   },
   "outputs": [],
   "source": [
    "df_normalized <- as.data.frame(lapply(df_full[2:18], min_max_normalize))\n",
    "head(df_normalized)"
   ]
  },
  {
   "cell_type": "code",
   "execution_count": null,
   "metadata": {
    "vscode": {
     "languageId": "r"
    }
   },
   "outputs": [],
   "source": [
    "summary(df_normalized)"
   ]
  },
  {
   "cell_type": "code",
   "execution_count": null,
   "metadata": {
    "vscode": {
     "languageId": "r"
    }
   },
   "outputs": [],
   "source": [
    "dim(df_normalized)"
   ]
  },
  {
   "cell_type": "code",
   "execution_count": null,
   "metadata": {
    "vscode": {
     "languageId": "r"
    }
   },
   "outputs": [],
   "source": [
    "set.seed(123)\n",
    "df_train <- df_normalized[1:430,]\n",
    "df_test <- df_normalized[431:493,]"
   ]
  },
  {
   "cell_type": "code",
   "execution_count": null,
   "metadata": {
    "vscode": {
     "languageId": "r"
    }
   },
   "outputs": [],
   "source": [
    "model_one_hidden_layer = function(arg, hidden_first, activation_fun, learning_rate, test_data, model_type) {\n",
    "    one_layer_nurelnet = neuralnet(arg,\n",
    "    data=df_train, \n",
    "    hidden = c(hidden_first), \n",
    "    linear.output = TRUE, \n",
    "    act.fct = activation_fun,\n",
    "    learningrate = learning_rate,\n",
    "    algorithm = \"rprop+\"\n",
    "    )\n",
    "    results = compute(one_layer_nurelnet, test_data)\n",
    "    truth_column = df_full[431:493, 4]$eleventh_hour\n",
    "    predicted_column =  unnormalize_eleventh_hour(results$net.result)[,1]\n",
    "      \n",
    "    results <- data.frame(\n",
    "        model_type = model_type, \n",
    "        hidden_layers = hidden_first, \n",
    "        RMSE = rmse(truth_column,predicted_column), \n",
    "        MAE = mae(truth_column, predicted_column), \n",
    "        MAPE =mape(truth_column, predicted_column),\n",
    "        act_function = activation_fun,\n",
    "        learning_rate = learning_rate)\n",
    "}"
   ]
  },
  {
   "cell_type": "code",
   "execution_count": null,
   "metadata": {
    "vscode": {
     "languageId": "r"
    }
   },
   "outputs": [],
   "source": [
    "model_two_hidden_layer = function(arg, hidden_first, hidden_second, activation_fun, learning_rate, test_data, model_type) {\n",
    "    two_layer_nurelnet = neuralnet(arg,\n",
    "    data=df_train, \n",
    "    hidden = c(hidden_first, hidden_second), \n",
    "    linear.output = TRUE, \n",
    "    act.fct = activation_fun,\n",
    "    learningrate = learning_rate,\n",
    "    algorithm = \"rprop+\"\n",
    "    )\n",
    "    results = compute(two_layer_nurelnet, test_data)\n",
    "    truth_column = df_full[431:493, 4]$eleventh_hour\n",
    "    predicted_column =  unnormalize_eleventh_hour(results$net.result)[,1]\n",
    "\n",
    "    results <- data.frame(\n",
    "        model_type = model_type, \n",
    "        hidden_layers = paste0(hidden_first,\" and \",hidden_second), \n",
    "        RMSE = rmse(truth_column,predicted_column), \n",
    "        MAE = mae(truth_column, predicted_column), \n",
    "        MAPE =mape(truth_column, predicted_column),\n",
    "        act_function = activation_fun,\n",
    "        learning_rate = learning_rate)    \n",
    "}"
   ]
  },
  {
   "cell_type": "markdown",
   "metadata": {},
   "source": [
    "# Single Layer Neural Networks with different input sets and neurons"
   ]
  },
  {
   "cell_type": "markdown",
   "metadata": {},
   "source": [
    "1st lag"
   ]
  },
  {
   "cell_type": "code",
   "execution_count": null,
   "metadata": {
    "vscode": {
     "languageId": "r"
    }
   },
   "outputs": [],
   "source": [
    "set.seed(12345)"
   ]
  },
  {
   "cell_type": "code",
   "execution_count": null,
   "metadata": {
    "vscode": {
     "languageId": "r"
    }
   },
   "outputs": [],
   "source": [
    "one_layer_neuralnet_first_inset_result = lapply(1:10, function(n){ \n",
    "    model_one_hidden_layer(\n",
    "        \"eleventh_hour~ninth_hour+tenth_hour+nine_lag_1+ten_lag_1+eleven_lag_1\", \n",
    "        n, \n",
    "        \"logistic\", \n",
    "        0.01,\n",
    "        df_test[, c(1, 2, 4, 5, 8)],\n",
    "        \"First Set of Input Variables\"\n",
    "                        )\n",
    "    })\n",
    "kable(one_layer_neuralnet_first_inset_result[])"
   ]
  },
  {
   "cell_type": "markdown",
   "metadata": {},
   "source": [
    "2nd lag"
   ]
  },
  {
   "cell_type": "code",
   "execution_count": null,
   "metadata": {
    "vscode": {
     "languageId": "r"
    }
   },
   "outputs": [],
   "source": [
    "set.seed(12345)"
   ]
  },
  {
   "cell_type": "code",
   "execution_count": null,
   "metadata": {
    "vscode": {
     "languageId": "r"
    }
   },
   "outputs": [],
   "source": [
    "one_layer_neuralnet_second_inset_result = lapply(1:10, function(n){ \n",
    "    model_one_hidden_layer(\n",
    "        \"eleventh_hour~ninth_hour+tenth_hour+nine_lag_1+ten_lag_1+eleven_lag_1+nine_lag_2+ten_lag_2+eleven_lag_2\", \n",
    "        n, \n",
    "        \"logistic\", \n",
    "        0.01,\n",
    "        df_test[, c(1, 2, 4, 5, 8, 6, 7, 9)],\n",
    "        \"Second Set of Input Variables\"\n",
    "                        )\n",
    "    })\n",
    "kable(one_layer_neuralnet_second_inset_result[])"
   ]
  },
  {
   "cell_type": "markdown",
   "metadata": {},
   "source": [
    "3rd lag"
   ]
  },
  {
   "cell_type": "code",
   "execution_count": null,
   "metadata": {
    "vscode": {
     "languageId": "r"
    }
   },
   "outputs": [],
   "source": [
    "set.seed(12345)"
   ]
  },
  {
   "cell_type": "code",
   "execution_count": null,
   "metadata": {
    "vscode": {
     "languageId": "r"
    }
   },
   "outputs": [],
   "source": [
    "one_layer_neuralnet_third_inset_result = lapply(1:10, function(n){ \n",
    "    model_one_hidden_layer(\n",
    "        \"eleventh_hour~ninth_hour+tenth_hour+nine_lag_1+ten_lag_1+eleven_lag_1+nine_lag_2+ten_lag_2+eleven_lag_2+eleven_lag_3+nine_rollmean_4+ten_rollmean_4+eleven_rollmean_4\", \n",
    "        n, \n",
    "        \"logistic\", \n",
    "        0.01,\n",
    "        df_test[, c(1, 2, 4, 5, 8, 6, 7, 9, 10, 12, 14, 16)],\n",
    "        \"Third Set of Input Variables\"\n",
    "                        )\n",
    "    })\n",
    "kable(one_layer_neuralnet_third_inset_result[])"
   ]
  },
  {
   "cell_type": "markdown",
   "metadata": {},
   "source": [
    "4th lag"
   ]
  },
  {
   "cell_type": "code",
   "execution_count": null,
   "metadata": {
    "vscode": {
     "languageId": "r"
    }
   },
   "outputs": [],
   "source": [
    "set.seed(12345)"
   ]
  },
  {
   "cell_type": "code",
   "execution_count": null,
   "metadata": {
    "vscode": {
     "languageId": "r"
    }
   },
   "outputs": [],
   "source": [
    "one_layer_neuralnet_forth_inset_result = lapply(1:10, function(n){ \n",
    "    model_one_hidden_layer(\n",
    "        \"eleventh_hour~ninth_hour+tenth_hour+nine_rollmean_4+ten_rollmean_4+eleven_rollmean_4+nine_rollmean_7+ten_rollmean_7+eleven_rollmean_7\", \n",
    "        n, \n",
    "        \"logistic\", \n",
    "        0.01,\n",
    "        df_test[, c(1, 2, 12, 14, 16, 13, 15, 17)],\n",
    "        \"Forth Set of Input Variables\"\n",
    "                        )\n",
    "    })\n",
    "kable(one_layer_neuralnet_forth_inset_result[])"
   ]
  },
  {
   "cell_type": "markdown",
   "metadata": {},
   "source": [
    "##### minimum error in each input set"
   ]
  },
  {
   "cell_type": "code",
   "execution_count": null,
   "metadata": {
    "vscode": {
     "languageId": "r"
    }
   },
   "outputs": [],
   "source": [
    "kable(one_layer_neuralnet_first_inset_result[8])"
   ]
  },
  {
   "cell_type": "code",
   "execution_count": null,
   "metadata": {
    "vscode": {
     "languageId": "r"
    }
   },
   "outputs": [],
   "source": [
    "kable(one_layer_neuralnet_second_inset_result[4])"
   ]
  },
  {
   "cell_type": "code",
   "execution_count": null,
   "metadata": {
    "vscode": {
     "languageId": "r"
    }
   },
   "outputs": [],
   "source": [
    "kable(one_layer_neuralnet_third_inset_result[5])"
   ]
  },
  {
   "cell_type": "code",
   "execution_count": null,
   "metadata": {
    "vscode": {
     "languageId": "r"
    }
   },
   "outputs": [],
   "source": [
    "kable(one_layer_neuralnet_forth_inset_result[3])"
   ]
  },
  {
   "cell_type": "markdown",
   "metadata": {},
   "source": [
    "among above network structures network with 5 nodes in hidden layer and 3rd input set shows the minimum error"
   ]
  },
  {
   "cell_type": "code",
   "execution_count": null,
   "metadata": {
    "vscode": {
     "languageId": "r"
    }
   },
   "outputs": [],
   "source": [
    "kable(one_layer_neuralnet_third_inset_result[5])"
   ]
  },
  {
   "cell_type": "markdown",
   "metadata": {},
   "source": [
    "# Two hidden layer Neural Networks with different input sets and neurons"
   ]
  },
  {
   "cell_type": "markdown",
   "metadata": {},
   "source": [
    "1st lag"
   ]
  },
  {
   "cell_type": "code",
   "execution_count": null,
   "metadata": {
    "vscode": {
     "languageId": "r"
    }
   },
   "outputs": [],
   "source": [
    "set.seed(12345)"
   ]
  },
  {
   "cell_type": "code",
   "execution_count": null,
   "metadata": {
    "vscode": {
     "languageId": "r"
    }
   },
   "outputs": [],
   "source": [
    "two_layer_neuralnet_first_inset_result = lapply(1:10, function(n){ \n",
    "    lapply(1:10, function(m){\n",
    "    model_two_hidden_layer(\n",
    "        \"eleventh_hour~ninth_hour+tenth_hour+nine_lag_1+ten_lag_1+eleven_lag_1\", \n",
    "        n,\n",
    "        m, \n",
    "        \"logistic\", \n",
    "        0.01,\n",
    "        df_test[, c(1, 2, 4, 5, 8)],\n",
    "        \"First Set of Input Variables with 2 hidden layers\"\n",
    "                        )\n",
    "    })})\n",
    "kable(two_layer_neuralnet_first_inset_result[])"
   ]
  },
  {
   "cell_type": "markdown",
   "metadata": {},
   "source": [
    "2nd lag"
   ]
  },
  {
   "cell_type": "code",
   "execution_count": null,
   "metadata": {
    "vscode": {
     "languageId": "r"
    }
   },
   "outputs": [],
   "source": [
    "set.seed(12345)"
   ]
  },
  {
   "cell_type": "code",
   "execution_count": null,
   "metadata": {
    "vscode": {
     "languageId": "r"
    }
   },
   "outputs": [],
   "source": [
    "two_layer_neuralnet_second_inset_result = lapply(1:10, function(n){\n",
    "    lapply(1:10, function(m){ \n",
    "    model_two_hidden_layer(\n",
    "        \"eleventh_hour~ninth_hour+tenth_hour+nine_lag_1+ten_lag_1+eleven_lag_1+nine_lag_2+ten_lag_2+eleven_lag_2\", \n",
    "        n,\n",
    "        m, \n",
    "        \"logistic\", \n",
    "        0.01,\n",
    "        df_test[, c(1, 2, 4, 5, 8, 6, 7, 9)],\n",
    "        \"Second Set of Input Variables with 2 hidden layers\"\n",
    "                        )\n",
    "    })})\n",
    "kable(two_layer_neuralnet_second_inset_result[])"
   ]
  },
  {
   "cell_type": "markdown",
   "metadata": {},
   "source": [
    "3d lag"
   ]
  },
  {
   "cell_type": "code",
   "execution_count": null,
   "metadata": {
    "vscode": {
     "languageId": "r"
    }
   },
   "outputs": [],
   "source": [
    "set.seed(12345)"
   ]
  },
  {
   "cell_type": "code",
   "execution_count": null,
   "metadata": {
    "vscode": {
     "languageId": "r"
    }
   },
   "outputs": [],
   "source": [
    "two_layer_neuralnet_third_inset_result = lapply(1:10, function(n){\n",
    "    lapply(1:10, function(m){  \n",
    "    model_two_hidden_layer(\n",
    "        \"eleventh_hour~ninth_hour+tenth_hour+nine_lag_1+ten_lag_1+eleven_lag_1+nine_lag_2+ten_lag_2+eleven_lag_2+eleven_lag_3+nine_rollmean_4+ten_rollmean_4+eleven_rollmean_4\", \n",
    "        n,\n",
    "        m, \n",
    "        \"logistic\", \n",
    "        0.01,\n",
    "        df_test[, c(1, 2, 4, 5, 8, 6, 7, 9, 10, 12, 14, 16)],\n",
    "        \"Third Set of Input Variables with 2 hidden layers\"\n",
    "                        )\n",
    "    })})\n",
    "kable(two_layer_neuralnet_third_inset_result[])"
   ]
  },
  {
   "cell_type": "markdown",
   "metadata": {},
   "source": [
    "4th lag"
   ]
  },
  {
   "cell_type": "code",
   "execution_count": null,
   "metadata": {
    "vscode": {
     "languageId": "r"
    }
   },
   "outputs": [],
   "source": [
    "set.seed(12345)"
   ]
  },
  {
   "cell_type": "code",
   "execution_count": null,
   "metadata": {
    "vscode": {
     "languageId": "r"
    }
   },
   "outputs": [],
   "source": [
    "two_layer_neuralnet_forth_inset_result = lapply(1:10, function(n){ \n",
    " lapply(1:10, function(m){  \n",
    "    model_two_hidden_layer(\n",
    "        \"eleventh_hour~ninth_hour+tenth_hour+nine_rollmean_4+ten_rollmean_4+eleven_rollmean_4+nine_rollmean_7+ten_rollmean_7+eleven_rollmean_7\", \n",
    "        n,\n",
    "        m, \n",
    "        \"logistic\", \n",
    "        0.01,\n",
    "        df_test[, c(1, 2, 12, 14, 16, 13, 15, 17)],\n",
    "        \"Forth Set of Input Variables with 2 hidden layers\"\n",
    "                        )\n",
    "    })})\n",
    "kable(two_layer_neuralnet_forth_inset_result[])"
   ]
  },
  {
   "cell_type": "markdown",
   "metadata": {},
   "source": [
    "minimum error in each input set"
   ]
  },
  {
   "cell_type": "code",
   "execution_count": null,
   "metadata": {
    "vscode": {
     "languageId": "r"
    }
   },
   "outputs": [],
   "source": [
    "kable(two_layer_neuralnet_first_inset_result[8])\n",
    "# 8 and 2"
   ]
  },
  {
   "cell_type": "code",
   "execution_count": null,
   "metadata": {
    "vscode": {
     "languageId": "r"
    }
   },
   "outputs": [],
   "source": [
    "kable(two_layer_neuralnet_second_inset_result[4])\n",
    "# 4 and 6"
   ]
  },
  {
   "cell_type": "code",
   "execution_count": null,
   "metadata": {
    "vscode": {
     "languageId": "r"
    }
   },
   "outputs": [],
   "source": [
    "kable(two_layer_neuralnet_third_inset_result[10])\n",
    "# 10 and 3"
   ]
  },
  {
   "cell_type": "code",
   "execution_count": null,
   "metadata": {
    "vscode": {
     "languageId": "r"
    }
   },
   "outputs": [],
   "source": [
    "kable(two_layer_neuralnet_forth_inset_result[3])\n",
    "# 3 and 7"
   ]
  },
  {
   "cell_type": "markdown",
   "metadata": {},
   "source": [
    "best one from layer 2 approach is 3 and 10 nodes with input set 3"
   ]
  },
  {
   "cell_type": "markdown",
   "metadata": {},
   "source": [
    "## act function and learning rate"
   ]
  },
  {
   "cell_type": "markdown",
   "metadata": {},
   "source": [
    "layer 1 : input set 3 and 5 nodes\n",
    "\n",
    "layer 2 : input set 3 and 10 and 3 nodes"
   ]
  },
  {
   "cell_type": "markdown",
   "metadata": {},
   "source": [
    "minimum error gives the layer 2 approach and going forward with it"
   ]
  },
  {
   "cell_type": "markdown",
   "metadata": {},
   "source": [
    "changing learning rate"
   ]
  },
  {
   "cell_type": "code",
   "execution_count": null,
   "metadata": {
    "vscode": {
     "languageId": "r"
    }
   },
   "outputs": [],
   "source": [
    "l_rate=0.001\n",
    "set.seed(12345)\n",
    "for (i in 1:100) {\n",
    "two_layer_neuralnet_third_inset_result = model_two_hidden_layer(\n",
    "        \"eleventh_hour~ninth_hour+tenth_hour+nine_lag_1+ten_lag_1+eleven_lag_1+nine_lag_2+ten_lag_2+eleven_lag_2+eleven_lag_3+nine_rollmean_4+ten_rollmean_4+eleven_rollmean_4\", \n",
    "        10,\n",
    "        3, \n",
    "        \"logistic\", \n",
    "        l_rate,\n",
    "        df_test[, c(1, 2, 4, 5, 8, 6, 7, 9, 10, 12, 14, 16)],\n",
    "        \"Third Set of Input Variables with 2 hidden layers\"\n",
    "                        )\n",
    "\n",
    "    print(kable(two_layer_neuralnet_third_inset_result[]))\n",
    "    l_rate=l_rate+0.001\n",
    "}"
   ]
  },
  {
   "cell_type": "code",
   "execution_count": null,
   "metadata": {
    "vscode": {
     "languageId": "r"
    }
   },
   "outputs": [],
   "source": [
    "l_rate=0.001\n",
    "set.seed(12345)\n",
    "for (i in 1:100) {\n",
    "two_layer_neuralnet_third_inset_result = model_one_hidden_layer(\n",
    "        \"eleventh_hour~ninth_hour+tenth_hour+nine_lag_1+ten_lag_1+eleven_lag_1+nine_lag_2+ten_lag_2+eleven_lag_2+eleven_lag_3+nine_rollmean_4+ten_rollmean_4+eleven_rollmean_4\", \n",
    "        5, \n",
    "        \"logistic\", \n",
    "        l_rate,\n",
    "        df_test[, c(1, 2, 4, 5, 8, 6, 7, 9, 10, 12, 14, 16)],\n",
    "        \"Third Set of Input Variables with 2 hidden layers\"\n",
    "                        )\n",
    "\n",
    "    print(kable(two_layer_neuralnet_third_inset_result[]))\n",
    "    l_rate=l_rate+0.001\n",
    "}"
   ]
  },
  {
   "cell_type": "code",
   "execution_count": null,
   "metadata": {
    "vscode": {
     "languageId": "r"
    }
   },
   "outputs": [],
   "source": [
    "\n",
    "\n",
    "final_two_layer = model_two_hidden_layer(\n",
    "        \"eleventh_hour~ninth_hour+tenth_hour+nine_lag_1+ten_lag_1+eleven_lag_1+nine_lag_2+ten_lag_2+eleven_lag_2+eleven_lag_3+nine_rollmean_4+ten_rollmean_4+eleven_rollmean_4\", \n",
    "        10,\n",
    "        3, \n",
    "        \"logistic\", \n",
    "        0.037,\n",
    "        df_test[, c(1, 2, 4, 5, 8, 6, 7, 9, 10, 12, 14, 16)],\n",
    "        \"Third Set of Input Variables with 2 hidden layers\"\n",
    "                        )\n",
    "\n",
    "    print(kable(final_two_layer[]))"
   ]
  },
  {
   "cell_type": "code",
   "execution_count": null,
   "metadata": {
    "vscode": {
     "languageId": "r"
    }
   },
   "outputs": [],
   "source": [
    "final_single_layer = model_one_hidden_layer(\n",
    "        \"eleventh_hour~ninth_hour+tenth_hour+nine_lag_1+ten_lag_1+eleven_lag_1+nine_lag_2+ten_lag_2+eleven_lag_2+eleven_lag_3+nine_rollmean_4+ten_rollmean_4+eleven_rollmean_4\", \n",
    "        5, \n",
    "        \"logistic\", \n",
    "        0.087,\n",
    "        df_test[, c(1, 2, 4, 5, 8, 6, 7, 9, 10, 12, 14, 16)],\n",
    "        \"Third Set of Input Variables with 2 hidden layers\"\n",
    "                        )\n",
    "\n",
    "    print(kable(final_single_layer[]))"
   ]
  },
  {
   "cell_type": "markdown",
   "metadata": {},
   "source": [
    "predictions"
   ]
  },
  {
   "cell_type": "code",
   "execution_count": null,
   "metadata": {
    "vscode": {
     "languageId": "r"
    }
   },
   "outputs": [],
   "source": [
    "best_nn = neuralnet(\n",
    "    \"eleventh_hour~ninth_hour+tenth_hour+nine_lag_1+ten_lag_1+eleven_lag_1+nine_lag_2+ten_lag_2+eleven_lag_2+eleven_lag_3+nine_rollmean_4+ten_rollmean_4+eleven_rollmean_4\",\n",
    "    data=df_train, \n",
    "    hidden = c(10, 3), \n",
    "    linear.output = TRUE, \n",
    "    act.fct = \"logistic\",\n",
    "    learningrate = 0.037,\n",
    "    algorithm = \"rprop+\"\n",
    "    )\n",
    "results = compute(best_nn, df_test[, c(1, 2, 4, 5, 8, 6, 7, 9, 10, 12, 14, 16)])\n",
    "truth_column = df_full[431:493, 4]$eleventh_hour\n",
    "predicted_column =  unnormalize_eleventh_hour(results$net.result)[,1]\n",
    "results_df <- data.frame(\n",
    "    date = df_full[431:493,]$Dates,\n",
    "    actual = truth_column,\n",
    "    predicted = predicted_column)"
   ]
  },
  {
   "cell_type": "code",
   "execution_count": null,
   "metadata": {
    "vscode": {
     "languageId": "r"
    }
   },
   "outputs": [],
   "source": [
    "plotnet(best_nn)"
   ]
  },
  {
   "cell_type": "code",
   "execution_count": null,
   "metadata": {
    "vscode": {
     "languageId": "r"
    }
   },
   "outputs": [],
   "source": [
    "rmse(truth_column,predicted_column)"
   ]
  },
  {
   "cell_type": "code",
   "execution_count": null,
   "metadata": {
    "vscode": {
     "languageId": "r"
    }
   },
   "outputs": [],
   "source": [
    "results_df"
   ]
  },
  {
   "cell_type": "code",
   "execution_count": null,
   "metadata": {
    "vscode": {
     "languageId": "r"
    }
   },
   "outputs": [],
   "source": [
    "summary(results_df)"
   ]
  },
  {
   "cell_type": "code",
   "execution_count": null,
   "metadata": {
    "vscode": {
     "languageId": "r"
    }
   },
   "outputs": [],
   "source": [
    "# p = ggplot() + \n",
    "#   geom_line(data = results_df, aes(x = date, y = actual), color = \"blue\") +\n",
    "#   geom_line(data = results_df, aes(x = date, y = predicted), color = \"red\") +\n",
    "#   scale_color_manual(name = \"energy level\", values = c(\"actual\" = \"blue\", \"predicted\" = \"red\"))+\n",
    "#   xlab('Dates') +\n",
    "#   ylab('eleventh hour energy level')\n",
    "\n",
    "# print(p)"
   ]
  },
  {
   "cell_type": "code",
   "execution_count": null,
   "metadata": {
    "vscode": {
     "languageId": "r"
    }
   },
   "outputs": [],
   "source": [
    "ggplot() +\n",
    "  geom_line(data = results_df, aes(y = actual, x = date, colour = \"actual\")) +\n",
    "  geom_line(data = results_df, aes(y = predicted, x = date, colour = \"predicted\")) +\n",
    "  scale_color_manual(name = \"energy level\", values = c(\"actual\" = \"blue\", \"predicted\" = \"red\")) +\n",
    "  xlab('Dates') +\n",
    "  ylab('eleventh hour energy level')"
   ]
  }
 ],
 "metadata": {
  "interpreter": {
   "hash": "daaafa462856294e54ab9f371f860371ad8ea1ae7e7a5f8ff84a1f404a9e7672"
  },
  "kernelspec": {
   "display_name": "R",
   "language": "R",
   "name": "ir"
  },
  "language_info": {
   "codemirror_mode": "r",
   "file_extension": ".r",
   "mimetype": "text/x-r-source",
   "name": "R",
   "pygments_lexer": "r",
   "version": "3.9.9"
  },
  "orig_nbformat": 4
 },
 "nbformat": 4,
 "nbformat_minor": 2
}
