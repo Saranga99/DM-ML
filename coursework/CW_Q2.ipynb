{
 "cells": [
  {
   "cell_type": "code",
   "execution_count": 81,
   "metadata": {
    "vscode": {
     "languageId": "r"
    }
   },
   "outputs": [],
   "source": [
    "# install.packages(\"readxl\")"
   ]
  },
  {
   "cell_type": "code",
   "execution_count": 82,
   "metadata": {
    "vscode": {
     "languageId": "r"
    }
   },
   "outputs": [],
   "source": [
    "# libraries\n",
    "library(readxl)\n",
    "options(warn = 0)\n",
    "library(dplyr)\n",
    "library(ggplot2)\n",
    "library(caTools)\n",
    "library(caret)\n",
    "library(GGally)\n",
    "library(janitor)\n",
    "library(corrplot)\n",
    "library(tidyverse)\n",
    "library(hrbrthemes)\n",
    "library(viridis)"
   ]
  },
  {
   "cell_type": "code",
   "execution_count": 83,
   "metadata": {
    "vscode": {
     "languageId": "r"
    }
   },
   "outputs": [
    {
     "data": {
      "text/html": [
       "<table class=\"dataframe\">\n",
       "<caption>A tibble: 6 × 5</caption>\n",
       "<thead>\n",
       "\t<tr><th scope=col>Dates</th><th scope=col>09:00</th><th scope=col>10:00</th><th scope=col>11:00</th><th scope=col>index</th></tr>\n",
       "\t<tr><th scope=col>&lt;dttm&gt;</th><th scope=col>&lt;dbl&gt;</th><th scope=col>&lt;dbl&gt;</th><th scope=col>&lt;dbl&gt;</th><th scope=col>&lt;int&gt;</th></tr>\n",
       "</thead>\n",
       "<tbody>\n",
       "\t<tr><td>2018-01-01</td><td> 89.4</td><td> 90.6</td><td> 88.6</td><td>1</td></tr>\n",
       "\t<tr><td>2018-01-02</td><td>108.2</td><td>104.6</td><td>106.0</td><td>2</td></tr>\n",
       "\t<tr><td>2018-01-03</td><td>110.0</td><td>111.6</td><td>114.8</td><td>3</td></tr>\n",
       "\t<tr><td>2018-01-04</td><td>106.4</td><td>104.4</td><td>109.0</td><td>4</td></tr>\n",
       "\t<tr><td>2018-01-05</td><td> 97.8</td><td>100.4</td><td>102.4</td><td>5</td></tr>\n",
       "\t<tr><td>2018-01-06</td><td> 87.0</td><td> 90.8</td><td> 87.2</td><td>6</td></tr>\n",
       "</tbody>\n",
       "</table>\n"
      ],
      "text/latex": [
       "A tibble: 6 × 5\n",
       "\\begin{tabular}{lllll}\n",
       " Dates & 09:00 & 10:00 & 11:00 & index\\\\\n",
       " <dttm> & <dbl> & <dbl> & <dbl> & <int>\\\\\n",
       "\\hline\n",
       "\t 2018-01-01 &  89.4 &  90.6 &  88.6 & 1\\\\\n",
       "\t 2018-01-02 & 108.2 & 104.6 & 106.0 & 2\\\\\n",
       "\t 2018-01-03 & 110.0 & 111.6 & 114.8 & 3\\\\\n",
       "\t 2018-01-04 & 106.4 & 104.4 & 109.0 & 4\\\\\n",
       "\t 2018-01-05 &  97.8 & 100.4 & 102.4 & 5\\\\\n",
       "\t 2018-01-06 &  87.0 &  90.8 &  87.2 & 6\\\\\n",
       "\\end{tabular}\n"
      ],
      "text/markdown": [
       "\n",
       "A tibble: 6 × 5\n",
       "\n",
       "| Dates &lt;dttm&gt; | 09:00 &lt;dbl&gt; | 10:00 &lt;dbl&gt; | 11:00 &lt;dbl&gt; | index &lt;int&gt; |\n",
       "|---|---|---|---|---|\n",
       "| 2018-01-01 |  89.4 |  90.6 |  88.6 | 1 |\n",
       "| 2018-01-02 | 108.2 | 104.6 | 106.0 | 2 |\n",
       "| 2018-01-03 | 110.0 | 111.6 | 114.8 | 3 |\n",
       "| 2018-01-04 | 106.4 | 104.4 | 109.0 | 4 |\n",
       "| 2018-01-05 |  97.8 | 100.4 | 102.4 | 5 |\n",
       "| 2018-01-06 |  87.0 |  90.8 |  87.2 | 6 |\n",
       "\n"
      ],
      "text/plain": [
       "  Dates      09:00 10:00 11:00 index\n",
       "1 2018-01-01  89.4  90.6  88.6 1    \n",
       "2 2018-01-02 108.2 104.6 106.0 2    \n",
       "3 2018-01-03 110.0 111.6 114.8 3    \n",
       "4 2018-01-04 106.4 104.4 109.0 4    \n",
       "5 2018-01-05  97.8 100.4 102.4 5    \n",
       "6 2018-01-06  87.0  90.8  87.2 6    "
      ]
     },
     "metadata": {},
     "output_type": "display_data"
    }
   ],
   "source": [
    "df <- read_excel(\"data/UOW_load.xlsx\")\n",
    "#add index column to data frame\n",
    "df$index <- 1:nrow(df)\n",
    "head(df)"
   ]
  },
  {
   "cell_type": "code",
   "execution_count": 84,
   "metadata": {
    "vscode": {
     "languageId": "r"
    }
   },
   "outputs": [
    {
     "data": {
      "text/html": [
       "<table class=\"dataframe\">\n",
       "<caption>A tibble: 6 × 5</caption>\n",
       "<thead>\n",
       "\t<tr><th scope=col>Dates</th><th scope=col>ninth_hour</th><th scope=col>tenth_hour</th><th scope=col>eleventh_hour</th><th scope=col>index</th></tr>\n",
       "\t<tr><th scope=col>&lt;dttm&gt;</th><th scope=col>&lt;dbl&gt;</th><th scope=col>&lt;dbl&gt;</th><th scope=col>&lt;dbl&gt;</th><th scope=col>&lt;int&gt;</th></tr>\n",
       "</thead>\n",
       "<tbody>\n",
       "\t<tr><td>2018-01-01</td><td> 89.4</td><td> 90.6</td><td> 88.6</td><td>1</td></tr>\n",
       "\t<tr><td>2018-01-02</td><td>108.2</td><td>104.6</td><td>106.0</td><td>2</td></tr>\n",
       "\t<tr><td>2018-01-03</td><td>110.0</td><td>111.6</td><td>114.8</td><td>3</td></tr>\n",
       "\t<tr><td>2018-01-04</td><td>106.4</td><td>104.4</td><td>109.0</td><td>4</td></tr>\n",
       "\t<tr><td>2018-01-05</td><td> 97.8</td><td>100.4</td><td>102.4</td><td>5</td></tr>\n",
       "\t<tr><td>2018-01-06</td><td> 87.0</td><td> 90.8</td><td> 87.2</td><td>6</td></tr>\n",
       "</tbody>\n",
       "</table>\n"
      ],
      "text/latex": [
       "A tibble: 6 × 5\n",
       "\\begin{tabular}{lllll}\n",
       " Dates & ninth\\_hour & tenth\\_hour & eleventh\\_hour & index\\\\\n",
       " <dttm> & <dbl> & <dbl> & <dbl> & <int>\\\\\n",
       "\\hline\n",
       "\t 2018-01-01 &  89.4 &  90.6 &  88.6 & 1\\\\\n",
       "\t 2018-01-02 & 108.2 & 104.6 & 106.0 & 2\\\\\n",
       "\t 2018-01-03 & 110.0 & 111.6 & 114.8 & 3\\\\\n",
       "\t 2018-01-04 & 106.4 & 104.4 & 109.0 & 4\\\\\n",
       "\t 2018-01-05 &  97.8 & 100.4 & 102.4 & 5\\\\\n",
       "\t 2018-01-06 &  87.0 &  90.8 &  87.2 & 6\\\\\n",
       "\\end{tabular}\n"
      ],
      "text/markdown": [
       "\n",
       "A tibble: 6 × 5\n",
       "\n",
       "| Dates &lt;dttm&gt; | ninth_hour &lt;dbl&gt; | tenth_hour &lt;dbl&gt; | eleventh_hour &lt;dbl&gt; | index &lt;int&gt; |\n",
       "|---|---|---|---|---|\n",
       "| 2018-01-01 |  89.4 |  90.6 |  88.6 | 1 |\n",
       "| 2018-01-02 | 108.2 | 104.6 | 106.0 | 2 |\n",
       "| 2018-01-03 | 110.0 | 111.6 | 114.8 | 3 |\n",
       "| 2018-01-04 | 106.4 | 104.4 | 109.0 | 4 |\n",
       "| 2018-01-05 |  97.8 | 100.4 | 102.4 | 5 |\n",
       "| 2018-01-06 |  87.0 |  90.8 |  87.2 | 6 |\n",
       "\n"
      ],
      "text/plain": [
       "  Dates      ninth_hour tenth_hour eleventh_hour index\n",
       "1 2018-01-01  89.4       90.6       88.6         1    \n",
       "2 2018-01-02 108.2      104.6      106.0         2    \n",
       "3 2018-01-03 110.0      111.6      114.8         3    \n",
       "4 2018-01-04 106.4      104.4      109.0         4    \n",
       "5 2018-01-05  97.8      100.4      102.4         5    \n",
       "6 2018-01-06  87.0       90.8       87.2         6    "
      ]
     },
     "metadata": {},
     "output_type": "display_data"
    }
   ],
   "source": [
    "names(df)[2] <- paste(\"ninth_hour\")\n",
    "names(df)[3] <- paste(\"tenth_hour\")\n",
    "names(df)[4] <- paste(\"eleventh_hour\")\n",
    "head(df)"
   ]
  },
  {
   "cell_type": "code",
   "execution_count": 85,
   "metadata": {
    "vscode": {
     "languageId": "r"
    }
   },
   "outputs": [
    {
     "data": {
      "image/png": "[encoded data removed]",
      "text/plain": [
       "plot without title"
      ]
     },
     "metadata": {
      "image/png": {
       "height": 420,
       "width": 420
      }
     },
     "output_type": "display_data"
    }
   ],
   "source": [
    "library(ggplot2)\n",
    "\n",
    "#create time series plot\n",
    "p <- ggplot(df, aes(x=Dates, y=ninth_hour)) +\n",
    "       geom_line()\n",
    "\n",
    "#display time series plot\n",
    "p"
   ]
  },
  {
   "cell_type": "code",
   "execution_count": 86,
   "metadata": {
    "vscode": {
     "languageId": "r"
    }
   },
   "outputs": [
    {
     "ename": "ERROR",
     "evalue": "\u001b[1m\u001b[33mError\u001b[39m in \u001b[1m\u001b[1m\u001b[30m\u001b[47m`mutate()`\u001b[49m\u001b[39m:\u001b[22m\n\u001b[1m\u001b[22m\u001b[33m!\u001b[39m Problem while computing `five_day_rolling = rollmean(usd_eur, 5, fill\n  = NA)`.\n\u001b[1mCaused by error in \u001b[1m\u001b[1m\u001b[30m\u001b[47m`rollmean()`\u001b[49m\u001b[39m:\u001b[22m\n\u001b[33m!\u001b[39m could not find function \"rollmean\"\n",
     "output_type": "error",
     "traceback": [
      "\u001b[1m\u001b[33mError\u001b[39m in \u001b[1m\u001b[1m\u001b[30m\u001b[47m`mutate()`\u001b[49m\u001b[39m:\u001b[22m\n\u001b[1m\u001b[22m\u001b[33m!\u001b[39m Problem while computing `five_day_rolling = rollmean(usd_eur, 5, fill\n  = NA)`.\n\u001b[1mCaused by error in \u001b[1m\u001b[1m\u001b[30m\u001b[47m`rollmean()`\u001b[49m\u001b[39m:\u001b[22m\n\u001b[33m!\u001b[39m could not find function \"rollmean\"\nTraceback:\n",
      "1. exchangeUSD %>% mutate(previous_one_day_set_a = lag(exchangeUSD$usd_eur, \n .     1), previous_one_day_set_b = lag(exchangeUSD$usd_eur, 1), \n .     previous_two_day_set_b = lag(exchangeUSD$usd_eur, 2), previous_one_day_set_c = lag(exchangeUSD$usd_eur, \n .         1), previous_two_day_set_c = lag(exchangeUSD$usd_eur, \n .         2), previous_three_day_set_c = lag(exchangeUSD$usd_eur, \n .         3), previous_one_day_set_d = lag(exchangeUSD$usd_eur, \n .         1), previous_two_day_set_d = lag(exchangeUSD$usd_eur, \n .         2), five_day_rolling = rollmean(usd_eur, 5, fill = NA), \n .     ten_day_rolling = rollmean(usd_eur, 10, fill = NA)) %>% drop_na()",
      "2. drop_na(.)",
      "3. mutate(., previous_one_day_set_a = lag(exchangeUSD$usd_eur, 1), \n .     previous_one_day_set_b = lag(exchangeUSD$usd_eur, 1), previous_two_day_set_b = lag(exchangeUSD$usd_eur, \n .         2), previous_one_day_set_c = lag(exchangeUSD$usd_eur, \n .         1), previous_two_day_set_c = lag(exchangeUSD$usd_eur, \n .         2), previous_three_day_set_c = lag(exchangeUSD$usd_eur, \n .         3), previous_one_day_set_d = lag(exchangeUSD$usd_eur, \n .         1), previous_two_day_set_d = lag(exchangeUSD$usd_eur, \n .         2), five_day_rolling = rollmean(usd_eur, 5, fill = NA), \n .     ten_day_rolling = rollmean(usd_eur, 10, fill = NA))",
      "4. mutate.data.frame(., previous_one_day_set_a = lag(exchangeUSD$usd_eur, \n .     1), previous_one_day_set_b = lag(exchangeUSD$usd_eur, 1), \n .     previous_two_day_set_b = lag(exchangeUSD$usd_eur, 2), previous_one_day_set_c = lag(exchangeUSD$usd_eur, \n .         1), previous_two_day_set_c = lag(exchangeUSD$usd_eur, \n .         2), previous_three_day_set_c = lag(exchangeUSD$usd_eur, \n .         3), previous_one_day_set_d = lag(exchangeUSD$usd_eur, \n .         1), previous_two_day_set_d = lag(exchangeUSD$usd_eur, \n .         2), five_day_rolling = rollmean(usd_eur, 5, fill = NA), \n .     ten_day_rolling = rollmean(usd_eur, 10, fill = NA))",
      "5. mutate_cols(.data, dplyr_quosures(...), caller_env = caller_env())",
      "6. withCallingHandlers({\n .     for (i in seq_along(dots)) {\n .         context_poke(\"column\", old_current_column)\n .         quosures <- expand_across(dots[[i]])\n .         quosures_results <- vector(mode = \"list\", length = length(quosures))\n .         for (k in seq_along(quosures)) {\n .             quo <- quosures[[k]]\n .             quo_data <- attr(quo, \"dplyr:::data\")\n .             if (!is.null(quo_data$column)) {\n .                 context_poke(\"column\", quo_data$column)\n .             }\n .             chunks <- NULL\n .             result <- NULL\n .             if (quo_is_symbol(quo)) {\n .                 name <- as_string(quo_get_expr(quo))\n .                 if (name %in% names(new_columns)) {\n .                   result <- new_columns[[name]]\n .                   chunks <- mask$resolve(name)\n .                 }\n .                 else if (name %in% names(.data)) {\n .                   result <- .data[[name]]\n .                   chunks <- mask$resolve(name)\n .                 }\n .                 if (inherits(.data, \"rowwise_df\") && vec_is_list(result)) {\n .                   sizes <- list_sizes(result)\n .                   wrong <- which(sizes != 1)\n .                   if (length(wrong)) {\n .                     group <- wrong[1L]\n .                     mask$set_current_group(group)\n .                     abort(class = c(\"dplyr:::mutate_incompatible_size\", \n .                       \"dplyr:::internal_error\"), dplyr_error_data = list(result_size = sizes[group], \n .                       expected_size = 1))\n .                   }\n .                 }\n .             }\n .             else if (!quo_is_symbolic(quo) && !is.null(quo_get_expr(quo))) {\n .                 result <- quo_get_expr(quo)\n .                 result <- withCallingHandlers(vec_recycle(result, \n .                   vec_size(.data)), error = function(cnd) {\n .                   abort(class = c(\"dplyr:::mutate_constant_recycle_error\", \n .                     \"dplyr:::internal_error\"), constant_size = vec_size(result), \n .                     data_size = vec_size(.data))\n .                 })\n .                 chunks <- vec_chop(result, rows)\n .             }\n .             if (is.null(chunks)) {\n .                 if (is.null(quo_data$column)) {\n .                   chunks <- mask$eval_all_mutate(quo)\n .                 }\n .                 else {\n .                   chunks <- withCallingHandlers(mask$eval_all_mutate(quo), \n .                     error = function(cnd) {\n .                       msg <- glue(\"Problem while computing column `{quo_data$name_auto}`.\")\n .                       abort(msg, call = call(\"across\"), parent = cnd)\n .                     })\n .                 }\n .             }\n .             if (is.null(chunks)) {\n .                 next\n .             }\n .             if (is.null(result)) {\n .                 if (length(rows) == 1) {\n .                   result <- chunks[[1]]\n .                 }\n .                 else {\n .                   chunks <- dplyr_vec_cast_common(chunks, quo_data$name_auto)\n .                   result <- vec_unchop(chunks, rows)\n .                 }\n .             }\n .             quosures_results[[k]] <- list(result = result, chunks = chunks)\n .         }\n .         for (k in seq_along(quosures)) {\n .             quo <- quosures[[k]]\n .             quo_data <- attr(quo, \"dplyr:::data\")\n .             quo_result <- quosures_results[[k]]\n .             if (is.null(quo_result)) {\n .                 if (quo_data$is_named) {\n .                   name <- quo_data$name_given\n .                   new_columns[[name]] <- zap()\n .                   mask$remove(name)\n .                 }\n .                 next\n .             }\n .             result <- quo_result$result\n .             chunks <- quo_result$chunks\n .             if (!quo_data$is_named && is.data.frame(result)) {\n .                 types <- vec_ptype(result)\n .                 types_names <- names(types)\n .                 chunks_extracted <- .Call(dplyr_extract_chunks, \n .                   chunks, types)\n .                 for (j in seq_along(types)) {\n .                   mask$add_one(types_names[j], chunks_extracted[[j]], \n .                     result = result[[j]])\n .                 }\n .                 new_columns[types_names] <- result\n .             }\n .             else {\n .                 name <- quo_data$name_auto\n .                 mask$add_one(name = name, chunks = chunks, result = result)\n .                 new_columns[[name]] <- result\n .             }\n .         }\n .     }\n . }, error = function(e) {\n .     local_error_context(dots = dots, .index = i, mask = mask)\n .     bullets <- c(cnd_bullet_header(\"computing\"), mutate_bullets(e))\n .     abort(bullets, class = \"dplyr:::mutate_error\", parent = skip_internal_condition(e), \n .         bullets = bullets, call = error_call)\n . }, warning = function(w) {\n .     if (check_muffled_warning(w)) {\n .         maybe_restart(\"muffleWarning\")\n .     }\n .     local_error_context(dots = dots, .index = i, mask = mask)\n .     warn(c(cnd_bullet_header(\"computing\"), i = cnd_header(w), \n .         i = cnd_bullet_cur_group_label(what = \"warning\")))\n .     maybe_restart(\"muffleWarning\")\n . })",
      "7. mask$eval_all_mutate(quo)",
      "8. .handleSimpleError(function (e) \n . {\n .     local_error_context(dots = dots, .index = i, mask = mask)\n .     bullets <- c(cnd_bullet_header(\"computing\"), mutate_bullets(e))\n .     abort(bullets, class = \"dplyr:::mutate_error\", parent = skip_internal_condition(e), \n .         bullets = bullets, call = error_call)\n . }, \"could not find function \\\"rollmean\\\"\", base::quote(rollmean(usd_eur, \n .     5, fill = NA)))",
      "9. h(simpleError(msg, call))",
      "10. abort(bullets, class = \"dplyr:::mutate_error\", parent = skip_internal_condition(e), \n  .     bullets = bullets, call = error_call)",
      "11. signal_abort(cnd, .file)"
     ]
    }
   ],
   "source": [
    "# insert all the inputs to the one data frame\n",
    "usd_exchange_full = exchangeUSD %>%\n",
    " mutate(previous_one_day_set_a = lag(exchangeUSD$usd_eur,1),\n",
    " previous_one_day_set_b = lag(exchangeUSD$usd_eur,1),\n",
    " previous_two_day_set_b = lag(exchangeUSD$usd_eur,2),\n",
    " previous_one_day_set_c = lag(exchangeUSD$usd_eur,1),\n",
    " previous_two_day_set_c = lag(exchangeUSD$usd_eur,2),\n",
    " previous_three_day_set_c = lag(exchangeUSD$usd_eur,3),\n",
    " previous_one_day_set_d = lag(exchangeUSD$usd_eur,1),\n",
    " previous_two_day_set_d = lag(exchangeUSD$usd_eur,2),\n",
    "#  five_day_rolling = rollmean(usd_eur,5, fill = NA),\n",
    "#  ten_day_rolling = rollmean(usd_eur,10, fill = NA)) %>%\n",
    "\n",
    "\n",
    " drop_na()"
   ]
  }
 ],
 "metadata": {
  "kernelspec": {
   "display_name": "R",
   "language": "R",
   "name": "ir"
  },
  "language_info": {
   "codemirror_mode": "r",
   "file_extension": ".r",
   "mimetype": "text/x-r-source",
   "name": "R",
   "pygments_lexer": "r",
   "version": "4.1.1"
  },
  "orig_nbformat": 4
 },
 "nbformat": 4,
 "nbformat_minor": 2
}
