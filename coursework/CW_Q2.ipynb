{
 "cells": [
  {
   "cell_type": "code",
   "execution_count": 83,
   "metadata": {
    "vscode": {
     "languageId": "r"
    }
   },
   "outputs": [],
   "source": [
    "# install.packages(\"xts\")"
   ]
  },
  {
   "cell_type": "code",
   "execution_count": 84,
   "metadata": {
    "vscode": {
     "languageId": "r"
    }
   },
   "outputs": [],
   "source": [
    "# libraries\n",
    "library(readxl)\n",
    "options(warn = 0)\n",
    "library(dplyr)\n",
    "library(ggplot2)\n",
    "library(caTools)\n",
    "library(caret)\n",
    "library(GGally)\n",
    "library(janitor)\n",
    "library(corrplot)\n",
    "library(tidyverse)\n",
    "library(hrbrthemes)\n",
    "library(viridis)\n",
    "library(neuralnet)\n",
    "library(xts)"
   ]
  },
  {
   "cell_type": "code",
   "execution_count": 85,
   "metadata": {
    "vscode": {
     "languageId": "r"
    }
   },
   "outputs": [
    {
     "data": {
      "text/html": [
       "<table class=\"dataframe\">\n",
       "<caption>A tibble: 6 × 5</caption>\n",
       "<thead>\n",
       "\t<tr><th scope=col>Dates</th><th scope=col>09:00</th><th scope=col>10:00</th><th scope=col>11:00</th><th scope=col>index</th></tr>\n",
       "\t<tr><th scope=col>&lt;dttm&gt;</th><th scope=col>&lt;dbl&gt;</th><th scope=col>&lt;dbl&gt;</th><th scope=col>&lt;dbl&gt;</th><th scope=col>&lt;int&gt;</th></tr>\n",
       "</thead>\n",
       "<tbody>\n",
       "\t<tr><td>2018-01-01</td><td> 89.4</td><td> 90.6</td><td> 88.6</td><td>1</td></tr>\n",
       "\t<tr><td>2018-01-02</td><td>108.2</td><td>104.6</td><td>106.0</td><td>2</td></tr>\n",
       "\t<tr><td>2018-01-03</td><td>110.0</td><td>111.6</td><td>114.8</td><td>3</td></tr>\n",
       "\t<tr><td>2018-01-04</td><td>106.4</td><td>104.4</td><td>109.0</td><td>4</td></tr>\n",
       "\t<tr><td>2018-01-05</td><td> 97.8</td><td>100.4</td><td>102.4</td><td>5</td></tr>\n",
       "\t<tr><td>2018-01-06</td><td> 87.0</td><td> 90.8</td><td> 87.2</td><td>6</td></tr>\n",
       "</tbody>\n",
       "</table>\n"
      ],
      "text/latex": [
       "A tibble: 6 × 5\n",
       "\\begin{tabular}{lllll}\n",
       " Dates & 09:00 & 10:00 & 11:00 & index\\\\\n",
       " <dttm> & <dbl> & <dbl> & <dbl> & <int>\\\\\n",
       "\\hline\n",
       "\t 2018-01-01 &  89.4 &  90.6 &  88.6 & 1\\\\\n",
       "\t 2018-01-02 & 108.2 & 104.6 & 106.0 & 2\\\\\n",
       "\t 2018-01-03 & 110.0 & 111.6 & 114.8 & 3\\\\\n",
       "\t 2018-01-04 & 106.4 & 104.4 & 109.0 & 4\\\\\n",
       "\t 2018-01-05 &  97.8 & 100.4 & 102.4 & 5\\\\\n",
       "\t 2018-01-06 &  87.0 &  90.8 &  87.2 & 6\\\\\n",
       "\\end{tabular}\n"
      ],
      "text/markdown": [
       "\n",
       "A tibble: 6 × 5\n",
       "\n",
       "| Dates &lt;dttm&gt; | 09:00 &lt;dbl&gt; | 10:00 &lt;dbl&gt; | 11:00 &lt;dbl&gt; | index &lt;int&gt; |\n",
       "|---|---|---|---|---|\n",
       "| 2018-01-01 |  89.4 |  90.6 |  88.6 | 1 |\n",
       "| 2018-01-02 | 108.2 | 104.6 | 106.0 | 2 |\n",
       "| 2018-01-03 | 110.0 | 111.6 | 114.8 | 3 |\n",
       "| 2018-01-04 | 106.4 | 104.4 | 109.0 | 4 |\n",
       "| 2018-01-05 |  97.8 | 100.4 | 102.4 | 5 |\n",
       "| 2018-01-06 |  87.0 |  90.8 |  87.2 | 6 |\n",
       "\n"
      ],
      "text/plain": [
       "  Dates      09:00 10:00 11:00 index\n",
       "1 2018-01-01  89.4  90.6  88.6 1    \n",
       "2 2018-01-02 108.2 104.6 106.0 2    \n",
       "3 2018-01-03 110.0 111.6 114.8 3    \n",
       "4 2018-01-04 106.4 104.4 109.0 4    \n",
       "5 2018-01-05  97.8 100.4 102.4 5    \n",
       "6 2018-01-06  87.0  90.8  87.2 6    "
      ]
     },
     "metadata": {},
     "output_type": "display_data"
    }
   ],
   "source": [
    "df <- read_excel(\"data/UOW_load.xlsx\")\n",
    "#add index column to data frame\n",
    "df$index <- 1:nrow(df)\n",
    "head(df)"
   ]
  },
  {
   "cell_type": "code",
   "execution_count": 86,
   "metadata": {
    "vscode": {
     "languageId": "r"
    }
   },
   "outputs": [],
   "source": [
    "df$Dates<-as.Date(df$Dates)"
   ]
  },
  {
   "cell_type": "code",
   "execution_count": 87,
   "metadata": {
    "vscode": {
     "languageId": "r"
    }
   },
   "outputs": [
    {
     "data": {
      "text/html": [
       "<table class=\"dataframe\">\n",
       "<caption>A tibble: 6 × 5</caption>\n",
       "<thead>\n",
       "\t<tr><th scope=col>Dates</th><th scope=col>ninth_hour</th><th scope=col>tenth_hour</th><th scope=col>eleventh_hour</th><th scope=col>index</th></tr>\n",
       "\t<tr><th scope=col>&lt;date&gt;</th><th scope=col>&lt;dbl&gt;</th><th scope=col>&lt;dbl&gt;</th><th scope=col>&lt;dbl&gt;</th><th scope=col>&lt;int&gt;</th></tr>\n",
       "</thead>\n",
       "<tbody>\n",
       "\t<tr><td>2018-01-01</td><td> 89.4</td><td> 90.6</td><td> 88.6</td><td>1</td></tr>\n",
       "\t<tr><td>2018-01-02</td><td>108.2</td><td>104.6</td><td>106.0</td><td>2</td></tr>\n",
       "\t<tr><td>2018-01-03</td><td>110.0</td><td>111.6</td><td>114.8</td><td>3</td></tr>\n",
       "\t<tr><td>2018-01-04</td><td>106.4</td><td>104.4</td><td>109.0</td><td>4</td></tr>\n",
       "\t<tr><td>2018-01-05</td><td> 97.8</td><td>100.4</td><td>102.4</td><td>5</td></tr>\n",
       "\t<tr><td>2018-01-06</td><td> 87.0</td><td> 90.8</td><td> 87.2</td><td>6</td></tr>\n",
       "</tbody>\n",
       "</table>\n"
      ],
      "text/latex": [
       "A tibble: 6 × 5\n",
       "\\begin{tabular}{lllll}\n",
       " Dates & ninth\\_hour & tenth\\_hour & eleventh\\_hour & index\\\\\n",
       " <date> & <dbl> & <dbl> & <dbl> & <int>\\\\\n",
       "\\hline\n",
       "\t 2018-01-01 &  89.4 &  90.6 &  88.6 & 1\\\\\n",
       "\t 2018-01-02 & 108.2 & 104.6 & 106.0 & 2\\\\\n",
       "\t 2018-01-03 & 110.0 & 111.6 & 114.8 & 3\\\\\n",
       "\t 2018-01-04 & 106.4 & 104.4 & 109.0 & 4\\\\\n",
       "\t 2018-01-05 &  97.8 & 100.4 & 102.4 & 5\\\\\n",
       "\t 2018-01-06 &  87.0 &  90.8 &  87.2 & 6\\\\\n",
       "\\end{tabular}\n"
      ],
      "text/markdown": [
       "\n",
       "A tibble: 6 × 5\n",
       "\n",
       "| Dates &lt;date&gt; | ninth_hour &lt;dbl&gt; | tenth_hour &lt;dbl&gt; | eleventh_hour &lt;dbl&gt; | index &lt;int&gt; |\n",
       "|---|---|---|---|---|\n",
       "| 2018-01-01 |  89.4 |  90.6 |  88.6 | 1 |\n",
       "| 2018-01-02 | 108.2 | 104.6 | 106.0 | 2 |\n",
       "| 2018-01-03 | 110.0 | 111.6 | 114.8 | 3 |\n",
       "| 2018-01-04 | 106.4 | 104.4 | 109.0 | 4 |\n",
       "| 2018-01-05 |  97.8 | 100.4 | 102.4 | 5 |\n",
       "| 2018-01-06 |  87.0 |  90.8 |  87.2 | 6 |\n",
       "\n"
      ],
      "text/plain": [
       "  Dates      ninth_hour tenth_hour eleventh_hour index\n",
       "1 2018-01-01  89.4       90.6       88.6         1    \n",
       "2 2018-01-02 108.2      104.6      106.0         2    \n",
       "3 2018-01-03 110.0      111.6      114.8         3    \n",
       "4 2018-01-04 106.4      104.4      109.0         4    \n",
       "5 2018-01-05  97.8      100.4      102.4         5    \n",
       "6 2018-01-06  87.0       90.8       87.2         6    "
      ]
     },
     "metadata": {},
     "output_type": "display_data"
    }
   ],
   "source": [
    "names(df)[2] <- paste(\"ninth_hour\")\n",
    "names(df)[3] <- paste(\"tenth_hour\")\n",
    "names(df)[4] <- paste(\"eleventh_hour\")\n",
    "head(df)"
   ]
  },
  {
   "cell_type": "code",
   "execution_count": 88,
   "metadata": {
    "vscode": {
     "languageId": "r"
    }
   },
   "outputs": [
    {
     "data": {
      "text/plain": [
       "   ninth_hour       tenth_hour     eleventh_hour   \n",
       " Min.   : 50.40   Min.   : 49.20   Min.   : 48.20  \n",
       " 1st Qu.: 81.55   1st Qu.: 83.00   1st Qu.: 84.75  \n",
       " Median : 97.50   Median :102.80   Median :105.40  \n",
       " Mean   : 95.35   Mean   : 99.63   Mean   :102.83  \n",
       " 3rd Qu.:110.60   3rd Qu.:116.05   3rd Qu.:120.90  \n",
       " Max.   :141.20   Max.   :148.80   Max.   :156.40  "
      ]
     },
     "metadata": {},
     "output_type": "display_data"
    }
   ],
   "source": [
    "summary(df[2:4])"
   ]
  },
  {
   "cell_type": "code",
   "execution_count": 89,
   "metadata": {
    "vscode": {
     "languageId": "r"
    }
   },
   "outputs": [
    {
     "data": {
      "image/png": "[encoded data removed]",
      "text/plain": [
       "plot without title"
      ]
     },
     "metadata": {
      "image/png": {
       "height": 420,
       "width": 420
      }
     },
     "output_type": "display_data"
    }
   ],
   "source": [
    "library(ggplot2)\n",
    "\n",
    "#create time series plot\n",
    "p <- ggplot(df, aes(x=Dates, y=ninth_hour)) +\n",
    "       geom_line()\n",
    "\n",
    "#display time series plot\n",
    "p"
   ]
  },
  {
   "cell_type": "code",
   "execution_count": 90,
   "metadata": {
    "vscode": {
     "languageId": "r"
    }
   },
   "outputs": [
    {
     "data": {
      "image/png": "[encoded data removed]",
      "text/plain": [
       "plot without title"
      ]
     },
     "metadata": {
      "image/png": {
       "height": 420,
       "width": 420
      }
     },
     "output_type": "display_data"
    }
   ],
   "source": [
    "library(ggplot2)\n",
    "\n",
    "#create time series plot\n",
    "p <- ggplot(df, aes(x=Dates, y=tenth_hour)) +\n",
    "       geom_line()\n",
    "\n",
    "#display time series plot\n",
    "p"
   ]
  },
  {
   "cell_type": "code",
   "execution_count": 91,
   "metadata": {
    "vscode": {
     "languageId": "r"
    }
   },
   "outputs": [
    {
     "data": {
      "image/png": "[encoded data removed]",
      "text/plain": [
       "plot without title"
      ]
     },
     "metadata": {
      "image/png": {
       "height": 420,
       "width": 420
      }
     },
     "output_type": "display_data"
    }
   ],
   "source": [
    "library(ggplot2)\n",
    "\n",
    "#create time series plot\n",
    "p <- ggplot(df, aes(x=Dates, y=eleventh_hour)) +\n",
    "       geom_line()\n",
    "\n",
    "#display time series plot\n",
    "p"
   ]
  },
  {
   "cell_type": "code",
   "execution_count": 92,
   "metadata": {
    "vscode": {
     "languageId": "r"
    }
   },
   "outputs": [],
   "source": [
    "# insert all the inputs to the one data frame\n",
    "df_full = df %>%\n",
    " mutate(\n",
    "     previous_one_day_ninth_hour = lag(df$ninth_hour,1),\n",
    "    previous_one_day_tenth_hour = lag(df$tenth_hour,1),\n",
    "    previous_one_day_eleventh_hour = lag(df$eleventh_hour,1))\n",
    "#  five_day_rolling = rollmean(usd_eur,5, fill = NA),\n",
    "#  ten_day_rolling = rollmean(usd_eur,10, fill = NA)) %>%\n",
    "\n",
    "\n",
    "# drop_na()"
   ]
  },
  {
   "cell_type": "code",
   "execution_count": 93,
   "metadata": {
    "vscode": {
     "languageId": "r"
    }
   },
   "outputs": [
    {
     "data": {
      "text/html": [
       "<table class=\"dataframe\">\n",
       "<caption>A tibble: 6 × 8</caption>\n",
       "<thead>\n",
       "\t<tr><th scope=col>Dates</th><th scope=col>ninth_hour</th><th scope=col>tenth_hour</th><th scope=col>eleventh_hour</th><th scope=col>index</th><th scope=col>previous_one_day_ninth_hour</th><th scope=col>previous_one_day_tenth_hour</th><th scope=col>previous_one_day_eleventh_hour</th></tr>\n",
       "\t<tr><th scope=col>&lt;date&gt;</th><th scope=col>&lt;dbl&gt;</th><th scope=col>&lt;dbl&gt;</th><th scope=col>&lt;dbl&gt;</th><th scope=col>&lt;int&gt;</th><th scope=col>&lt;dbl&gt;</th><th scope=col>&lt;dbl&gt;</th><th scope=col>&lt;dbl&gt;</th></tr>\n",
       "</thead>\n",
       "<tbody>\n",
       "\t<tr><td>2018-01-01</td><td> 89.4</td><td> 90.6</td><td> 88.6</td><td>1</td><td>   NA</td><td>   NA</td><td>   NA</td></tr>\n",
       "\t<tr><td>2018-01-02</td><td>108.2</td><td>104.6</td><td>106.0</td><td>2</td><td> 89.4</td><td> 90.6</td><td> 88.6</td></tr>\n",
       "\t<tr><td>2018-01-03</td><td>110.0</td><td>111.6</td><td>114.8</td><td>3</td><td>108.2</td><td>104.6</td><td>106.0</td></tr>\n",
       "\t<tr><td>2018-01-04</td><td>106.4</td><td>104.4</td><td>109.0</td><td>4</td><td>110.0</td><td>111.6</td><td>114.8</td></tr>\n",
       "\t<tr><td>2018-01-05</td><td> 97.8</td><td>100.4</td><td>102.4</td><td>5</td><td>106.4</td><td>104.4</td><td>109.0</td></tr>\n",
       "\t<tr><td>2018-01-06</td><td> 87.0</td><td> 90.8</td><td> 87.2</td><td>6</td><td> 97.8</td><td>100.4</td><td>102.4</td></tr>\n",
       "</tbody>\n",
       "</table>\n"
      ],
      "text/latex": [
       "A tibble: 6 × 8\n",
       "\\begin{tabular}{llllllll}\n",
       " Dates & ninth\\_hour & tenth\\_hour & eleventh\\_hour & index & previous\\_one\\_day\\_ninth\\_hour & previous\\_one\\_day\\_tenth\\_hour & previous\\_one\\_day\\_eleventh\\_hour\\\\\n",
       " <date> & <dbl> & <dbl> & <dbl> & <int> & <dbl> & <dbl> & <dbl>\\\\\n",
       "\\hline\n",
       "\t 2018-01-01 &  89.4 &  90.6 &  88.6 & 1 &    NA &    NA &    NA\\\\\n",
       "\t 2018-01-02 & 108.2 & 104.6 & 106.0 & 2 &  89.4 &  90.6 &  88.6\\\\\n",
       "\t 2018-01-03 & 110.0 & 111.6 & 114.8 & 3 & 108.2 & 104.6 & 106.0\\\\\n",
       "\t 2018-01-04 & 106.4 & 104.4 & 109.0 & 4 & 110.0 & 111.6 & 114.8\\\\\n",
       "\t 2018-01-05 &  97.8 & 100.4 & 102.4 & 5 & 106.4 & 104.4 & 109.0\\\\\n",
       "\t 2018-01-06 &  87.0 &  90.8 &  87.2 & 6 &  97.8 & 100.4 & 102.4\\\\\n",
       "\\end{tabular}\n"
      ],
      "text/markdown": [
       "\n",
       "A tibble: 6 × 8\n",
       "\n",
       "| Dates &lt;date&gt; | ninth_hour &lt;dbl&gt; | tenth_hour &lt;dbl&gt; | eleventh_hour &lt;dbl&gt; | index &lt;int&gt; | previous_one_day_ninth_hour &lt;dbl&gt; | previous_one_day_tenth_hour &lt;dbl&gt; | previous_one_day_eleventh_hour &lt;dbl&gt; |\n",
       "|---|---|---|---|---|---|---|---|\n",
       "| 2018-01-01 |  89.4 |  90.6 |  88.6 | 1 |    NA |    NA |    NA |\n",
       "| 2018-01-02 | 108.2 | 104.6 | 106.0 | 2 |  89.4 |  90.6 |  88.6 |\n",
       "| 2018-01-03 | 110.0 | 111.6 | 114.8 | 3 | 108.2 | 104.6 | 106.0 |\n",
       "| 2018-01-04 | 106.4 | 104.4 | 109.0 | 4 | 110.0 | 111.6 | 114.8 |\n",
       "| 2018-01-05 |  97.8 | 100.4 | 102.4 | 5 | 106.4 | 104.4 | 109.0 |\n",
       "| 2018-01-06 |  87.0 |  90.8 |  87.2 | 6 |  97.8 | 100.4 | 102.4 |\n",
       "\n"
      ],
      "text/plain": [
       "  Dates      ninth_hour tenth_hour eleventh_hour index\n",
       "1 2018-01-01  89.4       90.6       88.6         1    \n",
       "2 2018-01-02 108.2      104.6      106.0         2    \n",
       "3 2018-01-03 110.0      111.6      114.8         3    \n",
       "4 2018-01-04 106.4      104.4      109.0         4    \n",
       "5 2018-01-05  97.8      100.4      102.4         5    \n",
       "6 2018-01-06  87.0       90.8       87.2         6    \n",
       "  previous_one_day_ninth_hour previous_one_day_tenth_hour\n",
       "1    NA                          NA                      \n",
       "2  89.4                        90.6                      \n",
       "3 108.2                       104.6                      \n",
       "4 110.0                       111.6                      \n",
       "5 106.4                       104.4                      \n",
       "6  97.8                       100.4                      \n",
       "  previous_one_day_eleventh_hour\n",
       "1    NA                         \n",
       "2  88.6                         \n",
       "3 106.0                         \n",
       "4 114.8                         \n",
       "5 109.0                         \n",
       "6 102.4                         "
      ]
     },
     "metadata": {},
     "output_type": "display_data"
    }
   ],
   "source": [
    "head(df_full)"
   ]
  },
  {
   "cell_type": "code",
   "execution_count": 94,
   "metadata": {
    "vscode": {
     "languageId": "r"
    }
   },
   "outputs": [],
   "source": [
    "df_full=(drop_na(df_full))"
   ]
  },
  {
   "cell_type": "code",
   "execution_count": 95,
   "metadata": {
    "vscode": {
     "languageId": "r"
    }
   },
   "outputs": [],
   "source": [
    "df_full <- scale(df_full[c(2,3,4,6,7,8)])"
   ]
  },
  {
   "cell_type": "code",
   "execution_count": 96,
   "metadata": {
    "vscode": {
     "languageId": "r"
    }
   },
   "outputs": [
    {
     "data": {
      "text/html": [
       "<style>\n",
       ".list-inline {list-style: none; margin:0; padding: 0}\n",
       ".list-inline>li {display: inline-block}\n",
       ".list-inline>li:not(:last-child)::after {content: \"\\00b7\"; padding: 0 .5ex}\n",
       "</style>\n",
       "<ol class=list-inline><li>499</li><li>6</li></ol>\n"
      ],
      "text/latex": [
       "\\begin{enumerate*}\n",
       "\\item 499\n",
       "\\item 6\n",
       "\\end{enumerate*}\n"
      ],
      "text/markdown": [
       "1. 499\n",
       "2. 6\n",
       "\n",
       "\n"
      ],
      "text/plain": [
       "[1] 499   6"
      ]
     },
     "metadata": {},
     "output_type": "display_data"
    }
   ],
   "source": [
    "dim(df_full)"
   ]
  },
  {
   "cell_type": "code",
   "execution_count": null,
   "metadata": {
    "vscode": {
     "languageId": "r"
    }
   },
   "outputs": [],
   "source": []
  },
  {
   "cell_type": "code",
   "execution_count": 97,
   "metadata": {
    "vscode": {
     "languageId": "r"
    }
   },
   "outputs": [
    {
     "data": {
      "text/html": [
       "<table class=\"dataframe\">\n",
       "<caption>A matrix: 6 × 6 of type dbl</caption>\n",
       "<thead>\n",
       "\t<tr><th scope=col>ninth_hour</th><th scope=col>tenth_hour</th><th scope=col>eleventh_hour</th><th scope=col>previous_one_day_ninth_hour</th><th scope=col>previous_one_day_tenth_hour</th><th scope=col>previous_one_day_eleventh_hour</th></tr>\n",
       "</thead>\n",
       "<tbody>\n",
       "\t<tr><td> 0.6116227</td><td> 0.21581140</td><td> 0.12423934</td><td>-0.2844228</td><td>-0.39604456</td><td>-0.56524125</td></tr>\n",
       "\t<tr><td> 0.6973717</td><td> 0.52073382</td><td> 0.47221728</td><td> 0.6113161</td><td> 0.21453215</td><td> 0.12335507</td></tr>\n",
       "\t<tr><td> 0.5258737</td><td> 0.20709933</td><td> 0.24286819</td><td> 0.6970783</td><td> 0.51982050</td><td> 0.47161068</td></tr>\n",
       "\t<tr><td> 0.1161841</td><td> 0.03285794</td><td>-0.01811527</td><td> 0.5255539</td><td> 0.20580962</td><td> 0.24207857</td></tr>\n",
       "\t<tr><td>-0.3983099</td><td>-0.38532137</td><td>-0.61916807</td><td> 0.1158010</td><td> 0.03135914</td><td>-0.01911314</td></tr>\n",
       "\t<tr><td>-1.2653275</td><td>-1.42205760</td><td>-1.39420984</td><td>-0.3987724</td><td>-0.38732203</td><td>-0.62064555</td></tr>\n",
       "</tbody>\n",
       "</table>\n"
      ],
      "text/latex": [
       "A matrix: 6 × 6 of type dbl\n",
       "\\begin{tabular}{llllll}\n",
       " ninth\\_hour & tenth\\_hour & eleventh\\_hour & previous\\_one\\_day\\_ninth\\_hour & previous\\_one\\_day\\_tenth\\_hour & previous\\_one\\_day\\_eleventh\\_hour\\\\\n",
       "\\hline\n",
       "\t  0.6116227 &  0.21581140 &  0.12423934 & -0.2844228 & -0.39604456 & -0.56524125\\\\\n",
       "\t  0.6973717 &  0.52073382 &  0.47221728 &  0.6113161 &  0.21453215 &  0.12335507\\\\\n",
       "\t  0.5258737 &  0.20709933 &  0.24286819 &  0.6970783 &  0.51982050 &  0.47161068\\\\\n",
       "\t  0.1161841 &  0.03285794 & -0.01811527 &  0.5255539 &  0.20580962 &  0.24207857\\\\\n",
       "\t -0.3983099 & -0.38532137 & -0.61916807 &  0.1158010 &  0.03135914 & -0.01911314\\\\\n",
       "\t -1.2653275 & -1.42205760 & -1.39420984 & -0.3987724 & -0.38732203 & -0.62064555\\\\\n",
       "\\end{tabular}\n"
      ],
      "text/markdown": [
       "\n",
       "A matrix: 6 × 6 of type dbl\n",
       "\n",
       "| ninth_hour | tenth_hour | eleventh_hour | previous_one_day_ninth_hour | previous_one_day_tenth_hour | previous_one_day_eleventh_hour |\n",
       "|---|---|---|---|---|---|\n",
       "|  0.6116227 |  0.21581140 |  0.12423934 | -0.2844228 | -0.39604456 | -0.56524125 |\n",
       "|  0.6973717 |  0.52073382 |  0.47221728 |  0.6113161 |  0.21453215 |  0.12335507 |\n",
       "|  0.5258737 |  0.20709933 |  0.24286819 |  0.6970783 |  0.51982050 |  0.47161068 |\n",
       "|  0.1161841 |  0.03285794 | -0.01811527 |  0.5255539 |  0.20580962 |  0.24207857 |\n",
       "| -0.3983099 | -0.38532137 | -0.61916807 |  0.1158010 |  0.03135914 | -0.01911314 |\n",
       "| -1.2653275 | -1.42205760 | -1.39420984 | -0.3987724 | -0.38732203 | -0.62064555 |\n",
       "\n"
      ],
      "text/plain": [
       "     ninth_hour tenth_hour  eleventh_hour previous_one_day_ninth_hour\n",
       "[1,]  0.6116227  0.21581140  0.12423934   -0.2844228                 \n",
       "[2,]  0.6973717  0.52073382  0.47221728    0.6113161                 \n",
       "[3,]  0.5258737  0.20709933  0.24286819    0.6970783                 \n",
       "[4,]  0.1161841  0.03285794 -0.01811527    0.5255539                 \n",
       "[5,] -0.3983099 -0.38532137 -0.61916807    0.1158010                 \n",
       "[6,] -1.2653275 -1.42205760 -1.39420984   -0.3987724                 \n",
       "     previous_one_day_tenth_hour previous_one_day_eleventh_hour\n",
       "[1,] -0.39604456                 -0.56524125                   \n",
       "[2,]  0.21453215                  0.12335507                   \n",
       "[3,]  0.51982050                  0.47161068                   \n",
       "[4,]  0.20580962                  0.24207857                   \n",
       "[5,]  0.03135914                 -0.01911314                   \n",
       "[6,] -0.38732203                 -0.62064555                   "
      ]
     },
     "metadata": {},
     "output_type": "display_data"
    }
   ],
   "source": [
    "head(df_full)"
   ]
  },
  {
   "cell_type": "code",
   "execution_count": 98,
   "metadata": {
    "vscode": {
     "languageId": "r"
    }
   },
   "outputs": [],
   "source": [
    "df_train=df_full[1:400,]\n",
    "df_test  =df_full[401:nrow(df_full),]"
   ]
  },
  {
   "cell_type": "code",
   "execution_count": 99,
   "metadata": {
    "vscode": {
     "languageId": "r"
    }
   },
   "outputs": [],
   "source": [
    "# fit neural network\n",
    "nn=neuralnet(eleventh_hour~ninth_hour+tenth_hour,data=df_train[,c(1,2,3)], \n",
    "            hidden=10,\n",
    "            linear.output = TRUE)"
   ]
  },
  {
   "cell_type": "code",
   "execution_count": 100,
   "metadata": {
    "vscode": {
     "languageId": "r"
    }
   },
   "outputs": [],
   "source": [
    "plot(nn)"
   ]
  },
  {
   "cell_type": "code",
   "execution_count": 101,
   "metadata": {
    "vscode": {
     "languageId": "r"
    }
   },
   "outputs": [
    {
     "data": {
      "text/plain": [
       "                    Length Class      Mode    \n",
       "call                  5    -none-     call    \n",
       "response            400    -none-     numeric \n",
       "covariate           800    -none-     numeric \n",
       "model.list            2    -none-     list    \n",
       "err.fct               1    -none-     function\n",
       "act.fct               1    -none-     function\n",
       "linear.output         1    -none-     logical \n",
       "data                  3    data.frame list    \n",
       "exclude               0    -none-     NULL    \n",
       "net.result            1    -none-     list    \n",
       "weights               1    -none-     list    \n",
       "generalized.weights   1    -none-     list    \n",
       "startweights          1    -none-     list    \n",
       "result.matrix        44    -none-     numeric "
      ]
     },
     "metadata": {},
     "output_type": "display_data"
    }
   ],
   "source": [
    "summary(nn)"
   ]
  },
  {
   "cell_type": "code",
   "execution_count": 102,
   "metadata": {
    "vscode": {
     "languageId": "r"
    }
   },
   "outputs": [],
   "source": [
    "## Prediction using neural network\n",
    "Predict=compute(nn,df_test[,c(1,2)])\n",
    "# Predict$net.result"
   ]
  },
  {
   "cell_type": "code",
   "execution_count": 103,
   "metadata": {
    "vscode": {
     "languageId": "r"
    }
   },
   "outputs": [
    {
     "name": "stdout",
     "output_type": "stream",
     "text": [
      "List of 2\n",
      " $ neurons   :List of 2\n",
      "  ..$ : num [1:99, 1:3] 1 1 1 1 1 1 1 1 1 1 ...\n",
      "  .. ..- attr(*, \"dimnames\")=List of 2\n",
      "  .. .. ..$ : NULL\n",
      "  .. .. ..$ : chr [1:3] \"\" \"ninth_hour\" \"tenth_hour\"\n",
      "  ..$ : num [1:99, 1:11] 1 1 1 1 1 1 1 1 1 1 ...\n",
      " $ net.result: num [1:99, 1] 0.555 0.727 0.681 -0.24 -1.591 ...\n"
     ]
    }
   ],
   "source": [
    "str(Predict)"
   ]
  },
  {
   "cell_type": "code",
   "execution_count": 104,
   "metadata": {
    "vscode": {
     "languageId": "r"
    }
   },
   "outputs": [],
   "source": [
    "set.seed(12345)\n",
    "# two layer neural network\n",
    "model_two_hidden_layers = function(input_set,first_hidden_layer_neurons,secoend_hidden_layer_neurons,activation_fun) {\n",
    "#nuerel network architechure    \n",
    "autoregressive_nn = neuralnet(eleventh_hour ~ input_set,\n",
    "data=df_train, hidden=c(first_hidden_layer_neurons,secoend_hidden_layer_neurons), linear.output=TRUE,act.fct=activation_fun)\n",
    "\n",
    "# train_results = compute(nn_model_true,gbp_test_data[,3:4])\n",
    "\n",
    "# truthcol = gbp_exchange_full[401:491,3]$usd_eur\n",
    "\n",
    "# predcol = unnormalize(train_results$net.result,gbp_min_train_data,\n",
    "# gbp_max_train_data)[,1]\n",
    "# relevant_pred_stat(truthcol,predcol,\n",
    "# \"Two Hidden Layers\") %>%\n",
    "# mutate(hiddel_layers = paste0(hidden, \" and \",sec_hidden),\n",
    "# input_set = \"A\") %>%\n",
    "# filter(.metric != \"rsq\")\n",
    "}"
   ]
  },
  {
   "cell_type": "code",
   "execution_count": 118,
   "metadata": {
    "vscode": {
     "languageId": "r"
    }
   },
   "outputs": [],
   "source": [
    "autoregressive_nn = neuralnet(eleventh_hour ~ ninth_hour+tenth_hour,\n",
    "data=df_train, hidden=c(5,5), linear.output=TRUE,act.fct=\"logistic\")"
   ]
  },
  {
   "cell_type": "code",
   "execution_count": 119,
   "metadata": {
    "vscode": {
     "languageId": "r"
    }
   },
   "outputs": [],
   "source": [
    "train_results = compute(autoregressive_nn,df_test[,c(1,2)])"
   ]
  },
  {
   "cell_type": "code",
   "execution_count": 127,
   "metadata": {
    "vscode": {
     "languageId": "r"
    }
   },
   "outputs": [
    {
     "ename": "ERROR",
     "evalue": "Error in df_test$eleventh_hour: $ operator is invalid for atomic vectors\n",
     "output_type": "error",
     "traceback": [
      "Error in df_test$eleventh_hour: $ operator is invalid for atomic vectors\nTraceback:\n"
     ]
    }
   ],
   "source": [
    "truthcol = df_test$eleventh_hour"
   ]
  },
  {
   "cell_type": "code",
   "execution_count": 125,
   "metadata": {
    "vscode": {
     "languageId": "r"
    }
   },
   "outputs": [
    {
     "data": {
      "text/html": [
       "0.725954691263372"
      ],
      "text/latex": [
       "0.725954691263372"
      ],
      "text/markdown": [
       "0.725954691263372"
      ],
      "text/plain": [
       "[1] 0.7259547"
      ]
     },
     "metadata": {},
     "output_type": "display_data"
    }
   ],
   "source": [
    "truthcol"
   ]
  }
 ],
 "metadata": {
  "kernelspec": {
   "display_name": "R",
   "language": "R",
   "name": "ir"
  },
  "language_info": {
   "codemirror_mode": "r",
   "file_extension": ".r",
   "mimetype": "text/x-r-source",
   "name": "R",
   "pygments_lexer": "r",
   "version": "4.1.1"
  },
  "orig_nbformat": 4
 },
 "nbformat": 4,
 "nbformat_minor": 2
}
