{
 "cells": [
  {
   "cell_type": "markdown",
   "metadata": {},
   "source": [
    "# Required Libraries"
   ]
  },
  {
   "cell_type": "code",
   "execution_count": 1,
   "metadata": {
    "vscode": {
     "languageId": "r"
    }
   },
   "outputs": [
    {
     "name": "stderr",
     "output_type": "stream",
     "text": [
      "Warning message:\n",
      "\"package 'readxl' was built under R version 4.1.3\"\n"
     ]
    }
   ],
   "source": [
    "library(\"readxl\")"
   ]
  },
  {
   "cell_type": "markdown",
   "metadata": {},
   "source": [
    "# Loading Dataset "
   ]
  },
  {
   "cell_type": "code",
   "execution_count": 2,
   "metadata": {
    "vscode": {
     "languageId": "r"
    }
   },
   "outputs": [
    {
     "data": {
      "text/html": [
       "<table class=\"dataframe\">\n",
       "<caption>A tibble: 6 × 12</caption>\n",
       "<thead>\n",
       "\t<tr><th scope=col>fixed acidity</th><th scope=col>volatile acidity</th><th scope=col>citric acid</th><th scope=col>residual sugar</th><th scope=col>chlorides</th><th scope=col>free sulfur dioxide</th><th scope=col>total sulfur dioxide</th><th scope=col>density</th><th scope=col>pH</th><th scope=col>sulphates</th><th scope=col>alcohol</th><th scope=col>quality</th></tr>\n",
       "\t<tr><th scope=col>&lt;dbl&gt;</th><th scope=col>&lt;dbl&gt;</th><th scope=col>&lt;dbl&gt;</th><th scope=col>&lt;dbl&gt;</th><th scope=col>&lt;dbl&gt;</th><th scope=col>&lt;dbl&gt;</th><th scope=col>&lt;dbl&gt;</th><th scope=col>&lt;dbl&gt;</th><th scope=col>&lt;dbl&gt;</th><th scope=col>&lt;dbl&gt;</th><th scope=col>&lt;dbl&gt;</th><th scope=col>&lt;dbl&gt;</th></tr>\n",
       "</thead>\n",
       "<tbody>\n",
       "\t<tr><td>8.1</td><td>0.27</td><td>0.41</td><td> 1.45</td><td>0.033</td><td>11</td><td> 63</td><td>0.9908</td><td>2.99</td><td>0.56</td><td>12.0</td><td>5</td></tr>\n",
       "\t<tr><td>8.6</td><td>0.23</td><td>0.40</td><td> 4.20</td><td>0.035</td><td>17</td><td>109</td><td>0.9947</td><td>3.14</td><td>0.53</td><td> 9.7</td><td>5</td></tr>\n",
       "\t<tr><td>7.9</td><td>0.18</td><td>0.37</td><td> 1.20</td><td>0.040</td><td>16</td><td> 75</td><td>0.9920</td><td>3.18</td><td>0.63</td><td>10.8</td><td>5</td></tr>\n",
       "\t<tr><td>8.3</td><td>0.42</td><td>0.62</td><td>19.25</td><td>0.040</td><td>41</td><td>172</td><td>1.0002</td><td>2.98</td><td>0.67</td><td> 9.7</td><td>5</td></tr>\n",
       "\t<tr><td>6.5</td><td>0.31</td><td>0.14</td><td> 7.50</td><td>0.044</td><td>34</td><td>133</td><td>0.9955</td><td>3.22</td><td>0.50</td><td> 9.5</td><td>5</td></tr>\n",
       "\t<tr><td>7.6</td><td>0.67</td><td>0.14</td><td> 1.50</td><td>0.074</td><td>25</td><td>168</td><td>0.9937</td><td>3.05</td><td>0.51</td><td> 9.3</td><td>5</td></tr>\n",
       "</tbody>\n",
       "</table>\n"
      ],
      "text/latex": [
       "A tibble: 6 × 12\n",
       "\\begin{tabular}{llllllllllll}\n",
       " fixed acidity & volatile acidity & citric acid & residual sugar & chlorides & free sulfur dioxide & total sulfur dioxide & density & pH & sulphates & alcohol & quality\\\\\n",
       " <dbl> & <dbl> & <dbl> & <dbl> & <dbl> & <dbl> & <dbl> & <dbl> & <dbl> & <dbl> & <dbl> & <dbl>\\\\\n",
       "\\hline\n",
       "\t 8.1 & 0.27 & 0.41 &  1.45 & 0.033 & 11 &  63 & 0.9908 & 2.99 & 0.56 & 12.0 & 5\\\\\n",
       "\t 8.6 & 0.23 & 0.40 &  4.20 & 0.035 & 17 & 109 & 0.9947 & 3.14 & 0.53 &  9.7 & 5\\\\\n",
       "\t 7.9 & 0.18 & 0.37 &  1.20 & 0.040 & 16 &  75 & 0.9920 & 3.18 & 0.63 & 10.8 & 5\\\\\n",
       "\t 8.3 & 0.42 & 0.62 & 19.25 & 0.040 & 41 & 172 & 1.0002 & 2.98 & 0.67 &  9.7 & 5\\\\\n",
       "\t 6.5 & 0.31 & 0.14 &  7.50 & 0.044 & 34 & 133 & 0.9955 & 3.22 & 0.50 &  9.5 & 5\\\\\n",
       "\t 7.6 & 0.67 & 0.14 &  1.50 & 0.074 & 25 & 168 & 0.9937 & 3.05 & 0.51 &  9.3 & 5\\\\\n",
       "\\end{tabular}\n"
      ],
      "text/markdown": [
       "\n",
       "A tibble: 6 × 12\n",
       "\n",
       "| fixed acidity &lt;dbl&gt; | volatile acidity &lt;dbl&gt; | citric acid &lt;dbl&gt; | residual sugar &lt;dbl&gt; | chlorides &lt;dbl&gt; | free sulfur dioxide &lt;dbl&gt; | total sulfur dioxide &lt;dbl&gt; | density &lt;dbl&gt; | pH &lt;dbl&gt; | sulphates &lt;dbl&gt; | alcohol &lt;dbl&gt; | quality &lt;dbl&gt; |\n",
       "|---|---|---|---|---|---|---|---|---|---|---|---|\n",
       "| 8.1 | 0.27 | 0.41 |  1.45 | 0.033 | 11 |  63 | 0.9908 | 2.99 | 0.56 | 12.0 | 5 |\n",
       "| 8.6 | 0.23 | 0.40 |  4.20 | 0.035 | 17 | 109 | 0.9947 | 3.14 | 0.53 |  9.7 | 5 |\n",
       "| 7.9 | 0.18 | 0.37 |  1.20 | 0.040 | 16 |  75 | 0.9920 | 3.18 | 0.63 | 10.8 | 5 |\n",
       "| 8.3 | 0.42 | 0.62 | 19.25 | 0.040 | 41 | 172 | 1.0002 | 2.98 | 0.67 |  9.7 | 5 |\n",
       "| 6.5 | 0.31 | 0.14 |  7.50 | 0.044 | 34 | 133 | 0.9955 | 3.22 | 0.50 |  9.5 | 5 |\n",
       "| 7.6 | 0.67 | 0.14 |  1.50 | 0.074 | 25 | 168 | 0.9937 | 3.05 | 0.51 |  9.3 | 5 |\n",
       "\n"
      ],
      "text/plain": [
       "  fixed acidity volatile acidity citric acid residual sugar chlorides\n",
       "1 8.1           0.27             0.41         1.45          0.033    \n",
       "2 8.6           0.23             0.40         4.20          0.035    \n",
       "3 7.9           0.18             0.37         1.20          0.040    \n",
       "4 8.3           0.42             0.62        19.25          0.040    \n",
       "5 6.5           0.31             0.14         7.50          0.044    \n",
       "6 7.6           0.67             0.14         1.50          0.074    \n",
       "  free sulfur dioxide total sulfur dioxide density pH   sulphates alcohol\n",
       "1 11                   63                  0.9908  2.99 0.56      12.0   \n",
       "2 17                  109                  0.9947  3.14 0.53       9.7   \n",
       "3 16                   75                  0.9920  3.18 0.63      10.8   \n",
       "4 41                  172                  1.0002  2.98 0.67       9.7   \n",
       "5 34                  133                  0.9955  3.22 0.50       9.5   \n",
       "6 25                  168                  0.9937  3.05 0.51       9.3   \n",
       "  quality\n",
       "1 5      \n",
       "2 5      \n",
       "3 5      \n",
       "4 5      \n",
       "5 5      \n",
       "6 5      "
      ]
     },
     "metadata": {},
     "output_type": "display_data"
    }
   ],
   "source": [
    "data <- read_excel(\"data/Whitewine_v2.xlsx\")\n",
    "head(data)"
   ]
  }
 ],
 "metadata": {
  "kernelspec": {
   "display_name": "R",
   "language": "R",
   "name": "ir"
  },
  "language_info": {
   "codemirror_mode": "r",
   "file_extension": ".r",
   "mimetype": "text/x-r-source",
   "name": "R",
   "pygments_lexer": "r",
   "version": "4.1.1"
  },
  "orig_nbformat": 4
 },
 "nbformat": 4,
 "nbformat_minor": 2
}
