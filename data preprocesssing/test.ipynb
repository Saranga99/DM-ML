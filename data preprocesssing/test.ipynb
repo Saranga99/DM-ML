{
 "cells": [
  {
   "cell_type": "code",
   "execution_count": 1,
   "metadata": {
    "vscode": {
     "languageId": "r"
    }
   },
   "outputs": [
    {
     "ename": "ERROR",
     "evalue": "Error in library(ggplot2): there is no package called 'ggplot2'\n",
     "output_type": "error",
     "traceback": [
      "Error in library(ggplot2): there is no package called 'ggplot2'\nTraceback:\n",
      "1. library(ggplot2)"
     ]
    }
   ],
   "source": [
    "library(datasets)\n",
    "library(ggplot2)\n",
    "library(gridExtra)\n",
    "library(class)\n",
    "library(caret)"
   ]
  }
 ],
 "metadata": {
  "kernelspec": {
   "display_name": "R",
   "language": "R",
   "name": "ir"
  },
  "language_info": {
   "codemirror_mode": "r",
   "file_extension": ".r",
   "mimetype": "text/x-r-source",
   "name": "R",
   "pygments_lexer": "r",
   "version": "4.1.1"
  },
  "orig_nbformat": 4
 },
 "nbformat": 4,
 "nbformat_minor": 2
}
